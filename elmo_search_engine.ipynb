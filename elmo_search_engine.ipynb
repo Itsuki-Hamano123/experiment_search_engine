{
  "nbformat": 4,
  "nbformat_minor": 0,
  "metadata": {
    "colab": {
      "name": "elmo_search_engine.ipynb",
      "provenance": [],
      "collapsed_sections": [],
      "toc_visible": true,
      "include_colab_link": true
    },
    "kernelspec": {
      "name": "python3",
      "display_name": "Python 3"
    },
    "accelerator": "GPU"
  },
  "cells": [
    {
      "cell_type": "markdown",
      "metadata": {
        "id": "view-in-github",
        "colab_type": "text"
      },
      "source": [
        "<a href=\"https://colab.research.google.com/github/Itsuki-Hamano123/experiment_search_engine/blob/master/elmo_search_engine.ipynb\" target=\"_parent\"><img src=\"https://colab.research.google.com/assets/colab-badge.svg\" alt=\"Open In Colab\"/></a>"
      ]
    },
    {
      "cell_type": "code",
      "metadata": {
        "id": "X4r5UwhmiKwo",
        "colab_type": "code",
        "colab": {}
      },
      "source": [
        "import datetime\n",
        "import pathlib\n",
        "import os\n",
        "from pprint import pprint\n",
        "import pickle\n",
        "import time\n",
        "import numpy as np\n",
        "import pandas as pd"
      ],
      "execution_count": 0,
      "outputs": []
    },
    {
      "cell_type": "markdown",
      "metadata": {
        "id": "WDy68yQYF_5o",
        "colab_type": "text"
      },
      "source": [
        "## 形態素解析ツール用意\n",
        "https://qiita.com/Fulltea/items/90f6ebe6dcceaf64eaef"
      ]
    },
    {
      "cell_type": "code",
      "metadata": {
        "id": "QfxPcGjOGePV",
        "colab_type": "code",
        "outputId": "0edeb34d-3e13-4baf-9d3a-fed77e0bb1e4",
        "colab": {
          "base_uri": "https://localhost:8080/",
          "height": 476
        }
      },
      "source": [
        "# mecabのインストール\n",
        "!apt install aptitude swig\n",
        "!aptitude install mecab libmecab-dev mecab-ipadic-utf8 git make curl xz-utils file -y\n",
        "!pip install mecab-python3"
      ],
      "execution_count": 2,
      "outputs": [
        {
          "output_type": "stream",
          "text": [
            "\rReading package lists... 0%\r\rReading package lists... 0%\r\rReading package lists... 0%\r\rReading package lists... 6%\r\rReading package lists... 6%\r\rReading package lists... 7%\r\rReading package lists... 7%\r\rReading package lists... 64%\r\rReading package lists... 64%\r\rReading package lists... 64%\r\rReading package lists... 64%\r\rReading package lists... 72%\r\rReading package lists... 72%\r\rReading package lists... 72%\r\rReading package lists... 72%\r\rReading package lists... 78%\r\rReading package lists... 81%\r\rReading package lists... 81%\r\rReading package lists... 81%\r\rReading package lists... 81%\r\rReading package lists... 81%\r\rReading package lists... 81%\r\rReading package lists... 81%\r\rReading package lists... 81%\r\rReading package lists... 87%\r\rReading package lists... 87%\r\rReading package lists... 87%\r\rReading package lists... 87%\r\rReading package lists... 93%\r\rReading package lists... 93%\r\rReading package lists... 93%\r\rReading package lists... 93%\r\rReading package lists... 93%\r\rReading package lists... 93%\r\rReading package lists... 94%\r\rReading package lists... 94%\r\rReading package lists... 95%\r\rReading package lists... 95%\r\rReading package lists... 98%\r\rReading package lists... 98%\r\rReading package lists... 98%\r\rReading package lists... 98%\r\rReading package lists... Done\r\n",
            "\rBuilding dependency tree... 0%\r\rBuilding dependency tree... 0%\r\rBuilding dependency tree... 50%\r\rBuilding dependency tree... 50%\r\rBuilding dependency tree       \r\n",
            "\rReading state information... 0%\r\rReading state information... 0%\r\rReading state information... Done\r\n",
            "aptitude is already the newest version (0.8.10-6ubuntu1).\n",
            "swig is already the newest version (3.0.12-1).\n",
            "0 upgraded, 0 newly installed, 0 to remove and 25 not upgraded.\n",
            "mecab is already installed at the requested version (0.996-5)\n",
            "libmecab-dev is already installed at the requested version (0.996-5)\n",
            "mecab-ipadic-utf8 is already installed at the requested version (2.7.0-20070801+main-1)\n",
            "git is already installed at the requested version (1:2.17.1-1ubuntu0.5)\n",
            "make is already installed at the requested version (4.1-9.1ubuntu1)\n",
            "curl is already installed at the requested version (7.58.0-2ubuntu3.8)\n",
            "xz-utils is already installed at the requested version (5.2.2-1.3)\n",
            "file is already installed at the requested version (1:5.32-2ubuntu0.3)\n",
            "mecab is already installed at the requested version (0.996-5)\n",
            "libmecab-dev is already installed at the requested version (0.996-5)\n",
            "mecab-ipadic-utf8 is already installed at the requested version (2.7.0-20070801+main-1)\n",
            "git is already installed at the requested version (1:2.17.1-1ubuntu0.5)\n",
            "make is already installed at the requested version (4.1-9.1ubuntu1)\n",
            "curl is already installed at the requested version (7.58.0-2ubuntu3.8)\n",
            "xz-utils is already installed at the requested version (5.2.2-1.3)\n",
            "file is already installed at the requested version (1:5.32-2ubuntu0.3)\n",
            "No packages will be installed, upgraded, or removed.\n",
            "0 packages upgraded, 0 newly installed, 0 to remove and 25 not upgraded.\n",
            "Need to get 0 B of archives. After unpacking 0 B will be used.\n",
            "                            \n",
            "Requirement already satisfied: mecab-python3 in /usr/local/lib/python3.6/dist-packages (0.996.5)\n"
          ],
          "name": "stdout"
        }
      ]
    },
    {
      "cell_type": "code",
      "metadata": {
        "id": "7Bk3waEbLIhj",
        "colab_type": "code",
        "outputId": "a9752a34-a5ab-43a3-8dc2-8e9edf00d29c",
        "colab": {
          "base_uri": "https://localhost:8080/",
          "height": 1000
        }
      },
      "source": [
        "# Neologd辞書のインストール\n",
        "!git clone --depth 1 https://github.com/neologd/mecab-ipadic-neologd.git\n",
        "!echo yes | mecab-ipadic-neologd/bin/install-mecab-ipadic-neologd -n -a"
      ],
      "execution_count": 3,
      "outputs": [
        {
          "output_type": "stream",
          "text": [
            "fatal: destination path 'mecab-ipadic-neologd' already exists and is not an empty directory.\n",
            "[install-mecab-ipadic-NEologd] : Start..\n",
            "[install-mecab-ipadic-NEologd] : Check the existance of libraries\n",
            "[install-mecab-ipadic-NEologd] :     find => ok\n",
            "[install-mecab-ipadic-NEologd] :     sort => ok\n",
            "[install-mecab-ipadic-NEologd] :     head => ok\n",
            "[install-mecab-ipadic-NEologd] :     cut => ok\n",
            "[install-mecab-ipadic-NEologd] :     egrep => ok\n",
            "[install-mecab-ipadic-NEologd] :     mecab => ok\n",
            "[install-mecab-ipadic-NEologd] :     mecab-config => ok\n",
            "[install-mecab-ipadic-NEologd] :     make => ok\n",
            "[install-mecab-ipadic-NEologd] :     curl => ok\n",
            "[install-mecab-ipadic-NEologd] :     sed => ok\n",
            "[install-mecab-ipadic-NEologd] :     cat => ok\n",
            "[install-mecab-ipadic-NEologd] :     diff => ok\n",
            "[install-mecab-ipadic-NEologd] :     tar => ok\n",
            "[install-mecab-ipadic-NEologd] :     unxz => ok\n",
            "[install-mecab-ipadic-NEologd] :     xargs => ok\n",
            "[install-mecab-ipadic-NEologd] :     grep => ok\n",
            "[install-mecab-ipadic-NEologd] :     iconv => ok\n",
            "[install-mecab-ipadic-NEologd] :     patch => ok\n",
            "[install-mecab-ipadic-NEologd] :     which => ok\n",
            "[install-mecab-ipadic-NEologd] :     file => ok\n",
            "[install-mecab-ipadic-NEologd] :     openssl => ok\n",
            "[install-mecab-ipadic-NEologd] :     awk => ok\n",
            "\n",
            "[install-mecab-ipadic-NEologd] : mecab-ipadic-NEologd is already up-to-date\n",
            "\n",
            "[install-mecab-ipadic-NEologd] : mecab-ipadic-NEologd will be install to /usr/lib/x86_64-linux-gnu/mecab/dic/mecab-ipadic-neologd\n",
            "\n",
            "[install-mecab-ipadic-NEologd] : Make mecab-ipadic-NEologd\n",
            "[make-mecab-ipadic-NEologd] : Start..\n",
            "[make-mecab-ipadic-NEologd] : Check local seed directory\n",
            "[make-mecab-ipadic-NEologd] : Check local seed file\n",
            "[make-mecab-ipadic-NEologd] : Check local build directory\n",
            "[make-mecab-ipadic-NEologd] : Download original mecab-ipadic file\n",
            "[make-mecab-ipadic-NEologd] : Original mecab-ipadic file is already there.\n",
            "[make-mecab-ipadic-NEologd] : Decompress original mecab-ipadic file\n",
            "[make-mecab-ipadic-NEologd] : Delete old mecab-ipadic-2.7.0-20070801-neologd-20200315 directory\n",
            "mecab-ipadic-2.7.0-20070801/\n",
            "mecab-ipadic-2.7.0-20070801/README\n",
            "mecab-ipadic-2.7.0-20070801/AUTHORS\n",
            "mecab-ipadic-2.7.0-20070801/COPYING\n",
            "mecab-ipadic-2.7.0-20070801/ChangeLog\n",
            "mecab-ipadic-2.7.0-20070801/INSTALL\n",
            "mecab-ipadic-2.7.0-20070801/Makefile.am\n",
            "mecab-ipadic-2.7.0-20070801/Makefile.in\n",
            "mecab-ipadic-2.7.0-20070801/NEWS\n",
            "mecab-ipadic-2.7.0-20070801/aclocal.m4\n",
            "mecab-ipadic-2.7.0-20070801/config.guess\n",
            "mecab-ipadic-2.7.0-20070801/config.sub\n",
            "mecab-ipadic-2.7.0-20070801/configure\n",
            "mecab-ipadic-2.7.0-20070801/configure.in\n",
            "mecab-ipadic-2.7.0-20070801/install-sh\n",
            "mecab-ipadic-2.7.0-20070801/missing\n",
            "mecab-ipadic-2.7.0-20070801/mkinstalldirs\n",
            "mecab-ipadic-2.7.0-20070801/Adj.csv\n",
            "mecab-ipadic-2.7.0-20070801/Adnominal.csv\n",
            "mecab-ipadic-2.7.0-20070801/Adverb.csv\n",
            "mecab-ipadic-2.7.0-20070801/Auxil.csv\n",
            "mecab-ipadic-2.7.0-20070801/Conjunction.csv\n",
            "mecab-ipadic-2.7.0-20070801/Filler.csv\n",
            "mecab-ipadic-2.7.0-20070801/Interjection.csv\n",
            "mecab-ipadic-2.7.0-20070801/Noun.adjv.csv\n",
            "mecab-ipadic-2.7.0-20070801/Noun.adverbal.csv\n",
            "mecab-ipadic-2.7.0-20070801/Noun.csv\n",
            "mecab-ipadic-2.7.0-20070801/Noun.demonst.csv\n",
            "mecab-ipadic-2.7.0-20070801/Noun.nai.csv\n",
            "mecab-ipadic-2.7.0-20070801/Noun.name.csv\n",
            "mecab-ipadic-2.7.0-20070801/Noun.number.csv\n",
            "mecab-ipadic-2.7.0-20070801/Noun.org.csv\n",
            "mecab-ipadic-2.7.0-20070801/Noun.others.csv\n",
            "mecab-ipadic-2.7.0-20070801/Noun.place.csv\n",
            "mecab-ipadic-2.7.0-20070801/Noun.proper.csv\n",
            "mecab-ipadic-2.7.0-20070801/Noun.verbal.csv\n",
            "mecab-ipadic-2.7.0-20070801/Others.csv\n",
            "mecab-ipadic-2.7.0-20070801/Postp-col.csv\n",
            "mecab-ipadic-2.7.0-20070801/Postp.csv\n",
            "mecab-ipadic-2.7.0-20070801/Prefix.csv\n",
            "mecab-ipadic-2.7.0-20070801/Suffix.csv\n",
            "mecab-ipadic-2.7.0-20070801/Symbol.csv\n",
            "mecab-ipadic-2.7.0-20070801/Verb.csv\n",
            "mecab-ipadic-2.7.0-20070801/char.def\n",
            "mecab-ipadic-2.7.0-20070801/feature.def\n",
            "mecab-ipadic-2.7.0-20070801/left-id.def\n",
            "mecab-ipadic-2.7.0-20070801/matrix.def\n",
            "mecab-ipadic-2.7.0-20070801/pos-id.def\n",
            "mecab-ipadic-2.7.0-20070801/rewrite.def\n",
            "mecab-ipadic-2.7.0-20070801/right-id.def\n",
            "mecab-ipadic-2.7.0-20070801/unk.def\n",
            "mecab-ipadic-2.7.0-20070801/dicrc\n",
            "mecab-ipadic-2.7.0-20070801/RESULT\n",
            "[make-mecab-ipadic-NEologd] : Configure custom system dictionary on /content/mecab-ipadic-neologd/libexec/../build/mecab-ipadic-2.7.0-20070801-neologd-20200315\n",
            "checking for a BSD-compatible install... /usr/bin/install -c\n",
            "checking whether build environment is sane... yes\n",
            "checking whether make sets $(MAKE)... yes\n",
            "checking for working aclocal-1.4... missing\n",
            "checking for working autoconf... missing\n",
            "checking for working automake-1.4... missing\n",
            "checking for working autoheader... missing\n",
            "checking for working makeinfo... missing\n",
            "checking for a BSD-compatible install... /usr/bin/install -c\n",
            "checking for mecab-config... /usr/bin/mecab-config\n",
            "configure: creating ./config.status\n",
            "config.status: creating Makefile\n",
            "[make-mecab-ipadic-NEologd] : Encode the character encoding of system dictionary resources from EUC_JP to UTF-8\n",
            "./../../libexec/iconv_euc_to_utf8.sh ./Adnominal.csv \n",
            "./../../libexec/iconv_euc_to_utf8.sh ./Interjection.csv \n",
            "./../../libexec/iconv_euc_to_utf8.sh ./Auxil.csv \n",
            "./../../libexec/iconv_euc_to_utf8.sh ./Noun.others.csv \n",
            "./../../libexec/iconv_euc_to_utf8.sh ./Filler.csv \n",
            "./../../libexec/iconv_euc_to_utf8.sh ./Noun.csv \n",
            "./../../libexec/iconv_euc_to_utf8.sh ./Noun.demonst.csv \n",
            "./../../libexec/iconv_euc_to_utf8.sh ./Suffix.csv \n",
            "./../../libexec/iconv_euc_to_utf8.sh ./Others.csv \n",
            "./../../libexec/iconv_euc_to_utf8.sh ./Prefix.csv \n",
            "./../../libexec/iconv_euc_to_utf8.sh ./Verb.csv \n",
            "./../../libexec/iconv_euc_to_utf8.sh ./Postp.csv \n",
            "./../../libexec/iconv_euc_to_utf8.sh ./Noun.adjv.csv \n",
            "./../../libexec/iconv_euc_to_utf8.sh ./Noun.org.csv \n",
            "./../../libexec/iconv_euc_to_utf8.sh ./Noun.nai.csv \n",
            "./../../libexec/iconv_euc_to_utf8.sh ./Noun.name.csv \n",
            "./../../libexec/iconv_euc_to_utf8.sh ./Postp-col.csv \n",
            "./../../libexec/iconv_euc_to_utf8.sh ./Noun.number.csv \n",
            "./../../libexec/iconv_euc_to_utf8.sh ./Adverb.csv \n",
            "./../../libexec/iconv_euc_to_utf8.sh ./Noun.place.csv \n",
            "./../../libexec/iconv_euc_to_utf8.sh ./Conjunction.csv \n",
            "./../../libexec/iconv_euc_to_utf8.sh ./Adj.csv \n",
            "./../../libexec/iconv_euc_to_utf8.sh ./Noun.adverbal.csv \n",
            "./../../libexec/iconv_euc_to_utf8.sh ./Noun.proper.csv \n",
            "./../../libexec/iconv_euc_to_utf8.sh ./Symbol.csv \n",
            "./../../libexec/iconv_euc_to_utf8.sh ./Noun.verbal.csv \n",
            "rm ./Adnominal.csv \n",
            "rm ./Interjection.csv \n",
            "rm ./Auxil.csv \n",
            "rm ./Noun.others.csv \n",
            "rm ./Filler.csv \n",
            "rm ./Noun.csv \n",
            "rm ./Noun.demonst.csv \n",
            "rm ./Suffix.csv \n",
            "rm ./Others.csv \n",
            "rm ./Prefix.csv \n",
            "rm ./Verb.csv \n",
            "rm ./Postp.csv \n",
            "rm ./Noun.adjv.csv \n",
            "rm ./Noun.org.csv \n",
            "rm ./Noun.nai.csv \n",
            "rm ./Noun.name.csv \n",
            "rm ./Postp-col.csv \n",
            "rm ./Noun.number.csv \n",
            "rm ./Adverb.csv \n",
            "rm ./Noun.place.csv \n",
            "rm ./Conjunction.csv \n",
            "rm ./Adj.csv \n",
            "rm ./Noun.adverbal.csv \n",
            "rm ./Noun.proper.csv \n",
            "rm ./Symbol.csv \n",
            "rm ./Noun.verbal.csv \n",
            "./../../libexec/iconv_euc_to_utf8.sh ./pos-id.def \n",
            "./../../libexec/iconv_euc_to_utf8.sh ./rewrite.def \n",
            "./../../libexec/iconv_euc_to_utf8.sh ./right-id.def \n",
            "./../../libexec/iconv_euc_to_utf8.sh ./feature.def \n",
            "./../../libexec/iconv_euc_to_utf8.sh ./matrix.def \n",
            "./../../libexec/iconv_euc_to_utf8.sh ./unk.def \n",
            "./../../libexec/iconv_euc_to_utf8.sh ./char.def \n",
            "./../../libexec/iconv_euc_to_utf8.sh ./left-id.def \n",
            "rm ./pos-id.def \n",
            "rm ./rewrite.def \n",
            "rm ./right-id.def \n",
            "rm ./feature.def \n",
            "rm ./matrix.def \n",
            "rm ./unk.def \n",
            "rm ./char.def \n",
            "rm ./left-id.def \n",
            "mv ./Noun.adjv.csv.utf8 ./Noun.adjv.csv \n",
            "mv ./Suffix.csv.utf8 ./Suffix.csv \n",
            "mv ./Noun.demonst.csv.utf8 ./Noun.demonst.csv \n",
            "mv ./Noun.proper.csv.utf8 ./Noun.proper.csv \n",
            "mv ./Noun.place.csv.utf8 ./Noun.place.csv \n",
            "mv ./Adverb.csv.utf8 ./Adverb.csv \n",
            "mv ./Interjection.csv.utf8 ./Interjection.csv \n",
            "mv ./Noun.name.csv.utf8 ./Noun.name.csv \n",
            "mv ./Prefix.csv.utf8 ./Prefix.csv \n",
            "mv ./Noun.org.csv.utf8 ./Noun.org.csv \n",
            "mv ./Conjunction.csv.utf8 ./Conjunction.csv \n",
            "mv ./left-id.def.utf8 ./left-id.def \n",
            "mv ./Noun.others.csv.utf8 ./Noun.others.csv \n",
            "mv ./char.def.utf8 ./char.def \n",
            "mv ./Filler.csv.utf8 ./Filler.csv \n",
            "mv ./Adnominal.csv.utf8 ./Adnominal.csv \n",
            "mv ./Verb.csv.utf8 ./Verb.csv \n",
            "mv ./rewrite.def.utf8 ./rewrite.def \n",
            "mv ./unk.def.utf8 ./unk.def \n",
            "mv ./feature.def.utf8 ./feature.def \n",
            "mv ./Others.csv.utf8 ./Others.csv \n",
            "mv ./right-id.def.utf8 ./right-id.def \n",
            "mv ./Noun.nai.csv.utf8 ./Noun.nai.csv \n",
            "mv ./Noun.verbal.csv.utf8 ./Noun.verbal.csv \n",
            "mv ./Auxil.csv.utf8 ./Auxil.csv \n",
            "mv ./Noun.csv.utf8 ./Noun.csv \n",
            "mv ./Symbol.csv.utf8 ./Symbol.csv \n",
            "mv ./pos-id.def.utf8 ./pos-id.def \n",
            "mv ./Postp-col.csv.utf8 ./Postp-col.csv \n",
            "mv ./Noun.number.csv.utf8 ./Noun.number.csv \n",
            "mv ./matrix.def.utf8 ./matrix.def \n",
            "mv ./Postp.csv.utf8 ./Postp.csv \n",
            "mv ./Noun.adverbal.csv.utf8 ./Noun.adverbal.csv \n",
            "mv ./Adj.csv.utf8 ./Adj.csv \n",
            "[make-mecab-ipadic-NEologd] : Fix yomigana field of IPA dictionary\n",
            "patching file Noun.csv\n",
            "patching file Noun.place.csv\n",
            "patching file Verb.csv\n",
            "patching file Noun.verbal.csv\n",
            "patching file Noun.name.csv\n",
            "patching file Noun.adverbal.csv\n",
            "patching file Noun.csv\n",
            "patching file Noun.name.csv\n",
            "patching file Noun.org.csv\n",
            "patching file Noun.others.csv\n",
            "patching file Noun.place.csv\n",
            "patching file Noun.proper.csv\n",
            "patching file Noun.verbal.csv\n",
            "patching file Prefix.csv\n",
            "patching file Suffix.csv\n",
            "patching file Noun.proper.csv\n",
            "patching file Noun.csv\n",
            "patching file Noun.name.csv\n",
            "patching file Noun.org.csv\n",
            "patching file Noun.place.csv\n",
            "patching file Noun.proper.csv\n",
            "patching file Noun.verbal.csv\n",
            "patching file Noun.name.csv\n",
            "patching file Noun.org.csv\n",
            "patching file Noun.place.csv\n",
            "patching file Noun.proper.csv\n",
            "patching file Suffix.csv\n",
            "patching file Noun.demonst.csv\n",
            "patching file Noun.csv\n",
            "patching file Noun.name.csv\n",
            "[make-mecab-ipadic-NEologd] : Copy user dictionary resource\n",
            "[make-mecab-ipadic-NEologd] : Install adverb entries using /content/mecab-ipadic-neologd/libexec/../seed/neologd-adverb-dict-seed.20150623.csv.xz\n",
            "[make-mecab-ipadic-NEologd] : Install interjection entries using /content/mecab-ipadic-neologd/libexec/../seed/neologd-interjection-dict-seed.20170216.csv.xz\n",
            "[make-mecab-ipadic-NEologd] : Install noun orthographic variant entries using /content/mecab-ipadic-neologd/libexec/../seed/neologd-common-noun-ortho-variant-dict-seed.20170228.csv.xz\n",
            "[make-mecab-ipadic-NEologd] : Install noun orthographic variant entries using /content/mecab-ipadic-neologd/libexec/../seed/neologd-proper-noun-ortho-variant-dict-seed.20161110.csv.xz\n",
            "[make-mecab-ipadic-NEologd] : Install entries of orthographic variant of a noun used as verb form using /content/mecab-ipadic-neologd/libexec/../seed/neologd-noun-sahen-conn-ortho-variant-dict-seed.20160323.csv.xz\n",
            "[make-mecab-ipadic-NEologd] : Install frequent adjective orthographic variant entries using /content/mecab-ipadic-neologd/libexec/../seed/neologd-adjective-std-dict-seed.20151126.csv.xz\n",
            "[make-mecab-ipadic-NEologd] : Install infrequent adjective orthographic variant entries using /content/mecab-ipadic-neologd/libexec/../seed/neologd-adjective-exp-dict-seed.20151126.csv.xz\n",
            "[make-mecab-ipadic-NEologd] : Install adjective verb orthographic variant entries using /content/mecab-ipadic-neologd/libexec/../seed/neologd-adjective-verb-dict-seed.20160324.csv.xz\n",
            "[make-mecab-ipadic-NEologd] : Install infrequent datetime representation entries using /content/mecab-ipadic-neologd/libexec/../seed/neologd-date-time-infreq-dict-seed.20190415.csv.xz\n",
            "[make-mecab-ipadic-NEologd] : Install infrequent quantity representation entries using /content/mecab-ipadic-neologd/libexec/../seed/neologd-quantity-infreq-dict-seed.20190415.csv.xz\n",
            "[make-mecab-ipadic-NEologd] : Install entries of ill formed words using /content/mecab-ipadic-neologd/libexec/../seed/neologd-ill-formed-words-dict-seed.20170127.csv.xz\n",
            "[make-mecab-ipadic-NEologd] : Re-Index system dictionary\n",
            "reading ./unk.def ... 40\n",
            "emitting double-array: 100% |###########################################| \n",
            "./model.def is not found. skipped.\n",
            "reading ./Adnominal.csv ... 135\n",
            "reading ./Interjection.csv ... 252\n",
            "reading ./Auxil.csv ... 199\n",
            "reading ./neologd-ill-formed-words-dict-seed.20170127.csv ... 60616\n",
            "reading ./Noun.others.csv ... 153\n",
            "reading ./Filler.csv ... 19\n",
            "reading ./Noun.csv ... 60734\n",
            "reading ./Noun.demonst.csv ... 120\n",
            "reading ./Suffix.csv ... 1448\n",
            "reading ./Others.csv ... 2\n",
            "reading ./neologd-adverb-dict-seed.20150623.csv ... 139792\n",
            "reading ./Prefix.csv ... 224\n",
            "reading ./neologd-adjective-std-dict-seed.20151126.csv ... 507812\n",
            "reading ./Verb.csv ... 130750\n",
            "reading ./neologd-adjective-verb-dict-seed.20160324.csv ... 20268\n",
            "reading ./neologd-noun-sahen-conn-ortho-variant-dict-seed.20160323.csv ... 26058\n",
            "reading ./Postp.csv ... 146\n",
            "reading ./Noun.adjv.csv ... 3328\n",
            "reading ./neologd-quantity-infreq-dict-seed.20190415.csv ... 229216\n",
            "reading ./neologd-adjective-exp-dict-seed.20151126.csv ... 1051146\n",
            "reading ./neologd-common-noun-ortho-variant-dict-seed.20170228.csv ... 152869\n",
            "reading ./Noun.org.csv ... 17149\n",
            "reading ./Noun.nai.csv ... 42\n",
            "reading ./Noun.name.csv ... 34215\n",
            "reading ./Postp-col.csv ... 91\n",
            "reading ./Noun.number.csv ... 42\n",
            "reading ./neologd-date-time-infreq-dict-seed.20190415.csv ... 16866\n",
            "reading ./neologd-interjection-dict-seed.20170216.csv ... 4701\n",
            "reading ./Adverb.csv ... 3032\n",
            "reading ./Noun.place.csv ... 73194\n",
            "tcmalloc: large alloc 1140858880 bytes == 0x562b64450000 @  0x7f9c20de2887 0x7f9c1ff51b8b 0x7f9c1ff53133 0x7f9c20a57a66 0x7f9c20a2be53 0x7f9c20611b97 0x562b1389067a\n",
            "reading ./mecab-user-dict-seed.20200315.csv ... 3187380\n",
            "reading ./Conjunction.csv ... 171\n",
            "reading ./neologd-proper-noun-ortho-variant-dict-seed.20161110.csv ... 138379\n",
            "reading ./Adj.csv ... 27210\n",
            "reading ./Noun.adverbal.csv ... 808\n",
            "reading ./Noun.proper.csv ... 27493\n",
            "reading ./Symbol.csv ... 208\n",
            "reading ./Noun.verbal.csv ... 12150\n",
            "emitting double-array: 100% |###########################################| \n",
            "reading ./matrix.def ... 1316x1316\n",
            "emitting matrix      : 100% |###########################################| \n",
            "\n",
            "done!\n",
            "[make-mecab-ipadic-NEologd] : Make custom system dictionary on /content/mecab-ipadic-neologd/libexec/../build/mecab-ipadic-2.7.0-20070801-neologd-20200315\n",
            "make: Nothing to be done for 'all'.\n",
            "[make-mecab-ipadic-NEologd] : Finish..\n",
            "[install-mecab-ipadic-NEologd] : Get results of tokenize test\n",
            "[test-mecab-ipadic-NEologd] : Start..\n",
            "[test-mecab-ipadic-NEologd] : Replace timestamp from 'git clone' date to 'git commit' date\n",
            "[test-mecab-ipadic-NEologd] : Get buzz phrases\n",
            "  % Total    % Received % Xferd  Average Speed   Time    Time     Time  Current\n",
            "                                 Dload  Upload   Total   Spent    Left  Speed\n",
            "100  1532  100  1532    0     0   2847      0 --:--:-- --:--:-- --:--:--  2852\n",
            "[test-mecab-ipadic-NEologd] : Get difference between default system dictionary and mecab-ipadic-NEologd\n",
            "[test-mecab-ipadic-NEologd] : Tokenize phrase using default system dictionary\n",
            "[test-mecab-ipadic-NEologd] : Tokenize phrase using mecab-ipadic-NEologd\n",
            "[test-mecab-ipadic-NEologd] : Get result of diff\n",
            "[test-mecab-ipadic-NEologd] : Please check difference between default system dictionary and mecab-ipadic-NEologd\n",
            "\n",
            "default system dictionary\t  |\tmecab-ipadic-NEologd\n",
            "190 人 以上 \t\t\t  |\t190人 以上 \n",
            "197 人 \t\t\t\t  |\t197人 \n",
            "ハク ション 大 魔王 \t\t  |\tハクション大魔王 \n",
            "ドゥテルテ 大統領 \t\t  |\tドゥテルテ大統領 \n",
            "淳 太 \t\t\t\t  |\t淳太 \n",
            "8 割 おじさん \t\t\t  |\t8割 おじさん \n",
            "神奈川 県 医師 会 \t\t  |\t神奈川県 医師会 \n",
            "ジャ ニーズ WEST \t\t  |\tジャニーズWEST \n",
            "上方 漫才 大賞 \t\t\t  |\t上方漫才大賞 \n",
            "神 ちゃん \t\t\t  |\t神ちゃん \n",
            "木村 拓也 \t\t\t  |\t木村拓也 \n",
            "\n",
            "[test-mecab-ipadic-NEologd] : Finish..\n",
            "\n",
            "[install-mecab-ipadic-NEologd] : Please check the list of differences in the upper part.\n",
            "\n",
            "[install-mecab-ipadic-NEologd] : Do you want to install mecab-ipadic-NEologd? Type yes or no.\n",
            "[install-mecab-ipadic-NEologd] : OK. Let's install mecab-ipadic-NEologd.\n",
            "[install-mecab-ipadic-NEologd] : Start..\n",
            "[install-mecab-ipadic-NEologd] : /usr/lib/x86_64-linux-gnu/mecab/dic is current user's directory\n",
            "[install-mecab-ipadic-NEologd] : Make install to /usr/lib/x86_64-linux-gnu/mecab/dic/mecab-ipadic-neologd\n",
            "make[1]: Entering directory '/content/mecab-ipadic-neologd/build/mecab-ipadic-2.7.0-20070801-neologd-20200315'\n",
            "make[1]: Nothing to be done for 'install-exec-am'.\n",
            "/bin/bash ./mkinstalldirs /usr/lib/x86_64-linux-gnu/mecab/dic/mecab-ipadic-neologd\n",
            " /usr/bin/install -c -m 644 ./matrix.bin /usr/lib/x86_64-linux-gnu/mecab/dic/mecab-ipadic-neologd/matrix.bin\n",
            " /usr/bin/install -c -m 644 ./char.bin /usr/lib/x86_64-linux-gnu/mecab/dic/mecab-ipadic-neologd/char.bin\n",
            " /usr/bin/install -c -m 644 ./sys.dic /usr/lib/x86_64-linux-gnu/mecab/dic/mecab-ipadic-neologd/sys.dic\n",
            " /usr/bin/install -c -m 644 ./unk.dic /usr/lib/x86_64-linux-gnu/mecab/dic/mecab-ipadic-neologd/unk.dic\n",
            " /usr/bin/install -c -m 644 ./left-id.def /usr/lib/x86_64-linux-gnu/mecab/dic/mecab-ipadic-neologd/left-id.def\n",
            " /usr/bin/install -c -m 644 ./right-id.def /usr/lib/x86_64-linux-gnu/mecab/dic/mecab-ipadic-neologd/right-id.def\n",
            " /usr/bin/install -c -m 644 ./rewrite.def /usr/lib/x86_64-linux-gnu/mecab/dic/mecab-ipadic-neologd/rewrite.def\n",
            " /usr/bin/install -c -m 644 ./pos-id.def /usr/lib/x86_64-linux-gnu/mecab/dic/mecab-ipadic-neologd/pos-id.def\n",
            " /usr/bin/install -c -m 644 ./dicrc /usr/lib/x86_64-linux-gnu/mecab/dic/mecab-ipadic-neologd/dicrc\n",
            "make[1]: Leaving directory '/content/mecab-ipadic-neologd/build/mecab-ipadic-2.7.0-20070801-neologd-20200315'\n",
            "\n",
            "[install-mecab-ipadic-NEologd] : Install completed.\n",
            "[install-mecab-ipadic-NEologd] : When you use MeCab, you can set '/usr/lib/x86_64-linux-gnu/mecab/dic/mecab-ipadic-neologd' as a value of '-d' option of MeCab.\n",
            "[install-mecab-ipadic-NEologd] : Usage of mecab-ipadic-NEologd is here.\n",
            "Usage:\n",
            "    $ mecab -d /usr/lib/x86_64-linux-gnu/mecab/dic/mecab-ipadic-neologd ...\n",
            "\n",
            "[install-mecab-ipadic-NEologd] : Finish..\n",
            "[install-mecab-ipadic-NEologd] : Finish..\n"
          ],
          "name": "stdout"
        }
      ]
    },
    {
      "cell_type": "code",
      "metadata": {
        "id": "B1tdW-1BGkNG",
        "colab_type": "code",
        "colab": {}
      },
      "source": [
        "import MeCab\n",
        "import subprocess"
      ],
      "execution_count": 0,
      "outputs": []
    },
    {
      "cell_type": "code",
      "metadata": {
        "id": "oqc3laRYJqhT",
        "colab_type": "code",
        "outputId": "1a226788-9b73-47fd-c825-f090e866195a",
        "colab": {
          "base_uri": "https://localhost:8080/",
          "height": 34
        }
      },
      "source": [
        "!ls"
      ],
      "execution_count": 5,
      "outputs": [
        {
          "output_type": "stream",
          "text": [
            "drive  mecab-ipadic-neologd  sample_data\n"
          ],
          "name": "stdout"
        }
      ]
    },
    {
      "cell_type": "code",
      "metadata": {
        "id": "5zUUkLR-Gmgd",
        "colab_type": "code",
        "outputId": "59ae72ba-1cdb-476d-fbbd-f011303028cc",
        "colab": {
          "base_uri": "https://localhost:8080/",
          "height": 646
        }
      },
      "source": [
        "cmd = 'echo `mecab-config --dicdir`\"/mecab-ipadic-neologd\"'\n",
        "neologd_path = (subprocess.Popen(cmd, stdout=subprocess.PIPE,\n",
        "                           shell=True).communicate()[0]).decode('utf-8')\n",
        "# Neologd辞書の設定\n",
        "m_neologd = MeCab.Tagger(\"-d {0}\".format(neologd_path))\n",
        "\n",
        "m_neologd_sample_txt = \"8月3日に放送された「中居正広の金曜日のスマイルたちへ」(TBS系)で、1日たった5分でぽっこりおなかを解消するというダイエット方法を紹介。キンタロー。のダイエットにも密着。\"\n",
        "\n",
        "print(\"Mecab ipadic NEologd:\\n\",m_neologd.parse(m_neologd_sample_txt))"
      ],
      "execution_count": 6,
      "outputs": [
        {
          "output_type": "stream",
          "text": [
            "Mecab ipadic NEologd:\n",
            " 8月3日\t名詞,固有名詞,一般,*,*,*,8月3日,ハチガツミッカ,ハチガツミッカ\n",
            "に\t助詞,格助詞,一般,*,*,*,に,ニ,ニ\n",
            "放送\t名詞,サ変接続,*,*,*,*,放送,ホウソウ,ホーソー\n",
            "さ\t動詞,自立,*,*,サ変・スル,未然レル接続,する,サ,サ\n",
            "れ\t動詞,接尾,*,*,一段,連用形,れる,レ,レ\n",
            "た\t助動詞,*,*,*,特殊・タ,基本形,た,タ,タ\n",
            "「\t記号,括弧開,*,*,*,*,「,「,「\n",
            "中居正広の金曜日のスマイルたちへ\t名詞,固有名詞,一般,*,*,*,中居正広の金曜日のスマイルたちへ,ナカイマサヒロノキンヨウビノスマイルタチヘ,ナカイマサヒロノキンヨービノスマイルタチヘ\n",
            "」(\t記号,一般,*,*,*,*,*\n",
            "TBS\t名詞,固有名詞,一般,*,*,*,TBS,ティービーエス,ティービーエス\n",
            "系\t名詞,接尾,一般,*,*,*,系,ケイ,ケイ\n",
            ")\t記号,一般,*,*,*,*,*\n",
            "で\t助動詞,*,*,*,特殊・ダ,連用形,だ,デ,デ\n",
            "、\t記号,読点,*,*,*,*,、,、,、\n",
            "1日\t名詞,固有名詞,一般,*,*,*,1日,ツイタチ,ツイタチ\n",
            "たった\t副詞,助詞類接続,*,*,*,*,たった,タッタ,タッタ\n",
            "5分\t名詞,固有名詞,一般,*,*,*,5分,ゴフン,ゴフン\n",
            "で\t助詞,格助詞,一般,*,*,*,で,デ,デ\n",
            "ぽっこりおなか\t名詞,固有名詞,一般,*,*,*,ぽっこりおなか,ポッコリオナカ,ポッコリオナカ\n",
            "を\t助詞,格助詞,一般,*,*,*,を,ヲ,ヲ\n",
            "解消\t名詞,サ変接続,*,*,*,*,解消,カイショウ,カイショー\n",
            "する\t動詞,自立,*,*,サ変・スル,基本形,する,スル,スル\n",
            "という\t助詞,格助詞,連語,*,*,*,という,トイウ,トユウ\n",
            "ダイエット方法\t名詞,固有名詞,一般,*,*,*,ダイエット方法,ダイエットホウホウ,ダイエットホウホー\n",
            "を\t助詞,格助詞,一般,*,*,*,を,ヲ,ヲ\n",
            "紹介\t名詞,サ変接続,*,*,*,*,紹介,ショウカイ,ショーカイ\n",
            "。\t記号,句点,*,*,*,*,。,。,。\n",
            "キンタロー。\t名詞,固有名詞,一般,*,*,*,キンタロー。,キンタロー,キンタロー\n",
            "の\t助詞,連体化,*,*,*,*,の,ノ,ノ\n",
            "ダイエット\t名詞,サ変接続,*,*,*,*,ダイエット,ダイエット,ダイエット\n",
            "に\t助詞,格助詞,一般,*,*,*,に,ニ,ニ\n",
            "も\t助詞,係助詞,*,*,*,*,も,モ,モ\n",
            "密着\t名詞,サ変接続,*,*,*,*,密着,ミッチャク,ミッチャク\n",
            "。\t記号,句点,*,*,*,*,。,。,。\n",
            "EOS\n",
            "\n"
          ],
          "name": "stdout"
        }
      ]
    },
    {
      "cell_type": "markdown",
      "metadata": {
        "id": "qthez6FSMZzl",
        "colab_type": "text"
      },
      "source": [
        "## ELMoモデルの準備\n",
        "ELMoForManyLangsを使う"
      ]
    },
    {
      "cell_type": "code",
      "metadata": {
        "id": "55OSn-B2yDxw",
        "colab_type": "code",
        "outputId": "0e871b41-cceb-4dfd-e506-7298ba8c3941",
        "colab": {
          "base_uri": "https://localhost:8080/",
          "height": 1000
        }
      },
      "source": [
        "# ELMoForManyLangsに必要なライブラリ\n",
        "!pip install allennlp"
      ],
      "execution_count": 7,
      "outputs": [
        {
          "output_type": "stream",
          "text": [
            "Requirement already satisfied: allennlp in /usr/local/lib/python3.6/dist-packages (0.9.0)\n",
            "Requirement already satisfied: overrides in /usr/local/lib/python3.6/dist-packages (from allennlp) (2.8.0)\n",
            "Requirement already satisfied: parsimonious>=0.8.0 in /usr/local/lib/python3.6/dist-packages (from allennlp) (0.8.1)\n",
            "Requirement already satisfied: jsonnet>=0.10.0; sys_platform != \"win32\" in /usr/local/lib/python3.6/dist-packages (from allennlp) (0.15.0)\n",
            "Requirement already satisfied: spacy<2.2,>=2.1.0 in /usr/local/lib/python3.6/dist-packages (from allennlp) (2.1.9)\n",
            "Requirement already satisfied: pytorch-transformers==1.1.0 in /usr/local/lib/python3.6/dist-packages (from allennlp) (1.1.0)\n",
            "Requirement already satisfied: tqdm>=4.19 in /usr/local/lib/python3.6/dist-packages (from allennlp) (4.38.0)\n",
            "Requirement already satisfied: torch>=1.2.0 in /usr/local/lib/python3.6/dist-packages (from allennlp) (1.4.0)\n",
            "Requirement already satisfied: scipy in /usr/local/lib/python3.6/dist-packages (from allennlp) (1.4.1)\n",
            "Requirement already satisfied: requests>=2.18 in /usr/local/lib/python3.6/dist-packages (from allennlp) (2.21.0)\n",
            "Requirement already satisfied: responses>=0.7 in /usr/local/lib/python3.6/dist-packages (from allennlp) (0.10.12)\n",
            "Requirement already satisfied: pytorch-pretrained-bert>=0.6.0 in /usr/local/lib/python3.6/dist-packages (from allennlp) (0.6.2)\n",
            "Requirement already satisfied: jsonpickle in /usr/local/lib/python3.6/dist-packages (from allennlp) (1.3)\n",
            "Requirement already satisfied: flask-cors>=3.0.7 in /usr/local/lib/python3.6/dist-packages (from allennlp) (3.0.8)\n",
            "Requirement already satisfied: flaky in /usr/local/lib/python3.6/dist-packages (from allennlp) (3.6.1)\n",
            "Requirement already satisfied: nltk in /usr/local/lib/python3.6/dist-packages (from allennlp) (3.2.5)\n",
            "Requirement already satisfied: sqlparse>=0.2.4 in /usr/local/lib/python3.6/dist-packages (from allennlp) (0.3.1)\n",
            "Requirement already satisfied: scikit-learn in /usr/local/lib/python3.6/dist-packages (from allennlp) (0.22.2.post1)\n",
            "Requirement already satisfied: pytest in /usr/local/lib/python3.6/dist-packages (from allennlp) (3.6.4)\n",
            "Requirement already satisfied: pytz>=2017.3 in /usr/local/lib/python3.6/dist-packages (from allennlp) (2018.9)\n",
            "Requirement already satisfied: tensorboardX>=1.2 in /usr/local/lib/python3.6/dist-packages (from allennlp) (2.0)\n",
            "Requirement already satisfied: numpy in /usr/local/lib/python3.6/dist-packages (from allennlp) (1.18.2)\n",
            "Requirement already satisfied: flask>=1.0.2 in /usr/local/lib/python3.6/dist-packages (from allennlp) (1.1.2)\n",
            "Requirement already satisfied: conllu==1.3.1 in /usr/local/lib/python3.6/dist-packages (from allennlp) (1.3.1)\n",
            "Requirement already satisfied: ftfy in /usr/local/lib/python3.6/dist-packages (from allennlp) (5.7)\n",
            "Requirement already satisfied: h5py in /usr/local/lib/python3.6/dist-packages (from allennlp) (2.10.0)\n",
            "Requirement already satisfied: matplotlib>=2.2.3 in /usr/local/lib/python3.6/dist-packages (from allennlp) (3.2.1)\n",
            "Requirement already satisfied: unidecode in /usr/local/lib/python3.6/dist-packages (from allennlp) (1.1.1)\n",
            "Requirement already satisfied: numpydoc>=0.8.0 in /usr/local/lib/python3.6/dist-packages (from allennlp) (0.9.2)\n",
            "Requirement already satisfied: gevent>=1.3.6 in /usr/local/lib/python3.6/dist-packages (from allennlp) (1.5.0)\n",
            "Requirement already satisfied: word2number>=1.1 in /usr/local/lib/python3.6/dist-packages (from allennlp) (1.1)\n",
            "Requirement already satisfied: editdistance in /usr/local/lib/python3.6/dist-packages (from allennlp) (0.5.3)\n",
            "Requirement already satisfied: boto3 in /usr/local/lib/python3.6/dist-packages (from allennlp) (1.12.38)\n",
            "Requirement already satisfied: six>=1.9.0 in /usr/local/lib/python3.6/dist-packages (from parsimonious>=0.8.0->allennlp) (1.12.0)\n",
            "Requirement already satisfied: thinc<7.1.0,>=7.0.8 in /usr/local/lib/python3.6/dist-packages (from spacy<2.2,>=2.1.0->allennlp) (7.0.8)\n",
            "Requirement already satisfied: preshed<2.1.0,>=2.0.1 in /usr/local/lib/python3.6/dist-packages (from spacy<2.2,>=2.1.0->allennlp) (2.0.1)\n",
            "Requirement already satisfied: wasabi<1.1.0,>=0.2.0 in /usr/local/lib/python3.6/dist-packages (from spacy<2.2,>=2.1.0->allennlp) (0.6.0)\n",
            "Requirement already satisfied: plac<1.0.0,>=0.9.6 in /usr/local/lib/python3.6/dist-packages (from spacy<2.2,>=2.1.0->allennlp) (0.9.6)\n",
            "Requirement already satisfied: blis<0.3.0,>=0.2.2 in /usr/local/lib/python3.6/dist-packages (from spacy<2.2,>=2.1.0->allennlp) (0.2.4)\n",
            "Requirement already satisfied: srsly<1.1.0,>=0.0.6 in /usr/local/lib/python3.6/dist-packages (from spacy<2.2,>=2.1.0->allennlp) (1.0.2)\n",
            "Requirement already satisfied: murmurhash<1.1.0,>=0.28.0 in /usr/local/lib/python3.6/dist-packages (from spacy<2.2,>=2.1.0->allennlp) (1.0.2)\n",
            "Requirement already satisfied: cymem<2.1.0,>=2.0.2 in /usr/local/lib/python3.6/dist-packages (from spacy<2.2,>=2.1.0->allennlp) (2.0.3)\n",
            "Requirement already satisfied: sentencepiece in /usr/local/lib/python3.6/dist-packages (from pytorch-transformers==1.1.0->allennlp) (0.1.85)\n",
            "Requirement already satisfied: regex in /usr/local/lib/python3.6/dist-packages (from pytorch-transformers==1.1.0->allennlp) (2019.12.20)\n",
            "Requirement already satisfied: urllib3<1.25,>=1.21.1 in /usr/local/lib/python3.6/dist-packages (from requests>=2.18->allennlp) (1.24.3)\n",
            "Requirement already satisfied: certifi>=2017.4.17 in /usr/local/lib/python3.6/dist-packages (from requests>=2.18->allennlp) (2020.4.5.1)\n",
            "Requirement already satisfied: chardet<3.1.0,>=3.0.2 in /usr/local/lib/python3.6/dist-packages (from requests>=2.18->allennlp) (3.0.4)\n",
            "Requirement already satisfied: idna<2.9,>=2.5 in /usr/local/lib/python3.6/dist-packages (from requests>=2.18->allennlp) (2.8)\n",
            "Requirement already satisfied: joblib>=0.11 in /usr/local/lib/python3.6/dist-packages (from scikit-learn->allennlp) (0.14.1)\n",
            "Requirement already satisfied: pluggy<0.8,>=0.5 in /usr/local/lib/python3.6/dist-packages (from pytest->allennlp) (0.7.1)\n",
            "Requirement already satisfied: py>=1.5.0 in /usr/local/lib/python3.6/dist-packages (from pytest->allennlp) (1.8.1)\n",
            "Requirement already satisfied: attrs>=17.4.0 in /usr/local/lib/python3.6/dist-packages (from pytest->allennlp) (19.3.0)\n",
            "Requirement already satisfied: setuptools in /usr/local/lib/python3.6/dist-packages (from pytest->allennlp) (46.1.3)\n",
            "Requirement already satisfied: more-itertools>=4.0.0 in /usr/local/lib/python3.6/dist-packages (from pytest->allennlp) (8.2.0)\n",
            "Requirement already satisfied: atomicwrites>=1.0 in /usr/local/lib/python3.6/dist-packages (from pytest->allennlp) (1.3.0)\n",
            "Requirement already satisfied: protobuf>=3.8.0 in /usr/local/lib/python3.6/dist-packages (from tensorboardX>=1.2->allennlp) (3.10.0)\n",
            "Requirement already satisfied: Jinja2>=2.10.1 in /usr/local/lib/python3.6/dist-packages (from flask>=1.0.2->allennlp) (2.11.1)\n",
            "Requirement already satisfied: itsdangerous>=0.24 in /usr/local/lib/python3.6/dist-packages (from flask>=1.0.2->allennlp) (1.1.0)\n",
            "Requirement already satisfied: click>=5.1 in /usr/local/lib/python3.6/dist-packages (from flask>=1.0.2->allennlp) (7.1.1)\n",
            "Requirement already satisfied: Werkzeug>=0.15 in /usr/local/lib/python3.6/dist-packages (from flask>=1.0.2->allennlp) (1.0.1)\n",
            "Requirement already satisfied: wcwidth in /usr/local/lib/python3.6/dist-packages (from ftfy->allennlp) (0.1.9)\n",
            "Requirement already satisfied: cycler>=0.10 in /usr/local/lib/python3.6/dist-packages (from matplotlib>=2.2.3->allennlp) (0.10.0)\n",
            "Requirement already satisfied: pyparsing!=2.0.4,!=2.1.2,!=2.1.6,>=2.0.1 in /usr/local/lib/python3.6/dist-packages (from matplotlib>=2.2.3->allennlp) (2.4.7)\n",
            "Requirement already satisfied: kiwisolver>=1.0.1 in /usr/local/lib/python3.6/dist-packages (from matplotlib>=2.2.3->allennlp) (1.2.0)\n",
            "Requirement already satisfied: python-dateutil>=2.1 in /usr/local/lib/python3.6/dist-packages (from matplotlib>=2.2.3->allennlp) (2.8.1)\n",
            "Requirement already satisfied: sphinx>=1.6.5 in /usr/local/lib/python3.6/dist-packages (from numpydoc>=0.8.0->allennlp) (1.8.5)\n",
            "Requirement already satisfied: greenlet>=0.4.14; platform_python_implementation == \"CPython\" in /usr/local/lib/python3.6/dist-packages (from gevent>=1.3.6->allennlp) (0.4.15)\n",
            "Requirement already satisfied: botocore<1.16.0,>=1.15.38 in /usr/local/lib/python3.6/dist-packages (from boto3->allennlp) (1.15.38)\n",
            "Requirement already satisfied: s3transfer<0.4.0,>=0.3.0 in /usr/local/lib/python3.6/dist-packages (from boto3->allennlp) (0.3.3)\n",
            "Requirement already satisfied: jmespath<1.0.0,>=0.7.1 in /usr/local/lib/python3.6/dist-packages (from boto3->allennlp) (0.9.5)\n",
            "Requirement already satisfied: MarkupSafe>=0.23 in /usr/local/lib/python3.6/dist-packages (from Jinja2>=2.10.1->flask>=1.0.2->allennlp) (1.1.1)\n",
            "Requirement already satisfied: snowballstemmer>=1.1 in /usr/local/lib/python3.6/dist-packages (from sphinx>=1.6.5->numpydoc>=0.8.0->allennlp) (2.0.0)\n",
            "Requirement already satisfied: sphinxcontrib-websupport in /usr/local/lib/python3.6/dist-packages (from sphinx>=1.6.5->numpydoc>=0.8.0->allennlp) (1.2.1)\n",
            "Requirement already satisfied: alabaster<0.8,>=0.7 in /usr/local/lib/python3.6/dist-packages (from sphinx>=1.6.5->numpydoc>=0.8.0->allennlp) (0.7.12)\n",
            "Requirement already satisfied: babel!=2.0,>=1.3 in /usr/local/lib/python3.6/dist-packages (from sphinx>=1.6.5->numpydoc>=0.8.0->allennlp) (2.8.0)\n",
            "Requirement already satisfied: Pygments>=2.0 in /usr/local/lib/python3.6/dist-packages (from sphinx>=1.6.5->numpydoc>=0.8.0->allennlp) (2.1.3)\n",
            "Requirement already satisfied: imagesize in /usr/local/lib/python3.6/dist-packages (from sphinx>=1.6.5->numpydoc>=0.8.0->allennlp) (1.2.0)\n",
            "Requirement already satisfied: packaging in /usr/local/lib/python3.6/dist-packages (from sphinx>=1.6.5->numpydoc>=0.8.0->allennlp) (20.3)\n",
            "Requirement already satisfied: docutils>=0.11 in /usr/local/lib/python3.6/dist-packages (from sphinx>=1.6.5->numpydoc>=0.8.0->allennlp) (0.15.2)\n"
          ],
          "name": "stdout"
        }
      ]
    },
    {
      "cell_type": "markdown",
      "metadata": {
        "id": "pc6iySYPzDST",
        "colab_type": "text"
      },
      "source": [
        "### ELMoForManyLangsを利用\n",
        "https://github.com/HIT-SCIR/ELMoForManyLangs#use-elmoformanylangs-programmatically"
      ]
    },
    {
      "cell_type": "code",
      "metadata": {
        "id": "ZwSUDZyVzph-",
        "colab_type": "code",
        "outputId": "85607713-7a9d-42b9-da49-e6c7624babf7",
        "colab": {
          "base_uri": "https://localhost:8080/",
          "height": 34
        }
      },
      "source": [
        "from google.colab import drive\n",
        "drive.mount('/content/drive')"
      ],
      "execution_count": 8,
      "outputs": [
        {
          "output_type": "stream",
          "text": [
            "Drive already mounted at /content/drive; to attempt to forcibly remount, call drive.mount(\"/content/drive\", force_remount=True).\n"
          ],
          "name": "stdout"
        }
      ]
    },
    {
      "cell_type": "code",
      "metadata": {
        "id": "J0uok2UMXl4H",
        "colab_type": "code",
        "outputId": "a9dba235-2662-42f0-eb3a-2f0a8a56d424",
        "colab": {
          "base_uri": "https://localhost:8080/",
          "height": 34
        }
      },
      "source": [
        "cd drive/My Drive/機械学習練習/全文検索エンジン作成"
      ],
      "execution_count": 9,
      "outputs": [
        {
          "output_type": "stream",
          "text": [
            "/content/drive/My Drive/機械学習練習/全文検索エンジン作成\n"
          ],
          "name": "stdout"
        }
      ]
    },
    {
      "cell_type": "code",
      "metadata": {
        "id": "9N2xlKx50Bwa",
        "colab_type": "code",
        "outputId": "de5d1e4d-3518-4ab9-88fb-535b8a1c4e6b",
        "colab": {
          "base_uri": "https://localhost:8080/",
          "height": 153
        }
      },
      "source": [
        "!ls"
      ],
      "execution_count": 10,
      "outputs": [
        {
          "output_type": "stream",
          "text": [
            "build\t\t\t   exports\n",
            "configs\t\t\t   faiss-gpu-1.4.0-py36_cuda9.2.148_1.tar.bz2\n",
            "datasets\t\t   info\n",
            "dist\t\t\t   lib\n",
            "elmoformanylangs\t   mecab-ipadic-neologd\n",
            "elmoformanylangs.egg-info  README.md\n",
            "elmo_search_engine.ipynb   setup.py\n",
            "embedding\n"
          ],
          "name": "stdout"
        }
      ]
    },
    {
      "cell_type": "code",
      "metadata": {
        "id": "v1jpnHe4yJQU",
        "colab_type": "code",
        "outputId": "4f97c306-fdb0-4796-97d9-3c7ade9fc2c2",
        "colab": {
          "base_uri": "https://localhost:8080/",
          "height": 1000
        }
      },
      "source": [
        "# ELMoForManyLangsのセットアップ\n",
        "!python setup.py install"
      ],
      "execution_count": 11,
      "outputs": [
        {
          "output_type": "stream",
          "text": [
            "running install\n",
            "running bdist_egg\n",
            "running egg_info\n",
            "writing elmoformanylangs.egg-info/PKG-INFO\n",
            "writing dependency_links to elmoformanylangs.egg-info/dependency_links.txt\n",
            "writing requirements to elmoformanylangs.egg-info/requires.txt\n",
            "writing top-level names to elmoformanylangs.egg-info/top_level.txt\n",
            "reading manifest file 'elmoformanylangs.egg-info/SOURCES.txt'\n",
            "writing manifest file 'elmoformanylangs.egg-info/SOURCES.txt'\n",
            "installing library code to build/bdist.linux-x86_64/egg\n",
            "running install_lib\n",
            "running build_py\n",
            "creating build/bdist.linux-x86_64/egg\n",
            "creating build/bdist.linux-x86_64/egg/elmoformanylangs\n",
            "copying build/lib/elmoformanylangs/frontend.py -> build/bdist.linux-x86_64/egg/elmoformanylangs\n",
            "copying build/lib/elmoformanylangs/__init__.py -> build/bdist.linux-x86_64/egg/elmoformanylangs\n",
            "copying build/lib/elmoformanylangs/elmo.py -> build/bdist.linux-x86_64/egg/elmoformanylangs\n",
            "copying build/lib/elmoformanylangs/utils.py -> build/bdist.linux-x86_64/egg/elmoformanylangs\n",
            "copying build/lib/elmoformanylangs/dataloader.py -> build/bdist.linux-x86_64/egg/elmoformanylangs\n",
            "copying build/lib/elmoformanylangs/biLM.py -> build/bdist.linux-x86_64/egg/elmoformanylangs\n",
            "copying build/lib/elmoformanylangs/__main__.py -> build/bdist.linux-x86_64/egg/elmoformanylangs\n",
            "creating build/bdist.linux-x86_64/egg/elmoformanylangs/modules\n",
            "copying build/lib/elmoformanylangs/modules/classify_layer.py -> build/bdist.linux-x86_64/egg/elmoformanylangs/modules\n",
            "copying build/lib/elmoformanylangs/modules/elmo.py -> build/bdist.linux-x86_64/egg/elmoformanylangs/modules\n",
            "copying build/lib/elmoformanylangs/modules/util.py -> build/bdist.linux-x86_64/egg/elmoformanylangs/modules\n",
            "copying build/lib/elmoformanylangs/modules/embedding_layer.py -> build/bdist.linux-x86_64/egg/elmoformanylangs/modules\n",
            "copying build/lib/elmoformanylangs/modules/token_embedder.py -> build/bdist.linux-x86_64/egg/elmoformanylangs/modules\n",
            "copying build/lib/elmoformanylangs/modules/__init__.py -> build/bdist.linux-x86_64/egg/elmoformanylangs/modules\n",
            "copying build/lib/elmoformanylangs/modules/lstm.py -> build/bdist.linux-x86_64/egg/elmoformanylangs/modules\n",
            "copying build/lib/elmoformanylangs/modules/encoder_base.py -> build/bdist.linux-x86_64/egg/elmoformanylangs/modules\n",
            "copying build/lib/elmoformanylangs/modules/highway.py -> build/bdist.linux-x86_64/egg/elmoformanylangs/modules\n",
            "copying build/lib/elmoformanylangs/modules/lstm_cell_with_projection.py -> build/bdist.linux-x86_64/egg/elmoformanylangs/modules\n",
            "byte-compiling build/bdist.linux-x86_64/egg/elmoformanylangs/frontend.py to frontend.cpython-36.pyc\n",
            "byte-compiling build/bdist.linux-x86_64/egg/elmoformanylangs/__init__.py to __init__.cpython-36.pyc\n",
            "byte-compiling build/bdist.linux-x86_64/egg/elmoformanylangs/elmo.py to elmo.cpython-36.pyc\n",
            "byte-compiling build/bdist.linux-x86_64/egg/elmoformanylangs/utils.py to utils.cpython-36.pyc\n",
            "byte-compiling build/bdist.linux-x86_64/egg/elmoformanylangs/dataloader.py to dataloader.cpython-36.pyc\n",
            "byte-compiling build/bdist.linux-x86_64/egg/elmoformanylangs/biLM.py to biLM.cpython-36.pyc\n",
            "byte-compiling build/bdist.linux-x86_64/egg/elmoformanylangs/__main__.py to __main__.cpython-36.pyc\n",
            "byte-compiling build/bdist.linux-x86_64/egg/elmoformanylangs/modules/classify_layer.py to classify_layer.cpython-36.pyc\n",
            "byte-compiling build/bdist.linux-x86_64/egg/elmoformanylangs/modules/elmo.py to elmo.cpython-36.pyc\n",
            "byte-compiling build/bdist.linux-x86_64/egg/elmoformanylangs/modules/util.py to util.cpython-36.pyc\n",
            "byte-compiling build/bdist.linux-x86_64/egg/elmoformanylangs/modules/embedding_layer.py to embedding_layer.cpython-36.pyc\n",
            "byte-compiling build/bdist.linux-x86_64/egg/elmoformanylangs/modules/token_embedder.py to token_embedder.cpython-36.pyc\n",
            "byte-compiling build/bdist.linux-x86_64/egg/elmoformanylangs/modules/__init__.py to __init__.cpython-36.pyc\n",
            "byte-compiling build/bdist.linux-x86_64/egg/elmoformanylangs/modules/lstm.py to lstm.cpython-36.pyc\n",
            "byte-compiling build/bdist.linux-x86_64/egg/elmoformanylangs/modules/encoder_base.py to encoder_base.cpython-36.pyc\n",
            "byte-compiling build/bdist.linux-x86_64/egg/elmoformanylangs/modules/highway.py to highway.cpython-36.pyc\n",
            "byte-compiling build/bdist.linux-x86_64/egg/elmoformanylangs/modules/lstm_cell_with_projection.py to lstm_cell_with_projection.cpython-36.pyc\n",
            "creating build/bdist.linux-x86_64/egg/EGG-INFO\n",
            "copying elmoformanylangs.egg-info/PKG-INFO -> build/bdist.linux-x86_64/egg/EGG-INFO\n",
            "copying elmoformanylangs.egg-info/SOURCES.txt -> build/bdist.linux-x86_64/egg/EGG-INFO\n",
            "copying elmoformanylangs.egg-info/dependency_links.txt -> build/bdist.linux-x86_64/egg/EGG-INFO\n",
            "copying elmoformanylangs.egg-info/requires.txt -> build/bdist.linux-x86_64/egg/EGG-INFO\n",
            "copying elmoformanylangs.egg-info/top_level.txt -> build/bdist.linux-x86_64/egg/EGG-INFO\n",
            "zip_safe flag not set; analyzing archive contents...\n",
            "creating 'dist/elmoformanylangs-0.0.2-py3.6.egg' and adding 'build/bdist.linux-x86_64/egg' to it\n",
            "removing 'build/bdist.linux-x86_64/egg' (and everything under it)\n",
            "Processing elmoformanylangs-0.0.2-py3.6.egg\n",
            "Removing /usr/local/lib/python3.6/dist-packages/elmoformanylangs-0.0.2-py3.6.egg\n",
            "Copying elmoformanylangs-0.0.2-py3.6.egg to /usr/local/lib/python3.6/dist-packages\n",
            "elmoformanylangs 0.0.2 is already the active version in easy-install.pth\n",
            "\n",
            "Installed /usr/local/lib/python3.6/dist-packages/elmoformanylangs-0.0.2-py3.6.egg\n",
            "Processing dependencies for elmoformanylangs==0.0.2\n",
            "Searching for overrides==2.8.0\n",
            "Best match: overrides 2.8.0\n",
            "Adding overrides 2.8.0 to easy-install.pth file\n",
            "\n",
            "Using /usr/local/lib/python3.6/dist-packages\n",
            "Searching for numpy==1.18.2\n",
            "Best match: numpy 1.18.2\n",
            "Adding numpy 1.18.2 to easy-install.pth file\n",
            "Installing f2py script to /usr/local/bin\n",
            "Installing f2py3 script to /usr/local/bin\n",
            "Installing f2py3.6 script to /usr/local/bin\n",
            "\n",
            "Using /usr/local/lib/python3.6/dist-packages\n",
            "Searching for h5py==2.10.0\n",
            "Best match: h5py 2.10.0\n",
            "Adding h5py 2.10.0 to easy-install.pth file\n",
            "\n",
            "Using /usr/local/lib/python3.6/dist-packages\n",
            "Searching for torch==1.4.0\n",
            "Best match: torch 1.4.0\n",
            "Adding torch 1.4.0 to easy-install.pth file\n",
            "Installing convert-caffe2-to-onnx script to /usr/local/bin\n",
            "Installing convert-onnx-to-caffe2 script to /usr/local/bin\n",
            "\n",
            "Using /usr/local/lib/python3.6/dist-packages\n",
            "Searching for six==1.12.0\n",
            "Best match: six 1.12.0\n",
            "Adding six 1.12.0 to easy-install.pth file\n",
            "\n",
            "Using /usr/local/lib/python3.6/dist-packages\n",
            "Finished processing dependencies for elmoformanylangs==0.0.2\n"
          ],
          "name": "stdout"
        }
      ]
    },
    {
      "cell_type": "code",
      "metadata": {
        "id": "4F3xyImkVgfC",
        "colab_type": "code",
        "colab": {}
      },
      "source": [
        "from elmoformanylangs import Embedder"
      ],
      "execution_count": 0,
      "outputs": []
    },
    {
      "cell_type": "code",
      "metadata": {
        "id": "SmGbrndUaptq",
        "colab_type": "code",
        "colab": {}
      },
      "source": [
        "def time_watch(func):\n",
        "    \"\"\"時間計測用デコレータ関数\n",
        "    \n",
        "    Parameters\n",
        "    -----\n",
        "    func : function\n",
        "        実行したい関数\n",
        "\n",
        "    \"\"\"\n",
        "    import functools\n",
        "    import datetime\n",
        "    @functools.wraps(func)\n",
        "    def wrapper(*args, **kwargs):\n",
        "        start = datetime.datetime.today()\n",
        "        result = func(*args, **kwargs)\n",
        "        end = datetime.datetime.today()\n",
        "        print(\"実行時間:{time}\".format(time=end - start))\n",
        "        return result\n",
        "    return wrapper"
      ],
      "execution_count": 0,
      "outputs": []
    },
    {
      "cell_type": "markdown",
      "metadata": {
        "id": "7XNO5Bro3xyo",
        "colab_type": "text"
      },
      "source": [
        "### 日本語の事前学習済み重みのダウンロード\n",
        "embeddingディレクトに格納した<br>\n",
        "https://qiita.com/mkt3/items/9577b63900109ff91665\n"
      ]
    },
    {
      "cell_type": "code",
      "metadata": {
        "id": "UyGx9QcQ0Mtx",
        "colab_type": "code",
        "colab": {}
      },
      "source": [
        "# モデルのディレクトリ\n",
        "MODEL_DIR = './embedding/word_unit_embedding_model/'"
      ],
      "execution_count": 0,
      "outputs": []
    },
    {
      "cell_type": "code",
      "metadata": {
        "id": "c-ZPRGHK3Ykg",
        "colab_type": "code",
        "outputId": "fb6fa4e3-61db-41bb-96f1-34d025ed271d",
        "colab": {
          "base_uri": "https://localhost:8080/",
          "height": 306
        }
      },
      "source": [
        "!nvidia-smi"
      ],
      "execution_count": 15,
      "outputs": [
        {
          "output_type": "stream",
          "text": [
            "Sat Apr 11 08:54:29 2020       \n",
            "+-----------------------------------------------------------------------------+\n",
            "| NVIDIA-SMI 440.64.00    Driver Version: 418.67       CUDA Version: 10.1     |\n",
            "|-------------------------------+----------------------+----------------------+\n",
            "| GPU  Name        Persistence-M| Bus-Id        Disp.A | Volatile Uncorr. ECC |\n",
            "| Fan  Temp  Perf  Pwr:Usage/Cap|         Memory-Usage | GPU-Util  Compute M. |\n",
            "|===============================+======================+======================|\n",
            "|   0  Tesla T4            Off  | 00000000:00:04.0 Off |                    0 |\n",
            "| N/A   59C    P8    10W /  70W |      0MiB / 15079MiB |      0%      Default |\n",
            "+-------------------------------+----------------------+----------------------+\n",
            "                                                                               \n",
            "+-----------------------------------------------------------------------------+\n",
            "| Processes:                                                       GPU Memory |\n",
            "|  GPU       PID   Type   Process name                             Usage      |\n",
            "|=============================================================================|\n",
            "|  No running processes found                                                 |\n",
            "+-----------------------------------------------------------------------------+\n"
          ],
          "name": "stdout"
        }
      ]
    },
    {
      "cell_type": "code",
      "metadata": {
        "id": "o8H0PcnS43bB",
        "colab_type": "code",
        "outputId": "d0215f03-ea71-4a21-8f35-f42eda313cc3",
        "colab": {
          "base_uri": "https://localhost:8080/",
          "height": 544
        }
      },
      "source": [
        "# batch_sizeは環境に合わせて変更（時間帯によってcolaboratoryのGPUの性能が変わるため）\n",
        "elmo_model = Embedder(MODEL_DIR, batch_size=2)"
      ],
      "execution_count": 16,
      "outputs": [
        {
          "output_type": "stream",
          "text": [
            "2020-04-11 08:54:34,583 INFO: word embedding size: 387179\n",
            "2020-04-11 08:54:44,102 INFO: Model(\n",
            "  (token_embedder): ConvTokenEmbedder(\n",
            "    (word_emb_layer): EmbeddingLayer(\n",
            "      (embedding): Embedding(387179, 100, padding_idx=3)\n",
            "    )\n",
            "    (projection): Linear(in_features=100, out_features=512, bias=True)\n",
            "  )\n",
            "  (encoder): ElmobiLm(\n",
            "    (forward_layer_0): LstmCellWithProjection(\n",
            "      (input_linearity): Linear(in_features=512, out_features=16384, bias=False)\n",
            "      (state_linearity): Linear(in_features=512, out_features=16384, bias=True)\n",
            "      (state_projection): Linear(in_features=4096, out_features=512, bias=False)\n",
            "    )\n",
            "    (backward_layer_0): LstmCellWithProjection(\n",
            "      (input_linearity): Linear(in_features=512, out_features=16384, bias=False)\n",
            "      (state_linearity): Linear(in_features=512, out_features=16384, bias=True)\n",
            "      (state_projection): Linear(in_features=4096, out_features=512, bias=False)\n",
            "    )\n",
            "    (forward_layer_1): LstmCellWithProjection(\n",
            "      (input_linearity): Linear(in_features=512, out_features=16384, bias=False)\n",
            "      (state_linearity): Linear(in_features=512, out_features=16384, bias=True)\n",
            "      (state_projection): Linear(in_features=4096, out_features=512, bias=False)\n",
            "    )\n",
            "    (backward_layer_1): LstmCellWithProjection(\n",
            "      (input_linearity): Linear(in_features=512, out_features=16384, bias=False)\n",
            "      (state_linearity): Linear(in_features=512, out_features=16384, bias=True)\n",
            "      (state_projection): Linear(in_features=4096, out_features=512, bias=False)\n",
            "    )\n",
            "  )\n",
            ")\n"
          ],
          "name": "stderr"
        }
      ]
    },
    {
      "cell_type": "markdown",
      "metadata": {
        "id": "fO0gEqVCbS_k",
        "colab_type": "text"
      },
      "source": [
        "### 入力文書の前処理を定義"
      ]
    },
    {
      "cell_type": "code",
      "metadata": {
        "id": "Hlt27ZGpOsfI",
        "colab_type": "code",
        "colab": {}
      },
      "source": [
        "def is_stop_word(pos):\n",
        "    \"\"\"\n",
        "    品詞からストップワードか判断\n",
        "\n",
        "    Parameters\n",
        "    -----\n",
        "    pos : string\n",
        "        品詞\n",
        "\n",
        "    Returns\n",
        "    -----\n",
        "    stop_word_flag : boolean\n",
        "    \"\"\"\n",
        "    stop_word_list = [\"助詞\", \"助動詞\", \"記号\", \"BOS/EOS\"]\n",
        "    stop_word_flag = True\n",
        "    if pos in stop_word_list:\n",
        "        stop_word_flag = False\n",
        "    return stop_word_flag\n",
        "\n",
        "def split_text(text):\n",
        "    \"\"\"\n",
        "    文章をわかち書きする\n",
        "\n",
        "    Parameters\n",
        "    -----\n",
        "    text : string\n",
        "\n",
        "    Returns\n",
        "    -----\n",
        "    result : list of string\n",
        "    \"\"\"\n",
        "    result = []\n",
        "    node = m_neologd.parseToNode(text)\n",
        "    while node:\n",
        "        if is_stop_word(node.feature.split(\",\")[0]):\n",
        "            result.append(node.surface)\n",
        "        node = node.next\n",
        "    return result"
      ],
      "execution_count": 0,
      "outputs": []
    },
    {
      "cell_type": "code",
      "metadata": {
        "id": "qVkV9YQ_b3-d",
        "colab_type": "code",
        "colab": {}
      },
      "source": [
        "def preprocessing_documents(documents):\n",
        "    \"\"\"\n",
        "    文書をELMo用に前処理\n",
        "\n",
        "    Parameters\n",
        "    -----\n",
        "    documents : list of string\n",
        "\n",
        "    Returns\n",
        "    -----\n",
        "    results : list of list of string\n",
        "    \"\"\"\n",
        "    results = []\n",
        "    # バグ対処\n",
        "    m_neologd.parse('')\n",
        "    for document in documents:\n",
        "        result = split_text(document)\n",
        "        results.append(result)\n",
        "    return results"
      ],
      "execution_count": 0,
      "outputs": []
    },
    {
      "cell_type": "code",
      "metadata": {
        "id": "1360bG2u6vFP",
        "colab_type": "code",
        "colab": {}
      },
      "source": [
        "elmo_sample_docments = [\"私は犬\", \"犬は私\", \"今日の天気は雪のち晴れです\"]"
      ],
      "execution_count": 0,
      "outputs": []
    },
    {
      "cell_type": "code",
      "metadata": {
        "id": "E907gv9ydcpT",
        "colab_type": "code",
        "outputId": "8ba9a31d-8d34-481b-a1e8-c913381e883c",
        "colab": {
          "base_uri": "https://localhost:8080/",
          "height": 34
        }
      },
      "source": [
        "proc_documents = preprocessing_documents(elmo_sample_docments)\n",
        "proc_documents"
      ],
      "execution_count": 20,
      "outputs": [
        {
          "output_type": "execute_result",
          "data": {
            "text/plain": [
              "[['私', '犬'], ['犬', '私'], ['今日の天気', '雪', 'のち', '晴れ']]"
            ]
          },
          "metadata": {
            "tags": []
          },
          "execution_count": 20
        }
      ]
    },
    {
      "cell_type": "markdown",
      "metadata": {
        "id": "QI6HeGj7dqmq",
        "colab_type": "text"
      },
      "source": [
        "### ELMoで単語の分散表現を予測"
      ]
    },
    {
      "cell_type": "code",
      "metadata": {
        "id": "G5B0m5XTa3gS",
        "colab_type": "code",
        "colab": {}
      },
      "source": [
        "@time_watch\n",
        "def predict_word_vec(model, proc_documents):\n",
        "    \"\"\"\n",
        "    モデルを使い単語の分散表現を予測\n",
        "\n",
        "    Parmeters\n",
        "    -----\n",
        "    model : model_obj\n",
        "    proc_documents : proc_documents_obj\n",
        "    \n",
        "    Returns\n",
        "    -----\n",
        "    pred_vector : list of nparray\n",
        "    \"\"\"\n",
        "    pred_vector = model.sents2elmo(proc_documents)\n",
        "    return pred_vector"
      ],
      "execution_count": 0,
      "outputs": []
    },
    {
      "cell_type": "code",
      "metadata": {
        "id": "2Ty2wsybelNx",
        "colab_type": "code",
        "outputId": "c55f464d-0d8c-4744-d87c-a838e5dca45d",
        "colab": {
          "base_uri": "https://localhost:8080/",
          "height": 51
        }
      },
      "source": [
        "documnets_words_vec = predict_word_vec(elmo_model, proc_documents)"
      ],
      "execution_count": 22,
      "outputs": [
        {
          "output_type": "stream",
          "text": [
            "2020-04-11 08:54:44,862 INFO: 2 batches, avg len: 4.7\n"
          ],
          "name": "stderr"
        },
        {
          "output_type": "stream",
          "text": [
            "実行時間:0:00:00.045679\n"
          ],
          "name": "stdout"
        }
      ]
    },
    {
      "cell_type": "code",
      "metadata": {
        "id": "xVaOp2RkeqW6",
        "colab_type": "code",
        "outputId": "4e78ca2f-caaf-4d35-9110-4509b5408070",
        "colab": {
          "base_uri": "https://localhost:8080/",
          "height": 323
        }
      },
      "source": [
        "print(documnets_words_vec[0].shape)\n",
        "print(type(documnets_words_vec[0]))\n",
        "documnets_words_vec"
      ],
      "execution_count": 23,
      "outputs": [
        {
          "output_type": "stream",
          "text": [
            "(2, 1024)\n",
            "<class 'numpy.ndarray'>\n"
          ],
          "name": "stdout"
        },
        {
          "output_type": "execute_result",
          "data": {
            "text/plain": [
              "[array([[-0.38220724, -0.39298365, -0.19943716, ..., -0.09475187,\n",
              "          0.3819693 , -0.06013585],\n",
              "        [-0.9985582 , -0.7653177 , -0.67188627, ...,  0.38484815,\n",
              "         -0.14899644, -0.22106056]], dtype=float32),\n",
              " array([[-1.5832626 ,  1.3038126 , -0.06131099, ...,  0.19876009,\n",
              "         -0.15746963, -0.06631211],\n",
              "        [-0.92534226,  1.3555083 , -0.21629268, ..., -0.11389237,\n",
              "          0.0235325 ,  0.16071147]], dtype=float32),\n",
              " array([[ 0.10117576, -0.23624992,  0.00397629, ..., -0.23287232,\n",
              "          0.17794509,  0.06074806],\n",
              "        [-0.90098625, -0.80577916, -0.20233391, ...,  0.13288672,\n",
              "          0.47783342, -0.45927897],\n",
              "        [ 1.229299  ,  0.9821803 , -0.35105655, ...,  0.05930269,\n",
              "          0.5154345 , -0.4115053 ],\n",
              "        [-0.6562578 ,  1.4385004 , -0.17021614, ..., -0.3254591 ,\n",
              "          0.10576969,  0.1858627 ]], dtype=float32)]"
            ]
          },
          "metadata": {
            "tags": []
          },
          "execution_count": 23
        }
      ]
    },
    {
      "cell_type": "markdown",
      "metadata": {
        "id": "CaWcVH_ae3mF",
        "colab_type": "text"
      },
      "source": [
        "#### 実行結果\n",
        "「私は犬」と「犬は私」の２つの文章において、それぞれの文章で「私」「犬」は文章内での順番が考慮され、別々の分散表現が得られていることが分かる。"
      ]
    },
    {
      "cell_type": "markdown",
      "metadata": {
        "id": "xhVSbMxrgneG",
        "colab_type": "text"
      },
      "source": [
        "### 単語ベクトルから文書ベクトルを算出\n",
        "fastTextの単語ベクトルの結合方法を参考に、文書内に含まれる単語ベクトルの平均値を文書ベクトルする<br>\n",
        "[参考文献:https://arxiv.org/pdf/1607.01759.pdf](https://arxiv.org/pdf/1607.01759.pdf)"
      ]
    },
    {
      "cell_type": "code",
      "metadata": {
        "id": "cfHwljbaeuDr",
        "colab_type": "code",
        "colab": {}
      },
      "source": [
        "@time_watch\n",
        "def calc_doc_vec(documnets_words_vec):\n",
        "    \"\"\"\n",
        "    単語ベクトルから文書ベクトルを計算\n",
        "\n",
        "    Parameters\n",
        "    -----\n",
        "    documents_word_vec : list of nparray\n",
        "\n",
        "    Returns\n",
        "    -----\n",
        "    documents_vec : ndarray(文書数, 1つの文書内の次元数)\n",
        "\n",
        "    Notes\n",
        "    -----\n",
        "    文書ベクトルの算出方法 : 文書内に含まれる全単語ベクトルの平均値\n",
        "    \"\"\"\n",
        "    documnets_vec = []\n",
        "    for document_words_vec in documnets_words_vec:\n",
        "        document_vec = np.sum(document_words_vec, axis=0) / document_words_vec.shape[0]\n",
        "        documnets_vec.append(document_vec)\n",
        "\n",
        "    documnets_vec = np.array(documnets_vec)\n",
        "    return documnets_vec"
      ],
      "execution_count": 0,
      "outputs": []
    },
    {
      "cell_type": "code",
      "metadata": {
        "id": "Vha-WnrWiZ5Y",
        "colab_type": "code",
        "outputId": "e99f7b57-ee5d-4960-9d33-1180c9cbf7f2",
        "colab": {
          "base_uri": "https://localhost:8080/",
          "height": 136
        }
      },
      "source": [
        "documnets_vec = calc_doc_vec(documnets_words_vec=documnets_words_vec)\n",
        "documnets_vec"
      ],
      "execution_count": 25,
      "outputs": [
        {
          "output_type": "stream",
          "text": [
            "実行時間:0:00:00.000239\n"
          ],
          "name": "stdout"
        },
        {
          "output_type": "execute_result",
          "data": {
            "text/plain": [
              "array([[-0.6903827 , -0.5791507 , -0.4356617 , ...,  0.14504814,\n",
              "         0.11648643, -0.14059821],\n",
              "       [-1.2543024 ,  1.3296604 , -0.13880183, ...,  0.04243386,\n",
              "        -0.06696857,  0.04719968],\n",
              "       [-0.05669233,  0.3446629 , -0.17990758, ..., -0.0915355 ,\n",
              "         0.3192457 , -0.15604337]], dtype=float32)"
            ]
          },
          "metadata": {
            "tags": []
          },
          "execution_count": 25
        }
      ]
    },
    {
      "cell_type": "code",
      "metadata": {
        "id": "1hkwmIrOiaQ2",
        "colab_type": "code",
        "outputId": "b954fa8a-f1ff-4735-8791-1d2033f4649a",
        "colab": {
          "base_uri": "https://localhost:8080/",
          "height": 136
        }
      },
      "source": [
        "print(documnets_vec.shape)\n",
        "documnets_vec"
      ],
      "execution_count": 26,
      "outputs": [
        {
          "output_type": "stream",
          "text": [
            "(3, 1024)\n"
          ],
          "name": "stdout"
        },
        {
          "output_type": "execute_result",
          "data": {
            "text/plain": [
              "array([[-0.6903827 , -0.5791507 , -0.4356617 , ...,  0.14504814,\n",
              "         0.11648643, -0.14059821],\n",
              "       [-1.2543024 ,  1.3296604 , -0.13880183, ...,  0.04243386,\n",
              "        -0.06696857,  0.04719968],\n",
              "       [-0.05669233,  0.3446629 , -0.17990758, ..., -0.0915355 ,\n",
              "         0.3192457 , -0.15604337]], dtype=float32)"
            ]
          },
          "metadata": {
            "tags": []
          },
          "execution_count": 26
        }
      ]
    },
    {
      "cell_type": "markdown",
      "metadata": {
        "id": "60XiDSOzlnPY",
        "colab_type": "text"
      },
      "source": [
        "## faissのインストール\n",
        "参考：https://qiita.com/SakuraDk/items/0c03b7ebd4aef8d6caed#colaboratory%E4%B8%8A%E3%81%A7%E3%82%A4%E3%83%B3%E3%82%B9%E3%83%88%E3%83%BC%E3%83%AB"
      ]
    },
    {
      "cell_type": "code",
      "metadata": {
        "id": "na-SBzloojyF",
        "colab_type": "code",
        "colab": {}
      },
      "source": [
        "# ダウンロードは一度のみ実行で大丈夫\n",
        "#!wget https://anaconda.org/pytorch/faiss-gpu/1.4.0/download/linux-64/faiss-gpu-1.4.0-py36_cuda9.2.148_1.tar.bz2\n",
        "#!tar xvjf faiss-gpu-1.4.0-py36_cuda9.2.148_1.tar.bz2"
      ],
      "execution_count": 0,
      "outputs": []
    },
    {
      "cell_type": "code",
      "metadata": {
        "id": "qhdztYDUoyMP",
        "colab_type": "code",
        "outputId": "b39d8d84-d4b6-4309-88a9-eba8a8547d98",
        "colab": {
          "base_uri": "https://localhost:8080/",
          "height": 51
        }
      },
      "source": [
        "!cp -r lib/python3.6/site-packages/* /usr/local/lib/python3.6/dist-packages/\n",
        "!pip install mkl"
      ],
      "execution_count": 28,
      "outputs": [
        {
          "output_type": "stream",
          "text": [
            "Requirement already satisfied: mkl in /usr/local/lib/python3.6/dist-packages (2019.0)\n",
            "Requirement already satisfied: intel-openmp in /usr/local/lib/python3.6/dist-packages (from mkl) (2020.0.133)\n"
          ],
          "name": "stdout"
        }
      ]
    },
    {
      "cell_type": "code",
      "metadata": {
        "id": "YIaxLsNbo4ew",
        "colab_type": "code",
        "colab": {}
      },
      "source": [
        "import faiss"
      ],
      "execution_count": 0,
      "outputs": []
    },
    {
      "cell_type": "markdown",
      "metadata": {
        "id": "6Xhc_hqHkYrL",
        "colab_type": "text"
      },
      "source": [
        "## 検索エンジン作成"
      ]
    },
    {
      "cell_type": "markdown",
      "metadata": {
        "id": "Xa6k3IaIptEd",
        "colab_type": "text"
      },
      "source": [
        "### 検索対象となるドキュメント読み込み"
      ]
    },
    {
      "cell_type": "markdown",
      "metadata": {
        "id": "-M1s-kJpVmIF",
        "colab_type": "text"
      },
      "source": [
        "#### ldccデータ用の読み込み関数定義"
      ]
    },
    {
      "cell_type": "code",
      "metadata": {
        "id": "ei3_5d07V1Z3",
        "colab_type": "code",
        "colab": {}
      },
      "source": [
        "def load_path_list(dir_name):\n",
        "   \"\"\"\n",
        "   ディレクトリ配下のパス名取得\n",
        "   \"\"\"\n",
        "   p = pathlib.Path(dir_name)\n",
        "   name_list = list(p.glob(\"*\"))\n",
        "   return name_list"
      ],
      "execution_count": 0,
      "outputs": []
    },
    {
      "cell_type": "code",
      "metadata": {
        "id": "imrbqgYeXmQn",
        "colab_type": "code",
        "colab": {}
      },
      "source": [
        "@time_watch\n",
        "def load_ldcc_to_pd(dir_name):\n",
        "    \"\"\"\n",
        "    ldccデータをDataframeに読み込み\n",
        "\n",
        "    Parameters\n",
        "    -----\n",
        "    dir_name : string\n",
        "\n",
        "    Returns\n",
        "    -----\n",
        "    ldcc_df : Dataframe\n",
        "    \"\"\"\n",
        "    data_path_list = load_path_list(dir_name)\n",
        "    read_message_size = 100\n",
        "    \n",
        "    removefile_path = pathlib.Path(DATA_DIR+'/LICENSE.txt')\n",
        "    # LICENSE.txtファイルは除く\n",
        "    if os.path.isfile(removefile_path):\n",
        "        data_path_list.remove(removefile_path)\n",
        "    print(\"データ件数:{size}\".format(size=len(data_path_list)))\n",
        "\n",
        "    dataset_texts = []\n",
        "    for i, data_path in enumerate(data_path_list):\n",
        "      with open(data_path) as f:\n",
        "        # 末尾の改行コードと一部文字化けを取り除く\n",
        "        data_texts = [s.rstrip().replace('\\u3000','') for s in f.readlines()]\n",
        "      dataset_texts.append(data_texts)\n",
        "      if (i + 1) % read_message_size == 0:\n",
        "        print(\"{i}件ファイルからテキストを読み込み完了\".format(i=i+1))\n",
        "\n",
        "    ldcc_df_columns = ['title', 'url', 'time', 'text']\n",
        "    ldcc_df = pd.DataFrame(index=[], columns=ldcc_df_columns)\n",
        "    for i, data_texts in enumerate(dataset_texts):\n",
        "      title = data_texts[2]\n",
        "      url = data_texts[0]\n",
        "      time = data_texts[1]\n",
        "      text = \"\".join(data_texts[2:])\n",
        "      data_series = pd.Series([title, url, time, text], index=ldcc_df.columns)\n",
        "      ldcc_df = ldcc_df.append(data_series, ignore_index=True)\n",
        "      if (i + 1) % read_message_size == 0:\n",
        "        print(\"{i}件データフレームに読み込み完了\".format(i=i+1))\n",
        "\n",
        "    ldcc_df.index = ldcc_df.index + 1\n",
        "    return ldcc_df"
      ],
      "execution_count": 0,
      "outputs": []
    },
    {
      "cell_type": "code",
      "metadata": {
        "id": "h97GJVF2XcdW",
        "colab_type": "code",
        "outputId": "7a70db24-5dd5-44b6-8cad-54e034ccede5",
        "colab": {
          "base_uri": "https://localhost:8080/",
          "height": 193
        }
      },
      "source": [
        "DATA_DIR = \"./datasets/ldcc-20140209\"\n",
        "file_name = \"it-life-hack\"\n",
        "\n",
        "read_file_csv = \"it-life-hack_20200411074951.csv\"\n",
        "read_bk_csv = True\n",
        "\n",
        "if read_bk_csv:\n",
        "    register_documents = pd.read_csv(DATA_DIR + '/' +  read_file_csv, index_col=0)   \n",
        "else:\n",
        "    register_documents = load_ldcc_to_pd(DATA_DIR + '/' + file_name)\n",
        "    # csvファイルに出力\n",
        "    now = datetime.datetime.now().strftime('%Y%m%d%H%M%S')\n",
        "    register_documents.to_csv(DATA_DIR + '/' + file_name + '_' + now + '.csv')\n",
        "\n",
        "register_documents.head(3)"
      ],
      "execution_count": 32,
      "outputs": [
        {
          "output_type": "execute_result",
          "data": {
            "text/html": [
              "<div>\n",
              "<style scoped>\n",
              "    .dataframe tbody tr th:only-of-type {\n",
              "        vertical-align: middle;\n",
              "    }\n",
              "\n",
              "    .dataframe tbody tr th {\n",
              "        vertical-align: top;\n",
              "    }\n",
              "\n",
              "    .dataframe thead th {\n",
              "        text-align: right;\n",
              "    }\n",
              "</style>\n",
              "<table border=\"1\" class=\"dataframe\">\n",
              "  <thead>\n",
              "    <tr style=\"text-align: right;\">\n",
              "      <th></th>\n",
              "      <th>title</th>\n",
              "      <th>url</th>\n",
              "      <th>time</th>\n",
              "      <th>text</th>\n",
              "    </tr>\n",
              "  </thead>\n",
              "  <tbody>\n",
              "    <tr>\n",
              "      <th>1</th>\n",
              "      <td>戦国武将が勢揃い！戦国RPG 真・戦国バスター【iPhoneでチャンスを掴め】</td>\n",
              "      <td>http://news.livedoor.com/article/detail/6303141/</td>\n",
              "      <td>2012-02-22T17:00:00+0900</td>\n",
              "      <td>戦国武将が勢揃い！戦国RPG 真・戦国バスター【iPhoneでチャンスを掴め】こんな人におす...</td>\n",
              "    </tr>\n",
              "    <tr>\n",
              "      <th>2</th>\n",
              "      <td>ドコモ7.8mmの有機ELスマホ開発！スリムボディのスマートフォン「docomo NEXT ...</td>\n",
              "      <td>http://news.livedoor.com/article/detail/6295889/</td>\n",
              "      <td>2012-02-20T15:49:00+0900</td>\n",
              "      <td>ドコモ7.8mmの有機ELスマホ開発！スリムボディのスマートフォン「docomo NEXT ...</td>\n",
              "    </tr>\n",
              "    <tr>\n",
              "      <th>3</th>\n",
              "      <td>ネットで気軽にフォトブックの編集注文ができる！「ドリームページ」のレビューアーを30名募集</td>\n",
              "      <td>http://news.livedoor.com/article/detail/6298594/</td>\n",
              "      <td>2012-02-21T12:00:00+0900</td>\n",
              "      <td>ネットで気軽にフォトブックの編集注文ができる！「ドリームページ」のレビューアーを30名募集ソ...</td>\n",
              "    </tr>\n",
              "  </tbody>\n",
              "</table>\n",
              "</div>"
            ],
            "text/plain": [
              "                                               title  ...                                               text\n",
              "1            戦国武将が勢揃い！戦国RPG 真・戦国バスター【iPhoneでチャンスを掴め】  ...  戦国武将が勢揃い！戦国RPG 真・戦国バスター【iPhoneでチャンスを掴め】こんな人におす...\n",
              "2  ドコモ7.8mmの有機ELスマホ開発！スリムボディのスマートフォン「docomo NEXT ...  ...  ドコモ7.8mmの有機ELスマホ開発！スリムボディのスマートフォン「docomo NEXT ...\n",
              "3      ネットで気軽にフォトブックの編集注文ができる！「ドリームページ」のレビューアーを30名募集  ...  ネットで気軽にフォトブックの編集注文ができる！「ドリームページ」のレビューアーを30名募集ソ...\n",
              "\n",
              "[3 rows x 4 columns]"
            ]
          },
          "metadata": {
            "tags": []
          },
          "execution_count": 32
        }
      ]
    },
    {
      "cell_type": "markdown",
      "metadata": {
        "id": "X35eE2IhxT0L",
        "colab_type": "text"
      },
      "source": [
        "### ELMoで文書ベクトルを算出"
      ]
    },
    {
      "cell_type": "code",
      "metadata": {
        "id": "hGKm_QpGBoij",
        "colab_type": "code",
        "outputId": "b19f2d76-306d-4427-f9cb-49eae9b0a709",
        "colab": {
          "base_uri": "https://localhost:8080/",
          "height": 85
        }
      },
      "source": [
        "TEXT_COLUMN = \"text\"\n",
        "\n",
        "read_file_pickle = \"kaden-channel_20200409144950.pkl\"\n",
        "read_bk_pickle = False\n",
        "\n",
        "if read_bk_pickle:\n",
        "    with open(DATA_DIR + '/' + read_file_pickle, 'rb') as f_pkl:\n",
        "       register_documents_vec = pickle.load(f_pkl)\n",
        "else:\n",
        "    register_documents_words_vec = predict_word_vec(elmo_model, register_documents[TEXT_COLUMN].values)\n",
        "    register_documents_vec = calc_doc_vec(register_documents_words_vec)\n",
        "    # pklファイルに出力\n",
        "    now = datetime.datetime.now().strftime('%Y%m%d%H%M%S')\n",
        "    export_pkl_file = DATA_DIR + '/' + file_name + '_' + now + '.pkl'\n",
        "    with open(export_pkl_file, mode='wb') as f:\n",
        "        pickle.dump(register_documents_vec, f)\n",
        "\n",
        "print(\"文書ベクトルの次元数確認{shape}\".format(shape=register_documents_vec.shape))"
      ],
      "execution_count": 33,
      "outputs": [
        {
          "output_type": "stream",
          "text": [
            "2020-04-11 08:55:10,015 INFO: 435 batches, avg len: 1363.0\n"
          ],
          "name": "stderr"
        },
        {
          "output_type": "stream",
          "text": [
            "実行時間:0:28:35.216431\n",
            "実行時間:0:00:00.812637\n",
            "文書ベクトルの次元数確認(870, 1024)\n"
          ],
          "name": "stdout"
        }
      ]
    },
    {
      "cell_type": "markdown",
      "metadata": {
        "id": "FrO-nQ7YsFn2",
        "colab_type": "text"
      },
      "source": [
        "#### 文書ベクトルの次元圧縮（PCA）"
      ]
    },
    {
      "cell_type": "code",
      "metadata": {
        "id": "EwuFUKR62ura",
        "colab_type": "code",
        "colab": {}
      },
      "source": [
        "@time_watch\n",
        "def train_pca_model(origin_dim, after_pca_dim, vector):\n",
        "    \"\"\"\n",
        "    基底を探索\n",
        "\n",
        "    Parameters\n",
        "    -----\n",
        "    origin_dim : int\n",
        "    after_pca_dim : int\n",
        "    vector : np.array(n, origin_dim)\n",
        "\n",
        "    Returns\n",
        "    -----\n",
        "    pca_model : pca_obj\n",
        "    \"\"\"\n",
        "    pca_model = faiss.PCAMatrix (origin_dim, after_pca_dim)\n",
        "    pca_model.train(vector)\n",
        "    assert pca_model.is_trained\n",
        "    return pca_model"
      ],
      "execution_count": 0,
      "outputs": []
    },
    {
      "cell_type": "code",
      "metadata": {
        "id": "tBKfFFDD2piC",
        "colab_type": "code",
        "colab": {
          "base_uri": "https://localhost:8080/",
          "height": 34
        },
        "outputId": "b69a30cb-1ac8-4024-f9a4-bfbf843fd6e6"
      },
      "source": [
        "register_dim = 256\n",
        "\n",
        "PCA_MODEL = train_pca_model(origin_dim=register_documents_vec.shape[1] , after_pca_dim=register_dim,\n",
        "                            vector=register_documents_vec)"
      ],
      "execution_count": 35,
      "outputs": [
        {
          "output_type": "stream",
          "text": [
            "実行時間:0:00:00.388304\n"
          ],
          "name": "stdout"
        }
      ]
    },
    {
      "cell_type": "code",
      "metadata": {
        "id": "A7VCdmt1xs5n",
        "colab_type": "code",
        "colab": {}
      },
      "source": [
        "@time_watch\n",
        "def dimension_reduction_pca(trained_pca_model, vector):\n",
        "    \"\"\"\n",
        "    PCAを使い次元削減実行\n",
        "\n",
        "    Parameters\n",
        "    -----\n",
        "    trained_pca_model : pca_pbj\n",
        "    vector : np.array(n, origin_dim)\n",
        "\n",
        "    Returns\n",
        "    -----\n",
        "    proc_pca_vector : np.array(n, after_pca_dim)\n",
        "    \"\"\"\n",
        "    proc_pca_vector = trained_pca_model.apply_py(vector)\n",
        "    return proc_pca_vector"
      ],
      "execution_count": 0,
      "outputs": []
    },
    {
      "cell_type": "code",
      "metadata": {
        "id": "9ACsOc1_sRl4",
        "colab_type": "code",
        "colab": {
          "base_uri": "https://localhost:8080/",
          "height": 51
        },
        "outputId": "ff96bac0-15f2-4115-81cf-5bf476d892a8"
      },
      "source": [
        "register_documents__pca_vec = dimension_reduction_pca(PCA_MODEL, register_documents_vec)\n",
        "print(\"次元削減後の次元数確認：{size}\".format(size=register_documents__pca_vec.shape))"
      ],
      "execution_count": 37,
      "outputs": [
        {
          "output_type": "stream",
          "text": [
            "実行時間:0:00:00.010452\n",
            "次元削減後の次元数確認：(870, 256)\n"
          ],
          "name": "stdout"
        }
      ]
    },
    {
      "cell_type": "markdown",
      "metadata": {
        "id": "jQOKqWCe0_pU",
        "colab_type": "text"
      },
      "source": [
        "### Indexを登録する特徴量空間の定義\n",
        "検索アルゴリズムと必要な初期値はこちら参照<br>\n",
        "https://github.com/facebookresearch/faiss/wiki/Faiss-indexes"
      ]
    },
    {
      "cell_type": "code",
      "metadata": {
        "id": "03WIJa2V1HHT",
        "colab_type": "code",
        "colab": {}
      },
      "source": [
        "# 登録するデータ1件分の次元数\n",
        "vector_dim = register_documents__pca_vec.shape[1]\n",
        "# 分割する領域の数\n",
        "voronoi_num = 20\n",
        "# 検索時に含める近傍の領域の数\n",
        "voronoi_near = 10"
      ],
      "execution_count": 0,
      "outputs": []
    },
    {
      "cell_type": "markdown",
      "metadata": {
        "id": "rkEWCl4m7Naz",
        "colab_type": "text"
      },
      "source": [
        "#### 高速な近似アルゴリズムIndeIVFFlatを使用\n",
        "https://github.com/facebookresearch/faiss/wiki/Faster-search"
      ]
    },
    {
      "cell_type": "code",
      "metadata": {
        "id": "8sHCpxjz2r_-",
        "colab_type": "code",
        "colab": {}
      },
      "source": [
        "quantizer = faiss.IndexFlatL2(vector_dim)\n",
        "index = faiss.IndexIVFFlat(quantizer, vector_dim, voronoi_num)"
      ],
      "execution_count": 0,
      "outputs": []
    },
    {
      "cell_type": "markdown",
      "metadata": {
        "id": "WiD-hAM6pV76",
        "colab_type": "text"
      },
      "source": [
        "### Indexへの追加（+ボロノイ領域の学習）"
      ]
    },
    {
      "cell_type": "code",
      "metadata": {
        "id": "rulP2T397slF",
        "colab_type": "code",
        "colab": {}
      },
      "source": [
        "assert not index.is_trained\n",
        "index.train(register_documents__pca_vec)\n",
        "assert index.is_trained"
      ],
      "execution_count": 0,
      "outputs": []
    },
    {
      "cell_type": "code",
      "metadata": {
        "id": "JiHNaJKPACX8",
        "colab_type": "code",
        "outputId": "4ae4199f-f0d7-4994-8097-ef83c0226e53",
        "colab": {
          "base_uri": "https://localhost:8080/",
          "height": 34
        }
      },
      "source": [
        "# idの付与\n",
        "ids = np.arange(start=1, stop=register_documents__pca_vec.shape[0]+1)\n",
        "print(\"idsの長さ{size}\".format(size=len(ids)))"
      ],
      "execution_count": 41,
      "outputs": [
        {
          "output_type": "stream",
          "text": [
            "idsの長さ870\n"
          ],
          "name": "stdout"
        }
      ]
    },
    {
      "cell_type": "code",
      "metadata": {
        "id": "L0nYgcv4jA5h",
        "colab_type": "code",
        "colab": {}
      },
      "source": [
        "index.add_with_ids(register_documents__pca_vec, ids) "
      ],
      "execution_count": 0,
      "outputs": []
    },
    {
      "cell_type": "markdown",
      "metadata": {
        "id": "BMF4DW_wJvB3",
        "colab_type": "text"
      },
      "source": [
        "#### 結果の保存"
      ]
    },
    {
      "cell_type": "code",
      "metadata": {
        "id": "OMQK6fV4JW_P",
        "colab_type": "code",
        "colab": {}
      },
      "source": [
        "EXPORT_DIR = \"./exports\"\n",
        "now = datetime.datetime.now().strftime('%Y%m%d%H%M%S')"
      ],
      "execution_count": 0,
      "outputs": []
    },
    {
      "cell_type": "code",
      "metadata": {
        "id": "9DkRMnH-JooW",
        "colab_type": "code",
        "colab": {}
      },
      "source": [
        "faiss.write_index(index, EXPORT_DIR + \"/features_\" + now + \".index\")"
      ],
      "execution_count": 0,
      "outputs": []
    },
    {
      "cell_type": "markdown",
      "metadata": {
        "id": "7QjRaPWQKXfg",
        "colab_type": "text"
      },
      "source": [
        "## 検索エンジンにクエリを投げてみる"
      ]
    },
    {
      "cell_type": "markdown",
      "metadata": {
        "id": "9W9rEZvyMWfS",
        "colab_type": "text"
      },
      "source": [
        "#### 質問文の前処理"
      ]
    },
    {
      "cell_type": "code",
      "metadata": {
        "id": "TDa6y-Oj8U5m",
        "colab_type": "code",
        "colab": {}
      },
      "source": [
        "# 質問文\n",
        "queries = [\"新作のカメラに関する記事\", \n",
        "           \"Macの新作\",\n",
        "           \"コンピュータ\", \n",
        "           \"Microsoftに関する記事\", \n",
        "           \"ファッション系のアプリケーション　新作\",\n",
        "           \"人気な新商品\",\n",
        "           \"デジタル家電　売上\",\n",
        "           \"最新情報\",\n",
        "           \"アマゾン　人気商品\",\n",
        "           \"高齢者向け支援アプリ\"]"
      ],
      "execution_count": 0,
      "outputs": []
    },
    {
      "cell_type": "code",
      "metadata": {
        "id": "tNdkibKg89z4",
        "colab_type": "code",
        "outputId": "b30781ad-e4cc-4afb-d1aa-d445853bc9c5",
        "colab": {
          "base_uri": "https://localhost:8080/",
          "height": 102
        }
      },
      "source": [
        "# ELMoで単語ベクトルに変換\n",
        "queries_words_vec = predict_word_vec(elmo_model, queries)\n",
        "# 文書ベクトルに変換\n",
        "queries_vec = calc_doc_vec(queries_words_vec)\n",
        "\n",
        "# 次元削減\n",
        "queries_pca_vec = dimension_reduction_pca(PCA_MODEL, queries_vec)\n",
        "print(\"入力の次元{shape}\".format(shape=queries_pca_vec.shape))"
      ],
      "execution_count": 58,
      "outputs": [
        {
          "output_type": "stream",
          "text": [
            "2020-04-11 09:31:12,142 INFO: 5 batches, avg len: 11.6\n"
          ],
          "name": "stderr"
        },
        {
          "output_type": "stream",
          "text": [
            "実行時間:0:00:00.196860\n",
            "実行時間:0:00:00.000488\n",
            "実行時間:0:00:00.000323\n",
            "入力の次元(10, 256)\n"
          ],
          "name": "stdout"
        }
      ]
    },
    {
      "cell_type": "markdown",
      "metadata": {
        "id": "j1xnqCIeMVw1",
        "colab_type": "text"
      },
      "source": [
        "#### インデックスから類似文を検索する"
      ]
    },
    {
      "cell_type": "code",
      "metadata": {
        "id": "G_I7pCukP1fA",
        "colab_type": "code",
        "colab": {}
      },
      "source": [
        "@time_watch\n",
        "def search_doc(queries_vec, search_doc_num, index):\n",
        "    \"\"\"\n",
        "    類似文章の検索\n",
        "\n",
        "    Parameters\n",
        "    -----\n",
        "    queries_vec : ndarray\n",
        "    search_doc_num : int\n",
        "        何件分まで検索してくるか\n",
        "    index : index_obj\n",
        "        faissのindexオブジェクト\n",
        "\n",
        "    Returns\n",
        "    -----\n",
        "    D : D_obj\n",
        "    I : I_obj\n",
        "    \"\"\"\n",
        "    d, i = index.search(queries_vec, search_doc_num)\n",
        "    return d, i"
      ],
      "execution_count": 0,
      "outputs": []
    },
    {
      "cell_type": "code",
      "metadata": {
        "id": "OiPszZm1MQeG",
        "colab_type": "code",
        "outputId": "dda4c5ce-6b18-42ac-86ed-32658077d808",
        "colab": {
          "base_uri": "https://localhost:8080/",
          "height": 204
        }
      },
      "source": [
        "# 取得したい結果の件数を設定\n",
        "search_doc_num = 10\n",
        "\n",
        "results_distances, results_ids = search_doc(queries_pca_vec, search_doc_num, index)\n",
        "print(results_ids)"
      ],
      "execution_count": 60,
      "outputs": [
        {
          "output_type": "stream",
          "text": [
            "実行時間:0:00:00.000199\n",
            "[[773 758 808 757 424 370 139 832 309 191]\n",
            " [437 415 505 285 700  92 264 369 167  -1]\n",
            " [ 34 388 182  36 698 639  51 502 670   6]\n",
            " [415 700 437  92 505 285 369 167 264  -1]\n",
            " [148  81 325   8 464 471 764 811 717 183]\n",
            " [789 456 733 405 320 234 315 706 742 669]\n",
            " [728 626 779 361 476 131  65 636 755 511]\n",
            " [ 65 620 661 748 755 361 511 452 554 728]\n",
            " [773 758 808 424 864 608 191 309 741 832]\n",
            " [ 96 668 589  75 706 539 456 742 569  15]]\n"
          ],
          "name": "stdout"
        }
      ]
    },
    {
      "cell_type": "code",
      "metadata": {
        "id": "nMFQ-WZ-M4WU",
        "colab_type": "code",
        "outputId": "1db0a138-65e6-4759-d727-bcae808c7fdc",
        "colab": {
          "base_uri": "https://localhost:8080/",
          "height": 1000
        }
      },
      "source": [
        "# 結果の描画\n",
        "for i, (result_distances, result_ids) in enumerate(zip(results_distances, results_ids)):\n",
        "\n",
        "    print(\"{i}番目の検索クエリ:{query}\".format(i=i+1, query=queries[i]))\n",
        "    print(\"-----検索結果-----\")\n",
        "\n",
        "    for j, (result_distance, result_id) in enumerate(zip(result_distances, result_ids)):\n",
        "        if result_id != -1:\n",
        "            print(\"第{j}位\\t文書id:{id} 「{title}」 url:（{url}）\"\n",
        "            .format(j=j+1, id=result_id, title=register_documents[\"title\"][result_id], url=register_documents[\"url\"][result_id]))\n",
        "            print(\"\\t（距離{distance})\\n\".format(distance=result_distance))\n",
        "\n",
        "    print(\"-----{i}番目の結果ここまで-----\\n\\n\".format(i=i+1))"
      ],
      "execution_count": 61,
      "outputs": [
        {
          "output_type": "stream",
          "text": [
            "1番目の検索クエリ:新作のカメラに関する記事\n",
            "-----検索結果-----\n",
            "第1位\t文書id:773 「今週末は北海道へGo！ニコニコ町会議in 北海道長万部町の詳細決定」 url:（http://news.livedoor.com/article/detail/6828627/）\n",
            "\t（距離13.038656234741211)\n",
            "\n",
            "第2位\t文書id:758 「町会議ラス前開催は福島県！ニコニコ町会議in 福島県三春町の詳細決定」 url:（http://news.livedoor.com/article/detail/6850409/）\n",
            "\t（距離13.129420280456543)\n",
            "\n",
            "第3位\t文書id:808 「いよいよラストの町会議！ニコニコ町会議in 東京都八丈島の詳細決定」 url:（http://news.livedoor.com/article/detail/6893325/）\n",
            "\t（距離13.154239654541016)\n",
            "\n",
            "第4位\t文書id:757 「地方の元気が日本の元気に！「ニコニコ町会議」佐賀県唐津市呼子町に1万6千人が来場」 url:（http://news.livedoor.com/article/detail/6839998/）\n",
            "\t（距離13.199812889099121)\n",
            "\n",
            "第5位\t文書id:424 「「写真の町」から生まれた「念力、滲透、輪郭」とは？気鋭の写真家が描く世界にドキッ」 url:（http://news.livedoor.com/article/detail/6653680/）\n",
            "\t（距離13.357860565185547)\n",
            "\n",
            "第6位\t文書id:370 「周辺地域の情報をゲット「ご当地ニュースbyロケタッチ新聞」リリース」 url:（http://news.livedoor.com/article/detail/6541754/）\n",
            "\t（距離13.705705642700195)\n",
            "\n",
            "第7位\t文書id:139 「なんという豪華キャスティング！ニコニコ超会議スーパーステージの出演者を発表！」 url:（http://news.livedoor.com/article/detail/6372414/）\n",
            "\t（距離13.874917030334473)\n",
            "\n",
            "第8位\t文書id:832 「町会議が震災復興を応援！福島県三春町の町会議レポート」 url:（http://news.livedoor.com/article/detail/6878413/）\n",
            "\t（距離13.919013023376465)\n",
            "\n",
            "第9位\t文書id:309 「御苦労さま！そしてありがとう！スペースシャトル・ディスカバリー号、最後の飛行」 url:（http://news.livedoor.com/article/detail/6482631/）\n",
            "\t（距離14.005008697509766)\n",
            "\n",
            "第10位\t文書id:191 「写真魂のバトンリレー！GRデジタルをバトンに若き写真家たちの駅伝写真展がスタート」 url:（http://news.livedoor.com/article/detail/6404631/）\n",
            "\t（距離14.347497940063477)\n",
            "\n",
            "-----1番目の結果ここまで-----\n",
            "\n",
            "\n",
            "2番目の検索クエリ:Macの新作\n",
            "-----検索結果-----\n",
            "第1位\t文書id:437 「iPhoneからどこでもOffice書類にアクセスSkyeDriveを徹底活用【知っ得！虎の巻】」 url:（http://news.livedoor.com/article/detail/6638851/）\n",
            "\t（距離20.814735412597656)\n",
            "\n",
            "第2位\t文書id:415 「新型MBP登場で盛り上がったWWDC！ iPhone 5も7インチiPad miniもなし！」 url:（http://news.livedoor.com/article/detail/6648870/）\n",
            "\t（距離21.079692840576172)\n",
            "\n",
            "第3位\t文書id:505 「定番スキャナがiPhone＆スマホに対応！iPhoneやAndroidからスキャンできるScanSnap登場」 url:（http://news.livedoor.com/article/detail/6579691/）\n",
            "\t（距離21.200149536132812)\n",
            "\n",
            "第4位\t文書id:285 「グラフィックスの頂上対決！GeForce GTX680 vs Radeon HD7970」 url:（http://news.livedoor.com/article/detail/6494106/）\n",
            "\t（距離21.541501998901367)\n",
            "\n",
            "第5位\t文書id:700 「UbuntuでOffice互換ソフトを使う OpenOfficeをめぐるあれこれ【デジ通】」 url:（http://news.livedoor.com/article/detail/6792558/）\n",
            "\t（距離21.769628524780273)\n",
            "\n",
            "第6位\t文書id:92 「米テレビ番組がiPhone工場に潜入！【役立つセキュリティ】」 url:（http://news.livedoor.com/article/detail/6308617/）\n",
            "\t（距離22.1867618560791)\n",
            "\n",
            "第7位\t文書id:264 「高機能なのになんで？iPadやAndroidタブレットに対するスレートPCの位置づけ」 url:（http://news.livedoor.com/article/detail/6439479/）\n",
            "\t（距離23.83873748779297)\n",
            "\n",
            "第8位\t文書id:369 「iPhoneやiPadが目ざまし時計になるユニークなガジェット登場！」 url:（http://news.livedoor.com/article/detail/6546293/）\n",
            "\t（距離24.538890838623047)\n",
            "\n",
            "第9位\t文書id:167 「iPhone＆iPadでブラウザゲーム！整って来たHTML5環境」 url:（http://news.livedoor.com/article/detail/6416069/）\n",
            "\t（距離24.790796279907227)\n",
            "\n",
            "-----2番目の結果ここまで-----\n",
            "\n",
            "\n",
            "3番目の検索クエリ:コンピュータ\n",
            "-----検索結果-----\n",
            "第1位\t文書id:34 「有線スピーカーがBluetooth対応に！ロジクール ワイヤレススピーカーアダプターを限定発売」 url:（http://news.livedoor.com/article/detail/6344928/）\n",
            "\t（距離17.75933074951172)\n",
            "\n",
            "第2位\t文書id:388 「圧倒的No.1のゲームPCブランドを目指す！ドスパラがPCの新ロゴを発表【ITフラッシュバック】」 url:（http://news.livedoor.com/article/detail/6532726/）\n",
            "\t（距離17.909149169921875)\n",
            "\n",
            "第3位\t文書id:182 「旅行に行く人へチャンス！海外パケット定額使い放題サービスのレビューアー10名を募集」 url:（http://news.livedoor.com/article/detail/6411873/）\n",
            "\t（距離18.599346160888672)\n",
            "\n",
            "第4位\t文書id:36 「クアッドコアのFusion APU搭載！デスクトップ代わりになるLenovoの新型ノート」 url:（http://news.livedoor.com/article/detail/6342693/）\n",
            "\t（距離18.731584548950195)\n",
            "\n",
            "第5位\t文書id:698 「月額1,050円でSASディスクを搭載！クラウドプラン 「エクスライト（EX-LITE）」の魅力を探る」 url:（http://news.livedoor.com/article/detail/6786542/）\n",
            "\t（距離19.000591278076172)\n",
            "\n",
            "第6位\t文書id:639 「パソコンとテレビが合体した製品！NECの技術を盛り込んだ、レノボの新PCが凄い」 url:（http://news.livedoor.com/article/detail/6727293/）\n",
            "\t（距離19.134052276611328)\n",
            "\n",
            "第7位\t文書id:51 「タッチにも対応！ワコム、プロ向けペンタブレット「Intuos5」 が凄い」 url:（http://news.livedoor.com/article/detail/6328231/）\n",
            "\t（距離19.341339111328125)\n",
            "\n",
            "第8位\t文書id:502 「スティックタイプのコンデジ登場！Optio新モデルは気分に合わせて着せ替え可能」 url:（http://news.livedoor.com/article/detail/6582752/）\n",
            "\t（距離19.67814064025879)\n",
            "\n",
            "第9位\t文書id:670 「ソーシャルの今が分かる！ヤフーの「話題なう」ってなに？」 url:（http://news.livedoor.com/article/detail/6705127/）\n",
            "\t（距離19.69207191467285)\n",
            "\n",
            "第10位\t文書id:6 「ウェブページのイメージを丸ごと取り込むワザ【知っ得・虎の巻】」 url:（http://news.livedoor.com/article/detail/6295327/）\n",
            "\t（距離19.82121467590332)\n",
            "\n",
            "-----3番目の結果ここまで-----\n",
            "\n",
            "\n",
            "4番目の検索クエリ:Microsoftに関する記事\n",
            "-----検索結果-----\n",
            "第1位\t文書id:415 「新型MBP登場で盛り上がったWWDC！ iPhone 5も7インチiPad miniもなし！」 url:（http://news.livedoor.com/article/detail/6648870/）\n",
            "\t（距離14.40701675415039)\n",
            "\n",
            "第2位\t文書id:700 「UbuntuでOffice互換ソフトを使う OpenOfficeをめぐるあれこれ【デジ通】」 url:（http://news.livedoor.com/article/detail/6792558/）\n",
            "\t（距離14.692147254943848)\n",
            "\n",
            "第3位\t文書id:437 「iPhoneからどこでもOffice書類にアクセスSkyeDriveを徹底活用【知っ得！虎の巻】」 url:（http://news.livedoor.com/article/detail/6638851/）\n",
            "\t（距離14.764793395996094)\n",
            "\n",
            "第4位\t文書id:92 「米テレビ番組がiPhone工場に潜入！【役立つセキュリティ】」 url:（http://news.livedoor.com/article/detail/6308617/）\n",
            "\t（距離14.995149612426758)\n",
            "\n",
            "第5位\t文書id:505 「定番スキャナがiPhone＆スマホに対応！iPhoneやAndroidからスキャンできるScanSnap登場」 url:（http://news.livedoor.com/article/detail/6579691/）\n",
            "\t（距離15.359848022460938)\n",
            "\n",
            "第6位\t文書id:285 「グラフィックスの頂上対決！GeForce GTX680 vs Radeon HD7970」 url:（http://news.livedoor.com/article/detail/6494106/）\n",
            "\t（距離16.4130859375)\n",
            "\n",
            "第7位\t文書id:369 「iPhoneやiPadが目ざまし時計になるユニークなガジェット登場！」 url:（http://news.livedoor.com/article/detail/6546293/）\n",
            "\t（距離16.675582885742188)\n",
            "\n",
            "第8位\t文書id:167 「iPhone＆iPadでブラウザゲーム！整って来たHTML5環境」 url:（http://news.livedoor.com/article/detail/6416069/）\n",
            "\t（距離17.123218536376953)\n",
            "\n",
            "第9位\t文書id:264 「高機能なのになんで？iPadやAndroidタブレットに対するスレートPCの位置づけ」 url:（http://news.livedoor.com/article/detail/6439479/）\n",
            "\t（距離17.518232345581055)\n",
            "\n",
            "-----4番目の結果ここまで-----\n",
            "\n",
            "\n",
            "5番目の検索クエリ:ファッション系のアプリケーション　新作\n",
            "-----検索結果-----\n",
            "第1位\t文書id:148 「女子部必見！Peachyアプリが10万ダウンロードを突破」 url:（http://news.livedoor.com/article/detail/6360984/）\n",
            "\t（距離16.826274871826172)\n",
            "\n",
            "第2位\t文書id:81 「賞品がもらえるコンテストも応募受付中！zigsow、「やってみよう！オーバークロック」がスタート」 url:（http://news.livedoor.com/article/detail/6320956/）\n",
            "\t（距離17.255962371826172)\n",
            "\n",
            "第3位\t文書id:325 「使い方で選べるスマホをラインナップ！ドコモ 2012年夏モデル20機種を発表」 url:（http://news.livedoor.com/article/detail/6563785/）\n",
            "\t（距離17.661334991455078)\n",
            "\n",
            "第4位\t文書id:8 「レノボ、プロゴルファーの斉藤愛璃選手とオフィシャル・スポンサーシップ契約を締結」 url:（http://news.livedoor.com/article/detail/6295722/）\n",
            "\t（距離17.68124008178711)\n",
            "\n",
            "第5位\t文書id:464 「美しい映像と音楽も必見！銀座の名所、ソニービル公式Facebook ページがオープン」 url:（http://news.livedoor.com/article/detail/6621021/）\n",
            "\t（距離18.178146362304688)\n",
            "\n",
            "第6位\t文書id:471 「本日11時よりライブ配信開始！ソフトバンク＆ウィルコム新製品発表会」 url:（http://news.livedoor.com/article/detail/6604030/）\n",
            "\t（距離18.612457275390625)\n",
            "\n",
            "第7位\t文書id:764 「プレイ可能なGoogleロゴ第三弾！Googleロゴがスポーツ関連画像に変化第十弾」 url:（http://news.livedoor.com/article/detail/6838499/）\n",
            "\t（距離18.74557113647461)\n",
            "\n",
            "第8位\t文書id:811 「全国21店舗で配信開始！ドスパラが9月より店内放送型情報番組を開始」 url:（http://news.livedoor.com/article/detail/6891506/）\n",
            "\t（距離19.23830223083496)\n",
            "\n",
            "第9位\t文書id:717 「高画質と小型・軽量化を両立！キヤノンのミラーレス一眼「EOS M」を見てきました」 url:（http://news.livedoor.com/article/detail/6782779/）\n",
            "\t（距離19.273967742919922)\n",
            "\n",
            "第10位\t文書id:183 「クラウドより便利で速い！安全！大容量！デュアルHDDで大事なデータを守る必殺技」 url:（http://news.livedoor.com/article/detail/6410038/）\n",
            "\t（距離19.450931549072266)\n",
            "\n",
            "-----5番目の結果ここまで-----\n",
            "\n",
            "\n",
            "6番目の検索クエリ:人気な新商品\n",
            "-----検索結果-----\n",
            "第1位\t文書id:789 「昼までに頼めば当日着！ドスパラ通販の当日配達サービスが強化」 url:（http://news.livedoor.com/article/detail/6813431/）\n",
            "\t（距離29.547225952148438)\n",
            "\n",
            "第2位\t文書id:456 「起業家のための事業継続支援サイト「開業計画NAVI」を立ち上げ！」 url:（http://news.livedoor.com/article/detail/6611530/）\n",
            "\t（距離29.60103988647461)\n",
            "\n",
            "第3位\t文書id:733 「23年ぶりの天体ショー再び！  14日未明は金星食を観測しよう！」 url:（http://news.livedoor.com/article/detail/6851765/）\n",
            "\t（距離30.8898868560791)\n",
            "\n",
            "第4位\t文書id:405 「着実な資産形成をイメージできる！ 日興アセットの「お金計算機」【デジ通】」 url:（http://news.livedoor.com/article/detail/6506494/）\n",
            "\t（距離31.503149032592773)\n",
            "\n",
            "第5位\t文書id:320 「企業の業績と戦略をiPadでチェック！「IR資料・会社資料ダウンロードサービス」【デジ通】」 url:（http://news.livedoor.com/article/detail/6475856/）\n",
            "\t（距離31.602375030517578)\n",
            "\n",
            "第6位\t文書id:234 「投資に必須の知識が無料で学べる！ iPad用アプリ「QUICK投資情報館」がオススメ【デジ通】」 url:（http://news.livedoor.com/article/detail/6460281/）\n",
            "\t（距離32.09329605102539)\n",
            "\n",
            "第7位\t文書id:315 「アインシュタインが「宇宙最強」と命名した「iCompaund」で複利を理解【デジ通】」 url:（http://news.livedoor.com/article/detail/6478741/）\n",
            "\t（距離32.158267974853516)\n",
            "\n",
            "第8位\t文書id:706 「自然災害だからと諦めない！災害救助法適用地区に関する特別サービスを利用しよう」 url:（http://news.livedoor.com/article/detail/6772384/）\n",
            "\t（距離32.159934997558594)\n",
            "\n",
            "第9位\t文書id:742 「Webで認知症チェックができる！ 日本初の認知機能チェックサービス「脳測」正式公開」 url:（http://news.livedoor.com/article/detail/6859253/）\n",
            "\t（距離32.18075942993164)\n",
            "\n",
            "第10位\t文書id:669 「ファーストサーバがまたも謝罪！復元時に他人の情報を漏えいか」 url:（http://news.livedoor.com/article/detail/6712770/）\n",
            "\t（距離32.26244354248047)\n",
            "\n",
            "-----6番目の結果ここまで-----\n",
            "\n",
            "\n",
            "7番目の検索クエリ:デジタル家電　売上\n",
            "-----検索結果-----\n",
            "第1位\t文書id:728 「私立中高5校とコラボ！iPhone＆Androidアプリ制作を学ぶ「Life is Tech!サマーキャンプ」」 url:（http://news.livedoor.com/article/detail/6863633/）\n",
            "\t（距離14.897491455078125)\n",
            "\n",
            "第2位\t文書id:626 「電子ブックリーダー「kobo Touch」の実機が見られる！楽天が大手書店と連携した理由」 url:（http://news.livedoor.com/article/detail/6732196/）\n",
            "\t（距離15.120990753173828)\n",
            "\n",
            "第3位\t文書id:779 「購入してよかったの最高はEOS DIGITALブランド総合研究所「デジタル家電イメージ調査2012」」 url:（http://news.livedoor.com/article/detail/6830890/）\n",
            "\t（距離16.30005645751953)\n",
            "\n",
            "第4位\t文書id:361 「脳科学者 茂木氏も登場！教育とテクノロジーの祭典を開催へ」 url:（http://news.livedoor.com/article/detail/6555615/）\n",
            "\t（距離16.419551849365234)\n",
            "\n",
            "第5位\t文書id:476 「斬新なアート表現と生命力！フィリピンの「今」が見られる「The Hope & The Dream in Filipino - Section III」」 url:（http://news.livedoor.com/article/detail/6607699/）\n",
            "\t（距離17.29733657836914)\n",
            "\n",
            "第6位\t文書id:131 「未来の名プログラマーを育め！中高生150名がアプリ開発にチャレンジ」 url:（http://news.livedoor.com/article/detail/6372178/）\n",
            "\t（距離17.388866424560547)\n",
            "\n",
            "第7位\t文書id:65 「電波監理審議会が答申！プラチナバンド900MHz帯はソフトバンクへ」 url:（http://news.livedoor.com/article/detail/6324538/）\n",
            "\t（距離17.658912658691406)\n",
            "\n",
            "第8位\t文書id:636 「アップルがモバイル市場を牽引！国内モバイルデバイス市場規模が明らかに」 url:（http://news.livedoor.com/article/detail/6727721/）\n",
            "\t（距離18.003551483154297)\n",
            "\n",
            "第9位\t文書id:755 「作品から溢れ出る音を感じよう！相星哲也の写真展「韻」の不思議【NEXT GENERATION】」 url:（http://news.livedoor.com/article/detail/6844725/）\n",
            "\t（距離18.287431716918945)\n",
            "\n",
            "第10位\t文書id:511 「アナログとデジタル、リアリティと幻想が混在する不思議！文本貴士氏の写真展「追憶」を開催へ【NEXT GENERATION】」 url:（http://news.livedoor.com/article/detail/6703212/）\n",
            "\t（距離18.299680709838867)\n",
            "\n",
            "-----7番目の結果ここまで-----\n",
            "\n",
            "\n",
            "8番目の検索クエリ:最新情報\n",
            "-----検索結果-----\n",
            "第1位\t文書id:65 「電波監理審議会が答申！プラチナバンド900MHz帯はソフトバンクへ」 url:（http://news.livedoor.com/article/detail/6324538/）\n",
            "\t（距離51.64710998535156)\n",
            "\n",
            "第2位\t文書id:620 「星空を好きな時間に自宅で見よう！都会の星 Mook（写真集）を限定販売」 url:（http://news.livedoor.com/article/detail/6739559/）\n",
            "\t（距離53.32415771484375)\n",
            "\n",
            "第3位\t文書id:661 「都会の空でも美しい星が私たちを照らしている！写真展「都会の星」を開催へ」 url:（http://news.livedoor.com/article/detail/6709254/）\n",
            "\t（距離54.96873092651367)\n",
            "\n",
            "第4位\t文書id:748 「24時間しょこたん三昧本日0時より「中川翔子が売ってみた！独り24時間テレビ」ニコニコ生放送開始」 url:（http://news.livedoor.com/article/detail/6853380/）\n",
            "\t（距離56.2164306640625)\n",
            "\n",
            "第5位\t文書id:755 「作品から溢れ出る音を感じよう！相星哲也の写真展「韻」の不思議【NEXT GENERATION】」 url:（http://news.livedoor.com/article/detail/6844725/）\n",
            "\t（距離56.23663330078125)\n",
            "\n",
            "第6位\t文書id:361 「脳科学者 茂木氏も登場！教育とテクノロジーの祭典を開催へ」 url:（http://news.livedoor.com/article/detail/6555615/）\n",
            "\t（距離56.84025573730469)\n",
            "\n",
            "第7位\t文書id:511 「アナログとデジタル、リアリティと幻想が混在する不思議！文本貴士氏の写真展「追憶」を開催へ【NEXT GENERATION】」 url:（http://news.livedoor.com/article/detail/6703212/）\n",
            "\t（距離56.89826202392578)\n",
            "\n",
            "第8位\t文書id:452 「こんな目で娘に見つめられたい！娘と父の美しすぎる蜜月 久保和範写真展「恋人」」 url:（http://news.livedoor.com/article/detail/6624672/）\n",
            "\t（距離57.30552673339844)\n",
            "\n",
            "第9位\t文書id:554 「新連載開始！元Google日本法人会長 村上憲郎氏も登場！教育とテクノロジーの祭典【Edu×Tech Fes 2012】」 url:（http://news.livedoor.com/article/detail/6668966/）\n",
            "\t（距離57.58903503417969)\n",
            "\n",
            "第10位\t文書id:728 「私立中高5校とコラボ！iPhone＆Androidアプリ制作を学ぶ「Life is Tech!サマーキャンプ」」 url:（http://news.livedoor.com/article/detail/6863633/）\n",
            "\t（距離57.73123550415039)\n",
            "\n",
            "-----8番目の結果ここまで-----\n",
            "\n",
            "\n",
            "9番目の検索クエリ:アマゾン　人気商品\n",
            "-----検索結果-----\n",
            "第1位\t文書id:773 「今週末は北海道へGo！ニコニコ町会議in 北海道長万部町の詳細決定」 url:（http://news.livedoor.com/article/detail/6828627/）\n",
            "\t（距離15.394216537475586)\n",
            "\n",
            "第2位\t文書id:758 「町会議ラス前開催は福島県！ニコニコ町会議in 福島県三春町の詳細決定」 url:（http://news.livedoor.com/article/detail/6850409/）\n",
            "\t（距離15.927120208740234)\n",
            "\n",
            "第3位\t文書id:808 「いよいよラストの町会議！ニコニコ町会議in 東京都八丈島の詳細決定」 url:（http://news.livedoor.com/article/detail/6893325/）\n",
            "\t（距離16.209651947021484)\n",
            "\n",
            "第4位\t文書id:424 「「写真の町」から生まれた「念力、滲透、輪郭」とは？気鋭の写真家が描く世界にドキッ」 url:（http://news.livedoor.com/article/detail/6653680/）\n",
            "\t（距離16.786659240722656)\n",
            "\n",
            "第5位\t文書id:864 「何だこのおもちゃみたいなの？ Googleロゴが子供のおもちゃみたいになっている理由」 url:（http://news.livedoor.com/article/detail/6906431/）\n",
            "\t（距離17.76268768310547)\n",
            "\n",
            "第6位\t文書id:608 「今年の夏は湘南とお台場へGo！ニコニコ神社、夏の出張はお台場と海の家」 url:（http://news.livedoor.com/article/detail/6746895/）\n",
            "\t（距離17.791471481323242)\n",
            "\n",
            "第7位\t文書id:191 「写真魂のバトンリレー！GRデジタルをバトンに若き写真家たちの駅伝写真展がスタート」 url:（http://news.livedoor.com/article/detail/6404631/）\n",
            "\t（距離17.7969970703125)\n",
            "\n",
            "第8位\t文書id:309 「御苦労さま！そしてありがとう！スペースシャトル・ディスカバリー号、最後の飛行」 url:（http://news.livedoor.com/article/detail/6482631/）\n",
            "\t（距離17.902069091796875)\n",
            "\n",
            "第9位\t文書id:741 「大人気Ultrabookが作れる！親子で体験!! デル パソコン組み立て教室5回目の開催が決まる」 url:（http://news.livedoor.com/article/detail/6854373/）\n",
            "\t（距離17.941728591918945)\n",
            "\n",
            "第10位\t文書id:832 「町会議が震災復興を応援！福島県三春町の町会議レポート」 url:（http://news.livedoor.com/article/detail/6878413/）\n",
            "\t（距離17.95608901977539)\n",
            "\n",
            "-----9番目の結果ここまで-----\n",
            "\n",
            "\n",
            "10番目の検索クエリ:高齢者向け支援アプリ\n",
            "-----検索結果-----\n",
            "第1位\t文書id:96 「毅然とした態度で臨んでいく！グリー田中社長が訴訟の判決にコメント」 url:（http://news.livedoor.com/article/detail/6306744/）\n",
            "\t（距離19.095842361450195)\n",
            "\n",
            "第2位\t文書id:668 「不正コピーの発覚で多額の賠償金！組織内不正コピー防止キャンペーンを実施した理由」 url:（http://news.livedoor.com/article/detail/6718571/）\n",
            "\t（距離19.800212860107422)\n",
            "\n",
            "第3位\t文書id:589 「利用の拡大が続くタブレット端末GfK Japan「012年4月期企業のタブレット型端末導入状況調査」」 url:（http://news.livedoor.com/article/detail/6751343/）\n",
            "\t（距離20.96980094909668)\n",
            "\n",
            "第4位\t文書id:75 「製造業界に激震か！国内唯一のDRAMメーカーであったエルピーダが倒産」 url:（http://news.livedoor.com/article/detail/6320180/）\n",
            "\t（距離22.002357482910156)\n",
            "\n",
            "第5位\t文書id:706 「自然災害だからと諦めない！災害救助法適用地区に関する特別サービスを利用しよう」 url:（http://news.livedoor.com/article/detail/6772384/）\n",
            "\t（距離22.57108497619629)\n",
            "\n",
            "第6位\t文書id:539 「違法ダウンロード刑罰化の次は通信の秘密に踏み込む音楽権利団体」 url:（http://news.livedoor.com/article/detail/6684611/）\n",
            "\t（距離22.916034698486328)\n",
            "\n",
            "第7位\t文書id:456 「起業家のための事業継続支援サイト「開業計画NAVI」を立ち上げ！」 url:（http://news.livedoor.com/article/detail/6611530/）\n",
            "\t（距離23.119144439697266)\n",
            "\n",
            "第8位\t文書id:742 「Webで認知症チェックができる！ 日本初の認知機能チェックサービス「脳測」正式公開」 url:（http://news.livedoor.com/article/detail/6859253/）\n",
            "\t（距離23.283721923828125)\n",
            "\n",
            "第9位\t文書id:569 「衆院を通過しカウントダウン開始！違法ダウンロード刑罰化改正法案」 url:（http://news.livedoor.com/article/detail/6661576/）\n",
            "\t（距離23.703510284423828)\n",
            "\n",
            "第10位\t文書id:15 「深くお詫び申し上げます！探検ドリランドの一部機能を停止」 url:（http://news.livedoor.com/article/detail/6299008/）\n",
            "\t（距離24.00267791748047)\n",
            "\n",
            "-----10番目の結果ここまで-----\n",
            "\n",
            "\n"
          ],
          "name": "stdout"
        }
      ]
    },
    {
      "cell_type": "code",
      "metadata": {
        "id": "fFbkhzFIkkSo",
        "colab_type": "code",
        "colab": {}
      },
      "source": [
        ""
      ],
      "execution_count": 0,
      "outputs": []
    }
  ]
}