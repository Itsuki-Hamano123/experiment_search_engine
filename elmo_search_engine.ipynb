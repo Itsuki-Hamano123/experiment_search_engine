{
  "nbformat": 4,
  "nbformat_minor": 0,
  "metadata": {
    "colab": {
      "name": "elmo_search_engine.ipynb",
      "provenance": [],
      "collapsed_sections": [],
      "toc_visible": true,
      "authorship_tag": "ABX9TyPLr1uEpT/PteqKK/xyQ99g",
      "include_colab_link": true
    },
    "kernelspec": {
      "name": "python3",
      "display_name": "Python 3"
    },
    "accelerator": "GPU"
  },
  "cells": [
    {
      "cell_type": "markdown",
      "metadata": {
        "id": "view-in-github",
        "colab_type": "text"
      },
      "source": [
        "<a href=\"https://colab.research.google.com/github/Itsuki-Hamano123/experiment_search_engine/blob/master/elmo_search_engine.ipynb\" target=\"_parent\"><img src=\"https://colab.research.google.com/assets/colab-badge.svg\" alt=\"Open In Colab\"/></a>"
      ]
    },
    {
      "cell_type": "markdown",
      "metadata": {
        "id": "WDy68yQYF_5o",
        "colab_type": "text"
      },
      "source": [
        "## 形態素解析ツール用意\n",
        "https://qiita.com/Fulltea/items/90f6ebe6dcceaf64eaef"
      ]
    },
    {
      "cell_type": "code",
      "metadata": {
        "id": "QfxPcGjOGePV",
        "colab_type": "code",
        "colab": {}
      },
      "source": [
        "# mecabのインストール\n",
        "!apt install aptitude swig\n",
        "!aptitude install mecab libmecab-dev mecab-ipadic-utf8 git make curl xz-utils file -y\n",
        "!pip install mecab-python3"
      ],
      "execution_count": 0,
      "outputs": []
    },
    {
      "cell_type": "code",
      "metadata": {
        "id": "7Bk3waEbLIhj",
        "colab_type": "code",
        "colab": {}
      },
      "source": [
        "# Neologd辞書のインストール\n",
        "!git clone --depth 1 https://github.com/neologd/mecab-ipadic-neologd.git\n",
        "!echo yes | mecab-ipadic-neologd/bin/install-mecab-ipadic-neologd -n -a"
      ],
      "execution_count": 0,
      "outputs": []
    },
    {
      "cell_type": "code",
      "metadata": {
        "id": "B1tdW-1BGkNG",
        "colab_type": "code",
        "colab": {}
      },
      "source": [
        "import MeCab\n",
        "import subprocess"
      ],
      "execution_count": 0,
      "outputs": []
    },
    {
      "cell_type": "code",
      "metadata": {
        "id": "oqc3laRYJqhT",
        "colab_type": "code",
        "colab": {
          "base_uri": "https://localhost:8080/",
          "height": 35
        },
        "outputId": "34f07e5e-22fb-4d1d-f0a8-fd1ded8a6fa5"
      },
      "source": [
        "!ls"
      ],
      "execution_count": 4,
      "outputs": [
        {
          "output_type": "stream",
          "text": [
            "drive  ELMoForManyLangs  mecab-ipadic-neologd  sample_data\n"
          ],
          "name": "stdout"
        }
      ]
    },
    {
      "cell_type": "code",
      "metadata": {
        "id": "5zUUkLR-Gmgd",
        "colab_type": "code",
        "colab": {
          "base_uri": "https://localhost:8080/",
          "height": 721
        },
        "outputId": "cf0abc0a-0a34-481c-8f24-fa3dae454d4a"
      },
      "source": [
        "cmd = 'echo `mecab-config --dicdir`\"/mecab-ipadic-neologd\"'\n",
        "neologd_path = (subprocess.Popen(cmd, stdout=subprocess.PIPE,\n",
        "                           shell=True).communicate()[0]).decode('utf-8')\n",
        "# Neologd辞書の設定\n",
        "m_neologd = MeCab.Tagger(\"-d {0}\".format(neologd_path))\n",
        "\n",
        "m_neologd_sample_txt = \"8月3日に放送された「中居正広の金曜日のスマイルたちへ」(TBS系)で、1日たった5分でぽっこりおなかを解消するというダイエット方法を紹介。キンタロー。のダイエットにも密着。\"\n",
        "\n",
        "print(\"Mecab ipadic NEologd:\\n\",m_neologd.parse(m_neologd_sample_txt))"
      ],
      "execution_count": 39,
      "outputs": [
        {
          "output_type": "stream",
          "text": [
            "ERROR! Session/line number was not unique in database. History logging moved to new session 63\n",
            "Mecab ipadic NEologd:\n",
            " 8月3日\t名詞,固有名詞,一般,*,*,*,8月3日,ハチガツミッカ,ハチガツミッカ\n",
            "に\t助詞,格助詞,一般,*,*,*,に,ニ,ニ\n",
            "放送\t名詞,サ変接続,*,*,*,*,放送,ホウソウ,ホーソー\n",
            "さ\t動詞,自立,*,*,サ変・スル,未然レル接続,する,サ,サ\n",
            "れ\t動詞,接尾,*,*,一段,連用形,れる,レ,レ\n",
            "た\t助動詞,*,*,*,特殊・タ,基本形,た,タ,タ\n",
            "「\t記号,括弧開,*,*,*,*,「,「,「\n",
            "中居正広の金曜日のスマイルたちへ\t名詞,固有名詞,一般,*,*,*,中居正広の金曜日のスマイルたちへ,ナカイマサヒロノキンヨウビノスマイルタチヘ,ナカイマサヒロノキンヨービノスマイルタチヘ\n",
            "」(\t記号,一般,*,*,*,*,*\n",
            "TBS\t名詞,固有名詞,一般,*,*,*,TBS,ティービーエス,ティービーエス\n",
            "系\t名詞,接尾,一般,*,*,*,系,ケイ,ケイ\n",
            ")\t記号,一般,*,*,*,*,*\n",
            "で\t助動詞,*,*,*,特殊・ダ,連用形,だ,デ,デ\n",
            "、\t記号,読点,*,*,*,*,、,、,、\n",
            "1日\t名詞,固有名詞,一般,*,*,*,1日,ツイタチ,ツイタチ\n",
            "たった\t副詞,助詞類接続,*,*,*,*,たった,タッタ,タッタ\n",
            "5分\t名詞,固有名詞,一般,*,*,*,5分,ゴフン,ゴフン\n",
            "で\t助詞,格助詞,一般,*,*,*,で,デ,デ\n",
            "ぽっこりおなか\t名詞,固有名詞,一般,*,*,*,ぽっこりおなか,ポッコリオナカ,ポッコリオナカ\n",
            "を\t助詞,格助詞,一般,*,*,*,を,ヲ,ヲ\n",
            "解消\t名詞,サ変接続,*,*,*,*,解消,カイショウ,カイショー\n",
            "する\t動詞,自立,*,*,サ変・スル,基本形,する,スル,スル\n",
            "という\t助詞,格助詞,連語,*,*,*,という,トイウ,トユウ\n",
            "ダイエット方法\t名詞,固有名詞,一般,*,*,*,ダイエット方法,ダイエットホウホウ,ダイエットホウホー\n",
            "を\t助詞,格助詞,一般,*,*,*,を,ヲ,ヲ\n",
            "紹介\t名詞,サ変接続,*,*,*,*,紹介,ショウカイ,ショーカイ\n",
            "。\t記号,句点,*,*,*,*,。,。,。\n",
            "キンタロー。\t名詞,固有名詞,一般,*,*,*,キンタロー。,キンタロー,キンタロー\n",
            "の\t助詞,連体化,*,*,*,*,の,ノ,ノ\n",
            "ダイエット\t名詞,サ変接続,*,*,*,*,ダイエット,ダイエット,ダイエット\n",
            "に\t助詞,格助詞,一般,*,*,*,に,ニ,ニ\n",
            "も\t助詞,係助詞,*,*,*,*,も,モ,モ\n",
            "密着\t名詞,サ変接続,*,*,*,*,密着,ミッチャク,ミッチャク\n",
            "。\t記号,句点,*,*,*,*,。,。,。\n",
            "EOS\n",
            "\n"
          ],
          "name": "stdout"
        }
      ]
    },
    {
      "cell_type": "markdown",
      "metadata": {
        "id": "qthez6FSMZzl",
        "colab_type": "text"
      },
      "source": [
        "## ELMoモデルの準備\n",
        "ELMoForManyLangsを使う"
      ]
    },
    {
      "cell_type": "code",
      "metadata": {
        "id": "55OSn-B2yDxw",
        "colab_type": "code",
        "colab": {}
      },
      "source": [
        "# ELMoForManyLangsに必要なライブラリ\n",
        "!pip install allennlp"
      ],
      "execution_count": 0,
      "outputs": []
    },
    {
      "cell_type": "markdown",
      "metadata": {
        "id": "pc6iySYPzDST",
        "colab_type": "text"
      },
      "source": [
        "### ELMoForManyLangsを利用\n",
        "https://github.com/HIT-SCIR/ELMoForManyLangs#use-elmoformanylangs-programmatically"
      ]
    },
    {
      "cell_type": "code",
      "metadata": {
        "id": "ZwSUDZyVzph-",
        "colab_type": "code",
        "colab": {
          "base_uri": "https://localhost:8080/",
          "height": 55
        },
        "outputId": "5edd6233-589b-456d-d6d4-c4ba61c191ad"
      },
      "source": [
        "from google.colab import drive\n",
        "drive.mount('/content/drive')"
      ],
      "execution_count": 9,
      "outputs": [
        {
          "output_type": "stream",
          "text": [
            "Drive already mounted at /content/drive; to attempt to forcibly remount, call drive.mount(\"/content/drive\", force_remount=True).\n"
          ],
          "name": "stdout"
        }
      ]
    },
    {
      "cell_type": "code",
      "metadata": {
        "id": "FdmRWJa2zrOH",
        "colab_type": "code",
        "colab": {
          "base_uri": "https://localhost:8080/",
          "height": 35
        },
        "outputId": "851ac6a2-032e-4238-8922-7226955683e1"
      },
      "source": [
        "cd drive/My Drive/機械学習練習/全文検索エンジン作成"
      ],
      "execution_count": 10,
      "outputs": [
        {
          "output_type": "stream",
          "text": [
            "/content/drive/My Drive/機械学習練習/全文検索エンジン作成\n"
          ],
          "name": "stdout"
        }
      ]
    },
    {
      "cell_type": "code",
      "metadata": {
        "id": "9N2xlKx50Bwa",
        "colab_type": "code",
        "colab": {
          "base_uri": "https://localhost:8080/",
          "height": 71
        },
        "outputId": "f4b86a7b-36bb-4316-ade8-f12e87ee995f"
      },
      "source": [
        "!ls"
      ],
      "execution_count": 11,
      "outputs": [
        {
          "output_type": "stream",
          "text": [
            "build\t elmoformanylangs\t    embedding\t\t  setup.py\n",
            "configs  elmoformanylangs.egg-info  mecab-ipadic-neologd\n",
            "dist\t elmo_search_engine.ipynb   README.md\n"
          ],
          "name": "stdout"
        }
      ]
    },
    {
      "cell_type": "code",
      "metadata": {
        "id": "v1jpnHe4yJQU",
        "colab_type": "code",
        "colab": {}
      },
      "source": [
        "# ELMoForManyLangsのセットアップ\n",
        "!python setup.py install"
      ],
      "execution_count": 0,
      "outputs": []
    },
    {
      "cell_type": "code",
      "metadata": {
        "id": "4F3xyImkVgfC",
        "colab_type": "code",
        "colab": {}
      },
      "source": [
        "import datetime\n",
        "from pprint import pprint\n",
        "import pickle\n",
        "import time\n",
        "from elmoformanylangs import Embedder"
      ],
      "execution_count": 0,
      "outputs": []
    },
    {
      "cell_type": "code",
      "metadata": {
        "id": "SmGbrndUaptq",
        "colab_type": "code",
        "colab": {}
      },
      "source": [
        "def time_watch(func):\n",
        "    \"\"\"時間計測用デコレータ関数\n",
        "    \n",
        "    Parameters\n",
        "    -----\n",
        "    func : function\n",
        "        実行したい関数\n",
        "\n",
        "    \"\"\"\n",
        "    import functools\n",
        "    import datetime\n",
        "    @functools.wraps(func)\n",
        "    def wrapper(*args, **kwargs):\n",
        "        start = datetime.datetime.today()\n",
        "        result = func(*args, **kwargs)\n",
        "        end = datetime.datetime.today()\n",
        "        print(\"実行時間:{time}\".format(time=end - start))\n",
        "        return result\n",
        "    return wrapper"
      ],
      "execution_count": 0,
      "outputs": []
    },
    {
      "cell_type": "markdown",
      "metadata": {
        "id": "7XNO5Bro3xyo",
        "colab_type": "text"
      },
      "source": [
        "### 日本語の事前学習済み重みのダウンロード\n",
        "embeddingディレクトに格納した<br>\n",
        "https://qiita.com/mkt3/items/9577b63900109ff91665\n"
      ]
    },
    {
      "cell_type": "code",
      "metadata": {
        "id": "UyGx9QcQ0Mtx",
        "colab_type": "code",
        "colab": {}
      },
      "source": [
        "# モデルのディレクトリ\n",
        "MODEL_DIR = './embedding/word_unit_embedding_model/'"
      ],
      "execution_count": 0,
      "outputs": []
    },
    {
      "cell_type": "code",
      "metadata": {
        "id": "o8H0PcnS43bB",
        "colab_type": "code",
        "colab": {
          "base_uri": "https://localhost:8080/",
          "height": 575
        },
        "outputId": "39978c53-af3e-4794-a5ac-556e0a9cce9a"
      },
      "source": [
        "elmo_model = Embedder(MODEL_DIR)"
      ],
      "execution_count": 16,
      "outputs": [
        {
          "output_type": "stream",
          "text": [
            "2020-03-29 07:33:28,934 INFO: word embedding size: 387179\n",
            "2020-03-29 07:33:42,783 INFO: Model(\n",
            "  (token_embedder): ConvTokenEmbedder(\n",
            "    (word_emb_layer): EmbeddingLayer(\n",
            "      (embedding): Embedding(387179, 100, padding_idx=3)\n",
            "    )\n",
            "    (projection): Linear(in_features=100, out_features=512, bias=True)\n",
            "  )\n",
            "  (encoder): ElmobiLm(\n",
            "    (forward_layer_0): LstmCellWithProjection(\n",
            "      (input_linearity): Linear(in_features=512, out_features=16384, bias=False)\n",
            "      (state_linearity): Linear(in_features=512, out_features=16384, bias=True)\n",
            "      (state_projection): Linear(in_features=4096, out_features=512, bias=False)\n",
            "    )\n",
            "    (backward_layer_0): LstmCellWithProjection(\n",
            "      (input_linearity): Linear(in_features=512, out_features=16384, bias=False)\n",
            "      (state_linearity): Linear(in_features=512, out_features=16384, bias=True)\n",
            "      (state_projection): Linear(in_features=4096, out_features=512, bias=False)\n",
            "    )\n",
            "    (forward_layer_1): LstmCellWithProjection(\n",
            "      (input_linearity): Linear(in_features=512, out_features=16384, bias=False)\n",
            "      (state_linearity): Linear(in_features=512, out_features=16384, bias=True)\n",
            "      (state_projection): Linear(in_features=4096, out_features=512, bias=False)\n",
            "    )\n",
            "    (backward_layer_1): LstmCellWithProjection(\n",
            "      (input_linearity): Linear(in_features=512, out_features=16384, bias=False)\n",
            "      (state_linearity): Linear(in_features=512, out_features=16384, bias=True)\n",
            "      (state_projection): Linear(in_features=4096, out_features=512, bias=False)\n",
            "    )\n",
            "  )\n",
            ")\n"
          ],
          "name": "stderr"
        }
      ]
    },
    {
      "cell_type": "markdown",
      "metadata": {
        "id": "fO0gEqVCbS_k",
        "colab_type": "text"
      },
      "source": [
        "### 入力文書の前処理を定義"
      ]
    },
    {
      "cell_type": "code",
      "metadata": {
        "id": "Hlt27ZGpOsfI",
        "colab_type": "code",
        "colab": {}
      },
      "source": [
        "def is_stop_word(pos):\n",
        "    \"\"\"\n",
        "    品詞からストップワードか判断\n",
        "\n",
        "    Parameters\n",
        "    -----\n",
        "    pos : string\n",
        "        品詞\n",
        "\n",
        "    Returns\n",
        "    -----\n",
        "    stop_word_flag : boolean\n",
        "    \"\"\"\n",
        "    stop_word_list = [\"助詞\", \"助動詞\", \"記号\", \"BOS/EOS\"]\n",
        "    stop_word_flag = True\n",
        "    if pos in stop_word_list:\n",
        "        stop_word_flag = False\n",
        "    return stop_word_flag\n",
        "\n",
        "def split_text(text):\n",
        "    \"\"\"\n",
        "    文章をわかち書きする\n",
        "\n",
        "    Parameters\n",
        "    -----\n",
        "    text : string\n",
        "\n",
        "    Returns\n",
        "    -----\n",
        "    result : list of string\n",
        "    \"\"\"\n",
        "    result = []\n",
        "    node = m_neologd.parseToNode(text)\n",
        "    while node:\n",
        "        if is_stop_word(node.feature.split(\",\")[0]):\n",
        "            result.append(node.surface)\n",
        "        node = node.next\n",
        "    return result"
      ],
      "execution_count": 0,
      "outputs": []
    },
    {
      "cell_type": "code",
      "metadata": {
        "id": "qVkV9YQ_b3-d",
        "colab_type": "code",
        "colab": {}
      },
      "source": [
        "def preprocessing_documents(documents):\n",
        "    \"\"\"\n",
        "    文書をELMo用に前処理\n",
        "\n",
        "    Parameters\n",
        "    -----\n",
        "    documents : list of string\n",
        "\n",
        "    Returns\n",
        "    -----\n",
        "    results : list of list of string\n",
        "    \"\"\"\n",
        "    results = []\n",
        "    # バグ対処\n",
        "    m_neologd.parse('')\n",
        "    for document in documents:\n",
        "        result = split_text(document)\n",
        "        results.append(result)\n",
        "    return results"
      ],
      "execution_count": 0,
      "outputs": []
    },
    {
      "cell_type": "code",
      "metadata": {
        "id": "1360bG2u6vFP",
        "colab_type": "code",
        "colab": {}
      },
      "source": [
        "elmo_sample_docments = [\"私は犬\", \"犬は私\", \"今日の天気は雪のち晴れです\"]"
      ],
      "execution_count": 0,
      "outputs": []
    },
    {
      "cell_type": "code",
      "metadata": {
        "id": "E907gv9ydcpT",
        "colab_type": "code",
        "colab": {
          "base_uri": "https://localhost:8080/",
          "height": 35
        },
        "outputId": "f50d222e-dbfa-487d-ba8f-201f614de4c3"
      },
      "source": [
        "proc_documents = preprocessing_documents(elmo_sample_docments)\n",
        "proc_documents"
      ],
      "execution_count": 73,
      "outputs": [
        {
          "output_type": "execute_result",
          "data": {
            "text/plain": [
              "[['私', '犬'], ['犬', '私'], ['今日の天気', '雪', 'のち', '晴れ']]"
            ]
          },
          "metadata": {
            "tags": []
          },
          "execution_count": 73
        }
      ]
    },
    {
      "cell_type": "markdown",
      "metadata": {
        "id": "QI6HeGj7dqmq",
        "colab_type": "text"
      },
      "source": [
        "### ELMoで単語の分散表現を予測"
      ]
    },
    {
      "cell_type": "code",
      "metadata": {
        "id": "G5B0m5XTa3gS",
        "colab_type": "code",
        "colab": {}
      },
      "source": [
        "@time_watch\n",
        "def predict_word_vec(model, proc_documents):\n",
        "    \"\"\"\n",
        "    モデルを使い単語の分散表現を予測\n",
        "\n",
        "    Parmeters\n",
        "    -----\n",
        "    model : model_obj\n",
        "    proc_documents : proc_documents_obj\n",
        "    \n",
        "    Returns\n",
        "    -----\n",
        "    pred_vector : list of nparray\n",
        "    \"\"\"\n",
        "    pred_vector = model.sents2elmo(proc_documents)\n",
        "    return pred_vector"
      ],
      "execution_count": 0,
      "outputs": []
    },
    {
      "cell_type": "code",
      "metadata": {
        "id": "2Ty2wsybelNx",
        "colab_type": "code",
        "colab": {
          "base_uri": "https://localhost:8080/",
          "height": 53
        },
        "outputId": "32de5060-49cb-4dd3-892c-34779e929fdd"
      },
      "source": [
        "documnets_vec = predict_word_vec(elmo_model, proc_documents)"
      ],
      "execution_count": 75,
      "outputs": [
        {
          "output_type": "stream",
          "text": [
            "2020-03-29 08:48:47,695 INFO: 1 batches, avg len: 4.7\n"
          ],
          "name": "stderr"
        },
        {
          "output_type": "stream",
          "text": [
            "実行時間:0:00:00.359381\n"
          ],
          "name": "stdout"
        }
      ]
    },
    {
      "cell_type": "code",
      "metadata": {
        "id": "xVaOp2RkeqW6",
        "colab_type": "code",
        "colab": {
          "base_uri": "https://localhost:8080/",
          "height": 305
        },
        "outputId": "d38c4e4a-fd5e-419c-c87f-b37b939ad68c"
      },
      "source": [
        "documnets_vec"
      ],
      "execution_count": 76,
      "outputs": [
        {
          "output_type": "execute_result",
          "data": {
            "text/plain": [
              "[array([[-0.3822073 , -0.39298368, -0.19943719, ..., -0.0947518 ,\n",
              "          0.38196918, -0.06013573],\n",
              "        [-0.99855757, -0.7653184 , -0.67188597, ...,  0.38484803,\n",
              "         -0.14899619, -0.22106065]], dtype=float32),\n",
              " array([[-0.85666806, -0.24317439, -0.31542605, ..., -0.16575427,\n",
              "          0.06315442, -0.31759426],\n",
              "        [-0.29320082, -0.47321966, -0.83421296, ..., -0.40913573,\n",
              "          0.21732388,  0.24414034]], dtype=float32),\n",
              " array([[ 0.10117573, -0.23624979,  0.00397639, ..., -0.2328723 ,\n",
              "          0.17794509,  0.0607481 ],\n",
              "        [-0.90098685, -0.80577874, -0.20233335, ...,  0.13288653,\n",
              "          0.4778336 , -0.45927873],\n",
              "        [ 1.2292985 ,  0.98217875, -0.351058  , ...,  0.05930225,\n",
              "          0.5154347 , -0.4115046 ],\n",
              "        [-0.65625954,  1.4385008 , -0.17021495, ..., -0.32545912,\n",
              "          0.10576967,  0.18586273]], dtype=float32)]"
            ]
          },
          "metadata": {
            "tags": []
          },
          "execution_count": 76
        }
      ]
    },
    {
      "cell_type": "markdown",
      "metadata": {
        "id": "CaWcVH_ae3mF",
        "colab_type": "text"
      },
      "source": [
        "#### 実行結果\n",
        "「私は犬」と「犬は私」の２つの文章において、それぞれの文章で「私」「犬」は文章内での順番が考慮され、別々の分散表現が得られていることが分かる。"
      ]
    },
    {
      "cell_type": "code",
      "metadata": {
        "id": "cfHwljbaeuDr",
        "colab_type": "code",
        "colab": {}
      },
      "source": [
        ""
      ],
      "execution_count": 0,
      "outputs": []
    }
  ]
}