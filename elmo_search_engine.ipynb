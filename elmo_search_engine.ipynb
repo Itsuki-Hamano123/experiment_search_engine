{
  "nbformat": 4,
  "nbformat_minor": 0,
  "metadata": {
    "colab": {
      "name": "elmo_search_engine.ipynb",
      "provenance": [],
      "collapsed_sections": [],
      "toc_visible": true,
      "authorship_tag": "ABX9TyPKnZ//+wCfJ0vYz8MZIgPf",
      "include_colab_link": true
    },
    "kernelspec": {
      "name": "python3",
      "display_name": "Python 3"
    },
    "accelerator": "GPU"
  },
  "cells": [
    {
      "cell_type": "markdown",
      "metadata": {
        "id": "view-in-github",
        "colab_type": "text"
      },
      "source": [
        "<a href=\"https://colab.research.google.com/github/Itsuki-Hamano123/experiment_search_engine/blob/master/elmo_search_engine.ipynb\" target=\"_parent\"><img src=\"https://colab.research.google.com/assets/colab-badge.svg\" alt=\"Open In Colab\"/></a>"
      ]
    },
    {
      "cell_type": "code",
      "metadata": {
        "id": "X4r5UwhmiKwo",
        "colab_type": "code",
        "colab": {}
      },
      "source": [
        "import datetime\n",
        "import pathlib\n",
        "import os\n",
        "from pprint import pprint\n",
        "import pickle\n",
        "import time\n",
        "import numpy as np\n",
        "import pandas as pd"
      ],
      "execution_count": 0,
      "outputs": []
    },
    {
      "cell_type": "markdown",
      "metadata": {
        "id": "WDy68yQYF_5o",
        "colab_type": "text"
      },
      "source": [
        "## 形態素解析ツール用意\n",
        "https://qiita.com/Fulltea/items/90f6ebe6dcceaf64eaef"
      ]
    },
    {
      "cell_type": "code",
      "metadata": {
        "id": "QfxPcGjOGePV",
        "colab_type": "code",
        "outputId": "b4d78e6a-fd65-483e-9ff9-deca9bd7fde8",
        "colab": {
          "base_uri": "https://localhost:8080/",
          "height": 503
        }
      },
      "source": [
        "# mecabのインストール\n",
        "!apt install aptitude swig\n",
        "!aptitude install mecab libmecab-dev mecab-ipadic-utf8 git make curl xz-utils file -y\n",
        "!pip install mecab-python3"
      ],
      "execution_count": 2,
      "outputs": [
        {
          "output_type": "stream",
          "text": [
            "Reading package lists... Done\n",
            "Building dependency tree       \n",
            "Reading state information... Done\n",
            "aptitude is already the newest version (0.8.10-6ubuntu1).\n",
            "swig is already the newest version (3.0.12-1).\n",
            "0 upgraded, 0 newly installed, 0 to remove and 25 not upgraded.\n",
            "mecab is already installed at the requested version (0.996-5)\n",
            "libmecab-dev is already installed at the requested version (0.996-5)\n",
            "mecab-ipadic-utf8 is already installed at the requested version (2.7.0-20070801+main-1)\n",
            "git is already installed at the requested version (1:2.17.1-1ubuntu0.5)\n",
            "make is already installed at the requested version (4.1-9.1ubuntu1)\n",
            "curl is already installed at the requested version (7.58.0-2ubuntu3.8)\n",
            "xz-utils is already installed at the requested version (5.2.2-1.3)\n",
            "file is already installed at the requested version (1:5.32-2ubuntu0.3)\n",
            "mecab is already installed at the requested version (0.996-5)\n",
            "libmecab-dev is already installed at the requested version (0.996-5)\n",
            "mecab-ipadic-utf8 is already installed at the requested version (2.7.0-20070801+main-1)\n",
            "git is already installed at the requested version (1:2.17.1-1ubuntu0.5)\n",
            "make is already installed at the requested version (4.1-9.1ubuntu1)\n",
            "curl is already installed at the requested version (7.58.0-2ubuntu3.8)\n",
            "xz-utils is already installed at the requested version (5.2.2-1.3)\n",
            "file is already installed at the requested version (1:5.32-2ubuntu0.3)\n",
            "No packages will be installed, upgraded, or removed.\n",
            "0 packages upgraded, 0 newly installed, 0 to remove and 25 not upgraded.\n",
            "Need to get 0 B of archives. After unpacking 0 B will be used.\n",
            "                            \n",
            "Requirement already satisfied: mecab-python3 in /usr/local/lib/python3.6/dist-packages (0.996.5)\n"
          ],
          "name": "stdout"
        }
      ]
    },
    {
      "cell_type": "code",
      "metadata": {
        "id": "7Bk3waEbLIhj",
        "colab_type": "code",
        "outputId": "baa94941-8be2-4b55-df75-a86f2c202c94",
        "colab": {
          "base_uri": "https://localhost:8080/",
          "height": 1000
        }
      },
      "source": [
        "# Neologd辞書のインストール\n",
        "!git clone --depth 1 https://github.com/neologd/mecab-ipadic-neologd.git\n",
        "!echo yes | mecab-ipadic-neologd/bin/install-mecab-ipadic-neologd -n -a"
      ],
      "execution_count": 3,
      "outputs": [
        {
          "output_type": "stream",
          "text": [
            "fatal: destination path 'mecab-ipadic-neologd' already exists and is not an empty directory.\n",
            "[install-mecab-ipadic-NEologd] : Start..\n",
            "[install-mecab-ipadic-NEologd] : Check the existance of libraries\n",
            "[install-mecab-ipadic-NEologd] :     find => ok\n",
            "[install-mecab-ipadic-NEologd] :     sort => ok\n",
            "[install-mecab-ipadic-NEologd] :     head => ok\n",
            "[install-mecab-ipadic-NEologd] :     cut => ok\n",
            "[install-mecab-ipadic-NEologd] :     egrep => ok\n",
            "[install-mecab-ipadic-NEologd] :     mecab => ok\n",
            "[install-mecab-ipadic-NEologd] :     mecab-config => ok\n",
            "[install-mecab-ipadic-NEologd] :     make => ok\n",
            "[install-mecab-ipadic-NEologd] :     curl => ok\n",
            "[install-mecab-ipadic-NEologd] :     sed => ok\n",
            "[install-mecab-ipadic-NEologd] :     cat => ok\n",
            "[install-mecab-ipadic-NEologd] :     diff => ok\n",
            "[install-mecab-ipadic-NEologd] :     tar => ok\n",
            "[install-mecab-ipadic-NEologd] :     unxz => ok\n",
            "[install-mecab-ipadic-NEologd] :     xargs => ok\n",
            "[install-mecab-ipadic-NEologd] :     grep => ok\n",
            "[install-mecab-ipadic-NEologd] :     iconv => ok\n",
            "[install-mecab-ipadic-NEologd] :     patch => ok\n",
            "[install-mecab-ipadic-NEologd] :     which => ok\n",
            "[install-mecab-ipadic-NEologd] :     file => ok\n",
            "[install-mecab-ipadic-NEologd] :     openssl => ok\n",
            "[install-mecab-ipadic-NEologd] :     awk => ok\n",
            "\n",
            "[install-mecab-ipadic-NEologd] : mecab-ipadic-NEologd is already up-to-date\n",
            "\n",
            "[install-mecab-ipadic-NEologd] : mecab-ipadic-NEologd will be install to /usr/lib/x86_64-linux-gnu/mecab/dic/mecab-ipadic-neologd\n",
            "\n",
            "[install-mecab-ipadic-NEologd] : Make mecab-ipadic-NEologd\n",
            "[make-mecab-ipadic-NEologd] : Start..\n",
            "[make-mecab-ipadic-NEologd] : Check local seed directory\n",
            "[make-mecab-ipadic-NEologd] : Check local seed file\n",
            "[make-mecab-ipadic-NEologd] : Check local build directory\n",
            "[make-mecab-ipadic-NEologd] : Download original mecab-ipadic file\n",
            "[make-mecab-ipadic-NEologd] : Original mecab-ipadic file is already there.\n",
            "[make-mecab-ipadic-NEologd] : Decompress original mecab-ipadic file\n",
            "[make-mecab-ipadic-NEologd] : Delete old mecab-ipadic-2.7.0-20070801-neologd-20200315 directory\n",
            "mecab-ipadic-2.7.0-20070801/\n",
            "mecab-ipadic-2.7.0-20070801/README\n",
            "mecab-ipadic-2.7.0-20070801/AUTHORS\n",
            "mecab-ipadic-2.7.0-20070801/COPYING\n",
            "mecab-ipadic-2.7.0-20070801/ChangeLog\n",
            "mecab-ipadic-2.7.0-20070801/INSTALL\n",
            "mecab-ipadic-2.7.0-20070801/Makefile.am\n",
            "mecab-ipadic-2.7.0-20070801/Makefile.in\n",
            "mecab-ipadic-2.7.0-20070801/NEWS\n",
            "mecab-ipadic-2.7.0-20070801/aclocal.m4\n",
            "mecab-ipadic-2.7.0-20070801/config.guess\n",
            "mecab-ipadic-2.7.0-20070801/config.sub\n",
            "mecab-ipadic-2.7.0-20070801/configure\n",
            "mecab-ipadic-2.7.0-20070801/configure.in\n",
            "mecab-ipadic-2.7.0-20070801/install-sh\n",
            "mecab-ipadic-2.7.0-20070801/missing\n",
            "mecab-ipadic-2.7.0-20070801/mkinstalldirs\n",
            "mecab-ipadic-2.7.0-20070801/Adj.csv\n",
            "mecab-ipadic-2.7.0-20070801/Adnominal.csv\n",
            "mecab-ipadic-2.7.0-20070801/Adverb.csv\n",
            "mecab-ipadic-2.7.0-20070801/Auxil.csv\n",
            "mecab-ipadic-2.7.0-20070801/Conjunction.csv\n",
            "mecab-ipadic-2.7.0-20070801/Filler.csv\n",
            "mecab-ipadic-2.7.0-20070801/Interjection.csv\n",
            "mecab-ipadic-2.7.0-20070801/Noun.adjv.csv\n",
            "mecab-ipadic-2.7.0-20070801/Noun.adverbal.csv\n",
            "mecab-ipadic-2.7.0-20070801/Noun.csv\n",
            "mecab-ipadic-2.7.0-20070801/Noun.demonst.csv\n",
            "mecab-ipadic-2.7.0-20070801/Noun.nai.csv\n",
            "mecab-ipadic-2.7.0-20070801/Noun.name.csv\n",
            "mecab-ipadic-2.7.0-20070801/Noun.number.csv\n",
            "mecab-ipadic-2.7.0-20070801/Noun.org.csv\n",
            "mecab-ipadic-2.7.0-20070801/Noun.others.csv\n",
            "mecab-ipadic-2.7.0-20070801/Noun.place.csv\n",
            "mecab-ipadic-2.7.0-20070801/Noun.proper.csv\n",
            "mecab-ipadic-2.7.0-20070801/Noun.verbal.csv\n",
            "mecab-ipadic-2.7.0-20070801/Others.csv\n",
            "mecab-ipadic-2.7.0-20070801/Postp-col.csv\n",
            "mecab-ipadic-2.7.0-20070801/Postp.csv\n",
            "mecab-ipadic-2.7.0-20070801/Prefix.csv\n",
            "mecab-ipadic-2.7.0-20070801/Suffix.csv\n",
            "mecab-ipadic-2.7.0-20070801/Symbol.csv\n",
            "mecab-ipadic-2.7.0-20070801/Verb.csv\n",
            "mecab-ipadic-2.7.0-20070801/char.def\n",
            "mecab-ipadic-2.7.0-20070801/feature.def\n",
            "mecab-ipadic-2.7.0-20070801/left-id.def\n",
            "mecab-ipadic-2.7.0-20070801/matrix.def\n",
            "mecab-ipadic-2.7.0-20070801/pos-id.def\n",
            "mecab-ipadic-2.7.0-20070801/rewrite.def\n",
            "mecab-ipadic-2.7.0-20070801/right-id.def\n",
            "mecab-ipadic-2.7.0-20070801/unk.def\n",
            "mecab-ipadic-2.7.0-20070801/dicrc\n",
            "mecab-ipadic-2.7.0-20070801/RESULT\n",
            "[make-mecab-ipadic-NEologd] : Configure custom system dictionary on /content/mecab-ipadic-neologd/libexec/../build/mecab-ipadic-2.7.0-20070801-neologd-20200315\n",
            "checking for a BSD-compatible install... /usr/bin/install -c\n",
            "checking whether build environment is sane... yes\n",
            "checking whether make sets $(MAKE)... yes\n",
            "checking for working aclocal-1.4... missing\n",
            "checking for working autoconf... missing\n",
            "checking for working automake-1.4... missing\n",
            "checking for working autoheader... missing\n",
            "checking for working makeinfo... missing\n",
            "checking for a BSD-compatible install... /usr/bin/install -c\n",
            "checking for mecab-config... /usr/bin/mecab-config\n",
            "configure: creating ./config.status\n",
            "config.status: creating Makefile\n",
            "[make-mecab-ipadic-NEologd] : Encode the character encoding of system dictionary resources from EUC_JP to UTF-8\n",
            "./../../libexec/iconv_euc_to_utf8.sh ./Noun.adverbal.csv \n",
            "./../../libexec/iconv_euc_to_utf8.sh ./Adj.csv \n",
            "./../../libexec/iconv_euc_to_utf8.sh ./Interjection.csv \n",
            "./../../libexec/iconv_euc_to_utf8.sh ./Symbol.csv \n",
            "./../../libexec/iconv_euc_to_utf8.sh ./Suffix.csv \n",
            "./../../libexec/iconv_euc_to_utf8.sh ./Noun.proper.csv \n",
            "./../../libexec/iconv_euc_to_utf8.sh ./Prefix.csv \n",
            "./../../libexec/iconv_euc_to_utf8.sh ./Auxil.csv \n",
            "./../../libexec/iconv_euc_to_utf8.sh ./Conjunction.csv \n",
            "./../../libexec/iconv_euc_to_utf8.sh ./Noun.demonst.csv \n",
            "./../../libexec/iconv_euc_to_utf8.sh ./Postp.csv \n",
            "./../../libexec/iconv_euc_to_utf8.sh ./Others.csv \n",
            "./../../libexec/iconv_euc_to_utf8.sh ./Noun.org.csv \n",
            "./../../libexec/iconv_euc_to_utf8.sh ./Adnominal.csv \n",
            "./../../libexec/iconv_euc_to_utf8.sh ./Noun.adjv.csv \n",
            "./../../libexec/iconv_euc_to_utf8.sh ./Noun.nai.csv \n",
            "./../../libexec/iconv_euc_to_utf8.sh ./Noun.csv \n",
            "./../../libexec/iconv_euc_to_utf8.sh ./Adverb.csv \n",
            "./../../libexec/iconv_euc_to_utf8.sh ./Postp-col.csv \n",
            "./../../libexec/iconv_euc_to_utf8.sh ./Noun.number.csv \n",
            "./../../libexec/iconv_euc_to_utf8.sh ./Noun.name.csv \n",
            "./../../libexec/iconv_euc_to_utf8.sh ./Noun.verbal.csv \n",
            "./../../libexec/iconv_euc_to_utf8.sh ./Noun.others.csv \n",
            "./../../libexec/iconv_euc_to_utf8.sh ./Verb.csv \n",
            "./../../libexec/iconv_euc_to_utf8.sh ./Noun.place.csv \n",
            "./../../libexec/iconv_euc_to_utf8.sh ./Filler.csv \n",
            "rm ./Noun.adverbal.csv \n",
            "rm ./Adj.csv \n",
            "rm ./Interjection.csv \n",
            "rm ./Symbol.csv \n",
            "rm ./Suffix.csv \n",
            "rm ./Noun.proper.csv \n",
            "rm ./Prefix.csv \n",
            "rm ./Auxil.csv \n",
            "rm ./Conjunction.csv \n",
            "rm ./Noun.demonst.csv \n",
            "rm ./Postp.csv \n",
            "rm ./Others.csv \n",
            "rm ./Noun.org.csv \n",
            "rm ./Adnominal.csv \n",
            "rm ./Noun.adjv.csv \n",
            "rm ./Noun.nai.csv \n",
            "rm ./Noun.csv \n",
            "rm ./Adverb.csv \n",
            "rm ./Postp-col.csv \n",
            "rm ./Noun.number.csv \n",
            "rm ./Noun.name.csv \n",
            "rm ./Noun.verbal.csv \n",
            "rm ./Noun.others.csv \n",
            "rm ./Verb.csv \n",
            "rm ./Noun.place.csv \n",
            "rm ./Filler.csv \n",
            "./../../libexec/iconv_euc_to_utf8.sh ./left-id.def \n",
            "./../../libexec/iconv_euc_to_utf8.sh ./feature.def \n",
            "./../../libexec/iconv_euc_to_utf8.sh ./unk.def \n",
            "./../../libexec/iconv_euc_to_utf8.sh ./right-id.def \n",
            "./../../libexec/iconv_euc_to_utf8.sh ./pos-id.def \n",
            "./../../libexec/iconv_euc_to_utf8.sh ./matrix.def \n",
            "./../../libexec/iconv_euc_to_utf8.sh ./rewrite.def \n",
            "./../../libexec/iconv_euc_to_utf8.sh ./char.def \n",
            "rm ./left-id.def \n",
            "rm ./feature.def \n",
            "rm ./unk.def \n",
            "rm ./right-id.def \n",
            "rm ./pos-id.def \n",
            "rm ./matrix.def \n",
            "rm ./rewrite.def \n",
            "rm ./char.def \n",
            "mv ./Noun.demonst.csv.utf8 ./Noun.demonst.csv \n",
            "mv ./rewrite.def.utf8 ./rewrite.def \n",
            "mv ./Interjection.csv.utf8 ./Interjection.csv \n",
            "mv ./Noun.number.csv.utf8 ./Noun.number.csv \n",
            "mv ./Postp.csv.utf8 ./Postp.csv \n",
            "mv ./Auxil.csv.utf8 ./Auxil.csv \n",
            "mv ./Suffix.csv.utf8 ./Suffix.csv \n",
            "mv ./pos-id.def.utf8 ./pos-id.def \n",
            "mv ./left-id.def.utf8 ./left-id.def \n",
            "mv ./Noun.place.csv.utf8 ./Noun.place.csv \n",
            "mv ./Noun.org.csv.utf8 ./Noun.org.csv \n",
            "mv ./Noun.name.csv.utf8 ./Noun.name.csv \n",
            "mv ./matrix.def.utf8 ./matrix.def \n",
            "mv ./Verb.csv.utf8 ./Verb.csv \n",
            "mv ./Noun.verbal.csv.utf8 ./Noun.verbal.csv \n",
            "mv ./char.def.utf8 ./char.def \n",
            "mv ./right-id.def.utf8 ./right-id.def \n",
            "mv ./Noun.proper.csv.utf8 ./Noun.proper.csv \n",
            "mv ./Others.csv.utf8 ./Others.csv \n",
            "mv ./feature.def.utf8 ./feature.def \n",
            "mv ./Adnominal.csv.utf8 ./Adnominal.csv \n",
            "mv ./Noun.nai.csv.utf8 ./Noun.nai.csv \n",
            "mv ./Conjunction.csv.utf8 ./Conjunction.csv \n",
            "mv ./Prefix.csv.utf8 ./Prefix.csv \n",
            "mv ./Noun.csv.utf8 ./Noun.csv \n",
            "mv ./Noun.adjv.csv.utf8 ./Noun.adjv.csv \n",
            "mv ./unk.def.utf8 ./unk.def \n",
            "mv ./Adj.csv.utf8 ./Adj.csv \n",
            "mv ./Noun.adverbal.csv.utf8 ./Noun.adverbal.csv \n",
            "mv ./Noun.others.csv.utf8 ./Noun.others.csv \n",
            "mv ./Symbol.csv.utf8 ./Symbol.csv \n",
            "mv ./Filler.csv.utf8 ./Filler.csv \n",
            "mv ./Postp-col.csv.utf8 ./Postp-col.csv \n",
            "mv ./Adverb.csv.utf8 ./Adverb.csv \n",
            "[make-mecab-ipadic-NEologd] : Fix yomigana field of IPA dictionary\n",
            "patching file Noun.csv\n",
            "patching file Noun.place.csv\n",
            "patching file Verb.csv\n",
            "patching file Noun.verbal.csv\n",
            "patching file Noun.name.csv\n",
            "patching file Noun.adverbal.csv\n",
            "patching file Noun.csv\n",
            "patching file Noun.name.csv\n",
            "patching file Noun.org.csv\n",
            "patching file Noun.others.csv\n",
            "patching file Noun.place.csv\n",
            "patching file Noun.proper.csv\n",
            "patching file Noun.verbal.csv\n",
            "patching file Prefix.csv\n",
            "patching file Suffix.csv\n",
            "patching file Noun.proper.csv\n",
            "patching file Noun.csv\n",
            "patching file Noun.name.csv\n",
            "patching file Noun.org.csv\n",
            "patching file Noun.place.csv\n",
            "patching file Noun.proper.csv\n",
            "patching file Noun.verbal.csv\n",
            "patching file Noun.name.csv\n",
            "patching file Noun.org.csv\n",
            "patching file Noun.place.csv\n",
            "patching file Noun.proper.csv\n",
            "patching file Suffix.csv\n",
            "patching file Noun.demonst.csv\n",
            "patching file Noun.csv\n",
            "patching file Noun.name.csv\n",
            "[make-mecab-ipadic-NEologd] : Copy user dictionary resource\n",
            "[make-mecab-ipadic-NEologd] : Install adverb entries using /content/mecab-ipadic-neologd/libexec/../seed/neologd-adverb-dict-seed.20150623.csv.xz\n",
            "[make-mecab-ipadic-NEologd] : Install interjection entries using /content/mecab-ipadic-neologd/libexec/../seed/neologd-interjection-dict-seed.20170216.csv.xz\n",
            "[make-mecab-ipadic-NEologd] : Install noun orthographic variant entries using /content/mecab-ipadic-neologd/libexec/../seed/neologd-common-noun-ortho-variant-dict-seed.20170228.csv.xz\n",
            "[make-mecab-ipadic-NEologd] : Install noun orthographic variant entries using /content/mecab-ipadic-neologd/libexec/../seed/neologd-proper-noun-ortho-variant-dict-seed.20161110.csv.xz\n",
            "[make-mecab-ipadic-NEologd] : Install entries of orthographic variant of a noun used as verb form using /content/mecab-ipadic-neologd/libexec/../seed/neologd-noun-sahen-conn-ortho-variant-dict-seed.20160323.csv.xz\n",
            "[make-mecab-ipadic-NEologd] : Install frequent adjective orthographic variant entries using /content/mecab-ipadic-neologd/libexec/../seed/neologd-adjective-std-dict-seed.20151126.csv.xz\n",
            "[make-mecab-ipadic-NEologd] : Install infrequent adjective orthographic variant entries using /content/mecab-ipadic-neologd/libexec/../seed/neologd-adjective-exp-dict-seed.20151126.csv.xz\n",
            "[make-mecab-ipadic-NEologd] : Install adjective verb orthographic variant entries using /content/mecab-ipadic-neologd/libexec/../seed/neologd-adjective-verb-dict-seed.20160324.csv.xz\n",
            "[make-mecab-ipadic-NEologd] : Install infrequent datetime representation entries using /content/mecab-ipadic-neologd/libexec/../seed/neologd-date-time-infreq-dict-seed.20190415.csv.xz\n",
            "[make-mecab-ipadic-NEologd] : Install infrequent quantity representation entries using /content/mecab-ipadic-neologd/libexec/../seed/neologd-quantity-infreq-dict-seed.20190415.csv.xz\n",
            "[make-mecab-ipadic-NEologd] : Install entries of ill formed words using /content/mecab-ipadic-neologd/libexec/../seed/neologd-ill-formed-words-dict-seed.20170127.csv.xz\n",
            "[make-mecab-ipadic-NEologd] : Re-Index system dictionary\n",
            "reading ./unk.def ... 40\n",
            "emitting double-array: 100% |###########################################| \n",
            "./model.def is not found. skipped.\n",
            "reading ./neologd-proper-noun-ortho-variant-dict-seed.20161110.csv ... 138379\n",
            "reading ./neologd-interjection-dict-seed.20170216.csv ... 4701\n",
            "reading ./Noun.adverbal.csv ... 808\n",
            "reading ./Adj.csv ... 27210\n",
            "reading ./Interjection.csv ... 252\n",
            "reading ./Symbol.csv ... 208\n",
            "reading ./Suffix.csv ... 1448\n",
            "reading ./Noun.proper.csv ... 27493\n",
            "reading ./Prefix.csv ... 224\n",
            "reading ./Auxil.csv ... 199\n",
            "reading ./neologd-common-noun-ortho-variant-dict-seed.20170228.csv ... 152869\n",
            "reading ./Conjunction.csv ... 171\n",
            "reading ./neologd-date-time-infreq-dict-seed.20190415.csv ... 16866\n",
            "reading ./Noun.demonst.csv ... 120\n",
            "reading ./Postp.csv ... 146\n",
            "reading ./neologd-adverb-dict-seed.20150623.csv ... 139792\n",
            "reading ./mecab-user-dict-seed.20200315.csv ... 3187380\n",
            "reading ./Others.csv ... 2\n",
            "reading ./Noun.org.csv ... 17149\n",
            "reading ./Adnominal.csv ... 135\n",
            "reading ./Noun.adjv.csv ... 3328\n",
            "reading ./neologd-adjective-exp-dict-seed.20151126.csv ... 1051146\n",
            "reading ./Noun.nai.csv ... 42\n",
            "reading ./Noun.csv ... 60734\n",
            "reading ./neologd-noun-sahen-conn-ortho-variant-dict-seed.20160323.csv ... 26058\n",
            "reading ./Adverb.csv ... 3032\n",
            "reading ./neologd-quantity-infreq-dict-seed.20190415.csv ... 229216\n",
            "reading ./Postp-col.csv ... 91\n",
            "reading ./neologd-adjective-std-dict-seed.20151126.csv ... 507812\n",
            "reading ./neologd-ill-formed-words-dict-seed.20170127.csv ... 60616\n",
            "reading ./Noun.number.csv ... 42\n",
            "reading ./Noun.name.csv ... 34215\n",
            "reading ./Noun.verbal.csv ... 12150\n",
            "reading ./neologd-adjective-verb-dict-seed.20160324.csv ... 20268\n",
            "reading ./Noun.others.csv ... 153\n",
            "tcmalloc: large alloc 1308631040 bytes == 0x5646067a4000 @  0x7fc1f244b887 0x7fc1f15bab9b 0x7fc1f15bc143 0x7fc1f20c0a66 0x7fc1f2094e53 0x7fc1f1c7ab97 0x5645ad07167a\n",
            "reading ./Verb.csv ... 130750\n",
            "reading ./Noun.place.csv ... 73194\n",
            "reading ./Filler.csv ... 19\n",
            "emitting double-array: 100% |###########################################| \n",
            "reading ./matrix.def ... 1316x1316\n",
            "emitting matrix      : 100% |###########################################| \n",
            "\n",
            "done!\n",
            "[make-mecab-ipadic-NEologd] : Make custom system dictionary on /content/mecab-ipadic-neologd/libexec/../build/mecab-ipadic-2.7.0-20070801-neologd-20200315\n",
            "make: Nothing to be done for 'all'.\n",
            "[make-mecab-ipadic-NEologd] : Finish..\n",
            "[install-mecab-ipadic-NEologd] : Get results of tokenize test\n",
            "[test-mecab-ipadic-NEologd] : Start..\n",
            "[test-mecab-ipadic-NEologd] : Replace timestamp from 'git clone' date to 'git commit' date\n",
            "[test-mecab-ipadic-NEologd] : Get buzz phrases\n",
            "  % Total    % Received % Xferd  Average Speed   Time    Time     Time  Current\n",
            "                                 Dload  Upload   Total   Spent    Left  Speed\n",
            "100  1388  100  1388    0     0   3470      0 --:--:-- --:--:-- --:--:--  3461\n",
            "[test-mecab-ipadic-NEologd] : Get difference between default system dictionary and mecab-ipadic-NEologd\n",
            "[test-mecab-ipadic-NEologd] : Tokenize phrase using default system dictionary\n",
            "[test-mecab-ipadic-NEologd] : Tokenize phrase using mecab-ipadic-NEologd\n",
            "[test-mecab-ipadic-NEologd] : Get result of diff\n",
            "[test-mecab-ipadic-NEologd] : Please check difference between default system dictionary and mecab-ipadic-NEologd\n",
            "\n",
            "default system dictionary\t  |\tmecab-ipadic-NEologd\n",
            "不法 投棄 \t\t\t  |\t不法投棄 \n",
            "光子 郎 \t\t\t  |\t光子郎 \n",
            "クリムゾンスマッシュ \t\t  |\tクリムゾン スマッシュ \n",
            "佐々木 紀 \t\t\t  |\t佐々木紀 \n",
            "\n",
            "[test-mecab-ipadic-NEologd] : Finish..\n",
            "\n",
            "[install-mecab-ipadic-NEologd] : Please check the list of differences in the upper part.\n",
            "\n",
            "[install-mecab-ipadic-NEologd] : Do you want to install mecab-ipadic-NEologd? Type yes or no.\n",
            "[install-mecab-ipadic-NEologd] : OK. Let's install mecab-ipadic-NEologd.\n",
            "[install-mecab-ipadic-NEologd] : Start..\n",
            "[install-mecab-ipadic-NEologd] : /usr/lib/x86_64-linux-gnu/mecab/dic is current user's directory\n",
            "[install-mecab-ipadic-NEologd] : Make install to /usr/lib/x86_64-linux-gnu/mecab/dic/mecab-ipadic-neologd\n",
            "make[1]: Entering directory '/content/mecab-ipadic-neologd/build/mecab-ipadic-2.7.0-20070801-neologd-20200315'\n",
            "make[1]: Nothing to be done for 'install-exec-am'.\n",
            "/bin/bash ./mkinstalldirs /usr/lib/x86_64-linux-gnu/mecab/dic/mecab-ipadic-neologd\n",
            " /usr/bin/install -c -m 644 ./matrix.bin /usr/lib/x86_64-linux-gnu/mecab/dic/mecab-ipadic-neologd/matrix.bin\n",
            " /usr/bin/install -c -m 644 ./char.bin /usr/lib/x86_64-linux-gnu/mecab/dic/mecab-ipadic-neologd/char.bin\n",
            " /usr/bin/install -c -m 644 ./sys.dic /usr/lib/x86_64-linux-gnu/mecab/dic/mecab-ipadic-neologd/sys.dic\n",
            " /usr/bin/install -c -m 644 ./unk.dic /usr/lib/x86_64-linux-gnu/mecab/dic/mecab-ipadic-neologd/unk.dic\n",
            " /usr/bin/install -c -m 644 ./left-id.def /usr/lib/x86_64-linux-gnu/mecab/dic/mecab-ipadic-neologd/left-id.def\n",
            " /usr/bin/install -c -m 644 ./right-id.def /usr/lib/x86_64-linux-gnu/mecab/dic/mecab-ipadic-neologd/right-id.def\n",
            " /usr/bin/install -c -m 644 ./rewrite.def /usr/lib/x86_64-linux-gnu/mecab/dic/mecab-ipadic-neologd/rewrite.def\n",
            " /usr/bin/install -c -m 644 ./pos-id.def /usr/lib/x86_64-linux-gnu/mecab/dic/mecab-ipadic-neologd/pos-id.def\n",
            " /usr/bin/install -c -m 644 ./dicrc /usr/lib/x86_64-linux-gnu/mecab/dic/mecab-ipadic-neologd/dicrc\n",
            "make[1]: Leaving directory '/content/mecab-ipadic-neologd/build/mecab-ipadic-2.7.0-20070801-neologd-20200315'\n",
            "\n",
            "[install-mecab-ipadic-NEologd] : Install completed.\n",
            "[install-mecab-ipadic-NEologd] : When you use MeCab, you can set '/usr/lib/x86_64-linux-gnu/mecab/dic/mecab-ipadic-neologd' as a value of '-d' option of MeCab.\n",
            "[install-mecab-ipadic-NEologd] : Usage of mecab-ipadic-NEologd is here.\n",
            "Usage:\n",
            "    $ mecab -d /usr/lib/x86_64-linux-gnu/mecab/dic/mecab-ipadic-neologd ...\n",
            "\n",
            "[install-mecab-ipadic-NEologd] : Finish..\n",
            "[install-mecab-ipadic-NEologd] : Finish..\n"
          ],
          "name": "stdout"
        }
      ]
    },
    {
      "cell_type": "code",
      "metadata": {
        "id": "B1tdW-1BGkNG",
        "colab_type": "code",
        "colab": {}
      },
      "source": [
        "import MeCab\n",
        "import subprocess"
      ],
      "execution_count": 0,
      "outputs": []
    },
    {
      "cell_type": "code",
      "metadata": {
        "id": "oqc3laRYJqhT",
        "colab_type": "code",
        "outputId": "2cf4f819-3538-4d5c-90a0-6c8543cdeb7a",
        "colab": {
          "base_uri": "https://localhost:8080/",
          "height": 35
        }
      },
      "source": [
        "!ls"
      ],
      "execution_count": 5,
      "outputs": [
        {
          "output_type": "stream",
          "text": [
            "drive  mecab-ipadic-neologd  sample_data\n"
          ],
          "name": "stdout"
        }
      ]
    },
    {
      "cell_type": "code",
      "metadata": {
        "id": "5zUUkLR-Gmgd",
        "colab_type": "code",
        "outputId": "cd369790-b535-407d-fc7d-9a5c1e842f26",
        "colab": {
          "base_uri": "https://localhost:8080/",
          "height": 703
        }
      },
      "source": [
        "cmd = 'echo `mecab-config --dicdir`\"/mecab-ipadic-neologd\"'\n",
        "neologd_path = (subprocess.Popen(cmd, stdout=subprocess.PIPE,\n",
        "                           shell=True).communicate()[0]).decode('utf-8')\n",
        "# Neologd辞書の設定\n",
        "m_neologd = MeCab.Tagger(\"-d {0}\".format(neologd_path))\n",
        "\n",
        "m_neologd_sample_txt = \"8月3日に放送された「中居正広の金曜日のスマイルたちへ」(TBS系)で、1日たった5分でぽっこりおなかを解消するというダイエット方法を紹介。キンタロー。のダイエットにも密着。\"\n",
        "\n",
        "print(\"Mecab ipadic NEologd:\\n\",m_neologd.parse(m_neologd_sample_txt))"
      ],
      "execution_count": 6,
      "outputs": [
        {
          "output_type": "stream",
          "text": [
            "Mecab ipadic NEologd:\n",
            " 8月3日\t名詞,固有名詞,一般,*,*,*,8月3日,ハチガツミッカ,ハチガツミッカ\n",
            "に\t助詞,格助詞,一般,*,*,*,に,ニ,ニ\n",
            "放送\t名詞,サ変接続,*,*,*,*,放送,ホウソウ,ホーソー\n",
            "さ\t動詞,自立,*,*,サ変・スル,未然レル接続,する,サ,サ\n",
            "れ\t動詞,接尾,*,*,一段,連用形,れる,レ,レ\n",
            "た\t助動詞,*,*,*,特殊・タ,基本形,た,タ,タ\n",
            "「\t記号,括弧開,*,*,*,*,「,「,「\n",
            "中居正広の金曜日のスマイルたちへ\t名詞,固有名詞,一般,*,*,*,中居正広の金曜日のスマイルたちへ,ナカイマサヒロノキンヨウビノスマイルタチヘ,ナカイマサヒロノキンヨービノスマイルタチヘ\n",
            "」(\t記号,一般,*,*,*,*,*\n",
            "TBS\t名詞,固有名詞,一般,*,*,*,TBS,ティービーエス,ティービーエス\n",
            "系\t名詞,接尾,一般,*,*,*,系,ケイ,ケイ\n",
            ")\t記号,一般,*,*,*,*,*\n",
            "で\t助動詞,*,*,*,特殊・ダ,連用形,だ,デ,デ\n",
            "、\t記号,読点,*,*,*,*,、,、,、\n",
            "1日\t名詞,固有名詞,一般,*,*,*,1日,ツイタチ,ツイタチ\n",
            "たった\t副詞,助詞類接続,*,*,*,*,たった,タッタ,タッタ\n",
            "5分\t名詞,固有名詞,一般,*,*,*,5分,ゴフン,ゴフン\n",
            "で\t助詞,格助詞,一般,*,*,*,で,デ,デ\n",
            "ぽっこりおなか\t名詞,固有名詞,一般,*,*,*,ぽっこりおなか,ポッコリオナカ,ポッコリオナカ\n",
            "を\t助詞,格助詞,一般,*,*,*,を,ヲ,ヲ\n",
            "解消\t名詞,サ変接続,*,*,*,*,解消,カイショウ,カイショー\n",
            "する\t動詞,自立,*,*,サ変・スル,基本形,する,スル,スル\n",
            "という\t助詞,格助詞,連語,*,*,*,という,トイウ,トユウ\n",
            "ダイエット方法\t名詞,固有名詞,一般,*,*,*,ダイエット方法,ダイエットホウホウ,ダイエットホウホー\n",
            "を\t助詞,格助詞,一般,*,*,*,を,ヲ,ヲ\n",
            "紹介\t名詞,サ変接続,*,*,*,*,紹介,ショウカイ,ショーカイ\n",
            "。\t記号,句点,*,*,*,*,。,。,。\n",
            "キンタロー。\t名詞,固有名詞,一般,*,*,*,キンタロー。,キンタロー,キンタロー\n",
            "の\t助詞,連体化,*,*,*,*,の,ノ,ノ\n",
            "ダイエット\t名詞,サ変接続,*,*,*,*,ダイエット,ダイエット,ダイエット\n",
            "に\t助詞,格助詞,一般,*,*,*,に,ニ,ニ\n",
            "も\t助詞,係助詞,*,*,*,*,も,モ,モ\n",
            "密着\t名詞,サ変接続,*,*,*,*,密着,ミッチャク,ミッチャク\n",
            "。\t記号,句点,*,*,*,*,。,。,。\n",
            "EOS\n",
            "\n"
          ],
          "name": "stdout"
        }
      ]
    },
    {
      "cell_type": "markdown",
      "metadata": {
        "id": "qthez6FSMZzl",
        "colab_type": "text"
      },
      "source": [
        "## ELMoモデルの準備\n",
        "ELMoForManyLangsを使う"
      ]
    },
    {
      "cell_type": "code",
      "metadata": {
        "id": "55OSn-B2yDxw",
        "colab_type": "code",
        "outputId": "d89cc25a-c0dc-4e5e-be90-e97c5e6ebf36",
        "colab": {
          "base_uri": "https://localhost:8080/",
          "height": 1000
        }
      },
      "source": [
        "# ELMoForManyLangsに必要なライブラリ\n",
        "!pip install allennlp"
      ],
      "execution_count": 7,
      "outputs": [
        {
          "output_type": "stream",
          "text": [
            "Requirement already satisfied: allennlp in /usr/local/lib/python3.6/dist-packages (0.9.0)\n",
            "Requirement already satisfied: flask-cors>=3.0.7 in /usr/local/lib/python3.6/dist-packages (from allennlp) (3.0.8)\n",
            "Requirement already satisfied: jsonnet>=0.10.0; sys_platform != \"win32\" in /usr/local/lib/python3.6/dist-packages (from allennlp) (0.15.0)\n",
            "Requirement already satisfied: sqlparse>=0.2.4 in /usr/local/lib/python3.6/dist-packages (from allennlp) (0.3.1)\n",
            "Requirement already satisfied: pytorch-transformers==1.1.0 in /usr/local/lib/python3.6/dist-packages (from allennlp) (1.1.0)\n",
            "Requirement already satisfied: scikit-learn in /usr/local/lib/python3.6/dist-packages (from allennlp) (0.22.2.post1)\n",
            "Requirement already satisfied: jsonpickle in /usr/local/lib/python3.6/dist-packages (from allennlp) (1.3)\n",
            "Requirement already satisfied: ftfy in /usr/local/lib/python3.6/dist-packages (from allennlp) (5.7)\n",
            "Requirement already satisfied: flask>=1.0.2 in /usr/local/lib/python3.6/dist-packages (from allennlp) (1.1.1)\n",
            "Requirement already satisfied: overrides in /usr/local/lib/python3.6/dist-packages (from allennlp) (2.8.0)\n",
            "Requirement already satisfied: numpydoc>=0.8.0 in /usr/local/lib/python3.6/dist-packages (from allennlp) (0.9.2)\n",
            "Requirement already satisfied: pytorch-pretrained-bert>=0.6.0 in /usr/local/lib/python3.6/dist-packages (from allennlp) (0.6.2)\n",
            "Requirement already satisfied: pytest in /usr/local/lib/python3.6/dist-packages (from allennlp) (3.6.4)\n",
            "Requirement already satisfied: conllu==1.3.1 in /usr/local/lib/python3.6/dist-packages (from allennlp) (1.3.1)\n",
            "Requirement already satisfied: tqdm>=4.19 in /usr/local/lib/python3.6/dist-packages (from allennlp) (4.38.0)\n",
            "Requirement already satisfied: word2number>=1.1 in /usr/local/lib/python3.6/dist-packages (from allennlp) (1.1)\n",
            "Requirement already satisfied: spacy<2.2,>=2.1.0 in /usr/local/lib/python3.6/dist-packages (from allennlp) (2.1.9)\n",
            "Requirement already satisfied: numpy in /usr/local/lib/python3.6/dist-packages (from allennlp) (1.18.2)\n",
            "Requirement already satisfied: flaky in /usr/local/lib/python3.6/dist-packages (from allennlp) (3.6.1)\n",
            "Requirement already satisfied: gevent>=1.3.6 in /usr/local/lib/python3.6/dist-packages (from allennlp) (1.4.0)\n",
            "Requirement already satisfied: torch>=1.2.0 in /usr/local/lib/python3.6/dist-packages (from allennlp) (1.4.0)\n",
            "Requirement already satisfied: unidecode in /usr/local/lib/python3.6/dist-packages (from allennlp) (1.1.1)\n",
            "Requirement already satisfied: pytz>=2017.3 in /usr/local/lib/python3.6/dist-packages (from allennlp) (2018.9)\n",
            "Requirement already satisfied: nltk in /usr/local/lib/python3.6/dist-packages (from allennlp) (3.2.5)\n",
            "Requirement already satisfied: requests>=2.18 in /usr/local/lib/python3.6/dist-packages (from allennlp) (2.21.0)\n",
            "Requirement already satisfied: parsimonious>=0.8.0 in /usr/local/lib/python3.6/dist-packages (from allennlp) (0.8.1)\n",
            "Requirement already satisfied: matplotlib>=2.2.3 in /usr/local/lib/python3.6/dist-packages (from allennlp) (3.2.1)\n",
            "Requirement already satisfied: scipy in /usr/local/lib/python3.6/dist-packages (from allennlp) (1.4.1)\n",
            "Requirement already satisfied: tensorboardX>=1.2 in /usr/local/lib/python3.6/dist-packages (from allennlp) (2.0)\n",
            "Requirement already satisfied: h5py in /usr/local/lib/python3.6/dist-packages (from allennlp) (2.10.0)\n",
            "Requirement already satisfied: boto3 in /usr/local/lib/python3.6/dist-packages (from allennlp) (1.12.33)\n",
            "Requirement already satisfied: editdistance in /usr/local/lib/python3.6/dist-packages (from allennlp) (0.5.3)\n",
            "Requirement already satisfied: responses>=0.7 in /usr/local/lib/python3.6/dist-packages (from allennlp) (0.10.12)\n",
            "Requirement already satisfied: Six in /usr/local/lib/python3.6/dist-packages (from flask-cors>=3.0.7->allennlp) (1.12.0)\n",
            "Requirement already satisfied: sentencepiece in /usr/local/lib/python3.6/dist-packages (from pytorch-transformers==1.1.0->allennlp) (0.1.85)\n",
            "Requirement already satisfied: regex in /usr/local/lib/python3.6/dist-packages (from pytorch-transformers==1.1.0->allennlp) (2019.12.20)\n",
            "Requirement already satisfied: joblib>=0.11 in /usr/local/lib/python3.6/dist-packages (from scikit-learn->allennlp) (0.14.1)\n",
            "Requirement already satisfied: wcwidth in /usr/local/lib/python3.6/dist-packages (from ftfy->allennlp) (0.1.9)\n",
            "Requirement already satisfied: itsdangerous>=0.24 in /usr/local/lib/python3.6/dist-packages (from flask>=1.0.2->allennlp) (1.1.0)\n",
            "Requirement already satisfied: Jinja2>=2.10.1 in /usr/local/lib/python3.6/dist-packages (from flask>=1.0.2->allennlp) (2.11.1)\n",
            "Requirement already satisfied: Werkzeug>=0.15 in /usr/local/lib/python3.6/dist-packages (from flask>=1.0.2->allennlp) (1.0.1)\n",
            "Requirement already satisfied: click>=5.1 in /usr/local/lib/python3.6/dist-packages (from flask>=1.0.2->allennlp) (7.1.1)\n",
            "Requirement already satisfied: sphinx>=1.6.5 in /usr/local/lib/python3.6/dist-packages (from numpydoc>=0.8.0->allennlp) (1.8.5)\n",
            "Requirement already satisfied: py>=1.5.0 in /usr/local/lib/python3.6/dist-packages (from pytest->allennlp) (1.8.1)\n",
            "Requirement already satisfied: pluggy<0.8,>=0.5 in /usr/local/lib/python3.6/dist-packages (from pytest->allennlp) (0.7.1)\n",
            "Requirement already satisfied: atomicwrites>=1.0 in /usr/local/lib/python3.6/dist-packages (from pytest->allennlp) (1.3.0)\n",
            "Requirement already satisfied: attrs>=17.4.0 in /usr/local/lib/python3.6/dist-packages (from pytest->allennlp) (19.3.0)\n",
            "Requirement already satisfied: more-itertools>=4.0.0 in /usr/local/lib/python3.6/dist-packages (from pytest->allennlp) (8.2.0)\n",
            "Requirement already satisfied: setuptools in /usr/local/lib/python3.6/dist-packages (from pytest->allennlp) (46.0.0)\n",
            "Requirement already satisfied: murmurhash<1.1.0,>=0.28.0 in /usr/local/lib/python3.6/dist-packages (from spacy<2.2,>=2.1.0->allennlp) (1.0.2)\n",
            "Requirement already satisfied: preshed<2.1.0,>=2.0.1 in /usr/local/lib/python3.6/dist-packages (from spacy<2.2,>=2.1.0->allennlp) (2.0.1)\n",
            "Requirement already satisfied: cymem<2.1.0,>=2.0.2 in /usr/local/lib/python3.6/dist-packages (from spacy<2.2,>=2.1.0->allennlp) (2.0.3)\n",
            "Requirement already satisfied: srsly<1.1.0,>=0.0.6 in /usr/local/lib/python3.6/dist-packages (from spacy<2.2,>=2.1.0->allennlp) (1.0.2)\n",
            "Requirement already satisfied: thinc<7.1.0,>=7.0.8 in /usr/local/lib/python3.6/dist-packages (from spacy<2.2,>=2.1.0->allennlp) (7.0.8)\n",
            "Requirement already satisfied: wasabi<1.1.0,>=0.2.0 in /usr/local/lib/python3.6/dist-packages (from spacy<2.2,>=2.1.0->allennlp) (0.6.0)\n",
            "Requirement already satisfied: blis<0.3.0,>=0.2.2 in /usr/local/lib/python3.6/dist-packages (from spacy<2.2,>=2.1.0->allennlp) (0.2.4)\n",
            "Requirement already satisfied: plac<1.0.0,>=0.9.6 in /usr/local/lib/python3.6/dist-packages (from spacy<2.2,>=2.1.0->allennlp) (0.9.6)\n",
            "Requirement already satisfied: greenlet>=0.4.14; platform_python_implementation == \"CPython\" in /usr/local/lib/python3.6/dist-packages (from gevent>=1.3.6->allennlp) (0.4.15)\n",
            "Requirement already satisfied: certifi>=2017.4.17 in /usr/local/lib/python3.6/dist-packages (from requests>=2.18->allennlp) (2019.11.28)\n",
            "Requirement already satisfied: chardet<3.1.0,>=3.0.2 in /usr/local/lib/python3.6/dist-packages (from requests>=2.18->allennlp) (3.0.4)\n",
            "Requirement already satisfied: idna<2.9,>=2.5 in /usr/local/lib/python3.6/dist-packages (from requests>=2.18->allennlp) (2.8)\n",
            "Requirement already satisfied: urllib3<1.25,>=1.21.1 in /usr/local/lib/python3.6/dist-packages (from requests>=2.18->allennlp) (1.24.3)\n",
            "Requirement already satisfied: pyparsing!=2.0.4,!=2.1.2,!=2.1.6,>=2.0.1 in /usr/local/lib/python3.6/dist-packages (from matplotlib>=2.2.3->allennlp) (2.4.6)\n",
            "Requirement already satisfied: cycler>=0.10 in /usr/local/lib/python3.6/dist-packages (from matplotlib>=2.2.3->allennlp) (0.10.0)\n",
            "Requirement already satisfied: python-dateutil>=2.1 in /usr/local/lib/python3.6/dist-packages (from matplotlib>=2.2.3->allennlp) (2.8.1)\n",
            "Requirement already satisfied: kiwisolver>=1.0.1 in /usr/local/lib/python3.6/dist-packages (from matplotlib>=2.2.3->allennlp) (1.1.0)\n",
            "Requirement already satisfied: protobuf>=3.8.0 in /usr/local/lib/python3.6/dist-packages (from tensorboardX>=1.2->allennlp) (3.10.0)\n",
            "Requirement already satisfied: botocore<1.16.0,>=1.15.33 in /usr/local/lib/python3.6/dist-packages (from boto3->allennlp) (1.15.33)\n",
            "Requirement already satisfied: s3transfer<0.4.0,>=0.3.0 in /usr/local/lib/python3.6/dist-packages (from boto3->allennlp) (0.3.3)\n",
            "Requirement already satisfied: jmespath<1.0.0,>=0.7.1 in /usr/local/lib/python3.6/dist-packages (from boto3->allennlp) (0.9.5)\n",
            "Requirement already satisfied: MarkupSafe>=0.23 in /usr/local/lib/python3.6/dist-packages (from Jinja2>=2.10.1->flask>=1.0.2->allennlp) (1.1.1)\n",
            "Requirement already satisfied: Pygments>=2.0 in /usr/local/lib/python3.6/dist-packages (from sphinx>=1.6.5->numpydoc>=0.8.0->allennlp) (2.1.3)\n",
            "Requirement already satisfied: imagesize in /usr/local/lib/python3.6/dist-packages (from sphinx>=1.6.5->numpydoc>=0.8.0->allennlp) (1.2.0)\n",
            "Requirement already satisfied: babel!=2.0,>=1.3 in /usr/local/lib/python3.6/dist-packages (from sphinx>=1.6.5->numpydoc>=0.8.0->allennlp) (2.8.0)\n",
            "Requirement already satisfied: sphinxcontrib-websupport in /usr/local/lib/python3.6/dist-packages (from sphinx>=1.6.5->numpydoc>=0.8.0->allennlp) (1.2.1)\n",
            "Requirement already satisfied: snowballstemmer>=1.1 in /usr/local/lib/python3.6/dist-packages (from sphinx>=1.6.5->numpydoc>=0.8.0->allennlp) (2.0.0)\n",
            "Requirement already satisfied: alabaster<0.8,>=0.7 in /usr/local/lib/python3.6/dist-packages (from sphinx>=1.6.5->numpydoc>=0.8.0->allennlp) (0.7.12)\n",
            "Requirement already satisfied: packaging in /usr/local/lib/python3.6/dist-packages (from sphinx>=1.6.5->numpydoc>=0.8.0->allennlp) (20.3)\n",
            "Requirement already satisfied: docutils>=0.11 in /usr/local/lib/python3.6/dist-packages (from sphinx>=1.6.5->numpydoc>=0.8.0->allennlp) (0.15.2)\n"
          ],
          "name": "stdout"
        }
      ]
    },
    {
      "cell_type": "markdown",
      "metadata": {
        "id": "pc6iySYPzDST",
        "colab_type": "text"
      },
      "source": [
        "### ELMoForManyLangsを利用\n",
        "https://github.com/HIT-SCIR/ELMoForManyLangs#use-elmoformanylangs-programmatically"
      ]
    },
    {
      "cell_type": "code",
      "metadata": {
        "id": "ZwSUDZyVzph-",
        "colab_type": "code",
        "outputId": "7e4a9ead-93e7-4900-e0ab-0f738e2db2da",
        "colab": {
          "base_uri": "https://localhost:8080/",
          "height": 55
        }
      },
      "source": [
        "from google.colab import drive\n",
        "drive.mount('/content/drive')"
      ],
      "execution_count": 8,
      "outputs": [
        {
          "output_type": "stream",
          "text": [
            "Drive already mounted at /content/drive; to attempt to forcibly remount, call drive.mount(\"/content/drive\", force_remount=True).\n"
          ],
          "name": "stdout"
        }
      ]
    },
    {
      "cell_type": "code",
      "metadata": {
        "id": "FdmRWJa2zrOH",
        "colab_type": "code",
        "outputId": "3b18cf81-7112-481b-8d88-7f60d24d8082",
        "colab": {
          "base_uri": "https://localhost:8080/",
          "height": 35
        }
      },
      "source": [
        "cd drive/My Drive/機械学習練習/全文検索エンジン作成"
      ],
      "execution_count": 9,
      "outputs": [
        {
          "output_type": "stream",
          "text": [
            "/content/drive/My Drive/機械学習練習/全文検索エンジン作成\n"
          ],
          "name": "stdout"
        }
      ]
    },
    {
      "cell_type": "code",
      "metadata": {
        "id": "9N2xlKx50Bwa",
        "colab_type": "code",
        "outputId": "a54e7c79-68d6-4bf5-825e-9f04e7cf8780",
        "colab": {
          "base_uri": "https://localhost:8080/",
          "height": 161
        }
      },
      "source": [
        "!ls"
      ],
      "execution_count": 10,
      "outputs": [
        {
          "output_type": "stream",
          "text": [
            "build\t\t\t   exports\n",
            "configs\t\t\t   faiss-gpu-1.4.0-py36_cuda9.2.148_1.tar.bz2\n",
            "datasets\t\t   info\n",
            "dist\t\t\t   lib\n",
            "elmoformanylangs\t   mecab-ipadic-neologd\n",
            "elmoformanylangs.egg-info  README.md\n",
            "elmo_search_engine.ipynb   setup.py\n",
            "embedding\n"
          ],
          "name": "stdout"
        }
      ]
    },
    {
      "cell_type": "code",
      "metadata": {
        "id": "v1jpnHe4yJQU",
        "colab_type": "code",
        "outputId": "0b0ab527-0ea3-431b-e7bb-3feaf1cdbd4d",
        "colab": {
          "base_uri": "https://localhost:8080/",
          "height": 1000
        }
      },
      "source": [
        "# ELMoForManyLangsのセットアップ\n",
        "!python setup.py install"
      ],
      "execution_count": 11,
      "outputs": [
        {
          "output_type": "stream",
          "text": [
            "running install\n",
            "running bdist_egg\n",
            "running egg_info\n",
            "writing elmoformanylangs.egg-info/PKG-INFO\n",
            "writing dependency_links to elmoformanylangs.egg-info/dependency_links.txt\n",
            "writing requirements to elmoformanylangs.egg-info/requires.txt\n",
            "writing top-level names to elmoformanylangs.egg-info/top_level.txt\n",
            "reading manifest file 'elmoformanylangs.egg-info/SOURCES.txt'\n",
            "writing manifest file 'elmoformanylangs.egg-info/SOURCES.txt'\n",
            "installing library code to build/bdist.linux-x86_64/egg\n",
            "running install_lib\n",
            "running build_py\n",
            "creating build/bdist.linux-x86_64/egg\n",
            "creating build/bdist.linux-x86_64/egg/elmoformanylangs\n",
            "copying build/lib/elmoformanylangs/frontend.py -> build/bdist.linux-x86_64/egg/elmoformanylangs\n",
            "copying build/lib/elmoformanylangs/__init__.py -> build/bdist.linux-x86_64/egg/elmoformanylangs\n",
            "copying build/lib/elmoformanylangs/elmo.py -> build/bdist.linux-x86_64/egg/elmoformanylangs\n",
            "copying build/lib/elmoformanylangs/utils.py -> build/bdist.linux-x86_64/egg/elmoformanylangs\n",
            "copying build/lib/elmoformanylangs/dataloader.py -> build/bdist.linux-x86_64/egg/elmoformanylangs\n",
            "copying build/lib/elmoformanylangs/biLM.py -> build/bdist.linux-x86_64/egg/elmoformanylangs\n",
            "copying build/lib/elmoformanylangs/__main__.py -> build/bdist.linux-x86_64/egg/elmoformanylangs\n",
            "creating build/bdist.linux-x86_64/egg/elmoformanylangs/modules\n",
            "copying build/lib/elmoformanylangs/modules/classify_layer.py -> build/bdist.linux-x86_64/egg/elmoformanylangs/modules\n",
            "copying build/lib/elmoformanylangs/modules/elmo.py -> build/bdist.linux-x86_64/egg/elmoformanylangs/modules\n",
            "copying build/lib/elmoformanylangs/modules/util.py -> build/bdist.linux-x86_64/egg/elmoformanylangs/modules\n",
            "copying build/lib/elmoformanylangs/modules/embedding_layer.py -> build/bdist.linux-x86_64/egg/elmoformanylangs/modules\n",
            "copying build/lib/elmoformanylangs/modules/token_embedder.py -> build/bdist.linux-x86_64/egg/elmoformanylangs/modules\n",
            "copying build/lib/elmoformanylangs/modules/__init__.py -> build/bdist.linux-x86_64/egg/elmoformanylangs/modules\n",
            "copying build/lib/elmoformanylangs/modules/lstm.py -> build/bdist.linux-x86_64/egg/elmoformanylangs/modules\n",
            "copying build/lib/elmoformanylangs/modules/encoder_base.py -> build/bdist.linux-x86_64/egg/elmoformanylangs/modules\n",
            "copying build/lib/elmoformanylangs/modules/highway.py -> build/bdist.linux-x86_64/egg/elmoformanylangs/modules\n",
            "copying build/lib/elmoformanylangs/modules/lstm_cell_with_projection.py -> build/bdist.linux-x86_64/egg/elmoformanylangs/modules\n",
            "byte-compiling build/bdist.linux-x86_64/egg/elmoformanylangs/frontend.py to frontend.cpython-36.pyc\n",
            "byte-compiling build/bdist.linux-x86_64/egg/elmoformanylangs/__init__.py to __init__.cpython-36.pyc\n",
            "byte-compiling build/bdist.linux-x86_64/egg/elmoformanylangs/elmo.py to elmo.cpython-36.pyc\n",
            "byte-compiling build/bdist.linux-x86_64/egg/elmoformanylangs/utils.py to utils.cpython-36.pyc\n",
            "byte-compiling build/bdist.linux-x86_64/egg/elmoformanylangs/dataloader.py to dataloader.cpython-36.pyc\n",
            "byte-compiling build/bdist.linux-x86_64/egg/elmoformanylangs/biLM.py to biLM.cpython-36.pyc\n",
            "byte-compiling build/bdist.linux-x86_64/egg/elmoformanylangs/__main__.py to __main__.cpython-36.pyc\n",
            "byte-compiling build/bdist.linux-x86_64/egg/elmoformanylangs/modules/classify_layer.py to classify_layer.cpython-36.pyc\n",
            "byte-compiling build/bdist.linux-x86_64/egg/elmoformanylangs/modules/elmo.py to elmo.cpython-36.pyc\n",
            "byte-compiling build/bdist.linux-x86_64/egg/elmoformanylangs/modules/util.py to util.cpython-36.pyc\n",
            "byte-compiling build/bdist.linux-x86_64/egg/elmoformanylangs/modules/embedding_layer.py to embedding_layer.cpython-36.pyc\n",
            "byte-compiling build/bdist.linux-x86_64/egg/elmoformanylangs/modules/token_embedder.py to token_embedder.cpython-36.pyc\n",
            "byte-compiling build/bdist.linux-x86_64/egg/elmoformanylangs/modules/__init__.py to __init__.cpython-36.pyc\n",
            "byte-compiling build/bdist.linux-x86_64/egg/elmoformanylangs/modules/lstm.py to lstm.cpython-36.pyc\n",
            "byte-compiling build/bdist.linux-x86_64/egg/elmoformanylangs/modules/encoder_base.py to encoder_base.cpython-36.pyc\n",
            "byte-compiling build/bdist.linux-x86_64/egg/elmoformanylangs/modules/highway.py to highway.cpython-36.pyc\n",
            "byte-compiling build/bdist.linux-x86_64/egg/elmoformanylangs/modules/lstm_cell_with_projection.py to lstm_cell_with_projection.cpython-36.pyc\n",
            "creating build/bdist.linux-x86_64/egg/EGG-INFO\n",
            "copying elmoformanylangs.egg-info/PKG-INFO -> build/bdist.linux-x86_64/egg/EGG-INFO\n",
            "copying elmoformanylangs.egg-info/SOURCES.txt -> build/bdist.linux-x86_64/egg/EGG-INFO\n",
            "copying elmoformanylangs.egg-info/dependency_links.txt -> build/bdist.linux-x86_64/egg/EGG-INFO\n",
            "copying elmoformanylangs.egg-info/requires.txt -> build/bdist.linux-x86_64/egg/EGG-INFO\n",
            "copying elmoformanylangs.egg-info/top_level.txt -> build/bdist.linux-x86_64/egg/EGG-INFO\n",
            "zip_safe flag not set; analyzing archive contents...\n",
            "creating 'dist/elmoformanylangs-0.0.2-py3.6.egg' and adding 'build/bdist.linux-x86_64/egg' to it\n",
            "removing 'build/bdist.linux-x86_64/egg' (and everything under it)\n",
            "Processing elmoformanylangs-0.0.2-py3.6.egg\n",
            "Removing /usr/local/lib/python3.6/dist-packages/elmoformanylangs-0.0.2-py3.6.egg\n",
            "Copying elmoformanylangs-0.0.2-py3.6.egg to /usr/local/lib/python3.6/dist-packages\n",
            "elmoformanylangs 0.0.2 is already the active version in easy-install.pth\n",
            "\n",
            "Installed /usr/local/lib/python3.6/dist-packages/elmoformanylangs-0.0.2-py3.6.egg\n",
            "Processing dependencies for elmoformanylangs==0.0.2\n",
            "Searching for overrides==2.8.0\n",
            "Best match: overrides 2.8.0\n",
            "Adding overrides 2.8.0 to easy-install.pth file\n",
            "\n",
            "Using /usr/local/lib/python3.6/dist-packages\n",
            "Searching for numpy==1.18.2\n",
            "Best match: numpy 1.18.2\n",
            "Adding numpy 1.18.2 to easy-install.pth file\n",
            "Installing f2py script to /usr/local/bin\n",
            "Installing f2py3 script to /usr/local/bin\n",
            "Installing f2py3.6 script to /usr/local/bin\n",
            "\n",
            "Using /usr/local/lib/python3.6/dist-packages\n",
            "Searching for h5py==2.10.0\n",
            "Best match: h5py 2.10.0\n",
            "Adding h5py 2.10.0 to easy-install.pth file\n",
            "\n",
            "Using /usr/local/lib/python3.6/dist-packages\n",
            "Searching for torch==1.4.0\n",
            "Best match: torch 1.4.0\n",
            "Adding torch 1.4.0 to easy-install.pth file\n",
            "Installing convert-caffe2-to-onnx script to /usr/local/bin\n",
            "Installing convert-onnx-to-caffe2 script to /usr/local/bin\n",
            "\n",
            "Using /usr/local/lib/python3.6/dist-packages\n",
            "Searching for six==1.12.0\n",
            "Best match: six 1.12.0\n",
            "Adding six 1.12.0 to easy-install.pth file\n",
            "\n",
            "Using /usr/local/lib/python3.6/dist-packages\n",
            "Finished processing dependencies for elmoformanylangs==0.0.2\n"
          ],
          "name": "stdout"
        }
      ]
    },
    {
      "cell_type": "code",
      "metadata": {
        "id": "4F3xyImkVgfC",
        "colab_type": "code",
        "colab": {}
      },
      "source": [
        "from elmoformanylangs import Embedder"
      ],
      "execution_count": 0,
      "outputs": []
    },
    {
      "cell_type": "code",
      "metadata": {
        "id": "SmGbrndUaptq",
        "colab_type": "code",
        "colab": {}
      },
      "source": [
        "def time_watch(func):\n",
        "    \"\"\"時間計測用デコレータ関数\n",
        "    \n",
        "    Parameters\n",
        "    -----\n",
        "    func : function\n",
        "        実行したい関数\n",
        "\n",
        "    \"\"\"\n",
        "    import functools\n",
        "    import datetime\n",
        "    @functools.wraps(func)\n",
        "    def wrapper(*args, **kwargs):\n",
        "        start = datetime.datetime.today()\n",
        "        result = func(*args, **kwargs)\n",
        "        end = datetime.datetime.today()\n",
        "        print(\"実行時間:{time}\".format(time=end - start))\n",
        "        return result\n",
        "    return wrapper"
      ],
      "execution_count": 0,
      "outputs": []
    },
    {
      "cell_type": "markdown",
      "metadata": {
        "id": "7XNO5Bro3xyo",
        "colab_type": "text"
      },
      "source": [
        "### 日本語の事前学習済み重みのダウンロード\n",
        "embeddingディレクトに格納した<br>\n",
        "https://qiita.com/mkt3/items/9577b63900109ff91665\n"
      ]
    },
    {
      "cell_type": "code",
      "metadata": {
        "id": "UyGx9QcQ0Mtx",
        "colab_type": "code",
        "colab": {}
      },
      "source": [
        "# モデルのディレクトリ\n",
        "MODEL_DIR = './embedding/word_unit_embedding_model/'"
      ],
      "execution_count": 0,
      "outputs": []
    },
    {
      "cell_type": "code",
      "metadata": {
        "id": "c-ZPRGHK3Ykg",
        "colab_type": "code",
        "colab": {
          "base_uri": "https://localhost:8080/",
          "height": 323
        },
        "outputId": "4a62e095-919f-4d3c-c611-021b00e087e0"
      },
      "source": [
        "!nvidia-smi"
      ],
      "execution_count": 15,
      "outputs": [
        {
          "output_type": "stream",
          "text": [
            "Sun Apr  5 01:37:23 2020       \n",
            "+-----------------------------------------------------------------------------+\n",
            "| NVIDIA-SMI 440.64.00    Driver Version: 418.67       CUDA Version: 10.1     |\n",
            "|-------------------------------+----------------------+----------------------+\n",
            "| GPU  Name        Persistence-M| Bus-Id        Disp.A | Volatile Uncorr. ECC |\n",
            "| Fan  Temp  Perf  Pwr:Usage/Cap|         Memory-Usage | GPU-Util  Compute M. |\n",
            "|===============================+======================+======================|\n",
            "|   0  Tesla P100-PCIE...  Off  | 00000000:00:04.0 Off |                    0 |\n",
            "| N/A   48C    P0    32W / 250W |      0MiB / 16280MiB |      0%      Default |\n",
            "+-------------------------------+----------------------+----------------------+\n",
            "                                                                               \n",
            "+-----------------------------------------------------------------------------+\n",
            "| Processes:                                                       GPU Memory |\n",
            "|  GPU       PID   Type   Process name                             Usage      |\n",
            "|=============================================================================|\n",
            "|  No running processes found                                                 |\n",
            "+-----------------------------------------------------------------------------+\n"
          ],
          "name": "stdout"
        }
      ]
    },
    {
      "cell_type": "code",
      "metadata": {
        "id": "o8H0PcnS43bB",
        "colab_type": "code",
        "outputId": "0e33a17e-8c04-42a7-8d57-6bdbc75ce096",
        "colab": {
          "base_uri": "https://localhost:8080/",
          "height": 575
        }
      },
      "source": [
        "# batch_sizeは環境に合わせて変更（時間帯によってcolaboratoryのGPUの性能が変わるため）\n",
        "elmo_model = Embedder(MODEL_DIR, batch_size=5)"
      ],
      "execution_count": 16,
      "outputs": [
        {
          "output_type": "stream",
          "text": [
            "2020-04-05 01:37:27,328 INFO: word embedding size: 387179\n",
            "2020-04-05 01:37:36,390 INFO: Model(\n",
            "  (token_embedder): ConvTokenEmbedder(\n",
            "    (word_emb_layer): EmbeddingLayer(\n",
            "      (embedding): Embedding(387179, 100, padding_idx=3)\n",
            "    )\n",
            "    (projection): Linear(in_features=100, out_features=512, bias=True)\n",
            "  )\n",
            "  (encoder): ElmobiLm(\n",
            "    (forward_layer_0): LstmCellWithProjection(\n",
            "      (input_linearity): Linear(in_features=512, out_features=16384, bias=False)\n",
            "      (state_linearity): Linear(in_features=512, out_features=16384, bias=True)\n",
            "      (state_projection): Linear(in_features=4096, out_features=512, bias=False)\n",
            "    )\n",
            "    (backward_layer_0): LstmCellWithProjection(\n",
            "      (input_linearity): Linear(in_features=512, out_features=16384, bias=False)\n",
            "      (state_linearity): Linear(in_features=512, out_features=16384, bias=True)\n",
            "      (state_projection): Linear(in_features=4096, out_features=512, bias=False)\n",
            "    )\n",
            "    (forward_layer_1): LstmCellWithProjection(\n",
            "      (input_linearity): Linear(in_features=512, out_features=16384, bias=False)\n",
            "      (state_linearity): Linear(in_features=512, out_features=16384, bias=True)\n",
            "      (state_projection): Linear(in_features=4096, out_features=512, bias=False)\n",
            "    )\n",
            "    (backward_layer_1): LstmCellWithProjection(\n",
            "      (input_linearity): Linear(in_features=512, out_features=16384, bias=False)\n",
            "      (state_linearity): Linear(in_features=512, out_features=16384, bias=True)\n",
            "      (state_projection): Linear(in_features=4096, out_features=512, bias=False)\n",
            "    )\n",
            "  )\n",
            ")\n"
          ],
          "name": "stderr"
        }
      ]
    },
    {
      "cell_type": "markdown",
      "metadata": {
        "id": "fO0gEqVCbS_k",
        "colab_type": "text"
      },
      "source": [
        "### 入力文書の前処理を定義"
      ]
    },
    {
      "cell_type": "code",
      "metadata": {
        "id": "Hlt27ZGpOsfI",
        "colab_type": "code",
        "colab": {}
      },
      "source": [
        "def is_stop_word(pos):\n",
        "    \"\"\"\n",
        "    品詞からストップワードか判断\n",
        "\n",
        "    Parameters\n",
        "    -----\n",
        "    pos : string\n",
        "        品詞\n",
        "\n",
        "    Returns\n",
        "    -----\n",
        "    stop_word_flag : boolean\n",
        "    \"\"\"\n",
        "    stop_word_list = [\"助詞\", \"助動詞\", \"記号\", \"BOS/EOS\"]\n",
        "    stop_word_flag = True\n",
        "    if pos in stop_word_list:\n",
        "        stop_word_flag = False\n",
        "    return stop_word_flag\n",
        "\n",
        "def split_text(text):\n",
        "    \"\"\"\n",
        "    文章をわかち書きする\n",
        "\n",
        "    Parameters\n",
        "    -----\n",
        "    text : string\n",
        "\n",
        "    Returns\n",
        "    -----\n",
        "    result : list of string\n",
        "    \"\"\"\n",
        "    result = []\n",
        "    node = m_neologd.parseToNode(text)\n",
        "    while node:\n",
        "        if is_stop_word(node.feature.split(\",\")[0]):\n",
        "            result.append(node.surface)\n",
        "        node = node.next\n",
        "    return result"
      ],
      "execution_count": 0,
      "outputs": []
    },
    {
      "cell_type": "code",
      "metadata": {
        "id": "qVkV9YQ_b3-d",
        "colab_type": "code",
        "colab": {}
      },
      "source": [
        "def preprocessing_documents(documents):\n",
        "    \"\"\"\n",
        "    文書をELMo用に前処理\n",
        "\n",
        "    Parameters\n",
        "    -----\n",
        "    documents : list of string\n",
        "\n",
        "    Returns\n",
        "    -----\n",
        "    results : list of list of string\n",
        "    \"\"\"\n",
        "    results = []\n",
        "    # バグ対処\n",
        "    m_neologd.parse('')\n",
        "    for document in documents:\n",
        "        result = split_text(document)\n",
        "        results.append(result)\n",
        "    return results"
      ],
      "execution_count": 0,
      "outputs": []
    },
    {
      "cell_type": "code",
      "metadata": {
        "id": "1360bG2u6vFP",
        "colab_type": "code",
        "colab": {}
      },
      "source": [
        "elmo_sample_docments = [\"私は犬\", \"犬は私\", \"今日の天気は雪のち晴れです\"]"
      ],
      "execution_count": 0,
      "outputs": []
    },
    {
      "cell_type": "code",
      "metadata": {
        "id": "E907gv9ydcpT",
        "colab_type": "code",
        "outputId": "c07bde46-0925-4f47-8168-25b72fa12d73",
        "colab": {
          "base_uri": "https://localhost:8080/",
          "height": 35
        }
      },
      "source": [
        "proc_documents = preprocessing_documents(elmo_sample_docments)\n",
        "proc_documents"
      ],
      "execution_count": 20,
      "outputs": [
        {
          "output_type": "execute_result",
          "data": {
            "text/plain": [
              "[['私', '犬'], ['犬', '私'], ['今日の天気', '雪', 'のち', '晴れ']]"
            ]
          },
          "metadata": {
            "tags": []
          },
          "execution_count": 20
        }
      ]
    },
    {
      "cell_type": "markdown",
      "metadata": {
        "id": "QI6HeGj7dqmq",
        "colab_type": "text"
      },
      "source": [
        "### ELMoで単語の分散表現を予測"
      ]
    },
    {
      "cell_type": "code",
      "metadata": {
        "id": "G5B0m5XTa3gS",
        "colab_type": "code",
        "colab": {}
      },
      "source": [
        "@time_watch\n",
        "def predict_word_vec(model, proc_documents):\n",
        "    \"\"\"\n",
        "    モデルを使い単語の分散表現を予測\n",
        "\n",
        "    Parmeters\n",
        "    -----\n",
        "    model : model_obj\n",
        "    proc_documents : proc_documents_obj\n",
        "    \n",
        "    Returns\n",
        "    -----\n",
        "    pred_vector : list of nparray\n",
        "    \"\"\"\n",
        "    pred_vector = model.sents2elmo(proc_documents)\n",
        "    return pred_vector"
      ],
      "execution_count": 0,
      "outputs": []
    },
    {
      "cell_type": "code",
      "metadata": {
        "id": "2Ty2wsybelNx",
        "colab_type": "code",
        "outputId": "f1d1c2ee-72d2-4b37-87f7-15b0e64a5e2f",
        "colab": {
          "base_uri": "https://localhost:8080/",
          "height": 53
        }
      },
      "source": [
        "documnets_words_vec = predict_word_vec(elmo_model, proc_documents)"
      ],
      "execution_count": 22,
      "outputs": [
        {
          "output_type": "stream",
          "text": [
            "2020-04-05 01:37:37,301 INFO: 1 batches, avg len: 4.7\n"
          ],
          "name": "stderr"
        },
        {
          "output_type": "stream",
          "text": [
            "実行時間:0:00:00.041053\n"
          ],
          "name": "stdout"
        }
      ]
    },
    {
      "cell_type": "code",
      "metadata": {
        "id": "xVaOp2RkeqW6",
        "colab_type": "code",
        "outputId": "603b0cec-639d-4d15-f1cf-2b58584c8747",
        "colab": {
          "base_uri": "https://localhost:8080/",
          "height": 341
        }
      },
      "source": [
        "print(documnets_words_vec[0].shape)\n",
        "print(type(documnets_words_vec[0]))\n",
        "documnets_words_vec"
      ],
      "execution_count": 23,
      "outputs": [
        {
          "output_type": "stream",
          "text": [
            "(2, 1024)\n",
            "<class 'numpy.ndarray'>\n"
          ],
          "name": "stdout"
        },
        {
          "output_type": "execute_result",
          "data": {
            "text/plain": [
              "[array([[-0.3822073 , -0.39298368, -0.19943719, ..., -0.0947518 ,\n",
              "          0.38196918, -0.06013573],\n",
              "        [-0.99855757, -0.7653184 , -0.67188597, ...,  0.38484803,\n",
              "         -0.14899619, -0.22106065]], dtype=float32),\n",
              " array([[-0.85666806, -0.24317439, -0.31542605, ..., -0.16575427,\n",
              "          0.06315442, -0.31759426],\n",
              "        [-0.29320082, -0.47321966, -0.83421296, ..., -0.40913573,\n",
              "          0.21732388,  0.24414034]], dtype=float32),\n",
              " array([[ 0.10117573, -0.23624979,  0.00397639, ..., -0.2328723 ,\n",
              "          0.17794509,  0.0607481 ],\n",
              "        [-0.90098685, -0.80577874, -0.20233335, ...,  0.13288653,\n",
              "          0.4778336 , -0.45927873],\n",
              "        [ 1.2292985 ,  0.98217875, -0.351058  , ...,  0.05930225,\n",
              "          0.5154347 , -0.4115046 ],\n",
              "        [-0.65625954,  1.4385008 , -0.17021495, ..., -0.32545912,\n",
              "          0.10576967,  0.18586273]], dtype=float32)]"
            ]
          },
          "metadata": {
            "tags": []
          },
          "execution_count": 23
        }
      ]
    },
    {
      "cell_type": "markdown",
      "metadata": {
        "id": "CaWcVH_ae3mF",
        "colab_type": "text"
      },
      "source": [
        "#### 実行結果\n",
        "「私は犬」と「犬は私」の２つの文章において、それぞれの文章で「私」「犬」は文章内での順番が考慮され、別々の分散表現が得られていることが分かる。"
      ]
    },
    {
      "cell_type": "markdown",
      "metadata": {
        "id": "xhVSbMxrgneG",
        "colab_type": "text"
      },
      "source": [
        "### 単語ベクトルから文書ベクトルを算出\n",
        "今回は簡易的に、単語ベクトルの合計値を文書ベクトルする<br>"
      ]
    },
    {
      "cell_type": "code",
      "metadata": {
        "id": "cfHwljbaeuDr",
        "colab_type": "code",
        "colab": {}
      },
      "source": [
        "@time_watch\n",
        "def calc_doc_vec(documnets_words_vec):\n",
        "    \"\"\"\n",
        "    単語ベクトルから文書ベクトルを計算\n",
        "\n",
        "    Parameters\n",
        "    -----\n",
        "    documents_word_vec : list of nparray\n",
        "\n",
        "    Returns\n",
        "    -----\n",
        "    documents_vec : ndarray(文書数, 1つの文書内の次元数)\n",
        "\n",
        "    Notes\n",
        "    -----\n",
        "    文書ベクトルの算出方法 : 文書内に含まれる全単語ベクトルの平均値\n",
        "    \"\"\"\n",
        "    documnets_vec = []\n",
        "    for document_words_vec in documnets_words_vec:\n",
        "        document_vec = np.sum(document_words_vec, axis=0) / document_words_vec.shape[0]\n",
        "        documnets_vec.append(document_vec)\n",
        "\n",
        "    documnets_vec = np.array(documnets_vec)\n",
        "    return documnets_vec"
      ],
      "execution_count": 0,
      "outputs": []
    },
    {
      "cell_type": "code",
      "metadata": {
        "id": "Vha-WnrWiZ5Y",
        "colab_type": "code",
        "outputId": "aece1ed6-92a6-4774-9bdf-01bfa5445985",
        "colab": {
          "base_uri": "https://localhost:8080/",
          "height": 143
        }
      },
      "source": [
        "documnets_vec = calc_doc_vec(documnets_words_vec=documnets_words_vec)\n",
        "documnets_vec"
      ],
      "execution_count": 25,
      "outputs": [
        {
          "output_type": "stream",
          "text": [
            "実行時間:0:00:00.000643\n"
          ],
          "name": "stdout"
        },
        {
          "output_type": "execute_result",
          "data": {
            "text/plain": [
              "array([[-0.6903824 , -0.57915103, -0.43566158, ...,  0.14504811,\n",
              "         0.1164865 , -0.1405982 ],\n",
              "       [-0.5749344 , -0.35819703, -0.5748195 , ..., -0.287445  ,\n",
              "         0.14023915, -0.03672696],\n",
              "       [-0.05669305,  0.34466273, -0.17990749, ..., -0.09153567,\n",
              "         0.31924576, -0.15604313]], dtype=float32)"
            ]
          },
          "metadata": {
            "tags": []
          },
          "execution_count": 25
        }
      ]
    },
    {
      "cell_type": "code",
      "metadata": {
        "id": "1hkwmIrOiaQ2",
        "colab_type": "code",
        "outputId": "a2518abc-9081-46b8-c9d1-fc31dff62e4d",
        "colab": {
          "base_uri": "https://localhost:8080/",
          "height": 143
        }
      },
      "source": [
        "print(documnets_vec.shape)\n",
        "documnets_vec"
      ],
      "execution_count": 26,
      "outputs": [
        {
          "output_type": "stream",
          "text": [
            "(3, 1024)\n"
          ],
          "name": "stdout"
        },
        {
          "output_type": "execute_result",
          "data": {
            "text/plain": [
              "array([[-0.6903824 , -0.57915103, -0.43566158, ...,  0.14504811,\n",
              "         0.1164865 , -0.1405982 ],\n",
              "       [-0.5749344 , -0.35819703, -0.5748195 , ..., -0.287445  ,\n",
              "         0.14023915, -0.03672696],\n",
              "       [-0.05669305,  0.34466273, -0.17990749, ..., -0.09153567,\n",
              "         0.31924576, -0.15604313]], dtype=float32)"
            ]
          },
          "metadata": {
            "tags": []
          },
          "execution_count": 26
        }
      ]
    },
    {
      "cell_type": "markdown",
      "metadata": {
        "id": "60XiDSOzlnPY",
        "colab_type": "text"
      },
      "source": [
        "## faissのインストール\n",
        "参考：https://qiita.com/SakuraDk/items/0c03b7ebd4aef8d6caed#colaboratory%E4%B8%8A%E3%81%A7%E3%82%A4%E3%83%B3%E3%82%B9%E3%83%88%E3%83%BC%E3%83%AB"
      ]
    },
    {
      "cell_type": "code",
      "metadata": {
        "id": "na-SBzloojyF",
        "colab_type": "code",
        "colab": {}
      },
      "source": [
        "# ダウンロードは一度のみ実行で大丈夫\n",
        "#!wget https://anaconda.org/pytorch/faiss-gpu/1.4.0/download/linux-64/faiss-gpu-1.4.0-py36_cuda9.2.148_1.tar.bz2\n",
        "#!tar xvjf faiss-gpu-1.4.0-py36_cuda9.2.148_1.tar.bz2"
      ],
      "execution_count": 0,
      "outputs": []
    },
    {
      "cell_type": "code",
      "metadata": {
        "id": "qhdztYDUoyMP",
        "colab_type": "code",
        "outputId": "ba8d74a4-425c-4cbb-d800-cbc8b4b25558",
        "colab": {
          "base_uri": "https://localhost:8080/",
          "height": 53
        }
      },
      "source": [
        "!cp -r lib/python3.6/site-packages/* /usr/local/lib/python3.6/dist-packages/\n",
        "!pip install mkl"
      ],
      "execution_count": 28,
      "outputs": [
        {
          "output_type": "stream",
          "text": [
            "Requirement already satisfied: mkl in /usr/local/lib/python3.6/dist-packages (2019.0)\n",
            "Requirement already satisfied: intel-openmp in /usr/local/lib/python3.6/dist-packages (from mkl) (2020.0.133)\n"
          ],
          "name": "stdout"
        }
      ]
    },
    {
      "cell_type": "code",
      "metadata": {
        "id": "YIaxLsNbo4ew",
        "colab_type": "code",
        "colab": {}
      },
      "source": [
        "import faiss"
      ],
      "execution_count": 0,
      "outputs": []
    },
    {
      "cell_type": "markdown",
      "metadata": {
        "id": "6Xhc_hqHkYrL",
        "colab_type": "text"
      },
      "source": [
        "## 検索エンジン作成"
      ]
    },
    {
      "cell_type": "markdown",
      "metadata": {
        "id": "Xa6k3IaIptEd",
        "colab_type": "text"
      },
      "source": [
        "### 検索対象となるドキュメント読み込み"
      ]
    },
    {
      "cell_type": "markdown",
      "metadata": {
        "id": "-M1s-kJpVmIF",
        "colab_type": "text"
      },
      "source": [
        "#### ldccデータ用の読み込み関数定義"
      ]
    },
    {
      "cell_type": "code",
      "metadata": {
        "id": "ei3_5d07V1Z3",
        "colab_type": "code",
        "colab": {}
      },
      "source": [
        "def load_path_list(dir_name):\n",
        "   \"\"\"\n",
        "   ディレクトリ配下のパス名取得\n",
        "   \"\"\"\n",
        "   p = pathlib.Path(dir_name)\n",
        "   name_list = list(p.glob(\"*\"))\n",
        "   return name_list"
      ],
      "execution_count": 0,
      "outputs": []
    },
    {
      "cell_type": "code",
      "metadata": {
        "id": "imrbqgYeXmQn",
        "colab_type": "code",
        "colab": {}
      },
      "source": [
        "@time_watch\n",
        "def load_ldcc_to_pd(dir_name):\n",
        "    \"\"\"\n",
        "    ldccデータをDataframeに読み込み\n",
        "\n",
        "    Parameters\n",
        "    -----\n",
        "    dir_name : string\n",
        "\n",
        "    Returns\n",
        "    -----\n",
        "    ldcc_df : Dataframe\n",
        "    \"\"\"\n",
        "    data_path_list = load_path_list(dir_name)\n",
        "    read_message_size = 100\n",
        "    \n",
        "    removefile_path = pathlib.Path(DATA_DIR+'/LICENSE.txt')\n",
        "    # LICENSE.txtファイルは除く\n",
        "    if os.path.isfile(removefile_path):\n",
        "        data_path_list.remove(removefile_path)\n",
        "    print(\"データ件数:{size}\".format(size=len(data_path_list)))\n",
        "\n",
        "    dataset_texts = []\n",
        "    for i, data_path in enumerate(data_path_list):\n",
        "      with open(data_path) as f:\n",
        "        # 末尾の改行コードと一部文字化けを取り除く\n",
        "        data_texts = [s.rstrip().replace('\\u3000','') for s in f.readlines()]\n",
        "      dataset_texts.append(data_texts)\n",
        "      if (i + 1) % read_message_size == 0:\n",
        "        print(\"{i}件ファイルからテキストを読み込み完了\".format(i=i+1))\n",
        "\n",
        "    ldcc_df_columns = ['title', 'url', 'time', 'text']\n",
        "    ldcc_df = pd.DataFrame(index=[], columns=ldcc_df_columns)\n",
        "    for i, data_texts in enumerate(dataset_texts):\n",
        "      title = data_texts[2]\n",
        "      url = data_texts[0]\n",
        "      time = data_texts[1]\n",
        "      text = \"\".join(data_texts[2:])\n",
        "      data_series = pd.Series([title, url, time, text], index=ldcc_df.columns)\n",
        "      ldcc_df = ldcc_df.append(data_series, ignore_index=True)\n",
        "      if (i + 1) % read_message_size == 0:\n",
        "        print(\"{i}件データフレームに読み込み完了\".format(i=i+1))\n",
        "\n",
        "    ldcc_df.index = ldcc_df.index + 1\n",
        "    return ldcc_df"
      ],
      "execution_count": 0,
      "outputs": []
    },
    {
      "cell_type": "code",
      "metadata": {
        "id": "h97GJVF2XcdW",
        "colab_type": "code",
        "colab": {
          "base_uri": "https://localhost:8080/",
          "height": 869
        },
        "outputId": "35964c41-ba5d-4ba6-8640-327185cec4c2"
      },
      "source": [
        "DATA_DIR = \"./datasets/ldcc-20140209\"\n",
        "file_name = \"kaden-channel\"\n",
        "\n",
        "read_file_csv = \"kaden-channel_20200405003708.csv\"\n",
        "read_bk_csv = True\n",
        "\n",
        "if read_bk_csv:\n",
        "    register_documents = pd.read_csv(DATA_DIR + '/' +  read_file_csv, index_col=0)   \n",
        "else:\n",
        "    register_documents = load_ldcc_to_pd(DATA_DIR + '/' + file_name)\n",
        "    # csvファイルに出力\n",
        "    now = datetime.datetime.now().strftime('%Y%m%d%H%M%S')\n",
        "    register_documents.to_csv(DATA_DIR + '/' + file_name + '_' + now + '.csv')\n",
        "\n",
        "register_documents.head(3)"
      ],
      "execution_count": 32,
      "outputs": [
        {
          "output_type": "execute_result",
          "data": {
            "text/html": [
              "<div>\n",
              "<style scoped>\n",
              "    .dataframe tbody tr th:only-of-type {\n",
              "        vertical-align: middle;\n",
              "    }\n",
              "\n",
              "    .dataframe tbody tr th {\n",
              "        vertical-align: top;\n",
              "    }\n",
              "\n",
              "    .dataframe thead th {\n",
              "        text-align: right;\n",
              "    }\n",
              "</style>\n",
              "<table border=\"1\" class=\"dataframe\">\n",
              "  <thead>\n",
              "    <tr style=\"text-align: right;\">\n",
              "      <th></th>\n",
              "      <th>title</th>\n",
              "      <th>url</th>\n",
              "      <th>time</th>\n",
              "      <th>text</th>\n",
              "    </tr>\n",
              "  </thead>\n",
              "  <tbody>\n",
              "    <tr>\n",
              "      <th>1</th>\n",
              "      <td>Hulu、ついに待望のApple TVに対応！一周年記念で「Hulu アンバサダープロジェク...</td>\n",
              "      <td>http://news.livedoor.com/article/detail/6919353/</td>\n",
              "      <td>2012-09-04T17:00:00+0900</td>\n",
              "      <td>Hulu、ついに待望のApple TVに対応！一周年記念で「Hulu アンバサダープロジェク...</td>\n",
              "    </tr>\n",
              "    <tr>\n",
              "      <th>2</th>\n",
              "      <td>【ニュース】電力使用量９日が８社管内で今夏最高</td>\n",
              "      <td>http://news.livedoor.com/article/detail/5774093/</td>\n",
              "      <td>2011-08-10T10:00:00+0900</td>\n",
              "      <td>【ニュース】電力使用量９日が８社管内で今夏最高気温が高い日が続く。特に９日は各地で気温が上が...</td>\n",
              "    </tr>\n",
              "    <tr>\n",
              "      <th>3</th>\n",
              "      <td>【ガイガーカウンター特集】これなら手が届く！2万円以下の家庭用放射線計測器大集合</td>\n",
              "      <td>http://news.livedoor.com/article/detail/5778048/</td>\n",
              "      <td>2011-08-11T15:00:00+0900</td>\n",
              "      <td>【ガイガーカウンター特集】これなら手が届く！2万円以下の家庭用放射線計測器大集合家電チャンネ...</td>\n",
              "    </tr>\n",
              "  </tbody>\n",
              "</table>\n",
              "</div>"
            ],
            "text/plain": [
              "                                               title  ...                                               text\n",
              "1  Hulu、ついに待望のApple TVに対応！一周年記念で「Hulu アンバサダープロジェク...  ...  Hulu、ついに待望のApple TVに対応！一周年記念で「Hulu アンバサダープロジェク...\n",
              "2                            【ニュース】電力使用量９日が８社管内で今夏最高  ...  【ニュース】電力使用量９日が８社管内で今夏最高気温が高い日が続く。特に９日は各地で気温が上が...\n",
              "3           【ガイガーカウンター特集】これなら手が届く！2万円以下の家庭用放射線計測器大集合  ...  【ガイガーカウンター特集】これなら手が届く！2万円以下の家庭用放射線計測器大集合家電チャンネ...\n",
              "\n",
              "[3 rows x 4 columns]"
            ]
          },
          "metadata": {
            "tags": []
          },
          "execution_count": 32
        }
      ]
    },
    {
      "cell_type": "markdown",
      "metadata": {
        "id": "X35eE2IhxT0L",
        "colab_type": "text"
      },
      "source": [
        "### ELMoで文書ベクトルを算出"
      ]
    },
    {
      "cell_type": "code",
      "metadata": {
        "id": "hGKm_QpGBoij",
        "colab_type": "code",
        "colab": {
          "base_uri": "https://localhost:8080/",
          "height": 35
        },
        "outputId": "f472c463-cbf1-48cf-e6da-acc4da4fffb3"
      },
      "source": [
        "DATA_DIR = \"./datasets/ldcc-20140209\"\n",
        "file_name = \"kaden-channel\"\n",
        "TEXT_COLUMN = \"text\"\n",
        "\n",
        "read_file_pickle = \"kaden-channel_20200405015516.pkl\"\n",
        "read_bk_pickle = True\n",
        "\n",
        "if read_bk_pickle:\n",
        "    with open(DATA_DIR + '/' + read_file_pickle, 'rb') as f_pkl:\n",
        "       register_documents_vec = pickle.load(f_pkl)\n",
        "else:\n",
        "    register_documents_words_vec = predict_word_vec(elmo_model, register_documents[TEXT_COLUMN].values)\n",
        "    register_documents_vec = calc_doc_vec(register_documents_words_vec)\n",
        "    # pklファイルに出力\n",
        "    now = datetime.datetime.now().strftime('%Y%m%d%H%M%S')\n",
        "    export_pkl_file = DATA_DIR + '/' + file_name + '_' + now + '.pkl'\n",
        "    with open(export_pkl_file, mode='wb') as f:\n",
        "        pickle.dump(register_documents_vec, f)\n",
        "\n",
        "print(\"文書ベクトルの次元数確認{shape}\".format(shape=register_documents_vec.shape))"
      ],
      "execution_count": 48,
      "outputs": [
        {
          "output_type": "stream",
          "text": [
            "文書ベクトルの次元数確認(864, 1024)\n"
          ],
          "name": "stdout"
        }
      ]
    },
    {
      "cell_type": "markdown",
      "metadata": {
        "id": "jQOKqWCe0_pU",
        "colab_type": "text"
      },
      "source": [
        "### Indexを登録する特徴量空間の定義\n",
        "検索アルゴリズムと必要な初期値はこちら参照<br>\n",
        "https://github.com/facebookresearch/faiss/wiki/Faiss-indexes"
      ]
    },
    {
      "cell_type": "code",
      "metadata": {
        "id": "03WIJa2V1HHT",
        "colab_type": "code",
        "colab": {}
      },
      "source": [
        "# 登録するデータ1件分の次元数\n",
        "vector_dim = register_documents_vec.shape[1]\n",
        "# 分割する領域の数\n",
        "voronoi_num = 20\n",
        "# 検索時に含める近傍の領域の数\n",
        "voronoi_near = 10"
      ],
      "execution_count": 0,
      "outputs": []
    },
    {
      "cell_type": "markdown",
      "metadata": {
        "id": "rkEWCl4m7Naz",
        "colab_type": "text"
      },
      "source": [
        "#### 高速な近似アルゴリズムIndeIVFFlatを使用\n",
        "https://github.com/facebookresearch/faiss/wiki/Faster-search"
      ]
    },
    {
      "cell_type": "code",
      "metadata": {
        "id": "8sHCpxjz2r_-",
        "colab_type": "code",
        "colab": {}
      },
      "source": [
        "quantizer = faiss.IndexFlatL2(vector_dim)\n",
        "index = faiss.IndexIVFFlat(quantizer, vector_dim, voronoi_num)"
      ],
      "execution_count": 0,
      "outputs": []
    },
    {
      "cell_type": "markdown",
      "metadata": {
        "id": "WiD-hAM6pV76",
        "colab_type": "text"
      },
      "source": [
        "### Indexへの追加（+ボロノイ領域の学習）"
      ]
    },
    {
      "cell_type": "code",
      "metadata": {
        "id": "rulP2T397slF",
        "colab_type": "code",
        "colab": {}
      },
      "source": [
        "assert not index.is_trained\n",
        "index.train(register_documents_vec)\n",
        "assert index.is_trained"
      ],
      "execution_count": 0,
      "outputs": []
    },
    {
      "cell_type": "code",
      "metadata": {
        "id": "JiHNaJKPACX8",
        "colab_type": "code",
        "outputId": "784deb80-89ce-49ea-9aa2-ce24f62d89dd",
        "colab": {
          "base_uri": "https://localhost:8080/",
          "height": 53
        }
      },
      "source": [
        "# idの付与\n",
        "ids = np.arange(start=1, stop=register_documents_vec.shape[0]+1)\n",
        "print(\"idsの長さ{size}\".format(size=len(ids)))\n",
        "ids[:5]"
      ],
      "execution_count": 37,
      "outputs": [
        {
          "output_type": "stream",
          "text": [
            "idsの長さ864\n"
          ],
          "name": "stdout"
        },
        {
          "output_type": "execute_result",
          "data": {
            "text/plain": [
              "array([1, 2, 3, 4, 5])"
            ]
          },
          "metadata": {
            "tags": []
          },
          "execution_count": 37
        }
      ]
    },
    {
      "cell_type": "code",
      "metadata": {
        "id": "L0nYgcv4jA5h",
        "colab_type": "code",
        "colab": {}
      },
      "source": [
        "index.add_with_ids(register_documents_vec, ids) "
      ],
      "execution_count": 0,
      "outputs": []
    },
    {
      "cell_type": "markdown",
      "metadata": {
        "id": "BMF4DW_wJvB3",
        "colab_type": "text"
      },
      "source": [
        "#### 結果の保存"
      ]
    },
    {
      "cell_type": "code",
      "metadata": {
        "id": "OMQK6fV4JW_P",
        "colab_type": "code",
        "colab": {}
      },
      "source": [
        "EXPORT_DIR = \"./exports\"\n",
        "now = datetime.datetime.now().strftime('%Y%m%d%H%M%S')"
      ],
      "execution_count": 0,
      "outputs": []
    },
    {
      "cell_type": "code",
      "metadata": {
        "id": "9DkRMnH-JooW",
        "colab_type": "code",
        "colab": {}
      },
      "source": [
        "faiss.write_index(index, EXPORT_DIR + \"/features_\" + now + \".index\")"
      ],
      "execution_count": 0,
      "outputs": []
    },
    {
      "cell_type": "markdown",
      "metadata": {
        "id": "7QjRaPWQKXfg",
        "colab_type": "text"
      },
      "source": [
        "## 検索エンジンにクエリを投げてみる"
      ]
    },
    {
      "cell_type": "markdown",
      "metadata": {
        "id": "9W9rEZvyMWfS",
        "colab_type": "text"
      },
      "source": [
        "#### 質問文の前処理"
      ]
    },
    {
      "cell_type": "code",
      "metadata": {
        "id": "TDa6y-Oj8U5m",
        "colab_type": "code",
        "colab": {}
      },
      "source": [
        "# 質問文\n",
        "queries = [\"新作のカメラに関する記事\", \"Macの新作\", \"コンピュータ\", \"Microsoftに関する記事\"]"
      ],
      "execution_count": 0,
      "outputs": []
    },
    {
      "cell_type": "code",
      "metadata": {
        "id": "tNdkibKg89z4",
        "colab_type": "code",
        "outputId": "c67f2ff6-356b-4c7d-ec26-a21e66257dfe",
        "colab": {
          "base_uri": "https://localhost:8080/",
          "height": 89
        }
      },
      "source": [
        "# ELMoで単語ベクトルに変換\n",
        "queries_words_vec = predict_word_vec(elmo_model, queries)\n",
        "# 文書ベクトルに変換\n",
        "queries_vec = calc_doc_vec(queries_words_vec)\n",
        "print(\"入力の次元{shape}\".format(shape=queries_vec.shape))"
      ],
      "execution_count": 52,
      "outputs": [
        {
          "output_type": "stream",
          "text": [
            "2020-04-05 02:06:16,311 INFO: 1 batches, avg len: 11.8\n"
          ],
          "name": "stderr"
        },
        {
          "output_type": "stream",
          "text": [
            "実行時間:0:00:00.082174\n",
            "実行時間:0:00:00.000594\n",
            "入力の次元(4, 1024)\n"
          ],
          "name": "stdout"
        }
      ]
    },
    {
      "cell_type": "markdown",
      "metadata": {
        "id": "j1xnqCIeMVw1",
        "colab_type": "text"
      },
      "source": [
        "#### インデックスから類似文を検索する"
      ]
    },
    {
      "cell_type": "code",
      "metadata": {
        "id": "G_I7pCukP1fA",
        "colab_type": "code",
        "colab": {}
      },
      "source": [
        "@time_watch\n",
        "def search_doc(queries_vec, search_doc_num, index):\n",
        "    \"\"\"\n",
        "    類似文章の検索\n",
        "\n",
        "    Parameters\n",
        "    -----\n",
        "    queries_vec : ndarray\n",
        "    search_doc_num : int\n",
        "        何件分まで検索してくるか\n",
        "    index : index_obj\n",
        "        faissのindexオブジェクト\n",
        "\n",
        "    Returns\n",
        "    -----\n",
        "    D : D_obj\n",
        "    I : I_obj\n",
        "    \"\"\"\n",
        "    d, i = index.search(queries_vec, search_doc_num)\n",
        "    return d, i"
      ],
      "execution_count": 0,
      "outputs": []
    },
    {
      "cell_type": "code",
      "metadata": {
        "id": "OiPszZm1MQeG",
        "colab_type": "code",
        "outputId": "02df8a32-242c-4824-b6f0-f1b4e926b392",
        "colab": {
          "base_uri": "https://localhost:8080/",
          "height": 35
        }
      },
      "source": [
        "# 取得したい結果の件数を設定\n",
        "search_doc_num = 15\n",
        "\n",
        "results_distances, results_ids = search_doc(queries_vec, search_doc_num, index)"
      ],
      "execution_count": 68,
      "outputs": [
        {
          "output_type": "stream",
          "text": [
            "実行時間:0:00:00.000728\n"
          ],
          "name": "stdout"
        }
      ]
    },
    {
      "cell_type": "code",
      "metadata": {
        "id": "nMFQ-WZ-M4WU",
        "colab_type": "code",
        "outputId": "8976685e-1514-431b-dc57-6cd58d03ef8e",
        "colab": {
          "base_uri": "https://localhost:8080/",
          "height": 1000
        }
      },
      "source": [
        "# 結果の描画\n",
        "for i, (result_distances, result_ids) in enumerate(zip(results_distances, results_ids)):\n",
        "    \n",
        "    print(\"{i}番目の検索クエリ:{query}\".format(i=i+1, query=queries[i]))\n",
        "    print(\"-----検索結果-----\")\n",
        "\n",
        "    for j, (result_distance, result_id) in enumerate(zip(result_distances, result_ids)):\n",
        "        if result_id != -1:\n",
        "            print(\"第{j}位\\t文書id:{id} 「{title}」 url:（{url}）\"\n",
        "            .format(j=j+1, id=result_id, title=register_documents[\"title\"][result_id], url=register_documents[\"url\"][result_id]))\n",
        "            print(\"\\t（距離{distance}）\\t記事の内容{text}\\n\".format(distance=result_distance, text=register_documents[\"text\"][result_id]))\n",
        "\n",
        "    print(\"-----{i}番目の結果ここまで-----\\n\\n\".format(i=i+1))"
      ],
      "execution_count": 70,
      "outputs": [
        {
          "output_type": "stream",
          "text": [
            "1番目の検索クエリ:新作のカメラに関する記事\n",
            "-----検索結果-----\n",
            "第1位\t文書id:61 「パナソニックが新「エコナビ」キャンペーンを開始！ナビゲーターに吉瀬美智子さん」 url:（http://news.livedoor.com/article/detail/5841998/）\n",
            "\t（距離13.453042030334473）\t記事の内容パナソニックが新「エコナビ」キャンペーンを開始！ナビゲーターに吉瀬美智子さんパナソニックは9月6日に開催した記者発表会で、家電がムダを見つけて節電をする「エコナビ」機能を普及する、新「エコナビ」キャンペーンを発表した。会場にはナビゲーターを務める女優の吉瀬美智子さんが登場した。パナソニックは、最適なエコを考え家電自らが節電する「エコナビ」を搭載した家電を2009年秋より発売している。今回スタートした新しいキャンペーンでは節電を頑張る人をテレビや新聞・雑誌等で応援するということだ。またすでに実施されていた「エコナビ塔載の植樹対象商品1台で、1本の植樹を！」キャンペーンも、対象商品を拡大して継続される。植樹については「子どもたちに、希望の桜を贈ろう！」をテーマに、東北をはじめとする小学校、幼稚園、保育園に、桜の苗木を贈るということだ。東日本大震災で被害を受けた被災地に桜の花が咲くことになる。ナビゲーターの吉瀬美智子さんは会場で、自身の行っていることとして「エアコンの温度設定を上げる」という身近な節電方法を話した。また、昨年末に結婚をしている吉瀬さんは「使わない電気を主人がつけっぱなしにしているときには、私が消しています」と結婚生活の様子も語った。エコナビ（パナソニック）■関連記事・食品の収納スペースアップで冷気の漏れを押さえるパナソニックのトップユニット冷蔵庫新発売・ハンガーに掛けたままスピード乾燥！シャープ、プラズマクラスター洗濯機がパワーアップ・【話題】地デジ化をきっかけに、テレビ離れが増加？・皇居ランのお供に！アディダスランベースがウォークマン無料貸し出しへ・パナソニック新発売のエアコンは新開発「トップユニット」構造の「Xシリーズ」\n",
            "\n",
            "第2位\t文書id:434 「子どもだけにはもったいない！トイストーリーの世界を体験できそうなカメラ付きミニカー【話題】」 url:（http://news.livedoor.com/article/detail/6168123/）\n",
            "\t（距離13.528173446655273）\t記事の内容子どもだけにはもったいない！トイストーリーの世界を体験できそうなカメラ付きミニカー【話題】子ども向けのおもちゃなのだが、ミニカーからの視点で動画を撮影できるおもしろいキットがある。これは小型のビデオカメラが搭載されたミニカーで走らせながら動画を撮影することができる。USBケーブルでパソコンと接続することで、動画の分割や音楽を加えたりの効果も追加するなどの編集作業も行える。USBなどとセットで販売されているが、大人からも注目されている。低い視点で、周りの景色を見ることでおもちゃになった気分も味わうことができるだろう。HOT WHEELSR VIDEO RACER™ Micro Camera Car■関連記事・原因は韓国の勢い−ソニーが家庭向け有機ELテレビの販売・製造から撤退 【ニュース】・視聴者の感覚とズレズレ！声だけ出演の映画も公開決定で紳助復帰の気配？【話題】・アートをもっと楽しむ！キース・へリング展にARが採用される【話題】・「上からマリコ」はやっぱりサディスティックだった！AKB前田敦子がツイッターでネタにされる【話題】・毎日新聞が正月ボケ！「北朝鮮」を「北挑戦」に、「年度代表馬」を「年度代表場」に【話題】\n",
            "\n",
            "第3位\t文書id:215 「感想をシェアしながら映画鑑賞！ニコニコ動画がワーナーと連携し映画配信【話題】」 url:（http://news.livedoor.com/article/detail/6028153/）\n",
            "\t（距離13.603996276855469）\t記事の内容感想をシェアしながら映画鑑賞！ニコニコ動画がワーナーと連携し映画配信【話題】動画に書き込んだコメントが流れることが特徴のニコニコ動画。ここに新しいコンテンツが登場した。ワーナーホームビデオと連携して、「ハリー・ポッター」などの映画の配信がスタートする。14日午後に、ニコニコチャンネルに映画専門サイトが開設された。映画も従来の動画と同じように鑑賞しながらコメントを投稿することができる。コメントの表示は映像の上ではなく上下になるということだ。このチャンネルでは「ハリー・ポッターと死の秘宝PART2」を、DVDリリースに合わせて16日0時から上映する。こうした上映会のほか、オンデマンドで作品を楽しむことができる。料金はプレミアム会員が新作100円、旧作50円で一般会員が新作400円、旧作300円。コメント機能についてはネタバレ等の心配が少しあるが、ひとりで映画を見ながらも感想や突っ込みを共有することができる楽しみは魅力だ。日本上陸後、ブラビアでも視聴が可能になり話題の動画配信サービスに「Hulu」があるが、手軽に自宅で映画や番組を楽しむことができるようになっている。クリスマスや暮れに家族で映画をレンタルし団らんを楽しむ家庭も多いと思うが、これからは外に出ずに楽しむことが主流になりそうだ。11月14日（月）から「ニコニコ動画」で“映画作品視聴”が可能に！〜プレミアム会員は新作100円、旧作50円で観られる「ニコニコ映画上映会」もスタート！！〜 （ニワンゴ）（PDF）■関連記事日本上陸で話題の動画配信サービスHuluがブラビアでも視聴可能に■関連記事・やはり気になる……ガイガーカウンターの購入を考える人は全体の17．2％【話題】・次世代Xbox 720は年明けすぐに発表か？この冬買いたいゲーム機をおさらいしよう【話題】・Facebookでクリックジャック被害が多数発生！怪しい画像がプロフィールに掲載され大迷惑【話題】・新しいモデルの登場か！？アップルTVのうわさ【話題】・トレッキング用ストックがカメラの一脚にも２００−ＣＡＭ０１７【売れ筋チェック】\n",
            "\n",
            "第4位\t文書id:619 「魁!! ビデオ道場2012年3月号【ビデオSALON】」 url:（http://news.livedoor.com/article/detail/6349738/）\n",
            "\t（距離13.6341552734375）\t記事の内容魁!! ビデオ道場2012年3月号【ビデオSALON】読者の投稿コーナー「ビデオパーク」が2012年１月号より「魁!! ビデオ道場」にリニューアルしました。毎月１作品を「大賞」、次点の作品若干数を「入賞」としてセレクト。大賞受賞者には金２万円とオリジナルステッカー２枚、入賞者にはステッカー１枚を贈呈する新システムを導入しました。詳細は誌面をご覧ください。今回はリニューアル後第3回目の掲載作品を紹介します。【大賞】地域行事「山鹿灯籠」７分59秒森本美代子さん（福岡県飯塚市）撮影／ソニー HXR-MC 50J編集／プレミアプロCS4神秘的な“山鹿灯籠の列また列”は圧巻。どことなく異国情緒も手伝って、別世界を体験できた。作りは灯籠師による製作過程からきっちり追っており、クライマックスに向けてのストーリー性も感じる。きらりと光る作品。☆【入賞】行楽ビデオ「ヴォルテックスパワーで」７分40秒加藤須満子さん（東京都小平市）撮影／キヤノン iVIS HV20編集／プレミアプロCS4息子さんの住むアメリカにご主人と共に乗り込んでの作品。雄大な景観もすばらしいが、孫と祖父、作者と息子、そして夫婦の、同時進行する家族愛を感じるのもこの作品の特徴。ラストのスローモーションが効果的。☆【入賞】ドキュメント「鳥になった少年」８分藤村正夫さん（埼玉県草加市）撮影／ソニー HDR-FX7編集／プレミアプロ人力のゴム曵きによるグライダー訓練作品の最新版。今回はいろいろな手法を用いて編集にも力が入った作品になっている。ストーリーとして劇的な展開もあり、良質のドキュメント仕立て。テンポの良さも作者の真骨頂。☆行楽ビデオ「Short trip忍野八海」６分15秒田中憲司さん（東京都調布市）撮影／キヤノン EOS 5D、ニコン D300S編集／エディウス6今回も「田中ワールド」満開。透き通った水で有名な富士山の名景勝地「忍野八海」を、移動ショットと超広角レンズでばっさりと切る。沢山ある池の色が一眼ムービーの濃い色味で、この地の幻想感が増している。☆地域行事「夏だより 納涼花火大会 ひみのはなび」４分44秒後藤輝男さん（富山県高岡市）撮影／パナソニック NV-GS500編集／プレミアプロ2.0地元方言の語りが良い。花火の映像をいろいろなシーンにオーバーラップさせ「花火」を作品の視点として構成したりと、なかなか凝った内容。今ではあまり見かけない「ビデオレター」的な作りも良い。☆ドキュメント「いつか大空へ飛び立つ日を夢みて」６分21秒斎藤幸郎さん（三重県伊勢市）撮影／パナソニック TM60編集／エディウスネオ２実時間よりも長い時間が経ったように感じる風変わりな世界観。1羽の鳥の様々なショットの連続が、とても大きな物語を作っている。黒い鳥の大きな羽との対比がgood。古き良きヨーロッパ映画のような佳作。観察ビデオ「蝉の脱皮」３分57秒古賀靖子さん（福岡県大牟田市）撮影／キヤノン iVIS HV30編集／エディウス6挑戦すると意外に難しいのがこの「蝉の脱皮」の撮影。定点観測で固定すると意表をついた動きをするし、じっと見ていると動かないのに、ちょっとよそ見すると動く…。時刻表記はアナログ時計でも面白かったかもしれない。☆スポット紹介「下関出張」３分48秒高木 茂さん（東京都西東京市）撮影／ソニー DSC-HX7V編集／エディウス６今回は出張の空き時間での撮影。何処か異国情緒と歴史を携えた下関の個性のせいか、いつもと少々テイストが違うように感じる。本州でありながら九州、はたまた外国を感じるこの町の、どこか異質なさまが良く出た作品。☆行楽ビデオ「大自然紀行 アラスカ大氷河」８分竹島 猛さん（静岡県掛川市）撮影／ソニー HDR-HC7編集／プレミアプロ船と飛行機から撮った広大なアラスカ大氷河の映像。「行ってみなければ解らないことを人に伝える」のは難しいが、作者の「あれもこれも見せたい」気持ちは伝わってくる。作者のつぶやき的な感想も聞きたかった。☆スポット紹介「雲出川の沈下橋」６分59秒山本勝久さん（三重県津市）撮影／ソニー HDR-SR12編集／プレミアプロCS4面白い題材で、知らない人にはひじょうに珍しい。ただ、「沈下橋見学ツアー」なのか「沈下橋を紹介したい」のか視点を統一した方が良い。☆行楽ビデオ「新緑と紅葉を求めて」８分林田敏美さん（長崎県諫早市）撮影／ソニー HVR-V1J編集／プレミアプロCS5雲仙の新緑と紅葉を両方楽しもうという作品。単調になってしまいがちな題材を、まるでワイプのデモンストレーションのような多彩さで演出。ワイプの後先の構図をもう少し厳選すると効果が変わるのでは？☆☆☆■ビデオSALONイベント・製品レポート 最新記事・MOOK「デジタルムービー実践ガイドブック」映像リンク情報・第12回上映 雨宮真五 監督作品『Shooting Memories』・連載●After Effects 天国への階段第12回・魁!! ビデオ道場2012年3月号◆ビデオサロン2012年3月号http://www.genkosha.co.jp/vs/backnumber/960.html■関連記事・iPad/iPhone/iPod touchのスピーカー＋充電スタンド＋デュアルアラームクロックの三役をこなす—『ロジクール ベッドサイド ドック』待望の発売再開！【売れ筋チェック】・震災特番が大コケ！「めちゃイケ」は何を間違ったのか？【話題】・グーグルプラスで衝撃！AKB前田敦子が顔面センターをついに持ちネタ化し好感度アップ【話題】・新しいものさしになる？ツイッターで好感度があがる芸能人と下がる芸能人【話題】・以前の方が面白かった？学生が選ぶ「復活してほしいバラエティ」に納得の声【話題】\n",
            "\n",
            "第5位\t文書id:598 「「かわいく撮って」と小林星蘭ちゃんにお願いされたのでSONY一押しのハンディカムで撮ってきました！【売れ筋チェック】」 url:（http://news.livedoor.com/article/detail/6330261/）\n",
            "\t（距離13.850903511047363）\t記事の内容「かわいく撮って」と小林星蘭ちゃんにお願いされたのでSONY一押しのハンディカムで撮ってきました！【売れ筋チェック】ソニーから３月９日に発売されるデジタルハイビジョンハンディカム「HDR-PJ760V」。従来比約13倍の手ブレ補正能力と搭載されている高性能プロジェクターが特徴だ。このハンディカムを使って、遊園地で遊ぶ人気子役の小林星蘭ちゃんを撮影してきた。メリーゴーランドに乗る、星蘭ちゃん。上下にも動くメリーゴーランドだが、はっきりと表情を撮ることができる。手の中にすっぽり収まるサイズで、歩きながらや子どもを追いかけながら撮影することも簡単なのでお母さんにはうれしい。歩きながら撮るときに、手ブレ補正能力の高さを実感することができる。イベント終了後に「はしゃぎすぎた」とコメントした星蘭ちゃん。子どものかわいい姿はやっぱりたくさん残しておきたいものだ。広角から望遠までの全撮影範囲で手ブレ補正能力を向上世界初※1「空間光学手ブレ補正」を搭載した“ハンディカム”など計6機種発売■関連記事・日立からホール・大会議室向け高輝度液晶プロジェクター新発売【売れ筋チェック】・ついにターミネーターの世界が現実に!? —2012年中にグーグルがサングラス型のコンピューターを発売予定【話題】・NEX-7とNEX-5Nを比べてみた【ビデオSALON】・どっちが問題？韓国ロケで激怒する中国人女優と、それをバッシングする韓国人【話題】・CP＋2012動画関連で気になった展示【ビデオSALON】\n",
            "\n",
            "第6位\t文書id:188 「きっかけは知事のつぶやき！ジョジョの荒木飛呂彦氏イラストで岩手県HPがダウン【話題】」 url:（http://news.livedoor.com/article/detail/5999626/）\n",
            "\t（距離14.002912521362305）\t記事の内容きっかけは知事のつぶやき！ジョジョの荒木飛呂彦氏イラストで岩手県HPがダウン【話題】マンガ家の荒木飛呂彦氏が世界遺産に登録された岩手県「平泉」のイラストを描き岩手県のHPに掲載した。それを岩手県知事の達増拓也氏がツイッターでつぶやいたところ、HPにアクセスが集中し、一時ダウンする騒ぎになった。岩手県のHPは毎日約8000アクセスがあるが、知事のツイッターをきっかけに予想以上のアクセスが集中したということだ。岩手県はこの注目をきっかけに若い人への関心が高まればいいとしている。今回、荒木氏が手がけたイラストは、復興への決意を盛り込んだ県の「東北復興平泉宣言」をもとに描かれている。人気の荒木氏のイラストをきっかけにますます復興に向けて前進してもらいたいものだ。ツイッター：「荒木飛呂彦氏がイラスト」ＨＰ一時ダウン（毎日新聞）■関連記事・次に来るのはパカパカiPhone！？アップルが新たに行った特許申請に夢が広がる【話題】・高性能な高品位ボディ！パナソニックがフラットタイプミラーレス一眼「ＬＵＭＩＸＤＭＣ−ＧＸ１」を発売・iPhoneで禁止になったアプリがアンドロイドに登場！発熱するカイロアプリ「ホカホン」【話題】・超音波で洗浄、オゾンで除菌—野菜洗浄器「くりん棒」【売れ筋チェック】・恐竜やイルカが目の前に現れる！拡張現実技術（AR)を使った楽しいプロモーション【話題】\n",
            "\n",
            "第7位\t文書id:253 「第8回上映 中野 森 監督作品 『今日は秋刀魚の日』【ビデオSALON】」 url:（http://news.livedoor.com/article/detail/6064566/）\n",
            "\t（距離14.008262634277344）\t記事の内容第8回上映 中野 森 監督作品 『今日は秋刀魚の日』【ビデオSALON】中野 森（しん）監督が「藤沢シネマ」の企画書を提出したのは3月のこと。当初から秋をテーマにした企画になっており、一眼ムービーで「食」の魅力も表現したいと秋刀魚を題材にしてきた。写真では表現できない世界に挑戦すると言う。映像ディレクターとして会社勤めの傍ら、映画＆演劇企画団体「ピースカンパニークルー」を主宰。舞台の演出までこなす。撮影当日は気心が知れたスタッフとともに、見事なチームワークで現場を回していたのが印象的だった。おじいさん役との共演も初だが、金子さんの感情のこもった台詞回しに引っ張られた藤沢さんの演技にも注目。「藤沢シネマ」としては初の主題歌も用意されている。さて、上映時間になりました！○『今日は秋刀魚の日』あらすじシノブ（藤沢）の祖父ケンジ（金子）は毎月30日には秋刀魚を焼いて食べていた。ある日、失恋したシノブは生涯をかけた祖父の恋の話を聞くことに。少女が少しだけ大人になる。●カメラ：キヤノンEOS 7D / ●編集：Final Cut Pro 7 / ●上映時間：8分06秒脚本・監督・撮影・編集●中野 森▲映画＆演劇企画団体「ピースカンパニークルー」代表。毎年夏には演劇公演と映画上映を併せた「ピーカンフェス」を開催している。ピースカンパニークルー公式HP●http://piececompanycrew.web.fc2.com主演／藤沢シノブ（17）役●藤沢玲花▲両親と祖父と暮らす高校二年生。柔道をやっているせいか男勝りの性格。入学当時からつき合っていた先輩に突然振られてしまう。藤沢玲花さんの公式HP（ジェイライブ） ●http://jlive.tv/reika.html藤沢ケンジ（70）役●金子一夫▲明るくて優しいおじいさん。昔は漁師。孫のシノブからは「けんじい」と呼ばれ仲がいい。毎月30日には七輪を出して秋刀魚を焼く。制作スタッフ準主演の秋刀魚と供に最高の笑顔！ 後列左から制作と若かりしケンジ役を演じた平井智章さん、録音の中川 望さん、中央左から助監督の門脇 萌さん、撮影助手の左居結城さん、照明の羽倉大地さん。題字●松田沙弓小道具●加藤 舞主題歌●「I wanna be with you」山田智子○制作後記 / 中野 森「良い短編映画を作るには、良い短編映画用のシナリオが必要である。短い時間の中にも、ちゃんとした起承転結のあるドラマを作ろう」…そんなことを思いながら、まずは脚本家としての戦いです。今回の企画に関係なく、映像作品を作るにはいつだって、時間にも制作費にも厳しい制約はつきもの。しかし、その制約が逆に想像力を豊かにしてくれます。秋の店頭に並ぶ雑誌の中に、どんな物語があれば楽しいか。モチーフは秋の風物詩、「秋刀魚」に決定。作品を観た後は思わず「今夜は秋刀魚にしよう」と言ってもらえるような、ユニークな映画を作ろう。数回のロケハンの後、撮影場所を決定。シナリオにピッタリなのはもちろん、移動時間を考慮して選びました。最近よく感じるのは、一眼ムービーによる少人数での撮影だと、スタジオやロケ地にかかる負担が減り、ロケ地の選択肢が増えるということ。撮影に入る前にも恩恵を得ています。出演者のお二人は以前からよく知る俳優。映像だけでなく、舞台演劇の場においても多くの観客たちを魅了してきた名優です。感情の動きが繊細な今回の作品。お二人には本番前に、ワンシーンごとに芝居を通してもらい、その芝居に寄り添う形で手持ちでの撮影を多用した。ワンカットワンカットがぶつ切りではなく、相手の細かい心境の変化を受けての自然な演技は、まさにいつまでも見ていたくなるような上質な演劇作品のように思えた。天候が不安定で、一時的な雨にもあったが、数々の作品づくりを共にしてきた信頼のおける仲間たちのおかげでスムーズに撮影終了。しかし、映画とは撮影現場だけで生み出されるものではありません。主題歌、タイトルのデザインは前もって別の方たちに依頼。主題歌に関しては、役作りの段階で俳優さんにも聞いてもらいました。いくつもの才能が集まって、よりよい作品が生まれる。映画が『総合芸術』と呼ばれる所以です。それではご覧ください。ご鑑賞の後は、ぜひ美味しい秋刀魚を！作品の感想はこちらまでvideo@genkosha.co.jp■ビデオSALONイベント・製品レポート 最新記事・【Special Report】ミドルレンジのビデオ制作者の有志が集まって結成したHD Usersが選んだATEM 1M/E Switcher・第9回上映 中平悠里 監督作品『猫と少女の物語』・連載●After Effects 天国への階段第9回・【記事連動】音の編集講座「音量の合わせ方」■ビデオSALON11月号■関連記事・盗んだものは「電気１円分」！民家に洗濯機持ち込み使った男が逮捕【ニュース】・失業率の高さも原因か…アメリカの年末商戦、今年は家電も超激安！【話題】・中の人はこんなに大変！クリスマス商戦でアマゾン倉庫は大忙しに【話題】・お金が欲しい！ウィキペディアが寄付を募るも日本からの寄付は世界最低レベル【話題】・マウス本体があなたの手を温める！— 上海問屋 DN-YKS-GMHT-USB【売れ筋チェック】\n",
            "\n",
            "第8位\t文書id:430 「年末年始はフジテレビが大騒ぎ！ものまね問題に続き、元日は収録映像を生と放送疑惑【話題】」 url:（http://news.livedoor.com/article/detail/6162712/）\n",
            "\t（距離14.0322847366333）\t記事の内容年末年始はフジテレビが大騒ぎ！ものまね問題に続き、元日は収録映像を生と放送疑惑【話題】年末に、ブータン国王夫妻のものまねをタレントの劇団ひとりとAKB４８の秋元才加が披露し、その出来がひどいと話題になったフジテレビ。騒ぎが収まらないうちに、今度は元日の「第44回爆笑ヒットパレード2011」が生放送ではないのではないかと話題になった。午後2時28分ごろ関東地方で震度4の地震が起きたのだが、生放送にも関わらずスタジオ内は地震に触れることなく進行したのだ。これを見ていた視聴者が「生放送じゃないのか」とネット上に書き込み話題になった。フジテレビは「録画ではない」とコメントしているが、ネット上では「またフジテレビか」という声が続出している。それにしても、年末年始はフジテレビの話題が多い。■関連記事フジテレビのものまね番組がやりすぎ？劇団ひとりとAKB48のブータン国王夫妻のものまねがひどい■関連記事・花粉対策もできる電球タイプの蛍光灯—ラブロスの「シルバーイオンライト」【売れ筋チェック】・パスポートがなくてももう大丈夫？iPadで入国できちゃった！【話題】・2012年はモバイルプロジェクター元年！新時代のプロジェクターはこんなに進化している！【売れ筋チェック】・子どもだけにはもったいない！トイストーリーの世界を体験できそうなカメラ付きミニカー【話題】・計測結果を日本全国のユーザーがアップロード、専門家が質問に答えてくれるシステム稼働開始！—エステー 家庭用放射線測定器【売れ筋チェック】\n",
            "\n",
            "第9位\t文書id:310 「今度の貞子はネットを使って呪いを拡散？「リング」シリーズ最新作の構想が明らかに【話題】」 url:（http://news.livedoor.com/article/detail/6094340/）\n",
            "\t（距離14.0615873336792）\t記事の内容今度の貞子はネットを使って呪いを拡散？「リング」シリーズ最新作の構想が明らかに【話題】人気ホラー小説「リング」の最新作について構想が明らかになった。作家の鈴木光司氏が次回作について執筆していることを発表したのだ。今までは呪いのビデオテープを使って、貞子の呪いが広がっていくというストーリーで、貞子がテレビ画面から現れるシーンが象徴的だった。鈴木氏いわく、今回の貞子はコンピューターから現れるということだ。「クラウドコンピューティング」を使って拡散する今回の呪い。ビデオテープがあまり使われなくなり、コンピューターやオンラインサービスが一般的になっている現在だからこその設定だといえるだろう。身近なサービスで広がる呪いだからこそ、リアルな恐怖を届けてくれるのではないだろうか。貞子、次はクラウドで増殖？鈴木光司氏が次回作明かす（朝日新聞）■関連記事NHKが本気を出した？来年の大河ドラマ「平清盛」はテレビ離れを食い止められるか■関連記事・アップル敗訴！中国では「iPad」の商標が使えない【話題】・恐怖！GPSを利用した勤怠管理アプリ「GPS Punch!」登場に営業マン衝撃【話題】・あなたは大丈夫？スマホでのメールチェックが仕事の妨げになっていると人事がご機嫌斜め【話題】・iPad2のカメラで顔色や胸の動きを読み取るだけ—呼吸と脈拍計測アプリ【売れ筋チェック】・気をつけて！スマホの普及で駅での事故が過去最悪か【話題】\n",
            "\n",
            "第10位\t文書id:657 「ホワイトボードは大きなタッチスクリーン、しかもUSBバスパワー！—パナソニック電子黒板「エリートパナボード」【売れ筋チェック】」 url:（http://news.livedoor.com/article/detail/6434638/）\n",
            "\t（距離14.176773071289062）\t記事の内容ホワイトボードは大きなタッチスクリーン、しかもUSBバスパワー！—パナソニック電子黒板「エリートパナボード」【売れ筋チェック】会議室には欠かせないホワイトボード。実は知らないうちに大きな進化をとげていたのだ。書いた内容をカラーでプリントアウトできるなど、もはや驚くに足らず。最近は、コンピューターと接続し、コンピューターの画面をプロジェクター投影すると、ホワイトボードをタッチスクリーンのように使ってコンピューターを操作できるようになった。指や専用のペンを使って文字を書き込むだけでなく、投影物の回転、拡大・縮小が簡単にできるジェスチャー機能に対応している（ただし２０１２年３月２８日現在の仕様においてＷｉｎｄｏｗｓ７のみ対応）。ビッグなプレゼン熱演中に、携帯用の小さなマウスでパワポのページを進めるのは、ちょっと間の悪いところがあったものだ。このホワイトボードを使えば、遠目に映える大きな身振り手振りのついでに、資料のレイアウトや見せ方も簡単に演出できてしまう。と、ここまでは既に発売されている機種の話。このラインナップに新規追加されるのが、コンピューターとのUSB接続で電源をまかない、電源コード不要という画期的な新機種。77型タイプのＵＢ−Ｔ５８０は４月下旬より、ワイド86型タイプのＵＢ−Ｔ５８０Ｗが５月下旬より発売される。ツールの力で聴衆の集中力がずいぶん違ってくるもの。社のホワイトボード買い替えのタイミングで、購買担当者に大プッシュしておきたい。パナソニック電子黒板ラインナップのHP■関連記事日立からホール・大会議室向け高輝度液晶プロジェクター新発売2012年はモバイルプロジェクター元年！新時代のプロジェクターはこんなに進化している！電子黒板機能付きやワイヤレス、新世代液晶プロジェクター今度は日立から新商品（MIYUKI KOMATSU）■関連記事・１位は友達！あなたは１週間でいちばん誰に多くメールする？【話題】・無料アプリが原因？スマホの電池がすぐに消耗される理由【話題】・ドキドキすると透けちゃう！心拍数の上昇で変化する近未来ドレスが登場【話題】・グーグルから最新情報発表！—ターミネーター風ディスプレイ付きメガネが街にやって来る!?【話題】・字が汚い人には朗報か？メモ入りの便利な付箋が作れる！カシオが「memopri（メモプリ）」を発売【売れ筋チェック】\n",
            "\n",
            "第11位\t文書id:135 「【話題】Android初心者必見！「女の子のためのアンドロイド講座」がニコ動で公開」 url:（http://news.livedoor.com/article/detail/5943211/）\n",
            "\t（距離14.192264556884766）\t記事の内容【話題】Android初心者必見！「女の子のためのアンドロイド講座」がニコ動で公開各キャリアからたくさんのスマートフォンが発売されている。女性向けのものも多いため、アンドロイドを持ってみたがうまく使いこなせていない、という人は意外に多いのではないだろうか？そんな人にオススメなのが株式会社ニワンゴが運営するニコニコ動画にて公開されている「女の子のためのアンドロイド講座 第1回」だ。この講座では、アンドロイド歴半年の実はる那さん、アンドロイドを使い始めて数日という初心者の飯田真知子さんに、株式会社ライブドアの庄司恒雄氏が使い方講座を行っている。庄司氏はPDA、スマートフォンに関わりはじめて10年のベテランだ。第1回の放送では、女性にうれしい可愛く自撮りできるアプリや美味しいお店をアンドロイドを使って探す方法などの活用方法が紹介されている。バッテリーが長持ちする方法なども紹介されているため、女性だけではなく、もちろんアンドロイド初心者の男性も楽しむことができる。この番組は今後、4回にわたって放送される予定だ。女の子のためのアンドロイド講座第1回 （ニコニコ動画）■関連記事・【話題】誰もがスマホに持つ不満はやっぱりあれ！対策法は？・【話題】日本ではどう広がる？アマゾンの電子書籍サービスが年内に日本に登場・【話題】テレビ産業が大きく変わる？パナソニックもテレビ事業を大幅縮小へ・パナソニックからプロシューマー向けの2D/3DカメラのHDC-Z10000登場【ビデオSALON】・USBとシガーソケット電源対応加湿器GH-USB-MISTM【売れ筋チェック】\n",
            "\n",
            "第12位\t文書id:499 「視聴率は上がるか？それともお茶の間が凍りつくか？NHK大河が視聴率回復へ向けて濡れ場投入【話題】」 url:（http://news.livedoor.com/article/detail/6233361/）\n",
            "\t（距離14.192767143249512）\t記事の内容視聴率は上がるか？それともお茶の間が凍りつくか？NHK大河が視聴率回復へ向けて濡れ場投入【話題】初回視聴率が17.3%と当初の期待通りとはいかなかったNHK大河ドラマ「平清盛」。視聴率回復のためにNHKが「濡れ場投入」を行うという話がある。すでに第1話でも伊東四朗演じる白河法皇が近習の女性の胸元に手を入れたり、舞子役の吹石一恵の授乳シーンなどが登場していたが、さらに過激になるとのことだ。今回大河に登場する女優陣、武井咲、松雪泰子、檀れいの濡れ場のほか、平清盛役の松山ケンイチが童貞を捨てるシーンなどRー１８レベルのシーンがいくつも登場するということだ。「大河に濡れ場など必要ない」というファンのコメントも多いが、この対策が視聴率にどう影響するのだろうか。■関連記事NHKが本気を出した？来年の大河ドラマ「平清盛」はテレビ離れを食い止められるか■関連記事・「何の自信も持てない」視聴率がとれず自信喪失のAKB前田敦子に同情の声【話題】・テレビにはもう頼れない？シャープ通期2900億円の赤字に転落【話題】・キヤノンからWi-Fi搭載の中級機が登場！【ビデオSALON】・Googleにどれくらいバレているのか？ネットで話題のユーザー属性を確認してみた【話題】・こんなに似すぎで大丈夫？ＧＲＥＥのゲームが名前もイラストもポケモンにそっくり【話題】\n",
            "\n",
            "第13位\t文書id:325 「今夜はみんなでバルス！ニコ動が今夜放送の「天空の城ラピュタ」実況生配信【話題】」 url:（http://news.livedoor.com/article/detail/6105402/）\n",
            "\t（距離14.237873077392578）\t記事の内容今夜はみんなでバルス！ニコ動が今夜放送の「天空の城ラピュタ」実況生配信【話題】ドワンゴは、「ニコニコ動画（原宿）」のニコニコ生放送において、本日20時30分から、「天空の城ラピュタ」の実況番組を配信する。21時より、日本テレビ系「金曜ロードショー」で「天空の城ラピュタ」が放送されるため、これを楽しもうという趣旨の番組だ。番組にはシータ役の声優よこざわけい子さんも電話出演をする予定だ。また、いままで２チャンネルではテレビ放送と同じタイミングで「バルス」とアニメ内のセリフを書き込むために負荷をかけすぎサーバーがダウンするという事態があったが、ニコニコ生放送は「ニコニコは『バルス』でも落ちません」とコメントしている。アニメが配信されるわけではないので、注意してもらいたいが、自宅でアニメを鑑賞予定だった人はあわせてニコ生もチェックしてみてはいかがだろう。ニコニコ映画実況 〜天空の城ラピュタ〜 みんなで一緒にジブリ作品を見よう＜テレビ実況生放送＞■関連記事・オープンしたての「Apple Store, Grand Central」の様子が公開！オープン前には行列ができる大賑わい【話題】・トイレでお小遣い稼ぎができるかも？自分のトイレを有料で貸し出すアプリ【話題】・一度は働いてみたい？グーグル社のとにかくおしゃれなロンドンオフィスが話題に【話題】・テレビ離れなんて関係ない！「家政婦のミタ」人気がすごすぎる！！【話題】・洗濯したければゲームをクリアしろ！イギリスの学生が発明した洗濯機が楽しすぎる【話題】\n",
            "\n",
            "第14位\t文書id:425 「愛菜ちゃんは転ぶも、紅白の結果は紅組が７年ぶりに優勝！【話題】」 url:（http://news.livedoor.com/article/detail/6161573/）\n",
            "\t（距離14.257753372192383）\t記事の内容愛菜ちゃんは転ぶも、紅白の結果は紅組が７年ぶりに優勝！【話題】１２月３１日に放送された「第６２回ＮＨＫ紅白歌合戦」は紅組が７年振りに勝利を収めた。ここ数年は白組の勝利が目立っていたが、ようやく紅組が勝利した。紅組では２１０人でパフォーマンスをしたAKB48や、結婚と妊娠を発表した倖田來未、K-POPブームを引っ張ったKARAや少女時代などが登場した。さらに目玉の一つであったのが人気子役の芦田愛菜と同じく子役の鈴木福。ミッキー・マウスと共に登場した二人だが、階段を下りながらステージへ向かう途中に芦田愛菜がバランスを崩すというシーンがあった。見ているものをヒヤリとさせたが、さすがの人気子役は何事もなかったかのようにその後のステージを勤め上げた。勝敗がわかったところで、次に気になるのは視聴率だ。レディー・ガガの登場や、嵐・櫻井翔のピアノ演奏など見どころの多かった紅白歌合戦。過去３年は連続して４０％を超えているだけに、この数字を切ることは許されない。■関連記事今夜の紅白、大トリはSMAP！仰天演出で視聴者を驚かせる■関連記事・計測結果を日本全国のユーザーがアップロード、専門家が質問に答えてくれるシステム稼働開始！—エステー 家庭用放射線測定器【売れ筋チェック】・次はアップルは何をする？今月末の発表会でのテーマは「メディア関係」−セルフパブリッシングについてとの噂も【話題】・「一番アカン日！」司会の今田耕司も嘆くフジテレビの大晦日は大コケ！視聴率はまさかの一桁【話題】・ドコモのｓｐモードでまたトラブル発生！今度はつながらない【話題】・実現可能？夢物語？月にメガソーラー構想で世界の総電力が発電可能に【話題】\n",
            "\n",
            "第15位\t文書id:412 「村上春樹はじめてのCM！箱根駅伝で２日間の限定放送【話題】」 url:（http://news.livedoor.com/article/detail/6154721/）\n",
            "\t（距離14.265364646911621）\t記事の内容村上春樹はじめてのCM！箱根駅伝で２日間の限定放送【話題】人気作家の村上春樹さんが、初めてCMのナレーションを書いた。これは新春恒例の箱根駅伝の中でサッポロビールの企業広告として放送される。意外にもCMを手掛けるのがはじめてだという村上さん。「走ること」をテーマに、東日本大震災を経て前へ進むというエールを込めてすでにあるエッセイを書き直したということだ。今回のCM原稿に対しての執筆料は全額日本赤十字社を通じ、被災地へ寄付される。タスキをつなぐランナーだけでなく、村上さんの言葉も日本中に勇気と元気を与えてくれるだろう。２日間の限定で放送されるこのCMは必見だ。なお、CM内では女優の仲間由紀恵さんがナレーションを務める。村上春樹さんがテレビＣＭの原稿執筆箱根駅伝で放送へ■関連記事・売れすぎて楽天ランキング１位に！ディスプレイ用のパソコンを本物と間違えてうっかり購入多発【話題】・「これからは電子書籍かな？」中日マスコットのドアラが「コアラ坂」リリースへ【話題】・あなたのIDは大丈夫？「楽天ポイント」の不正利用問題、被害規模は拡大か【ニュース】・いざという時のために！死後パスワードを家族や友人にメールしてくれるサービスがあった【話題】・冬休みだ！海外だ！iPhone使ったら高額請求書！を回避する方法【話題】\n",
            "\n",
            "-----1番目の結果ここまで-----\n",
            "\n",
            "\n",
            "2番目の検索クエリ:Macの新作\n",
            "-----検索結果-----\n",
            "第1位\t文書id:446 「ウィンドウズ版のDaVinci Resolve8.2 のパブリックベータ版がダウンロード可能に【ビデオSALON】」 url:（http://news.livedoor.com/article/detail/6182727/）\n",
            "\t（距離25.517322540283203）\t記事の内容ウィンドウズ版のDaVinci Resolve8.2 のパブリックベータ版がダウンロード可能に【ビデオSALON】ブラックマジックデザインはこのほど、 ウィンドウズ版DaVinci Resolve8.2 のパブリックベータ版がダウンロード可能となったことを発表した。ウィンドウズ版DaVinci Resolveのパブリックベータ版はフル機能搭載のDaVinci Resolve 8.2および無償版の DaVinci Resolve Lite の両方で入手可能。 ウィンドウズ版DaVinci Resolve8.2 ライセンスは Mac OS X 版も含まれており、既存のMac OS X 版を使っている人は自動的にWindows版のライセンスを入手でき、ダウンロードしてすぐに使用できる。ウィンドウズ版DaVinci Resolve ベータ版によりユーザーは、幅広い機種のハードウェアでカラーコレクションシステムを構築し、GPUを数多くのオプションから選択することが可能となる。ウィンドウズ版DaVinci Resolveは、最大4GPUまで対応している。例えば、オフィスではパワフルなマルチGPUのWindowsデスクトップPCを使用し、ドングルを抜いて撮影現場へ移動し、Mac OS X MacBook Proコンピューターにドングルを接続して使用することも可能。ソフトウェアを追加購入しなくても、いつでもOS間を移動し、グレーディングできることになる。現行のDaVinci Resolveユーザーの特典として、Mac OS X版DaVinci Resolveを既に購入していれば、同一のドングルをウィンドウズ版DaVinci Resolveでも使用できる。これで、DaVinci Resolveは3つのモデルを取り揃えることになる。無償版であるDaVinci Resolve LiteはWindowsおよびMac OS X版のダウンロードが可能。US$995のDavinci ReolveソフトウェアはMac OS X、Windowsで使用できるようになる。ちなみにコントロールサーフェス付きの完全版Resolveは、Mac OS X、Windows、そしてLinuxで使用できるようになる。ユーザーは3種類のOSから選択してカラーコレクションシステムを構築できる。DaVinci Resolve LiteWindows版ダウンロードはこちらからDaVinci Resolve SoftwareWindows版ダウンロードはこちらから■ビデオSALON 最新記事・パナソニックGH2の最新ファームウェアが公開。24Mbpsモード、AF精度が向上・DaVinci Resolve Lite 8.1 でノードが無制限に！・ソニーNXCAMのファームアップ情報・ソニープロフェッショナルセミナーを11月30日に開催■ビデオSALON最新号■関連記事・Test Report ソニーα77作例動画【ビデオSALON】・Test Report タスカム US-125M［USBオーディオインターフェイス］【ビデオSALON】・のどが痛くて歌えない！主題歌が間に合わないＡＫＢさしこはプロ失格か【話題】・編集特集・ナレーションテスト【ビデオSALON】・電子黒板機能付きやワイヤレス、新世代液晶プロジェクター今度は日立から新商品【売れ筋チェック】\n",
            "\n",
            "第2位\t文書id:239 「セミナーレポート 「EOS MOVIEセミナー〜EOS MOVIEで広がる映像の世界」【ビデオSALON】」 url:（http://news.livedoor.com/article/detail/6054293/）\n",
            "\t（距離26.92540740966797）\t記事の内容セミナーレポート 「EOS MOVIEセミナー〜EOS MOVIEで広がる映像の世界」【ビデオSALON】左が深田晃司氏。右は根岸憲一氏10月29日にTOHOシネマズ六本木ヒルズ「プレミアスクリーン」において「EOS MOVIEセミナー〜EOS MOVIEで広がる映像の世界」が開催された。出演は映画監督の深田晃司氏と撮影監督の根岸憲一氏。司会進行はビデオサロンの一柳編集長が担当。全編EOS 7Dで撮影された『歓待』は第23回TIFF「日本映画・ある視点」作品賞を受賞。監督・脚本・編集の深田氏と撮影監督の根岸氏が本作品のダイジェスト映像を見ながら作品を丁寧に解説。7Dを気に入り個人的に本機を購入したと語る根岸氏は、映画撮影に適した改造方法やライティングの工夫等を詳しく紹介した。映画撮影用にカスタマイズされた7D（上）。映画撮影現場での根岸氏（下）◆映画『歓待』公式サイトはこちら。http://kantai-hospitalite.com/■ビデオSALON 最新記事・パナソニックAG-AC160、1080/60p記録にも対応・ブラックマジックデザイン、Adobe Creative Suite 5.5 Production Premiumへのサポートを発表・キヤノンが映画制作用のレンズ、カメラなどCINEMA EOS SYSTEMを発表・ダブルスロットで2枚同時記録可能なHDカメラJVC GY-HM150■ビデオSALON最新号■関連記事・パナソニックAG-AC160、1080/60p記録にも対応【ビデオSALON】・予想外？iPhone4S購入のユーザーで20％は購入を後悔【話題】・iPhone4Sにまた問題発生？今度は突然SIMカードの読み取りが不可能に・・・【話題】・ブラックマジックデザイン、Avid Media Composer 6のサポートを発表【ビデオSALON】・外国人にも人気！こたつのトレンドは懐かしいのに新しい山善カジュアルこたつBSK-75【売れ筋チェック】\n",
            "\n",
            "第3位\t文書id:290 「連載●一眼流映像表現術 第21回【ビデオSALON】」 url:（http://news.livedoor.com/article/detail/6086124/）\n",
            "\t（距離27.469207763671875）\t記事の内容連載●一眼流映像表現術 第21回【ビデオSALON】マイクによる音の違いを「ガンマイク」、「指向性の広いマイク」、「ピンマイク」の3つのパターンで聴き比べできます。「ビデオサロン」2011年12月号 108ページ参照。解説●ふるいちやすし○マイクによる音の違いを確かめる■ビデオSALONイベント・製品レポート 最新記事・11月号付録 キヤノン iVIS HF G10 Perfect Book 丸かじりダダウンロード・【Special Report】ミドルレンジのビデオ制作者の有志が集まって結成したHD Usersが選んだATEM 1M/E Switcher・第9回上映 中平悠里 監督作品『猫と少女の物語』・連載●After Effects 天国への階段第9回◆ビデオSALON2011年12月号http://www.genkosha.co.jp/vs/backnumber/866.html■関連記事・【Special Report】ミドルレンジのビデオ制作者の有志が 集まって結成したHD Usersが選んだATEM 1M/E Switcher【ビデオSALON】・スマホ率が急上昇中！世界の携帯３割はスマホだった【話題】・【記事連動】音の編集講座「音量の合わせ方」【ビデオSALON】・KDDIがiPhone向けアプリ「auお客さまサポート」 をリリース【話題】・電子書籍市場をこっそり支えるのは女の子のエッチな願望？【話題】\n",
            "\n",
            "第4位\t文書id:587 「ソニー/キヤノン/パナソニック 大判センサービデオカメラ展示シュートアウトイベント 「CINEMA CINEMA CINEMA」【ビデオSALON】」 url:（http://news.livedoor.com/article/detail/6317547/）\n",
            "\t（距離27.593433380126953）\t記事の内容ソニー/キヤノン/パナソニック 大判センサービデオカメラ展示シュートアウトイベント 「CINEMA CINEMA CINEMA」【ビデオSALON】「CINEMA CINEMA CINEMA」は、現在、映画・CM・PVなどに多用されている大型センサー使用のプロ用ビデオカメラ展示するイベント。実機を比較して動かし触りながら、メーカー説明員の細かい技術解説も聞くことができる。カメラの他に三脚やレンズ、モニターも、各社の比較可能。入場無料でフロアに飲食店が併設されており、\"堅苦しすぎず、おちゃらけすぎない\"プロビデオカメラの展示イベントを予定している。実機展示予定のビデオカメラ：SONY PMW-F3 / HXR-FS100J / HXR-NX5J / NEX-VG20 / NEX-7Panasonic AG-AF105 / AG-AC160 / DMC-GH2Canon EOS C300EF / EOS C300PL / EOS 5DmarkII / EOS 7D展示予定三脚・カメラサポート群：MILLER Arrow25 / DS10ZacutoフォローフォーカスサポートシステムGENUSフォローフォーカスサポートシステムVinten VB-AP2FManfrotto 701HDV / 504HDLibec RS-350 / RS-250Sachtler FSB6 / FSB4 / DV12SB展示予定のモニターその他機材：SONY / BVM-F250 / PVM-2541 / LMD-1510W / PVM-1741Panasonic BT-LH2550 / BT-L21502012年3月5日(火)15:00OPEN / 17:00START / 19:00CLOSE予定場所：アップリンク1Fファクトリー〒150-0042 東京都渋谷区宇田川町37-18 トツネビル1階主催：株式会社フジヤエービックプロショップ問：0120-979-248 (10:30-20:00)http://www.fujiya-avic.jp/■ビデオSALON 最新記事・ニコニコ動画、生中継用エンコーダーや画質向上など新サービスを続々発表・ふるいちやすし氏の新作上映とトークイベントをアップルストアで開催・ブラックマジックデザイン、Thunderbolt対応のIntensity Shuttleを発売・TVF2012の入賞30作品が決定■ビデオSALON最新号■関連記事・会議室から教室まで！価格で汎用性の高い3D対応プロジェクターDELLから新発売【売れ筋チェック】・ZACUTO社製 キヤノンC300用アクセサリーが発売【ビデオSALON】・この時期に頼りになるのは空気清浄機！豪徳寺美鈴が悩んでゲットしたのはコレ！【家電の女：第四話】・AKB前田敦子がネタにされファンが大激怒！日本一下世話なクイズ番組がネットで話題に【話題】・寝つけない夜に寝室で愛用…滝クリもオススメのスマートAVライフはパナソニックでチェック【話題】\n",
            "\n",
            "第5位\t文書id:505 「ブラックマジックデザイン、Thunderbolt対応のIntensity Shuttleを発売【ビデオSALON】」 url:（http://news.livedoor.com/article/detail/6236107/）\n",
            "\t（距離27.897319793701172）\t記事の内容ブラックマジックデザイン、Thunderbolt対応のIntensity Shuttleを発売【ビデオSALON】ブラックマジックデザインは現在米国で開催中のCES 2012において、Thunderbolt対応の新しいIntensity Shuttleを発表した。2012年の第1四半期より販売予定。Intensity ShuttleはHDMI、アナログコンポーネント、コンポジット、Sビデオと多様な入出力に対応するHDビデオキャプチャ機器でありながら、239ドルという低価格を実現。Intelが新しく開発した高速インターフェイスであるThunderbolt対応のコンピュータとケーブル1本で繋ぎ、ビデオカメラ、セットトップボックス、ゲーム機、テレビ、プロジェクターなど様々な機器を接続することができる。データ転送率はUSB2.0の20倍、 FireWire800の12倍に相当する10Gbps。外部電源を必要とせず、Thunderboltケーブル経由で給電できるため、ポータブルデバイスとして簡単に使用が可能だ。1080pまでのSD、PSL/NTSCで圧縮/非圧縮を扱え、ビデオカメラのHDMIから非圧縮のハイビジョン映像をキャプチャすることも可能。キャプチャー・再生には専用ソフトMedia Expressが同梱されており、新たにソフトを用意する必要はない。キャプチャしたビデオファイルはファイナルカットプロ、アドビプレミアプロ/アフターエフェクツ、アビッドメディアコンポーザーなど主要な編集・デザインソフトと完全な互換性を持っている。主な機能• SD/HD の圧縮/非圧縮10bit キャプチャー・再生• HDMI 入出力• アナログコンポーネント入出力• コンポジット入出力• S ビデオ入出力• ステレオアナログオーディオ入出力• Thunderboltポート• Thunderboltケーブル経由で給電• Apple FInal Cut Pro、Adobe Premiere、Avid Media Composer などポピュラーな編集ソフトウェアに対応• Adobe After Effects、Adobe Photoshop、The Foundry など、多くのデザイン/合成ツールに対応• Blackmagic Design Media Express キャプチャー・再生ソフトウェアを同梱●ブラックマジックデザインhttp://www.blackmagic-design.com/jp/■ビデオSALON 最新記事・TVF2012の入賞30作品が決定・EDIUS 3D プレビューバージョン テスター募集のお知らせ・ウィンドウズ版のDaVinci Resolve8.2 のパブリックベータ版がダウンロード可能に・パナソニックGH2の最新ファームウェアが公開。24Mbpsモード、AF精度が向上■ビデオSALON最新号■関連記事・映画表現育成協会主催 プロモーションビデオ制作講座、受講生募集【ビデオSALON】・「何の自信も持てない」視聴率がとれず自信喪失のAKB前田敦子に同情の声【話題】・テレビにはもう頼れない？シャープ通期2900億円の赤字に転落【話題】・キヤノンからWi-Fi搭載の中級機が登場！【ビデオSALON】・Googleにどれくらいバレているのか？ネットで話題のユーザー属性を確認してみた【話題】\n",
            "\n",
            "第6位\t文書id:285 「テストレポート フジフイルムX10【ビデオSALON】」 url:（http://news.livedoor.com/article/detail/6079831/）\n",
            "\t（距離27.971515655517578）\t記事の内容テストレポート フジフイルムX10【ビデオSALON】レトロなデザインに、マニュアルズームができるコンデジ・フジフイルムX10。動画機能にスポットをあてて、テストしました。撮影編集、レビューはまるやまもえるさん。レポートはビデオSALON12月号をご覧ください。■ビデオSALONイベント・製品レポート 最新記事・11月号付録 キヤノン iVIS HF G10 Perfect Book 丸かじりダダウンロード・【Special Report】ミドルレンジのビデオ制作者の有志が集まって結成したHD Usersが選んだATEM 1M/E Switcher・第9回上映 中平悠里 監督作品『猫と少女の物語』・連載●After Effects 天国への階段第9回◆ビデオSALON2011年12月号http://www.genkosha.co.jp/vs/backnumber/866.html■関連記事・露骨すぎる！？サムスンがiPhoneは古いとアンチキャンペーンを展開【話題】・お気に入りのコスプレをいつでも鑑賞！日本最大のコスプレコミュニティサイト「Cure」 がアンドロイド向けアプリをリリース【話題】・国内で保証対応、9800円は魅力的！—ガイガーFUKUSHIMA iPhone接続専用【売れ筋チェック】・テストレポート プロ機材ドットコムTEEDAスタビライザー【ビデオSALON】・要注意！子どもが欲しい男性はWi-Fi使用に注意した方が吉？【話題】\n",
            "\n",
            "第7位\t文書id:498 「ふるいちやすし氏の新作上映とトークイベントを アップルストアで開催【ビデオSALON】」 url:（http://news.livedoor.com/article/detail/6232785/）\n",
            "\t（距離28.313079833984375）\t記事の内容ふるいちやすし氏の新作上映とトークイベントを アップルストアで開催【ビデオSALON】本誌連載「一眼流映像表現術」の筆者でもある映像作家・音楽家／ふるいちやすし氏の最新映画『彩〜aja〜』の完成を記念して、1月31日に東京・銀座のアップルストアにて、作品上映と制作に使用したソニーNEX-FS100Jやオールドレンズのアンジェニューについてなど、制作の裏舞台を聞くことができるイベントが開催される。ソニーNEX-FS100j＋オールド・アンジェニューレンズによる“淡麗”の映像美『彩 〜aja〜』特別試写会＋笠原千尋（主演）、ふるいちやすし（作・監督・音楽）による「オーディエンス会見」2012年1月31日18:00〜20:00@Apple Store,Ginza3Fシアター（入場無料）〒104-0061 東京都中央区銀座3-5-12サヱグサビル本館TEL : 03-5159-8200http://www.apple.com/jp/retail/ginza/『彩〜aja〜』の完全版（47分）を上映するほか、主演の笠原千尋とふるいちやすし氏による「オーディエンス会見」を開催。作品で使用したカメラ、ソニーNEX-FS100JやFinal Cut Pro の編集データを使いながら、オーディエンスの質問に対応する。『彩〜aja〜』●あらすじ10代の頃、 aja（エイジャ）と呼ばれた天才画家の彩は、その自由奔放な行動が周囲を混乱させたことを悲観し、森の中へ逃げ込み、植物と水と光の絵しか描かなくなっ た。人との接触を断った平穏な空気の中で活き活きと絵を描く彩だが、ある日、人気画家の蒼に出会い、閉ざしたはずの心の窓が再び開いていく。舞台で異才 を放つ笠原千尋の映像初主演作品。予告編：http://www.youtube.com/watch?feature=player_embedded&v=Z9DHaYNn1lU■ビデオSALON 最新記事・ブラックマジックデザイン、Thunderbolt対応のIntensity Shuttleを発売・TVF2012の入賞30作品が決定・EDIUS 3D プレビューバージョン テスター募集のお知らせ・ウィンドウズ版のDaVinci Resolve8.2 のパブリックベータ版がダウンロード可能に■ビデオSALON最新号■関連記事・テレビにはもう頼れない？シャープ通期2900億円の赤字に転落【話題】・キヤノンからWi-Fi搭載の中級機が登場！【ビデオSALON】・Googleにどれくらいバレているのか？ネットで話題のユーザー属性を確認してみた【話題】・こんなに似すぎで大丈夫？ＧＲＥＥのゲームが名前もイラストもポケモンにそっくり【話題】・個人情報が丸裸に！法で取り締まられてもいいレベルのGoogle新プライバシーポリシーに騒然【話題】\n",
            "\n",
            "第8位\t文書id:244 「パナソニックAG-AC160、1080/60p記録にも対応【ビデオSALON】」 url:（http://news.livedoor.com/article/detail/6061045/）\n",
            "\t（距離28.313493728637695）\t記事の内容パナソニックAG-AC160、1080/60p記録にも対応【ビデオSALON】パナソニックは、「AVCCAM」シリーズの新製品メモリーカード・カメラレコーダーAG-AC160で、フルＨＤプログレッシブ記録（AVCHD Progressive規格準拠）が可能になるアップグレード用ファームウェア（無償）を2012年春ごろリリースする。このファームウェアをインストールすることにより、AG-AC160でAVCHD Progressive規格に基づくフルHDプログレッシブ信号（1080/59.94p、1080/50p）※１のSDメモリーカード（SDXC /SDHC/SD）2への記録が可能になる。HDプログレッシブ信号記録時にも音声記録はリニアPCMに対応している。ファームウェアのダウンロードはウェブサイト（http://panasonic.biz/sav/）の「サポート＆ダウンロード」メニューから無償でダウンロードできる予定。SDメモリーカードを使用して本体のソフトウェアをアップデートすることができる。これまで家庭用ビデオカメラでは1080/60p記録が可能なAVCHD2.0規格であるAVCHD Progressive規格に対応した製品がソニー、パナソニックから続々登場しているが、業務用では開発時期の関係もあり、1080/60p記録モードがなく、逆転現象がおきていた。※1：HD SDIおよびHDMIへの出力時にはそれぞれ1080/59.94i、1080/50i信号に変換して出力される。■ビデオSALON 最新記事・ブラックマジックデザイン、Adobe Creative Suite 5.5 Production Premiumへのサポートを発表・キヤノンが映画制作用のレンズ、カメラなどCINEMA EOS SYSTEMを発表・セミナーレポート 「EOS MOVIEセミナー〜EOS MOVIEで広がる映像の世界」・ダブルスロットで2枚同時記録可能なHDカメラJVC GY-HM150■ビデオSALON最新号■関連記事・第8回上映 中野 森 監督作品 『今日は秋刀魚の日』【ビデオSALON】・「着る電気毛布」—広電(KODEN) ホットローブCWS-X180LA【売れ筋チェック】・一晩平均３０通！？アメリカのティーンはケータイしすぎで睡眠不足【話題】・【11月号記事連動】ソニーNEX-VG20でCEATECを取材する【ビデオSALON】・ネットの世界は好景気？オンラインゲームで１０万円のアイテムが２０００個売れた【話題】\n",
            "\n",
            "第9位\t文書id:236 「ブラックマジックデザイン、Avid Media Composer 6のサポートを発表【ビデオSALON】」 url:（http://news.livedoor.com/article/detail/6058238/）\n",
            "\t（距離28.392192840576172）\t記事の内容ブラックマジックデザイン、Avid Media Composer 6のサポートを発表【ビデオSALON】ブラックマジックデサインは最新のソフトウェア・アップデート「Desktop Video 9.0」を発表した。Windows 7およびMacOS Xに対応し、同社ウェブサイトより無償でダウンロード可能。既存のDeckLink、Multibridge、Intensity、 UltraStudioモデルに対応する。このメジャーアップデートはAvid SymphonyおよびAvid NewsCutterを含むAvid Media Composer 6ファミリーのキャプチャー・再生をサポート。Avidユーザーはブラックマジックデザインの最新Thunderbolt、USB3.0、PCI Expressのビデオキャプチャー・再生デバイスをAvidソフトウェアと組み合わせて使用できるようになり、非圧縮10 bit YUVおよびRGB、Avid DNｘHD、パナソニックDVCPRO HD、ソニーXDCAMなどのあらゆるフォーマットでの作業が可能になる。また、Media Composer 6に含まれる最新の3D編集サポートで、ブラックマジックデザインのUltraStudio 3DやDeckLink HD Extreme 3Dが能力を発揮し、よりスムーズで効率的な3D編集を実現する。ブラックマジックデザインCEOであるグラント・ペティはこう語る。「私たちは、何年もこの時を待っていました。Avid Media Composer 6と弊社キャプチャー・再生デバイスの統合、それにDaVinci ResolveとのAAFのラウンドトリップは、まさに クリエイティブなユーザーの皆様、フィルム／テレビ業界にとって、すべてを変えうる決定的瞬間と言えるでしょう」またAvid のセグメント・マーケティングマネージャーの AngusMackay氏は次のように語る。「Blackmagic ハードウェア、もしくは Avid ネイティブの 統合されてスピードアップした DXシステム、Media Composer／Symphony ／NewsCutter のユーザーの皆様は以前よりも多くの選択肢があります。Blackmagic の DNxHD ならびにAAF サポートは、より簡単なプロジェクトの転送とパイプラインの構築、ワークフローのスムーズ化、そして生産性の向上を、当社およびBlackmagic Design のお客様に提供できます。ハードウェアにかける費用を抑えることで、簡単にAvid 編集システムを既存のワークフローに加えられるのです。 今回のシステムの開放性ならびに生産性の向上、Blackmagic Design とのコラボレーションによって、ユーザーの皆様に満足していただけることを、喜ばしく思っています」Desktop Video 9.0 の主な特徴• Avid Media Composer 6／Avid Symphony／Avid NewsCutter認定• Avid Media Composer 6での非圧縮およびDNxHD キャプチャー・再生• Avid Media Composer 6でのリアルタイムエフェクト• Avid Media Composer 6で右目、左目の画像をセパレートファイルでキャプチャーできる、進化したデュアルストリーム 3D ワークフロー■ビデオSALON 最新記事・パナソニックAG-AC160、1080/60p記録にも対応・キヤノンが映画制作用のレンズ、カメラなどCINEMA EOS SYSTEMを発表・セミナーレポート 「EOS MOVIEセミナー〜EOS MOVIEで広がる映像の世界」・ダブルスロットで2枚同時記録可能なHDカメラJVC GY-HM150■ビデオSALON最新号■関連記事・【11月号記事連動】ソニーNEX-VG20でCEATECを取材する【ビデオSALON】・ネットの世界は好景気？オンラインゲームで１０万円のアイテムが２０００個売れた【話題】・ビデオサロン11月号「街のビデオ屋目線で評価するTestRoom」【ビデオSALON】・気になってゆっくり休めない？ホリデー中に仕事メールをチェックする人は７０％【話題】・ボディソニック座イス—ナップ・ファンソニック マンボウソファ【売れ筋チェック】\n",
            "\n",
            "第10位\t文書id:308 「11月号付録 キヤノン iVIS HF G10 Perfect Book 丸かじりダウンロード【ビデオSALON】」 url:（http://news.livedoor.com/article/detail/6094137/）\n",
            "\t（距離28.423870086669922）\t記事の内容11月号付録 キヤノン iVIS HF G10 Perfect Book 丸かじりダウンロード【ビデオSALON】抜群の撮影能力と撮影機能で熱い注目を浴びるキヤノン iVIS HF G10(以下HF G10）の魅力と使いこなしをビデオサロン11月号付録でお送りしましたが、その別冊 「キヤノン iVIS HF G10 Perfect Book」(オールカラー・全20ページ）を丸まるダウンロードしていただけます。11月号を買いそびれたという方、HF G10に興味があって今購入を考えているという方、そしてすでにHF G10を手にしていてその使いこなしを楽しみたいという方、この機会にぜひ 「キヤノン iVIS HF G10 Perfect Book」 をダウンロードして、HF G10の撮影力をご堪能ください。○11月号別冊付録 『キヤノン iVIS HF G10 Perfect Book』−撮り手を奮い立たせるモンスターカメラを使いこなせ！ダウンロード(PDF)はコチラから↓ファイルをダウンロードダウンロード後、Adobe Reader等のビューワーにて閲覧できます。●別冊内で紹介されている舞台撮影の動画はコチラ5歳の小さなヴァイオリン弾き・ももちゃんの演奏会をキヤノンHF G10で撮影。そこで実際にわかったHF G10の使える機能と具体的なノウハウを紹介。ハイビジョン映像をお楽しみいただくために 720p以上での視聴をお薦めします。ただし通信環境および視聴時間帯によってYouTube画面が滑らかに再生されない場合もあります。ご了承ください。◎別冊付録『キヤノン iVIS HF G10 Perfect Book』ダイジェストhttp://www.genkosha.com/vs/report/entry/post_257.html◎HF G10関連のおすすめ記事ネイチャーでここまで撮れる！ キヤノンiVIS HF G10 完全リポートhttp://www.genkosha.com/vs/canon/entry/ivis_hf_g10.html◎HF G10の詳しい情報はキヤノン iVIS HF G10公式HPhttp://cweb.canon.jp/ivis/lineup/hfg10/index.html■ビデオSALONイベント・製品レポート 最新記事・11月号付録 キヤノン iVIS HF G10 Perfect Book 丸かじりダダウンロード・【Special Report】ミドルレンジのビデオ制作者の有志が集まって結成したHD Usersが選んだATEM 1M/E Switcher・第9回上映 中平悠里 監督作品『猫と少女の物語』・連載●After Effects 天国への階段第9回◆ビデオSALON2011年12月号http://www.genkosha.co.jp/vs/backnumber/866.html■関連記事・あなたは大丈夫？スマホでのメールチェックが仕事の妨げになっていると人事がご機嫌斜め【話題】・iPad2のカメラで顔色や胸の動きを読み取るだけ—呼吸と脈拍計測アプリ【売れ筋チェック】・気をつけて！スマホの普及で駅での事故が過去最悪か【話題】・つぶやくだけで広告収入ゲット！「ツイッター広告サービス」ってなんだ【話題】・グリーが世界へ！1億5千万人規模のプラットフォーム「GREE Platform」【話題】\n",
            "\n",
            "第11位\t文書id:583 「ブラックマジックデザイン、HyperDeck SSD レコーダーに タイムコード、DNxHD QuickTime サポートを追加【ビデオSALON】」 url:（http://news.livedoor.com/article/detail/6314262/）\n",
            "\t（距離28.577472686767578）\t記事の内容ブラックマジックデザイン、HyperDeck SSD レコーダーに タイムコード、DNxHD QuickTime サポートを追加【ビデオSALON】ブラックマジックデザインはHyperDeck 2.5 パブリックベータ版をリリースした。今回のソフトウェアアップデートでは、エンベッドタイムコードのサポート、QuickTime へのDNxHD 収録、SDI カメラによるHyperDeck SSD レコーダーへの収録開始機能が追加される。HyperDeck 2.5 パブリックベータ版（Mac OSX/Windows 対応）は同社Webサイトより無償でダウンロード可能。今回のアップデートはBlackmagic Design SSD レコーダーのHyperDeck Shuttle 2 ならびにHyperDeck Studio の両モデルに対応している。HyperDeck 2.5 ソフトウェアアップデートは、HyperDeck Shuttle ならびにHyperDeckStudio に、タイムコード機能を追加する。HD-SDI ビデオ信号の補助データスペースにエンベッドされているタイムコード情報は、HyperDeck の非圧縮/Avid DNxHD 圧縮ビデオファイルに書き込まれる。ユーザーは、標準RP-188HD プロトコルに基づいて、入力ビデオストリームのタイムコードを保存することができ、収録したファイルにオリジナルのタイムコード情報を付けて再生することが可能だ。HyperDeck Shuttle ならびにHyperDeckStudio は、Avid DNxHD 収録・再生に対応しており、Avid から完全な認定を受けている。HyperDeck 2.5 ソフトウェアは、DNxHD MXF フォーマットファイルに加えて、DNxHD QuickTime の収録・再生オプションを追加する。DNxHD ファイルをQuickTime フォーマットでラッピングすることにより、Avid の業界標準ファイルのエンコードをより幅広いソフトウェアと使用したり、特定のワークフローに対応したりできる。また、HyperDeck Shuttle への収録が、カメラやその他のHD-SDI ビデオ機器により自動的に開始できるようになる。プロ仕様のカメラの多くは収録の開始/停止フラグをSDI ビデオ出力にエンベッドしているが、HyperDeck Shuttle はこれらのコマンドを認識し、カメラと同期して収録を開始/停止できる。この機能によってカメラとディスクレコーダーでそれぞれ収録機能を起動させなくてもHyperDeck Shuttle に収録できるようになる。標準的な方法では開始/停止フラグを出力しないカメラもあるため、今回のアップデートにはタイムコード収録開始機能も搭載されている。つまり、 RP-188 HD タイムコードに対応しているあらゆるカメラやデバイスを使ってHyperDeck Shuttle の収録を開始・停止できるのである。HyperDeck はRP-188 HD タイムコードを確認し、タイムコードが動き出すと瞬時に収録を開始する。この機能によりARRI ALEXA などのプロフェッショナル仕様のカメラやデバイスでも、自動的にHyperDeck Shuttle を開始でき、タイムコードが同期した非圧縮/DNxHD ファイルを収録できる。HyperDeck 2.5 パブリックベータ版の無償ダウンロードはブラックマジックデザインサポートページから。http://www.blackmagic-design.com/support■ビデオSALON 最新記事・ニコニコ動画、生中継用エンコーダーや画質向上など新サービスを続々発表・ふるいちやすし氏の新作上映とトークイベントをアップルストアで開催・ブラックマジックデザイン、Thunderbolt対応のIntensity Shuttleを発売・TVF2012の入賞30作品が決定■ビデオSALON最新号■関連記事・AKB前田敦子がネタにされファンが大激怒！日本一下世話なクイズ番組がネットで話題に【話題】・寝つけない夜に寝室で愛用…滝クリもオススメのスマートAVライフはパナソニックでチェック【話題】・ついにケーブル不要？ 無線での高速データ送受信実現か東京工業大学とソニーが世界最高速のミリ波無線用LSIを共同開発【ビデオSALON】・東電リストラ！クビを切られたのは人気キャラクター「でんこちゃん」だった【話題】・家庭菜園の流行で注目！初心者や女性にもぴったりな軽くて使いやすい「ミニ耕運機ＬＧＣ１２０」【売れ筋チェック】\n",
            "\n",
            "第12位\t文書id:604 「タムロンのEマウントレンズを純正レンズと比べてみた【ビデオSALON】」 url:（http://news.livedoor.com/article/detail/6339307/）\n",
            "\t（距離28.70069122314453）\t記事の内容タムロンのEマウントレンズを純正レンズと比べてみた【ビデオSALON】ビデオSALON3月号テストレポートの連動動画です。タムロン18-200mm F/3.5-6.3 Di Ⅲ VC（Model B011）と ソニーのE18-200mm F3.5-6.3 OSS （SEL18200）を比べてみました。詳しいレポートは3月号をご覧ください。■ビデオSALONイベント・製品レポート 最新記事・MOOK「デジタルムービー実践ガイドブック」映像リンク情報・第12回上映 雨宮真五 監督作品『Shooting Memories』・連載●After Effects 天国への階段第12回・魁!! ビデオ道場2012年3月号◆ビデオサロン2012年3月号http://www.genkosha.co.jp/vs/backnumber/960.html■関連記事・ネットで集まった祈りを祈祷・・・３月11日に山伏による復興祈願、供養が福島県で開催【話題】・この春、健康は良質な睡眠から！オムロンヘルスケアより「ねむり時間計・睡眠計」新発売【売れ筋チェック】・魁!! ビデオ道場2012年3月号【ビデオSALON】・2012年３月号「音の編集講座」BGM【ビデオSALON】・「安すぎ！」「最強!!」深夜発表にも関わらず「新しいiPad」にネットが大騒ぎ【話題】\n",
            "\n",
            "第13位\t文書id:457 「編集特集・ナレーションテスト【ビデオSALON】」 url:（http://news.livedoor.com/article/detail/6187777/）\n",
            "\t（距離28.794044494628906）\t記事の内容編集特集・ナレーションテスト【ビデオSALON】「編集力＆編集環境パワーアップ作戦2012」特集内でのナレーションマイクテスト結果です。テストレビュー詳細は2012年1月号をご覧ください。ナレーション：岡野 肇○テスト その１「RODE NTG-2」○テスト その２「RODE NTG-2」○テスト その３「RODE NTG-2」○テスト その４「RODE NTG-2」■ビデオSALONイベント・製品レポート 最新記事・11月号付録 キヤノン iVIS HF G10 Perfect Book 丸かじりダウンロード【ビデオSALON】・11月号付録 キヤノン iVIS HF G10 Perfect Book 丸かじりダダウンロード・【Special Report】ミドルレンジのビデオ制作者の有志が集まって結成したHD Usersが選んだATEM 1M/E Switcher・第9回上映 中平悠里 監督作品『猫と少女の物語』◆ビデオSALON2012年1月号http://www.genkosha.co.jp/vs/backnumber/935.html■関連記事・ベッカム様がグーグル＋に登場！バラエティ向きの彼はどこまで答えてくれるのか？【話題】・スマホ回線の値下げ競争がはじまる！auのスマートバリュー発表はどう影響するか【話題】・連載●極・ト書き一行のカット割り! 第7回【ビデオSALON】・センター試験終了！受験生ファンに眞鍋かをりが的確なアドバイスをしていた【話題】・ソニーF3ズームレンズテスト【ビデオSALON】\n",
            "\n",
            "第14位\t文書id:248 「ビデオサロン11月号「街のビデオ屋目線で評価するTestRoom」【ビデオSALON】」 url:（http://news.livedoor.com/article/detail/6062060/）\n",
            "\t（距離28.84838104248047）\t記事の内容ビデオサロン11月号「街のビデオ屋目線で評価するTestRoom」【ビデオSALON】今回のテーマは業務用カメラで使用するコンバージョンレンズです。取り上げたのは72mm径のレイノックスの３本。筆者は岡英史さんです。レポートは本誌をお読み下さい。ちなみにレイノックスのコンバージョンレンズ、今回紹介した3製品ともにGENKOSHA STOREで販売しています。HDP-9000EXはこちらHDP-6000EXはこちら HDP-5072EXはこちら■ビデオSALONイベント・製品レポート 最新記事・【Special Report】ミドルレンジのビデオ制作者の有志が集まって結成したHD Usersが選んだATEM 1M/E Switcher・第9回上映 中平悠里 監督作品『猫と少女の物語』・連載●After Effects 天国への階段第9回・【記事連動】音の編集講座「音量の合わせ方」■ビデオSALON11月号■関連記事・【11月号記事連動】ソニーVG20でショートムービーの予告編を撮る【ビデオSALON】・シングル７００人が参加！ロンブー淳のお見合い企画はまた盛況！【話題】・気を付けて！iTunesのギフトを装った怪しいメールが流行中【話題】・オフィスでツボ押しリラックス！小型の温感マッサージャーはパナソニック「プチリフレ」【売れ筋チェック】・第8回上映 中野 森 監督作品 『今日は秋刀魚の日』【ビデオSALON】\n",
            "\n",
            "第15位\t文書id:476 「音の編集講座「ステレオとモノラル」【ビデオSALON】」 url:（http://news.livedoor.com/article/detail/6199877/）\n",
            "\t（距離28.8613224029541）\t記事の内容音の編集講座「ステレオとモノラル」【ビデオSALON】連載「音の編集講座」の記事連動動画です。今回のテーマは「ステレオとモノラル」です。一見簡単なそうですが、なかなか奥が深いテーマです。ぜひ本誌と合わせてご覧ください。■ビデオSALONイベント・製品レポート 最新記事・魁!! ビデオ道場2012年１月号・連載●After Effects 天国への階段 第10回・連載●極・ト書き一行のカット割り! 第7回・ソニーF3ズームレンズテスト◆ビデオSALON2012年1月号http://www.genkosha.co.jp/vs/backnumber/935.html■関連記事・生真面目かつ革新的にパワーアップする次世代テレビ—ソニーCrystal LED Display【話題】・五輪イヤーの今年、日立「Wooo」の新製品はさらに高画質化、省エネ性アップ【売れ筋チェック】・１２年振りの新曲は音質違いを複数リリース！LUNA SEAが切り開く新しい音楽ビジネス【話題】・第10回上映 小池俊範 監督作品 『I talk with‘me'. 』【ビデオSALON】・これは便利！ありそうでなかった電動ホチキス＆電動パンチ、サンワサプライから発売【売れ筋チェック】\n",
            "\n",
            "-----2番目の結果ここまで-----\n",
            "\n",
            "\n",
            "3番目の検索クエリ:コンピュータ\n",
            "-----検索結果-----\n",
            "第1位\t文書id:629 「企業戦士の鎧を脱いだら光の戦士になろう！スター・ウォーズ ライトセーバールームライト【売れ筋チェック】」 url:（http://news.livedoor.com/article/detail/6385485/）\n",
            "\t（距離18.7540225982666）\t記事の内容企業戦士の鎧を脱いだら光の戦士になろう！スター・ウォーズ ライトセーバールームライト【売れ筋チェック】伝説の超ロングランSF映画シリーズ『スター・ウォーズ』。これを見るたびに少年に戻ってドキドキ・ワクワクしている人が、いつも世界中のどこかにいることだろう。あのライトセーバーが日本の部屋を光で満たすため、次々と上陸中なのだ。ダブルブレードのダース・モール・モデルのみ3980円。それ以外のシングルブレードタイプは各種3480円。単4形乾電池3本を電源とし、点灯時・消灯時にはおなじみの効果音が鳴る。永遠の少年としては、すぐさま手にとってチャンバラをしたいといころだ。また、このシリーズには壁掛け用ブラケットが付属しており、タテ・ヨコどちらでも、光るライトセーバーを支えてくれる。なお、シリーズの中にはリモコン対応タイプもあり、壁掛けにしている間の点灯・消灯はもちろん、光の色を切り替えられるものも。ただし、写真で紹介しているダース・モール・モデルはダブルブレードにする複雑な構造のため、リモコンには対応していない。家に帰って企業戦士の鎧を脱いだら、いつも夢見ていた光の戦士の世界へようこそ。いつだってファンタジーは、明日への大きな活力源なのだ。スター・ウォーズ ライトセーバールームライトダース・モールメーカー直営通販HP■関連記事ついにターミネーターの世界が現実に!? —2012年中にグーグルがサングラス型のコンピューターを発売予定３D映像にハマる！ソニーのゴーグル型ディスプレイHMZ-T1フルカラーしかも無線対応—史上最強のペンライト「ルミコネ」（MIYUKI KOMATSU）■関連記事・【セミナー】NEX-FS100での色創りとライティングを映画『彩〜aja〜』から学ぶ【ビデオSALON】・「傷だらけのローラ」になる？ついにローラVS黒柳徹子の対決が実現！【話題】・待望のEOS 5D Mark III、動画の進化のポイントは？【ビデオSALON】・おっきくなっちゃう？次期iPhoneにまつわる噂【話題】・ソニーがTransferJet規格対応の新LSIを商品化 【ビデオSALON】\n",
            "\n",
            "第2位\t文書id:362 「スマホの似合う著名人、トップはスマホそのもの（？）な渡辺謙【話題】」 url:（http://news.livedoor.com/article/detail/6123560/）\n",
            "\t（距離18.85895538330078）\t記事の内容スマホの似合う著名人、トップはスマホそのもの（？）な渡辺謙【話題】今年は、iPhoneの販売をauも始めるなど、スマートフォンに関しての話題が豊富だった2011年。今年一年を振り返るべく、スマートフォンといえば？という「スマートフォンが似合う有名人」ランキングが発表された。1位はNTTドコモのスマートフォンCMに出演している俳優の渡辺謙さんだ。CMの中ではスマートフォンが似合うというより、スマートフォンになりユーザーの人生にアドバイスをしていた渡辺謙さん。印象的なCMの影響もあってか堂々の1位だ。以下がそのほかのランキングだ。1渡辺謙2孫正義3スティーブ・ジョブス4木村拓哉5嵐6福山雅治7劇団ひとり8堀北真希9田村淳10SMAP10上戸彩10櫻井翔タレントに交じって、ソフトバンク社長の孫正義さんと、今年亡くなったスティーブ・ジョブズさんがランクインしている。iPhoneの影響力がわかるランキングだと言えるだろう。また、嵐やSMAPと別に櫻井翔さんと木村拓哉さんがランクインしているのも気になる。番外編 「スマホの似合う著名人」は渡辺謙氏がトップ■関連記事・Twitterでまた事件！今度はビビる大木が悪口を言うショップ店員に怒り心頭！【話題】・来年公開キアヌリーブス主演の忠臣蔵は大丈夫？対する日本はヤマダ電機が豪華家電を視聴者プレゼントで新春ワイド「忠臣蔵〜その義その愛」放送【話題】・レディー・ガガに並んだ！グーグルが選んだ初の日本人アーティストは“バーチャルアイドル”「初音ミク」─「Chrome」CMに出演中【話題】・原発事故は本当に収束？気になるホットスポットがひと目でわかる—東芝ポータブルガンマカメラ【売れ筋チェック】・兵士の自殺問題をアプリで解決なるか？アメリカで州兵の自殺防止アプリが登場【話題】\n",
            "\n",
            "第3位\t文書id:730 「写真好きはチャレンジ！ペンタックスリコーが事業統合を記念してフォトコンテスト開催【話題】」 url:（http://news.livedoor.com/article/detail/6626630/）\n",
            "\t（距離19.55671501159668）\t記事の内容写真好きはチャレンジ！ペンタックスリコーが事業統合を記念してフォトコンテスト開催【話題】2012年4月、ペンタックスとリコーのコンシューマー向けカメラ関連事業がペンタックスリコーイメージングに集約された。同社はこの事業統合を記念して今年の7月から10月に「ペンタックスリコーフォトコンテスト」を開催する。このコンテストは、ペンタックスとリコーのカメラの利用しているアマチュアカメラマンが対象だ。両ブランドユーザーの交流や写真に対する楽しみ方を再発見する機会になることを目的に新たな視点・自由な感性で捉えた作品を募集する。審査員は、ともに第一線で活躍している写真家の吉村和敏氏と岡嶋和幸氏。グランプリ賞他計62点の入賞作品を選考する。入賞作品にはカメラや旅行券など豪華な副賞が贈られる。また、全入賞作品は、ペンタックスフォーラム（新宿）やリコーフォトギャラリー RING CUBE（銀座）などで展示される予定だ。写真愛好家にとっては日頃撮影した自分の作品を発表する絶好の機会。ペンタックスとリコーのカメラユーザーは是非チャレンジしてみては。【ペンタックスリコーフォトコンテストの概要】■ 募集期間：2012年7月10日（火）〜 2012年10月10日（水） 必着■ 応募資格：日本国内に在住のアマチュアで、 2011年1月以降にペンタックス、リコーブランドのデジタルまたはフィルムカメラで撮影した未発表作品に限る。■ 応募方法：ペンタックスリコーイメージングホームページから応募受付票をダウンロードし、必要事項を記入のうえ、プリントした作品を同封して「ペンタックスリコーフォトコンテスト」係まで郵送。■審査員：吉村和敏氏／岡嶋和幸氏■ 審査発表：2012年11月下旬に各入賞者に直接ご通知。また同社ホームページにて入賞者の発表をする。■入賞作品全62点の発表展を、12月よりペンタックスフォーラム、リコーフォトギャラリーRING CUBE、大阪、名古屋で予定。同時に弊社同社ホームページで入賞作品の発表を行う。ペンタックスフォーラムリコーフォトギャラリーRING CUBEペンタックスリコーフォトコンテスト（牧田亜紀子）\n",
            "\n",
            "第4位\t文書id:650 「Twitterのつぶやきでおしりをふいてみる？おもしろサービス「shitter」【話題】」 url:（http://news.livedoor.com/article/detail/6416150/）\n",
            "\t（距離20.25551986694336）\t記事の内容Twitterのつぶやきでおしりをふいてみる？おもしろサービス「shitter」【話題】ツイートをプリントしたおもしろいトイレットペーパーを作れるサービス「shitter」が登場した。これは、HPからTwitterアカウントでログインするだけで簡単にトイレットペーパーが作れるサービス。自分のツイートはもちろんタイムラインやお気に入りをプリントすることもできる。値段は送料込みで４ロールが３５ドル。自分で使うにはちょっと......という人もギフトやおもしろジョークとして利用してみるのはアリかもしれない。shitter■関連記事・コンテンツが高すぎる？スタートしたばかりの「もっとTV」が話題にならない理由【話題】・春の新生活の必需品！女の子でも簡単に使えるワイヤレスモニタでおうちを更に安心に！・今年は出遅れるな！夏の節電対策にダイソン「エアマルチプライアー」シリーズ【売れ筋チェック】・ホワイトボードは大きなタッチスクリーン、しかもUSBバスパワー！—パナソニック電子黒板「エリートパナボード」【売れ筋チェック】・RO浄水器がお手軽価格に！—ウォーターサーバー型浄水器コーウェイP-07CL[NEOS]【売れ筋チェック】\n",
            "\n",
            "第5位\t文書id:361 「今年一番秋葉でがんばったのはだれ？PC萌えキャラ人気コンテスト投票開始【話題】」 url:（http://news.livedoor.com/article/detail/6121420/）\n",
            "\t（距離20.440805435180664）\t記事の内容今年一番秋葉でがんばったのはだれ？PC萌えキャラ人気コンテスト投票開始【話題】パソコンショップで目立つのが「萌えキャラ」。萌えの聖地ともいえる秋葉原ではいたるところで様々な萌えキャラを見ることができる。そんな中「アキバで活躍したPC萌えキャラ人気コンテスト」なるものが開催されている。今年はPCパーツメーカーや国内代理店による「公式キャラ」が増え、例年以上にキャラたちが活躍していたということだ。公式・非公式あわせて20のキャラがノミネートされているこのコンテスト。興味のある方は投票してみてはいかがだろうか？参加者の中から抽選で1名に「ZOTAC製超小型PC＆ノベルティグッズ詰め合わせ」も当選する。昨年、一昨年と優勝したのはツクモのマスコットキャラクター「つくもたん」。彼女の三連覇なるかも興味深い。「アキバで活躍したPC萌えキャラ人気コンテスト」読者投票■関連記事・レディー・ガガに並んだ！グーグルが選んだ初の日本人アーティストは“バーチャルアイドル”「初音ミク」─「Chrome」CMに出演中【話題】・原発事故は本当に収束？気になるホットスポットがひと目でわかる—東芝ポータブルガンマカメラ【売れ筋チェック】・兵士の自殺問題をアプリで解決なるか？アメリカで州兵の自殺防止アプリが登場【話題】・個人情報流出か？「au one ショッピングモール」で不正ログインとなりすまし購入が発覚【ニュース】・Facebookをチェックして誰のとなりに座るか決められる！航空会社が発表したびっくり座席指定システム【話題】\n",
            "\n",
            "第6位\t文書id:625 「起用の理由は黄色だったから!?ダンディ坂野がクイズアプリ「AD Latte」のキャラクターに就任！【話題】」 url:（http://news.livedoor.com/article/detail/6370609/）\n",
            "\t（距離20.5361385345459）\t記事の内容起用の理由は黄色だったから!?ダンディ坂野がクイズアプリ「AD Latte」のキャラクターに就任！【話題】CMを見て、クイズに答えて、ポイントを貯めるスマートフォンアプリ「AD Latte（アドラッテ）」。貯めたポイントはAmazonやスターバックス、iTunesのギフトカードに交換したり、寄付や換金を行うこともできる。このアプリのWebCMにキャラクターとして起用されたのがお笑い芸人のダンディ坂野だ。起用の理由は「明るく、親しみやすい」彼のキャラクターがアドラッテの目指す方向と近いからだというが、その他に「イメージカラーが黄色だから」というものもあるらしい。確かに、アドラッテのカラーもダンディ坂野の衣装も黄色だ。色が同じということでの起用というのは、なかなかおもしろい。また、今回のキャラクター就任にあたりダンディ坂野のコメントは「アドラッテでポイント、ゲッツ！」とのこと。ポイントをゲッツしたい人はぜひチェックしてみよう。iOS版Android版■関連記事・キヤノンEOS-1D X、4月下旬に発売延期【ビデオSALON】・一般投票１位のスギちゃんをを押さえてCOWCOW多田が初優勝！R-1ぐらんぷりに「また吉本か！」の声も【話題】・企業戦士の鎧を脱いだら光の戦士になろう！スター・ウォーズ ライトセーバールームライト【売れ筋チェック】・WEB業界は「ろくろ回し過ぎ」ってなんだ？ネットでインタビューが話題に【話題】・フェイスブックで重婚発覚！別居中の妻が旦那の新しい嫁を発見【話題】\n",
            "\n",
            "第7位\t文書id:202 「ソニー・エリクソン完全子会社化で、スマホを含めたシームレス事業の展開を 目指すソニー【話題】」 url:（http://news.livedoor.com/article/detail/6014272/）\n",
            "\t（距離20.54616355895996）\t記事の内容ソニー・エリクソン完全子会社化で、スマホを含めたシームレス事業の展開を 目指すソニー【話題】先月下旬、ソニーとスウェーデンのエリクソンは、ソニー・エリクソンをソニーの100%子会社とすることに合意した。ソニー・エリクソンが完全子会社となることで、ソニーの製品群にソニー・エリクソンのスマートフォンが組み込まれる。スマートフォン事業を取り込むことによって、スマートフォン、タブレット端末、ノートPC、テレビの「4つの画面」をシームレスにつなぐ“4スクリーン戦略”を進めていくという。ソニーは音楽や映画、ゲームなどの配信サービスを強化してきた。コンテンツを充実させ、さまざまなデバイスにおいて一体感のあるサービスを展開することで、アップルやサムスンと差別化を図る。11月2日に発表された日経トレンディの「2011年ヒット商品ベスト30」で堂々の1位に輝いたのがスマートフォン。選出した日経トレンディによると「今まで叫ばれてきたスマートフォンブームが前触れに過ぎなかったと思えるほど、2011年はスマートフォンがよく売れた」という。追い風に乗る日本のスマートフォン市場だが、競争は熾烈だ。異なるデバイスをシームレスにつなぐことでは、先月iCloudの提供を開始したアップルがすでに先陣を切っている。そのアップルをスマートフォンの出荷台数で上回るのがサムスン。強豪と同じ土俵で勝負するためには、市場動向を的確に捉えた戦略が必要となるだろう。テレビ事業の不振などで、2012年3月期連結決算では900億円の赤字になる見通しのソニー。4スクリーン戦略を掲げ、スマートフォン市場で挽回となるか。今後のソニー・エリクソンの展開に注目だ。（鈴木陽子）■関連記事・iPhoneユーザー予想外！iOSアップデートでもバッテリー問題が解決しない！？【話題】・使うほど髪にハリツヤ、モッズ・ヘアサロンのドライヤー【コスメッティ】・３D映像にハマる！ソニーのゴーグル型ディスプレイHMZ-T1【売れ筋チェック】・自分好みのお店が必ず見つかると噂のソーシャルグルメサイト「Retty」ってなに？【話題】・赤っ恥！釈由美子に続き及川光博もiPhoneがよくわかっていなかった【話題】\n",
            "\n",
            "第8位\t文書id:197 「マリオがたくさん！ゲームの発売を記念してショッピングセンターでお祭り騒ぎ【話題】」 url:（http://news.livedoor.com/article/detail/6002954/）\n",
            "\t（距離21.025529861450195）\t記事の内容マリオがたくさん！ゲームの発売を記念してショッピングセンターでお祭り騒ぎ【話題】先日、任天堂のゲーム機「３DS」が販売不振だというニュースがあったが、アメリカのサンディエゴから元気な話題が届いた。日本では3日に発売された３DSの新作ゲームソフト「スーパーマリオ3Dランド」はアメリカでは13日の発売が予定されている。その発売を記念し、サンディエゴのウエストフィールド・ホートンプラザというショッピングセンターにキャラクターであるマリオのコスプレをした人たちが大集合した。突然、ショッピングセンターに現れたマリオたちに一般の買い物客たちは大騒ぎだったという。やはりマリオの人気は根強く、アメリカ人らしいパフォーマンスだと言えるだろう。Marios Occupy San Diego■関連記事・楽天が電子書籍に本腰！カナダの電子書籍企業「Kobo」社を買収【ニュース】・居眠り運転を事前に防ぐ！運転中の目の動きで居眠り検知、iPhoneが起こしてくれる【話題】・iPadの独占が終了！アンドロイドの追撃に市場シェアが96％から67％に大幅ダウン【話題】・次に来るのはパカパカiPhone！？アップルが新たに行った特許申請に夢が広がる【話題】・高性能な高品位ボディ！パナソニックがフラットタイプミラーレス一眼「ＬＵＭＩＸＤＭＣ−ＧＸ１」を発売\n",
            "\n",
            "第9位\t文書id:718 「レゲエの神様ボブ・マーリーの精神を引き継いだライフスタイル・オーディオ待望の日本デビュー【話題】」 url:（http://news.livedoor.com/article/detail/6585692/）\n",
            "\t（距離21.02646255493164）\t記事の内容レゲエの神様ボブ・マーリーの精神を引き継いだライフスタイル・オーディオ待望の日本デビュー【話題】レゲエというジャンルを世界に広めたミュージシャン、ボブ・マーリー。彼の名曲「One Love」に代弁される信念から生まれたオシャレでエコ・フレンドリーなオーディオ製品、HOUSE OF MARLEYブランドが登場した。5月22日に都内で開催された発表会では、ボブ・マーリーの息子であるローハン・マーリーがファミリーを代表し製品のコンセプトを説明した。ローハンは父からの教えを振り返り「父には私たちがすることはすべてお返しすることに通じなければならない、そうしなければ生態系のサイクルがうまく回らなくなると、教わりました。だから環境に優しい製品を作り、提供するだけでは不十分、地球や人々を守る活動をしているプログラムをサポートする必要があると考えました」とコメントした。HOUSE OF MARLEYには「平等」「調和」「信頼」「環境維持」「慈善」といったマーリーファミリーの精神が流れており、再生アルミニウムやコットン、リサイクルプラスティックなどが素材として使われているほか、売り上げの一部は社会貢献に充てられるということだ。HOUSE OF MARLEYの製品はApple Storeにて販売がスタートされている。\n",
            "\n",
            "第10位\t文書id:453 「脚の生えたエアカウンター!?—日本トラストテクノロジーのスパイダーポディウム【売れ筋チェック】」 url:（http://news.livedoor.com/article/detail/6177812/）\n",
            "\t（距離21.050289154052734）\t記事の内容脚の生えたエアカウンター!?—日本トラストテクノロジーのスパイダーポディウム【売れ筋チェック】2012年1月10日火曜日から全国のユーザーが、計測結果をアップして共有できるサービスが始まり、2月からは計測時間をぐっと短縮した後継機種の出荷を予定されているエアカウンター。純正ではないが、現行機の丸みをおびた愛らしいフォルムにぴったりの、楽しいアクセサリーが話題だ。日本トラストテクノロジーが英国から輸入、1980円（送料は別）で販売しているスパイダーポディウムだ。まさにスパイダーのごとく、鉄製の針金にPVCコーティングをほどこした8本の細い脚のうち4本にエアカウンターを巻きつけてホールド。残りの4本は金網や手すり、木などにつかまらせる。現行機の最長計測時間は5分なので、手に持ってじっと計測結果を待つにはちょっと辛い。また、自由にサイズ調整ができるため、本体の汚染防止用のビニール袋をかぶせた状態にも合わせられる。意外にあなどれない便利グッズなのだ。ホワイトとブラックの2色展開で、しかもiPhone、スマートフォン、PSP、DS Lite/i、携帯電話、コンパクトデジタルカメラなどのスタンドとしても使用可。しかもスパイダーの胴体にあたる部分にはスリットが入っており、iPhoneやiPodの充電ケーブルのコネクタがちょうど顔を出すように設計されている。ユーザーの代わりにエアカウンターを支えていてくれて、何かと気の張る毎日をちょっとユーモラスに彩るスタンド。汚染対策は長期戦だからこそ、こんなグッズをきっかけに肩の力をぬきながら、計測を続けていきたい。株式会社日本トラストテクノロジースパイダーポディウム■関連記事計測結果を日本全国のユーザーがアップロード、専門家が質問に答えてくれるシステム稼働開始！—エステー 家庭用放射線測定器計測時間を２分に短縮、スリムなルックス、量産体制ばっちり準備中！—エステー 家庭用放射線測定器「エアカウンターS」iPhone用防水・防塵ケースで快適サイクリング（MIYUKI KOMATSU）■関連記事・iPhoneに顔パス導入！顔認証でのロック解除がいよいよ登場【話題】・EDIUS 3D プレビューバージョン テスター募集のお知らせ【ビデオSALON】・テレビを堪能しながら、知らずに眠りに落ちることができる幸せな方法【話題】・ウィンドウズ版のDaVinci Resolve8.2 のパブリックベータ版がダウンロード可能に【ビデオSALON】・パナソニックGH2の最新ファームウェアが公開。 24Mbpsモード、AF精度が向上【ビデオSALON】\n",
            "\n",
            "第11位\t文書id:161 「【ニュース】日本上陸で話題の動画配信サービスHuluがブラビアでも視聴可能に」 url:（http://news.livedoor.com/article/detail/5967880/）\n",
            "\t（距離21.2359619140625）\t記事の内容【ニュース】日本上陸で話題の動画配信サービスHuluがブラビアでも視聴可能に映画や海外ドラマが視聴できる動画配信サービス「Hulu」。Huluがインターネットテレビ機能に対応している「ブラビア」にもアプリケーションが搭載されることになった。Huluは月額1480円の定額料金で海外の人気ドラマや映画が見放題だということで、9月の日本上陸以来話題になっている。25日には「プレイステーション 3」での視聴が可能になったというニュースがあったが、本日よりソニーの液晶テレビ「ブラビア」向けのサービスもスタートした。対応機種は、2010年以降発売のインターネットテレビ機能搭載モデルだ。また、Huluはすでにパナソニックの「ビエラ」やアップルの「iPad」や「iPhone」、各種アンドロイド端末でもサービスを行っている。Hulu■関連記事・冬のおしゃれとウイルス対策に効くシャーププラズマクラスター乾燥機新発売・ルフィとチョッパーが充電池に！「EVOLTA」が人気アニメ・ワンピースとコラボ・【話題】アップルがロック解除の特許獲得で他社のスマホはどうなる？・驚異の重低音ポータブルプレーヤーCreative Zen X-F13【売れ筋チェック】・【ニュース】３DSが売れない！任天堂が初の赤字か\n",
            "\n",
            "第12位\t文書id:626 「業界初！アンドロイドスマホと連携の炊飯ジャー登場にびっくり【売れ筋チェック】」 url:（http://news.livedoor.com/article/detail/6375145/）\n",
            "\t（距離21.420705795288086）\t記事の内容業界初！アンドロイドスマホと連携の炊飯ジャー登場にびっくり【売れ筋チェック】パナソニック独自の炊き技「大火力おどり炊き」を新搭載し、一粒一粒に均一に熱を伝え、ふっくら大きく甘みのあるごはんを炊き上げるスチームIHジャー炊飯器「SR-SX2シリーズ」が6月1日に発売される。この炊飯ジャーの注目はスマートフォンで炊き方の指示が出せるということ……いったいどういうことなのだろうか。どうやら、スマートフォンで炊飯器本体にタッチするだけで簡単に炊飯設定ができ、炊飯設定以外にも、レシピの検索やオリジナルレシピの登録なども可能だということ。家族の好みに合わせた炊き方など最大6件が登録可能で、操作も専用アプリをダウンロードした後はスマートフォンを炊飯ジャーにかざすだけで簡単だ。炊飯ジャーの機能が高まっているため、もちろん付加価値としてスマートフォンと連携ということなのだが、ネットでは「この機能って必要？」という声も多く出ている。ただ、ごはんを炊く前に「ピッ」とスマートフォンをかざす……ちょっとやってみたいかもしれない……。スチームIHジャー炊飯器「SR-SX2シリーズ」を発売■関連記事・耳の内側でふんばる、けなげなスポーツヘッドホン『HP-S20』でイライラ解消！【売れ筋チェック】・斬新なデザインで実用機能充実のピコプロジェクター「i Show」登場【売れ筋チェック】・キヤノンEOS-1D X、4月下旬に発売延期【ビデオSALON】・一般投票１位のスギちゃんをを押さえてCOWCOW多田が初優勝！R-1ぐらんぷりに「また吉本か！」の声も【話題】・企業戦士の鎧を脱いだら光の戦士になろう！スター・ウォーズ ライトセーバールームライト【売れ筋チェック】\n",
            "\n",
            "第13位\t文書id:438 「2012年はモバイルプロジェクター元年！新時代のプロジェクターはこんなに進化している！【売れ筋チェック】」 url:（http://news.livedoor.com/article/detail/6170455/）\n",
            "\t（距離21.897964477539062）\t記事の内容2012年はモバイルプロジェクター元年！新時代のプロジェクターはこんなに進化している！【売れ筋チェック】昨年末から続々と登場している新世代のプロジェクター。「プロジェクターってこういうもの」という既成概念を打ち破るような画期的な商品の数々に驚かされる。ここでそれぞれの特徴を振り返ってみよう。■サンワサプライモバイルプロジェクター「iPhoneプロジェクター 400-PRJ011」iPhone4/4Sにカバー状に装着してドックコネクターで接続するポケットプロジェクターだ。iPhone内の画像やYoutube動画、GoodReader、Keynoteの図などが約2.5時間連続で投影できる。光源にはLEDを使用しており、明るさは最大12ルーメン。本体のスイッチを切り替えると、iPhoneの外部バッテリーに変わり、容量は2100mAhで、iPhoneを1回充電できる。販売価格は1万9800円。■リコーIPSiO(イプシオ) PJ WX4130N / WX4130業界初の縦置き型と自由曲面ミラーにより本体背面から投写面までわずか11.7cmの超至近投写を実現。また、電源ONすると3秒後に立ち上がり、シャットダウンも電源コードを抜くだけ。会議やプレゼンテーションの準備、片付けがスムーズで時間の無駄がない。また、重さ約3.0kgかつ超コンパクトサイズなので持ち運びも便利。■住友スリーエムビデオカメラプロジェクタービデオカメラとして動画や静止画の撮影し、その撮影した動画や静止画をボタン１つで即プロジェクター投影することができる1台2役。さらに、20ルーメンの明るさを実現し、最大65インチの大画面で楽しめる。本体質量はわずか180グラムで手のひらサイズ。販売価格は3万9800円■エグゼモードクラウドプロジェクター「aigo Projector Cloud」スーツの内ポケットに入る超小型で重さもわずか230g。さらに、画像・動画・ドキュメントがすべてPCレスで投影可能。Office2007にも対応で、ファイルをダブルクリックするだけでアプリが起動し表示ができる簡単操作でストレス知らず。販売価格は4万9800円。■関連記事忙しいオフィスで大活躍！超短焦点プロジェクターリコーIPSiO(イプシオ) PJ WX4130N / WX4130新世代のプロジェクターはPCレスに進化！エグゼモードからクラウドプロジェクター新発売プロジェクターもモバイルの時代、住友スリーエムからビデオカメラプロジェクター発売（牧田亜紀子）■関連記事・気になる冬の手荒れ対策に有効な家電は加湿器と食器洗い乾燥機【売れ筋チェック】・原因は韓国の勢い−ソニーが家庭向け有機ELテレビの販売・製造から撤退 【ニュース】・視聴者の感覚とズレズレ！声だけ出演の映画も公開決定で紳助復帰の気配？【話題】・アートをもっと楽しむ！キース・へリング展にARが採用される【話題】・「上からマリコ」はやっぱりサディスティックだった！AKB前田敦子がツイッターでネタにされる【話題】\n",
            "\n",
            "第14位\t文書id:150 「【週間売れ筋チェック】10月11日〜16日に一番売れたＢＤレコーダーは「ブルーレイディーガ BRT300」」 url:（http://news.livedoor.com/article/detail/5964671/）\n",
            "\t（距離21.91899871826172）\t記事の内容【週間売れ筋チェック】10月11日〜16日に一番売れたＢＤレコーダーは「ブルーレイディーガ BRT300」リサーチ会社のGfKJapanが発表した10月11日から16日までのレポートによると、この期間で一番売れたブルーレイレコーダーはパナソニックの「ブルーレイディーガ BRT300」だったことがわかった。これは、手軽に使えるシングルチューナーで、ブルーレイ３Ｄの再生、最大15倍のハイビジョン長時間録画に対応している。最近ではリモコンに小さなボタンが多くついているものが多く、高齢者にはとくに扱いづらいことが多い。だが、これはうれしいことに「シンプルリモコン」が同梱されており録画予約や再生がだれにでも簡単にできるようになっている。ＶＨＳからの買い替えが多いということだが納得だ。もちろんインターネット接続にも対応しており、ディーガに録画した番組をネットワークを介して別室のお部屋ジャンプリンク対応のテレビやプレーヤーで楽しむことができる。これで、リビングにプレーヤーを設置し、寝室や書斎で楽しむということも可能になり自分の時間を有効に活用することができる。■本体サイズ：430（幅）×49（高さ）×199（奥行）mm質量：2.7kgブルーレイディーガ BRT300（パナソニック）■関連記事・【話題】クリスマスプレゼントの人気はタブレット端末！アメリカでの普及は？・【話題】人気のエネループにおいしそうなシリーズが限定登場！・【話題】タイ洪水被害でパソコン、デジタルカメラ生産に影響・【話題】ジョブズ構想のテレビがアップルから登場か・【ニュース】日本上陸で話題の動画配信サービスHuluがブラビアでも視聴可能に\n",
            "\n",
            "第15位\t文書id:133 「カシオ「EX-FC200S」でスロー映像で自分のゴルフスイングを分析【売れ筋チェック】」 url:（http://news.livedoor.com/article/detail/5942806/）\n",
            "\t（距離22.408329010009766）\t記事の内容カシオ「EX-FC200S」でスロー映像で自分のゴルフスイングを分析【売れ筋チェック】科学実験テレビ番組で、水を入れた風船が破裂する様や、羽ばたく昆虫をとらえた超スロー映像を見たことはありだろう。こうした映像は、今まで業務用の特殊なカメラで撮るしかなかった。ところが、カシオのコンパクトデジカメEX-FC200Sで、誰もが気軽に撮れるようになった。これは、たとえばゴルフ場で自分のスイングを撮影してもらい、「ガイドライン」３本を表示させて、理想的な軌跡との差異を比べる、といった使い方のために設計された機能だ。従来機では「ガイドライン」は２本しか表示できなかったため、スポーツのフォーム分析のしやすさは格段に向上した。ふだん人間の目でとらえることができないドラマチックな瞬間を手軽に記録するこの機能、もちろん音声は録音できないが、何に使うか考えるだけでワクワクしてしまう。スポーツの技術向上のための分析、実験、昆虫観察など、いろいろ遊べるコンパクトデジカメは10月21日発売予定。店頭予想価格は4万5000円前後で、ボディカラーはスポーティーな赤だ。カシオコンパクトデジカメ EX-FC200S商品情報■関連記事サマンサタバサがキャノンとコラボ！限定デジカメ「IXY 600F シャンパンピンク」発売（MIYUKI KOMATSU）■関連記事・【話題】日本ではどう広がる？アマゾンの電子書籍サービスが年内に日本に登場・【話題】テレビ産業が大きく変わる？パナソニックもテレビ事業を大幅縮小へ・パナソニックからプロシューマー向けの2D/3DカメラのHDC-Z10000登場【ビデオSALON】・USBとシガーソケット電源対応加湿器GH-USB-MISTM【売れ筋チェック】・三菱電機から2つのセンサーで自動的に節電可能な頼もしい冷蔵庫「RXシリーズ」が新発売\n",
            "\n",
            "-----3番目の結果ここまで-----\n",
            "\n",
            "\n",
            "4番目の検索クエリ:Microsoftに関する記事\n",
            "-----検索結果-----\n",
            "第1位\t文書id:446 「ウィンドウズ版のDaVinci Resolve8.2 のパブリックベータ版がダウンロード可能に【ビデオSALON】」 url:（http://news.livedoor.com/article/detail/6182727/）\n",
            "\t（距離13.351147651672363）\t記事の内容ウィンドウズ版のDaVinci Resolve8.2 のパブリックベータ版がダウンロード可能に【ビデオSALON】ブラックマジックデザインはこのほど、 ウィンドウズ版DaVinci Resolve8.2 のパブリックベータ版がダウンロード可能となったことを発表した。ウィンドウズ版DaVinci Resolveのパブリックベータ版はフル機能搭載のDaVinci Resolve 8.2および無償版の DaVinci Resolve Lite の両方で入手可能。 ウィンドウズ版DaVinci Resolve8.2 ライセンスは Mac OS X 版も含まれており、既存のMac OS X 版を使っている人は自動的にWindows版のライセンスを入手でき、ダウンロードしてすぐに使用できる。ウィンドウズ版DaVinci Resolve ベータ版によりユーザーは、幅広い機種のハードウェアでカラーコレクションシステムを構築し、GPUを数多くのオプションから選択することが可能となる。ウィンドウズ版DaVinci Resolveは、最大4GPUまで対応している。例えば、オフィスではパワフルなマルチGPUのWindowsデスクトップPCを使用し、ドングルを抜いて撮影現場へ移動し、Mac OS X MacBook Proコンピューターにドングルを接続して使用することも可能。ソフトウェアを追加購入しなくても、いつでもOS間を移動し、グレーディングできることになる。現行のDaVinci Resolveユーザーの特典として、Mac OS X版DaVinci Resolveを既に購入していれば、同一のドングルをウィンドウズ版DaVinci Resolveでも使用できる。これで、DaVinci Resolveは3つのモデルを取り揃えることになる。無償版であるDaVinci Resolve LiteはWindowsおよびMac OS X版のダウンロードが可能。US$995のDavinci ReolveソフトウェアはMac OS X、Windowsで使用できるようになる。ちなみにコントロールサーフェス付きの完全版Resolveは、Mac OS X、Windows、そしてLinuxで使用できるようになる。ユーザーは3種類のOSから選択してカラーコレクションシステムを構築できる。DaVinci Resolve LiteWindows版ダウンロードはこちらからDaVinci Resolve SoftwareWindows版ダウンロードはこちらから■ビデオSALON 最新記事・パナソニックGH2の最新ファームウェアが公開。24Mbpsモード、AF精度が向上・DaVinci Resolve Lite 8.1 でノードが無制限に！・ソニーNXCAMのファームアップ情報・ソニープロフェッショナルセミナーを11月30日に開催■ビデオSALON最新号■関連記事・Test Report ソニーα77作例動画【ビデオSALON】・Test Report タスカム US-125M［USBオーディオインターフェイス］【ビデオSALON】・のどが痛くて歌えない！主題歌が間に合わないＡＫＢさしこはプロ失格か【話題】・編集特集・ナレーションテスト【ビデオSALON】・電子黒板機能付きやワイヤレス、新世代液晶プロジェクター今度は日立から新商品【売れ筋チェック】\n",
            "\n",
            "第2位\t文書id:308 「11月号付録 キヤノン iVIS HF G10 Perfect Book 丸かじりダウンロード【ビデオSALON】」 url:（http://news.livedoor.com/article/detail/6094137/）\n",
            "\t（距離14.561168670654297）\t記事の内容11月号付録 キヤノン iVIS HF G10 Perfect Book 丸かじりダウンロード【ビデオSALON】抜群の撮影能力と撮影機能で熱い注目を浴びるキヤノン iVIS HF G10(以下HF G10）の魅力と使いこなしをビデオサロン11月号付録でお送りしましたが、その別冊 「キヤノン iVIS HF G10 Perfect Book」(オールカラー・全20ページ）を丸まるダウンロードしていただけます。11月号を買いそびれたという方、HF G10に興味があって今購入を考えているという方、そしてすでにHF G10を手にしていてその使いこなしを楽しみたいという方、この機会にぜひ 「キヤノン iVIS HF G10 Perfect Book」 をダウンロードして、HF G10の撮影力をご堪能ください。○11月号別冊付録 『キヤノン iVIS HF G10 Perfect Book』−撮り手を奮い立たせるモンスターカメラを使いこなせ！ダウンロード(PDF)はコチラから↓ファイルをダウンロードダウンロード後、Adobe Reader等のビューワーにて閲覧できます。●別冊内で紹介されている舞台撮影の動画はコチラ5歳の小さなヴァイオリン弾き・ももちゃんの演奏会をキヤノンHF G10で撮影。そこで実際にわかったHF G10の使える機能と具体的なノウハウを紹介。ハイビジョン映像をお楽しみいただくために 720p以上での視聴をお薦めします。ただし通信環境および視聴時間帯によってYouTube画面が滑らかに再生されない場合もあります。ご了承ください。◎別冊付録『キヤノン iVIS HF G10 Perfect Book』ダイジェストhttp://www.genkosha.com/vs/report/entry/post_257.html◎HF G10関連のおすすめ記事ネイチャーでここまで撮れる！ キヤノンiVIS HF G10 完全リポートhttp://www.genkosha.com/vs/canon/entry/ivis_hf_g10.html◎HF G10の詳しい情報はキヤノン iVIS HF G10公式HPhttp://cweb.canon.jp/ivis/lineup/hfg10/index.html■ビデオSALONイベント・製品レポート 最新記事・11月号付録 キヤノン iVIS HF G10 Perfect Book 丸かじりダダウンロード・【Special Report】ミドルレンジのビデオ制作者の有志が集まって結成したHD Usersが選んだATEM 1M/E Switcher・第9回上映 中平悠里 監督作品『猫と少女の物語』・連載●After Effects 天国への階段第9回◆ビデオSALON2011年12月号http://www.genkosha.co.jp/vs/backnumber/866.html■関連記事・あなたは大丈夫？スマホでのメールチェックが仕事の妨げになっていると人事がご機嫌斜め【話題】・iPad2のカメラで顔色や胸の動きを読み取るだけ—呼吸と脈拍計測アプリ【売れ筋チェック】・気をつけて！スマホの普及で駅での事故が過去最悪か【話題】・つぶやくだけで広告収入ゲット！「ツイッター広告サービス」ってなんだ【話題】・グリーが世界へ！1億5千万人規模のプラットフォーム「GREE Platform」【話題】\n",
            "\n",
            "第3位\t文書id:236 「ブラックマジックデザイン、Avid Media Composer 6のサポートを発表【ビデオSALON】」 url:（http://news.livedoor.com/article/detail/6058238/）\n",
            "\t（距離15.336793899536133）\t記事の内容ブラックマジックデザイン、Avid Media Composer 6のサポートを発表【ビデオSALON】ブラックマジックデサインは最新のソフトウェア・アップデート「Desktop Video 9.0」を発表した。Windows 7およびMacOS Xに対応し、同社ウェブサイトより無償でダウンロード可能。既存のDeckLink、Multibridge、Intensity、 UltraStudioモデルに対応する。このメジャーアップデートはAvid SymphonyおよびAvid NewsCutterを含むAvid Media Composer 6ファミリーのキャプチャー・再生をサポート。Avidユーザーはブラックマジックデザインの最新Thunderbolt、USB3.0、PCI Expressのビデオキャプチャー・再生デバイスをAvidソフトウェアと組み合わせて使用できるようになり、非圧縮10 bit YUVおよびRGB、Avid DNｘHD、パナソニックDVCPRO HD、ソニーXDCAMなどのあらゆるフォーマットでの作業が可能になる。また、Media Composer 6に含まれる最新の3D編集サポートで、ブラックマジックデザインのUltraStudio 3DやDeckLink HD Extreme 3Dが能力を発揮し、よりスムーズで効率的な3D編集を実現する。ブラックマジックデザインCEOであるグラント・ペティはこう語る。「私たちは、何年もこの時を待っていました。Avid Media Composer 6と弊社キャプチャー・再生デバイスの統合、それにDaVinci ResolveとのAAFのラウンドトリップは、まさに クリエイティブなユーザーの皆様、フィルム／テレビ業界にとって、すべてを変えうる決定的瞬間と言えるでしょう」またAvid のセグメント・マーケティングマネージャーの AngusMackay氏は次のように語る。「Blackmagic ハードウェア、もしくは Avid ネイティブの 統合されてスピードアップした DXシステム、Media Composer／Symphony ／NewsCutter のユーザーの皆様は以前よりも多くの選択肢があります。Blackmagic の DNxHD ならびにAAF サポートは、より簡単なプロジェクトの転送とパイプラインの構築、ワークフローのスムーズ化、そして生産性の向上を、当社およびBlackmagic Design のお客様に提供できます。ハードウェアにかける費用を抑えることで、簡単にAvid 編集システムを既存のワークフローに加えられるのです。 今回のシステムの開放性ならびに生産性の向上、Blackmagic Design とのコラボレーションによって、ユーザーの皆様に満足していただけることを、喜ばしく思っています」Desktop Video 9.0 の主な特徴• Avid Media Composer 6／Avid Symphony／Avid NewsCutter認定• Avid Media Composer 6での非圧縮およびDNxHD キャプチャー・再生• Avid Media Composer 6でのリアルタイムエフェクト• Avid Media Composer 6で右目、左目の画像をセパレートファイルでキャプチャーできる、進化したデュアルストリーム 3D ワークフロー■ビデオSALON 最新記事・パナソニックAG-AC160、1080/60p記録にも対応・キヤノンが映画制作用のレンズ、カメラなどCINEMA EOS SYSTEMを発表・セミナーレポート 「EOS MOVIEセミナー〜EOS MOVIEで広がる映像の世界」・ダブルスロットで2枚同時記録可能なHDカメラJVC GY-HM150■ビデオSALON最新号■関連記事・【11月号記事連動】ソニーNEX-VG20でCEATECを取材する【ビデオSALON】・ネットの世界は好景気？オンラインゲームで１０万円のアイテムが２０００個売れた【話題】・ビデオサロン11月号「街のビデオ屋目線で評価するTestRoom」【ビデオSALON】・気になってゆっくり休めない？ホリデー中に仕事メールをチェックする人は７０％【話題】・ボディソニック座イス—ナップ・ファンソニック マンボウソファ【売れ筋チェック】\n",
            "\n",
            "第4位\t文書id:290 「連載●一眼流映像表現術 第21回【ビデオSALON】」 url:（http://news.livedoor.com/article/detail/6086124/）\n",
            "\t（距離15.76522159576416）\t記事の内容連載●一眼流映像表現術 第21回【ビデオSALON】マイクによる音の違いを「ガンマイク」、「指向性の広いマイク」、「ピンマイク」の3つのパターンで聴き比べできます。「ビデオサロン」2011年12月号 108ページ参照。解説●ふるいちやすし○マイクによる音の違いを確かめる■ビデオSALONイベント・製品レポート 最新記事・11月号付録 キヤノン iVIS HF G10 Perfect Book 丸かじりダダウンロード・【Special Report】ミドルレンジのビデオ制作者の有志が集まって結成したHD Usersが選んだATEM 1M/E Switcher・第9回上映 中平悠里 監督作品『猫と少女の物語』・連載●After Effects 天国への階段第9回◆ビデオSALON2011年12月号http://www.genkosha.co.jp/vs/backnumber/866.html■関連記事・【Special Report】ミドルレンジのビデオ制作者の有志が 集まって結成したHD Usersが選んだATEM 1M/E Switcher【ビデオSALON】・スマホ率が急上昇中！世界の携帯３割はスマホだった【話題】・【記事連動】音の編集講座「音量の合わせ方」【ビデオSALON】・KDDIがiPhone向けアプリ「auお客さまサポート」 をリリース【話題】・電子書籍市場をこっそり支えるのは女の子のエッチな願望？【話題】\n",
            "\n",
            "第5位\t文書id:505 「ブラックマジックデザイン、Thunderbolt対応のIntensity Shuttleを発売【ビデオSALON】」 url:（http://news.livedoor.com/article/detail/6236107/）\n",
            "\t（距離15.920465469360352）\t記事の内容ブラックマジックデザイン、Thunderbolt対応のIntensity Shuttleを発売【ビデオSALON】ブラックマジックデザインは現在米国で開催中のCES 2012において、Thunderbolt対応の新しいIntensity Shuttleを発表した。2012年の第1四半期より販売予定。Intensity ShuttleはHDMI、アナログコンポーネント、コンポジット、Sビデオと多様な入出力に対応するHDビデオキャプチャ機器でありながら、239ドルという低価格を実現。Intelが新しく開発した高速インターフェイスであるThunderbolt対応のコンピュータとケーブル1本で繋ぎ、ビデオカメラ、セットトップボックス、ゲーム機、テレビ、プロジェクターなど様々な機器を接続することができる。データ転送率はUSB2.0の20倍、 FireWire800の12倍に相当する10Gbps。外部電源を必要とせず、Thunderboltケーブル経由で給電できるため、ポータブルデバイスとして簡単に使用が可能だ。1080pまでのSD、PSL/NTSCで圧縮/非圧縮を扱え、ビデオカメラのHDMIから非圧縮のハイビジョン映像をキャプチャすることも可能。キャプチャー・再生には専用ソフトMedia Expressが同梱されており、新たにソフトを用意する必要はない。キャプチャしたビデオファイルはファイナルカットプロ、アドビプレミアプロ/アフターエフェクツ、アビッドメディアコンポーザーなど主要な編集・デザインソフトと完全な互換性を持っている。主な機能• SD/HD の圧縮/非圧縮10bit キャプチャー・再生• HDMI 入出力• アナログコンポーネント入出力• コンポジット入出力• S ビデオ入出力• ステレオアナログオーディオ入出力• Thunderboltポート• Thunderboltケーブル経由で給電• Apple FInal Cut Pro、Adobe Premiere、Avid Media Composer などポピュラーな編集ソフトウェアに対応• Adobe After Effects、Adobe Photoshop、The Foundry など、多くのデザイン/合成ツールに対応• Blackmagic Design Media Express キャプチャー・再生ソフトウェアを同梱●ブラックマジックデザインhttp://www.blackmagic-design.com/jp/■ビデオSALON 最新記事・TVF2012の入賞30作品が決定・EDIUS 3D プレビューバージョン テスター募集のお知らせ・ウィンドウズ版のDaVinci Resolve8.2 のパブリックベータ版がダウンロード可能に・パナソニックGH2の最新ファームウェアが公開。24Mbpsモード、AF精度が向上■ビデオSALON最新号■関連記事・映画表現育成協会主催 プロモーションビデオ制作講座、受講生募集【ビデオSALON】・「何の自信も持てない」視聴率がとれず自信喪失のAKB前田敦子に同情の声【話題】・テレビにはもう頼れない？シャープ通期2900億円の赤字に転落【話題】・キヤノンからWi-Fi搭載の中級機が登場！【ビデオSALON】・Googleにどれくらいバレているのか？ネットで話題のユーザー属性を確認してみた【話題】\n",
            "\n",
            "第6位\t文書id:583 「ブラックマジックデザイン、HyperDeck SSD レコーダーに タイムコード、DNxHD QuickTime サポートを追加【ビデオSALON】」 url:（http://news.livedoor.com/article/detail/6314262/）\n",
            "\t（距離16.307815551757812）\t記事の内容ブラックマジックデザイン、HyperDeck SSD レコーダーに タイムコード、DNxHD QuickTime サポートを追加【ビデオSALON】ブラックマジックデザインはHyperDeck 2.5 パブリックベータ版をリリースした。今回のソフトウェアアップデートでは、エンベッドタイムコードのサポート、QuickTime へのDNxHD 収録、SDI カメラによるHyperDeck SSD レコーダーへの収録開始機能が追加される。HyperDeck 2.5 パブリックベータ版（Mac OSX/Windows 対応）は同社Webサイトより無償でダウンロード可能。今回のアップデートはBlackmagic Design SSD レコーダーのHyperDeck Shuttle 2 ならびにHyperDeck Studio の両モデルに対応している。HyperDeck 2.5 ソフトウェアアップデートは、HyperDeck Shuttle ならびにHyperDeckStudio に、タイムコード機能を追加する。HD-SDI ビデオ信号の補助データスペースにエンベッドされているタイムコード情報は、HyperDeck の非圧縮/Avid DNxHD 圧縮ビデオファイルに書き込まれる。ユーザーは、標準RP-188HD プロトコルに基づいて、入力ビデオストリームのタイムコードを保存することができ、収録したファイルにオリジナルのタイムコード情報を付けて再生することが可能だ。HyperDeck Shuttle ならびにHyperDeckStudio は、Avid DNxHD 収録・再生に対応しており、Avid から完全な認定を受けている。HyperDeck 2.5 ソフトウェアは、DNxHD MXF フォーマットファイルに加えて、DNxHD QuickTime の収録・再生オプションを追加する。DNxHD ファイルをQuickTime フォーマットでラッピングすることにより、Avid の業界標準ファイルのエンコードをより幅広いソフトウェアと使用したり、特定のワークフローに対応したりできる。また、HyperDeck Shuttle への収録が、カメラやその他のHD-SDI ビデオ機器により自動的に開始できるようになる。プロ仕様のカメラの多くは収録の開始/停止フラグをSDI ビデオ出力にエンベッドしているが、HyperDeck Shuttle はこれらのコマンドを認識し、カメラと同期して収録を開始/停止できる。この機能によってカメラとディスクレコーダーでそれぞれ収録機能を起動させなくてもHyperDeck Shuttle に収録できるようになる。標準的な方法では開始/停止フラグを出力しないカメラもあるため、今回のアップデートにはタイムコード収録開始機能も搭載されている。つまり、 RP-188 HD タイムコードに対応しているあらゆるカメラやデバイスを使ってHyperDeck Shuttle の収録を開始・停止できるのである。HyperDeck はRP-188 HD タイムコードを確認し、タイムコードが動き出すと瞬時に収録を開始する。この機能によりARRI ALEXA などのプロフェッショナル仕様のカメラやデバイスでも、自動的にHyperDeck Shuttle を開始でき、タイムコードが同期した非圧縮/DNxHD ファイルを収録できる。HyperDeck 2.5 パブリックベータ版の無償ダウンロードはブラックマジックデザインサポートページから。http://www.blackmagic-design.com/support■ビデオSALON 最新記事・ニコニコ動画、生中継用エンコーダーや画質向上など新サービスを続々発表・ふるいちやすし氏の新作上映とトークイベントをアップルストアで開催・ブラックマジックデザイン、Thunderbolt対応のIntensity Shuttleを発売・TVF2012の入賞30作品が決定■ビデオSALON最新号■関連記事・AKB前田敦子がネタにされファンが大激怒！日本一下世話なクイズ番組がネットで話題に【話題】・寝つけない夜に寝室で愛用…滝クリもオススメのスマートAVライフはパナソニックでチェック【話題】・ついにケーブル不要？ 無線での高速データ送受信実現か東京工業大学とソニーが世界最高速のミリ波無線用LSIを共同開発【ビデオSALON】・東電リストラ！クビを切られたのは人気キャラクター「でんこちゃん」だった【話題】・家庭菜園の流行で注目！初心者や女性にもぴったりな軽くて使いやすい「ミニ耕運機ＬＧＣ１２０」【売れ筋チェック】\n",
            "\n",
            "第7位\t文書id:262 「あなたのパスワードは大丈夫？避けた方がいいワーストパスワードが発表【話題】」 url:（http://news.livedoor.com/article/detail/6069991/）\n",
            "\t（距離16.390043258666992）\t記事の内容あなたのパスワードは大丈夫？避けた方がいいワーストパスワードが発表【話題】パソコンや携帯電話、スマートフォン、そしてFacebookなど多くのソーシャルメディアを使うことで、日常的にいろいろなパスワードが必要になっている。ただ、このパスワードが誰にも見破られていないという自信のある人はどれくらいいるだろうか？パスワードとしてよく使われているものがSplashDataによって発表された。良く使われているというパスワードトップ２５がこちらだ。1. password2. 1234563.123456784. qwerty5. abc1236. monkey7. 12345678. letmein9. trustno110. dragon11. baseball12. 11111113. iloveyou14. master15. sunshine16. ashley17. bailey18. passw0rd19. shadow20. 12312321. 65432122. superman23. qazwsx24. michael25. footballこの中のパスワードを使わない方がいいのはもちろん、自分の誕生日など想像しやすいものもやめておこう。テレビ番組で、タレントが恋人の携帯を盗み見ようとしたときに「怪しいと思う女の子の誕生日を入れるとロックが解除された」と暴露していたが携帯覗き見の是非はともかく、より怪しまれるような数字をパスワードに使うのもやめておいたほうがいいだろう。The 25 Most Popular Passwords of 2011■関連記事・原因はバッテリーか？iPhoneから煙が出て、機内が騒然【ニュース】・時間つぶしに有効？ゲーセンに設置されている一人用カラオケボックス【話題】・USB電源で積極的に温める手袋— 上海問屋 DN-YKS-GMSF-USB【売れ筋チェック】・11月号記事連動「音の編集講座」〜ピッチとスピード【ビデオSALON】・ゆっくりなのがたまにキズ？「USBあったかオニギリ ウォーマー（USBHTOW1）」に注目【売れ筋チェック】\n",
            "\n",
            "第8位\t文書id:285 「テストレポート フジフイルムX10【ビデオSALON】」 url:（http://news.livedoor.com/article/detail/6079831/）\n",
            "\t（距離16.435195922851562）\t記事の内容テストレポート フジフイルムX10【ビデオSALON】レトロなデザインに、マニュアルズームができるコンデジ・フジフイルムX10。動画機能にスポットをあてて、テストしました。撮影編集、レビューはまるやまもえるさん。レポートはビデオSALON12月号をご覧ください。■ビデオSALONイベント・製品レポート 最新記事・11月号付録 キヤノン iVIS HF G10 Perfect Book 丸かじりダダウンロード・【Special Report】ミドルレンジのビデオ制作者の有志が集まって結成したHD Usersが選んだATEM 1M/E Switcher・第9回上映 中平悠里 監督作品『猫と少女の物語』・連載●After Effects 天国への階段第9回◆ビデオSALON2011年12月号http://www.genkosha.co.jp/vs/backnumber/866.html■関連記事・露骨すぎる！？サムスンがiPhoneは古いとアンチキャンペーンを展開【話題】・お気に入りのコスプレをいつでも鑑賞！日本最大のコスプレコミュニティサイト「Cure」 がアンドロイド向けアプリをリリース【話題】・国内で保証対応、9800円は魅力的！—ガイガーFUKUSHIMA iPhone接続専用【売れ筋チェック】・テストレポート プロ機材ドットコムTEEDAスタビライザー【ビデオSALON】・要注意！子どもが欲しい男性はWi-Fi使用に注意した方が吉？【話題】\n",
            "\n",
            "第9位\t文書id:380 「中東マネーがすごい！サウジアラビア王子がTwitterに投資で、その額３億ドル！！【話題】」 url:（http://news.livedoor.com/article/detail/6132491/）\n",
            "\t（距離16.457569122314453）\t記事の内容中東マネーがすごい！サウジアラビア王子がTwitterに投資で、その額３億ドル！！【話題】サウジアラビア王家の一員であり、Kingdom Holding Companyのファウンダー・CEOでもあるアル＝ワリード・ビン・タラール・ビン・アブドゥルアズィーズ・アール・サウード王子がTwitterに投資を行った。驚くのはその額だ。アル＝ワリード王子の投資額はなんと３億ドルだった。アル＝ワリード王子は投資について、Twitterの将来性を評価したということだ。Kingdom HoldingはすでにさまざまなIT系企業に投資をしており、その中にはApple、eBay、AOL、Motorola、Compaq、Amazonなどが含まれている。大きな投資を受けたTwitterに今後要注目だ。Saudi Prince Pumps $300 Million Into Twitter■関連記事・脚本家がネタバレしちゃった！？「家政婦のミタ」が今夜ついに最終回【話題】・日本と韓国の映画・ドラマも配信開始！人気の動画配信サイトHuluがますます便利に【話題】・記事タイトル次世代PSなのか!? 部屋と一体になる映像システムのコンセプト映像公開—ソニー【売れ筋チェック】・嘘泣きじゃない！柳美里が北朝鮮市民の涙のワケを解説【話題】・忘年会シーズンは要注意！Facebook上にある76％は恥ずかしい写真だった【話題】\n",
            "\n",
            "第10位\t文書id:384 「マーク・ザッカーバーグがFacebookに訴えられる！？【話題】」 url:（http://news.livedoor.com/article/detail/6137753/）\n",
            "\t（距離17.042064666748047）\t記事の内容マーク・ザッカーバーグがFacebookに訴えられる！？【話題】マーク・ザッカーバーグがFacebookに訴えられる……という驚くべきニュースが入ってきた。マーク・ザッカーバーグといえばFacebookのCEOが真っ先に思い浮かぶ。だが、今回訴えられたのはFacebookCEOのマーク・ザッカーバーグとは別人だ。今回注目を集めているマーク・ザッカーバーグはイスラエルでFacebookの「いいね」数をブーストするマーケティング会社「Like Store」を経営していた。だが、この「Like Store、」事業内容について「Facebookのサービス利用規約に違反する」とFacebookに取下げ命令を受けてしまい、先月サイトを閉鎖したという。経営者はロテム・ゲズという名前だったのだが、Facebookを反訴する際にFacebookのCEOであるマーク・ザッカーバークの名前に改名したのだ。気になる改名の理由だが、話題を作りたかったとみられている。Mark Zuckerberg Gets Sued By Facebook—and That’s Not Even the Craziest Part of This Story■関連記事・今年の流行りをアプリでおさらい！J-POP100曲が無料で聞ける「Music Beam」【話題】・「江」「南極物語」は大失敗か−「週刊新潮」が日本の最低ドラマ賞を発表【話題】・視聴率４０％の「家政婦のミタ」がさっそくDVD化！特典ディスク付き6枚組が４月に発売【話題】・Twitterでの炎上防止へ−承認が下りないとつぶやけないシステムがあった【話題】・やっぱり強かった！「家政婦のミタ」最終話の視聴率は歴代３位の４０％【話題】\n",
            "\n",
            "第11位\t文書id:449 「EDIUS 3D プレビューバージョン テスター募集のお知らせ【ビデオSALON】」 url:（http://news.livedoor.com/article/detail/6184442/）\n",
            "\t（距離17.067289352416992）\t記事の内容EDIUS 3D プレビューバージョン テスター募集のお知らせ【ビデオSALON】グラスバレーＧEDIUS 6で3D編集機能を体験できるプレビューバージョンのテスターを募集している。概要は以下のとおり。http://pro.grassvalley.jp/catalog/edius_pro/edius_3d_test.htm先日ダウンロードを開始いたしましたEDIUS 3D プレビューバージョンのテスターを募集しています。正式なリリースの前にEDIUSの3D編集機能をお試しいただくことができますので、ぜひご参加ください。■ テスト期間2011/12/20〜2012/3/30 （US時間）■ 詳細プレビューバージョンをインストールしていただくことで、EDIUSの3D編集機能をお試しいただくことができます。プレビューウィンドウでの立体視や視差の調整、エクスポートなどを行うことが可能です。■ 注意事項・ご使用の上での気付いた点などを、EDIUS3DPreview@grassvalley.com までご報告していただきます。・各バージョンの試用期間はリリースノートに記載しております。（公開後6週間程度を予定しております。）・試用を継続していただくには、約2週間に一度更新される最新バージョンでの気付いた点や不具合を報告していただく必要があります。・STORM MOBILEなどのハードウェア編集システムを搭載したPCに本プレビュー版をインストールすると、ハードウェアドライバーが更新され、使用していた EDIUSでのハードウェア利用が不可能になります。ハードウェアおよびEDIUSをインストールしていないPCにインストールすることをお勧めいたします。・当プレビュー版はサポート対象外です。したがってインストールした際のトラブルは自己責任となります。尚、HDWSやREXCEEDなどのターンキー製品にインストールした場合は、今後のサポートが受けられなくなります。・ターンキーシステムにインストールした場合もドライバーが更新され、システムが正常に動かなくなる恐れがありますので、ターンキーシステムにはインストールしないでください。・プレビュー版のためノンサポートとなっております。いただいたメールにもお答えできない場合があります。・本ページの注意事項、ならびにユーザー登録ページの詳細を確認・同意いただいた上で、ご応募ください。■ 動作環境CPU：Intel社製 Core i7以上メモリ：4GB以上OS：Windows 7 32bit以上 （Windows 7 64bitを推奨）GPU：D3D9.0c準拠のもの （D3D11準拠、NVIDIA 3D VISION対応のものを推奨）GPUメモリ：512MB以上 （1GB以上を推奨）モニタ：1280ｘ1024以上 （1920ｘ1080以上、NVIDIA 3D VISION対応のものを推奨）サウンド：WDM準拠のものインターネット：アップデートのために必要■ ダウンロード本ページの注意事項、ならびにユーザー登録ページ（英語）の詳細を確認・同意いただいた上でユーザー登録を行い、指示に従ってダウンロードしてください。http://www.grassvalley.com/products/edius_3d_previewグラスバレーの告知ページhttp://pro.grassvalley.jp/catalog/edius_pro/edius_3d_test.htm■ビデオSALON 最新記事・ウィンドウズ版のDaVinci Resolve8.2 のパブリックベータ版がダウンロード可能に・パナソニックGH2の最新ファームウェアが公開。24Mbpsモード、AF精度が向上・DaVinci Resolve Lite 8.1 でノードが無制限に！・ソニーNXCAMのファームアップ情報■ビデオSALON最新号■関連記事・ソニーF3ズームレンズテスト【ビデオSALON】・世界最大の家電ショーから見る！すべての家電が小さなチップで考え、通信するサイバーな未来【話題】・Test Report ソニーα77作例動画【ビデオSALON】・Test Report タスカム US-125M［USBオーディオインターフェイス］【ビデオSALON】・のどが痛くて歌えない！主題歌が間に合わないＡＫＢさしこはプロ失格か【話題】\n",
            "\n",
            "第12位\t文書id:296 「連載●極・ト書き一行のカット割り! 第6回【ビデオSALON】」 url:（http://news.livedoor.com/article/detail/6088132/）\n",
            "\t（距離17.56900405883789）\t記事の内容連載●極・ト書き一行のカット割り! 第6回【ビデオSALON】【今月のお題】自転車に乗り、出発する女性脚本に書かれたたった一行のト書きをどう解釈し、それをどう映像化するか？ を考えることで、撮影＆編集脳を鍛える連載。撮影・編集のポイントは「ビデオサロン」2011年12月号 110ページ参照。撮影/編集●藍河兼一女優●緒沢あかり（グッドラックカンパニー）○第6回 自転車に乗り、出発する女性関連記事連載●極・ト書き一行のカット割り!第3回連載●極・ト書き一行のカット割り!第1回連載●極・ト書き一行のカット割り!第2回連載●極・ト書き一行のカット割り! 第4回連載●極・ト書き一行のカット割り!  第5回■ビデオSALONイベント・製品レポート 最新記事・11月号付録 キヤノン iVIS HF G10 Perfect Book 丸かじりダダウンロード・【Special Report】ミドルレンジのビデオ制作者の有志が集まって結成したHD Usersが選んだATEM 1M/E Switcher・第9回上映 中平悠里 監督作品『猫と少女の物語』・連載●After Effects 天国への階段第9回◆ビデオSALON2011年12月号http://www.genkosha.co.jp/vs/backnumber/866.html■関連記事・11月号付録 キヤノン iVIS HF G10 Perfect Book 丸かじりダウンロード【ビデオSALON】・iPhoneだけじゃない！！サムスンの「GALAXY S II」もいきなり発火【話題】・厳しい？それとも当たり前？アップルが従業員のSNS利用にガイドライン導入【話題】・【Special Report】ミドルレンジのビデオ制作者の有志が 集まって結成したHD Usersが選んだATEM 1M/E Switcher【ビデオSALON】・スマホ率が急上昇中！世界の携帯３割はスマホだった【話題】\n",
            "\n",
            "第13位\t文書id:457 「編集特集・ナレーションテスト【ビデオSALON】」 url:（http://news.livedoor.com/article/detail/6187777/）\n",
            "\t（距離17.866947174072266）\t記事の内容編集特集・ナレーションテスト【ビデオSALON】「編集力＆編集環境パワーアップ作戦2012」特集内でのナレーションマイクテスト結果です。テストレビュー詳細は2012年1月号をご覧ください。ナレーション：岡野 肇○テスト その１「RODE NTG-2」○テスト その２「RODE NTG-2」○テスト その３「RODE NTG-2」○テスト その４「RODE NTG-2」■ビデオSALONイベント・製品レポート 最新記事・11月号付録 キヤノン iVIS HF G10 Perfect Book 丸かじりダウンロード【ビデオSALON】・11月号付録 キヤノン iVIS HF G10 Perfect Book 丸かじりダダウンロード・【Special Report】ミドルレンジのビデオ制作者の有志が集まって結成したHD Usersが選んだATEM 1M/E Switcher・第9回上映 中平悠里 監督作品『猫と少女の物語』◆ビデオSALON2012年1月号http://www.genkosha.co.jp/vs/backnumber/935.html■関連記事・ベッカム様がグーグル＋に登場！バラエティ向きの彼はどこまで答えてくれるのか？【話題】・スマホ回線の値下げ競争がはじまる！auのスマートバリュー発表はどう影響するか【話題】・連載●極・ト書き一行のカット割り! 第7回【ビデオSALON】・センター試験終了！受験生ファンに眞鍋かをりが的確なアドバイスをしていた【話題】・ソニーF3ズームレンズテスト【ビデオSALON】\n",
            "\n",
            "第14位\t文書id:498 「ふるいちやすし氏の新作上映とトークイベントを アップルストアで開催【ビデオSALON】」 url:（http://news.livedoor.com/article/detail/6232785/）\n",
            "\t（距離18.345844268798828）\t記事の内容ふるいちやすし氏の新作上映とトークイベントを アップルストアで開催【ビデオSALON】本誌連載「一眼流映像表現術」の筆者でもある映像作家・音楽家／ふるいちやすし氏の最新映画『彩〜aja〜』の完成を記念して、1月31日に東京・銀座のアップルストアにて、作品上映と制作に使用したソニーNEX-FS100Jやオールドレンズのアンジェニューについてなど、制作の裏舞台を聞くことができるイベントが開催される。ソニーNEX-FS100j＋オールド・アンジェニューレンズによる“淡麗”の映像美『彩 〜aja〜』特別試写会＋笠原千尋（主演）、ふるいちやすし（作・監督・音楽）による「オーディエンス会見」2012年1月31日18:00〜20:00@Apple Store,Ginza3Fシアター（入場無料）〒104-0061 東京都中央区銀座3-5-12サヱグサビル本館TEL : 03-5159-8200http://www.apple.com/jp/retail/ginza/『彩〜aja〜』の完全版（47分）を上映するほか、主演の笠原千尋とふるいちやすし氏による「オーディエンス会見」を開催。作品で使用したカメラ、ソニーNEX-FS100JやFinal Cut Pro の編集データを使いながら、オーディエンスの質問に対応する。『彩〜aja〜』●あらすじ10代の頃、 aja（エイジャ）と呼ばれた天才画家の彩は、その自由奔放な行動が周囲を混乱させたことを悲観し、森の中へ逃げ込み、植物と水と光の絵しか描かなくなっ た。人との接触を断った平穏な空気の中で活き活きと絵を描く彩だが、ある日、人気画家の蒼に出会い、閉ざしたはずの心の窓が再び開いていく。舞台で異才 を放つ笠原千尋の映像初主演作品。予告編：http://www.youtube.com/watch?feature=player_embedded&v=Z9DHaYNn1lU■ビデオSALON 最新記事・ブラックマジックデザイン、Thunderbolt対応のIntensity Shuttleを発売・TVF2012の入賞30作品が決定・EDIUS 3D プレビューバージョン テスター募集のお知らせ・ウィンドウズ版のDaVinci Resolve8.2 のパブリックベータ版がダウンロード可能に■ビデオSALON最新号■関連記事・テレビにはもう頼れない？シャープ通期2900億円の赤字に転落【話題】・キヤノンからWi-Fi搭載の中級機が登場！【ビデオSALON】・Googleにどれくらいバレているのか？ネットで話題のユーザー属性を確認してみた【話題】・こんなに似すぎで大丈夫？ＧＲＥＥのゲームが名前もイラストもポケモンにそっくり【話題】・個人情報が丸裸に！法で取り締まられてもいいレベルのGoogle新プライバシーポリシーに騒然【話題】\n",
            "\n",
            "第15位\t文書id:587 「ソニー/キヤノン/パナソニック 大判センサービデオカメラ展示シュートアウトイベント 「CINEMA CINEMA CINEMA」【ビデオSALON】」 url:（http://news.livedoor.com/article/detail/6317547/）\n",
            "\t（距離18.468175888061523）\t記事の内容ソニー/キヤノン/パナソニック 大判センサービデオカメラ展示シュートアウトイベント 「CINEMA CINEMA CINEMA」【ビデオSALON】「CINEMA CINEMA CINEMA」は、現在、映画・CM・PVなどに多用されている大型センサー使用のプロ用ビデオカメラ展示するイベント。実機を比較して動かし触りながら、メーカー説明員の細かい技術解説も聞くことができる。カメラの他に三脚やレンズ、モニターも、各社の比較可能。入場無料でフロアに飲食店が併設されており、\"堅苦しすぎず、おちゃらけすぎない\"プロビデオカメラの展示イベントを予定している。実機展示予定のビデオカメラ：SONY PMW-F3 / HXR-FS100J / HXR-NX5J / NEX-VG20 / NEX-7Panasonic AG-AF105 / AG-AC160 / DMC-GH2Canon EOS C300EF / EOS C300PL / EOS 5DmarkII / EOS 7D展示予定三脚・カメラサポート群：MILLER Arrow25 / DS10ZacutoフォローフォーカスサポートシステムGENUSフォローフォーカスサポートシステムVinten VB-AP2FManfrotto 701HDV / 504HDLibec RS-350 / RS-250Sachtler FSB6 / FSB4 / DV12SB展示予定のモニターその他機材：SONY / BVM-F250 / PVM-2541 / LMD-1510W / PVM-1741Panasonic BT-LH2550 / BT-L21502012年3月5日(火)15:00OPEN / 17:00START / 19:00CLOSE予定場所：アップリンク1Fファクトリー〒150-0042 東京都渋谷区宇田川町37-18 トツネビル1階主催：株式会社フジヤエービックプロショップ問：0120-979-248 (10:30-20:00)http://www.fujiya-avic.jp/■ビデオSALON 最新記事・ニコニコ動画、生中継用エンコーダーや画質向上など新サービスを続々発表・ふるいちやすし氏の新作上映とトークイベントをアップルストアで開催・ブラックマジックデザイン、Thunderbolt対応のIntensity Shuttleを発売・TVF2012の入賞30作品が決定■ビデオSALON最新号■関連記事・会議室から教室まで！価格で汎用性の高い3D対応プロジェクターDELLから新発売【売れ筋チェック】・ZACUTO社製 キヤノンC300用アクセサリーが発売【ビデオSALON】・この時期に頼りになるのは空気清浄機！豪徳寺美鈴が悩んでゲットしたのはコレ！【家電の女：第四話】・AKB前田敦子がネタにされファンが大激怒！日本一下世話なクイズ番組がネットで話題に【話題】・寝つけない夜に寝室で愛用…滝クリもオススメのスマートAVライフはパナソニックでチェック【話題】\n",
            "\n",
            "-----4番目の結果ここまで-----\n",
            "\n",
            "\n"
          ],
          "name": "stdout"
        }
      ]
    },
    {
      "cell_type": "code",
      "metadata": {
        "id": "vE86UACPTtZd",
        "colab_type": "code",
        "colab": {}
      },
      "source": [
        ""
      ],
      "execution_count": 0,
      "outputs": []
    }
  ]
}