{
  "nbformat": 4,
  "nbformat_minor": 0,
  "metadata": {
    "colab": {
      "name": "elmo_search_engine.ipynb",
      "provenance": [],
      "collapsed_sections": [],
      "toc_visible": true,
      "authorship_tag": "ABX9TyNS1/p+fuYBJpFTpHx9z+Du",
      "include_colab_link": true
    },
    "kernelspec": {
      "name": "python3",
      "display_name": "Python 3"
    },
    "accelerator": "GPU"
  },
  "cells": [
    {
      "cell_type": "markdown",
      "metadata": {
        "id": "view-in-github",
        "colab_type": "text"
      },
      "source": [
        "<a href=\"https://colab.research.google.com/github/Itsuki-Hamano123/experiment_search_engine/blob/master/elmo_search_engine.ipynb\" target=\"_parent\"><img src=\"https://colab.research.google.com/assets/colab-badge.svg\" alt=\"Open In Colab\"/></a>"
      ]
    },
    {
      "cell_type": "code",
      "metadata": {
        "id": "X4r5UwhmiKwo",
        "colab_type": "code",
        "colab": {}
      },
      "source": [
        "import datetime\n",
        "from pprint import pprint\n",
        "import pickle\n",
        "import time\n",
        "import numpy as np\n",
        "import pandas as pd"
      ],
      "execution_count": 0,
      "outputs": []
    },
    {
      "cell_type": "markdown",
      "metadata": {
        "id": "WDy68yQYF_5o",
        "colab_type": "text"
      },
      "source": [
        "## 形態素解析ツール用意\n",
        "https://qiita.com/Fulltea/items/90f6ebe6dcceaf64eaef"
      ]
    },
    {
      "cell_type": "code",
      "metadata": {
        "id": "QfxPcGjOGePV",
        "colab_type": "code",
        "colab": {}
      },
      "source": [
        "# mecabのインストール\n",
        "!apt install aptitude swig\n",
        "!aptitude install mecab libmecab-dev mecab-ipadic-utf8 git make curl xz-utils file -y\n",
        "!pip install mecab-python3"
      ],
      "execution_count": 0,
      "outputs": []
    },
    {
      "cell_type": "code",
      "metadata": {
        "id": "7Bk3waEbLIhj",
        "colab_type": "code",
        "colab": {}
      },
      "source": [
        "# Neologd辞書のインストール\n",
        "!git clone --depth 1 https://github.com/neologd/mecab-ipadic-neologd.git\n",
        "!echo yes | mecab-ipadic-neologd/bin/install-mecab-ipadic-neologd -n -a"
      ],
      "execution_count": 0,
      "outputs": []
    },
    {
      "cell_type": "code",
      "metadata": {
        "id": "B1tdW-1BGkNG",
        "colab_type": "code",
        "colab": {}
      },
      "source": [
        "import MeCab\n",
        "import subprocess"
      ],
      "execution_count": 0,
      "outputs": []
    },
    {
      "cell_type": "code",
      "metadata": {
        "id": "oqc3laRYJqhT",
        "colab_type": "code",
        "colab": {
          "base_uri": "https://localhost:8080/",
          "height": 35
        },
        "outputId": "34f07e5e-22fb-4d1d-f0a8-fd1ded8a6fa5"
      },
      "source": [
        "!ls"
      ],
      "execution_count": 4,
      "outputs": [
        {
          "output_type": "stream",
          "text": [
            "drive  ELMoForManyLangs  mecab-ipadic-neologd  sample_data\n"
          ],
          "name": "stdout"
        }
      ]
    },
    {
      "cell_type": "code",
      "metadata": {
        "id": "5zUUkLR-Gmgd",
        "colab_type": "code",
        "colab": {
          "base_uri": "https://localhost:8080/",
          "height": 721
        },
        "outputId": "cf0abc0a-0a34-481c-8f24-fa3dae454d4a"
      },
      "source": [
        "cmd = 'echo `mecab-config --dicdir`\"/mecab-ipadic-neologd\"'\n",
        "neologd_path = (subprocess.Popen(cmd, stdout=subprocess.PIPE,\n",
        "                           shell=True).communicate()[0]).decode('utf-8')\n",
        "# Neologd辞書の設定\n",
        "m_neologd = MeCab.Tagger(\"-d {0}\".format(neologd_path))\n",
        "\n",
        "m_neologd_sample_txt = \"8月3日に放送された「中居正広の金曜日のスマイルたちへ」(TBS系)で、1日たった5分でぽっこりおなかを解消するというダイエット方法を紹介。キンタロー。のダイエットにも密着。\"\n",
        "\n",
        "print(\"Mecab ipadic NEologd:\\n\",m_neologd.parse(m_neologd_sample_txt))"
      ],
      "execution_count": 39,
      "outputs": [
        {
          "output_type": "stream",
          "text": [
            "ERROR! Session/line number was not unique in database. History logging moved to new session 63\n",
            "Mecab ipadic NEologd:\n",
            " 8月3日\t名詞,固有名詞,一般,*,*,*,8月3日,ハチガツミッカ,ハチガツミッカ\n",
            "に\t助詞,格助詞,一般,*,*,*,に,ニ,ニ\n",
            "放送\t名詞,サ変接続,*,*,*,*,放送,ホウソウ,ホーソー\n",
            "さ\t動詞,自立,*,*,サ変・スル,未然レル接続,する,サ,サ\n",
            "れ\t動詞,接尾,*,*,一段,連用形,れる,レ,レ\n",
            "た\t助動詞,*,*,*,特殊・タ,基本形,た,タ,タ\n",
            "「\t記号,括弧開,*,*,*,*,「,「,「\n",
            "中居正広の金曜日のスマイルたちへ\t名詞,固有名詞,一般,*,*,*,中居正広の金曜日のスマイルたちへ,ナカイマサヒロノキンヨウビノスマイルタチヘ,ナカイマサヒロノキンヨービノスマイルタチヘ\n",
            "」(\t記号,一般,*,*,*,*,*\n",
            "TBS\t名詞,固有名詞,一般,*,*,*,TBS,ティービーエス,ティービーエス\n",
            "系\t名詞,接尾,一般,*,*,*,系,ケイ,ケイ\n",
            ")\t記号,一般,*,*,*,*,*\n",
            "で\t助動詞,*,*,*,特殊・ダ,連用形,だ,デ,デ\n",
            "、\t記号,読点,*,*,*,*,、,、,、\n",
            "1日\t名詞,固有名詞,一般,*,*,*,1日,ツイタチ,ツイタチ\n",
            "たった\t副詞,助詞類接続,*,*,*,*,たった,タッタ,タッタ\n",
            "5分\t名詞,固有名詞,一般,*,*,*,5分,ゴフン,ゴフン\n",
            "で\t助詞,格助詞,一般,*,*,*,で,デ,デ\n",
            "ぽっこりおなか\t名詞,固有名詞,一般,*,*,*,ぽっこりおなか,ポッコリオナカ,ポッコリオナカ\n",
            "を\t助詞,格助詞,一般,*,*,*,を,ヲ,ヲ\n",
            "解消\t名詞,サ変接続,*,*,*,*,解消,カイショウ,カイショー\n",
            "する\t動詞,自立,*,*,サ変・スル,基本形,する,スル,スル\n",
            "という\t助詞,格助詞,連語,*,*,*,という,トイウ,トユウ\n",
            "ダイエット方法\t名詞,固有名詞,一般,*,*,*,ダイエット方法,ダイエットホウホウ,ダイエットホウホー\n",
            "を\t助詞,格助詞,一般,*,*,*,を,ヲ,ヲ\n",
            "紹介\t名詞,サ変接続,*,*,*,*,紹介,ショウカイ,ショーカイ\n",
            "。\t記号,句点,*,*,*,*,。,。,。\n",
            "キンタロー。\t名詞,固有名詞,一般,*,*,*,キンタロー。,キンタロー,キンタロー\n",
            "の\t助詞,連体化,*,*,*,*,の,ノ,ノ\n",
            "ダイエット\t名詞,サ変接続,*,*,*,*,ダイエット,ダイエット,ダイエット\n",
            "に\t助詞,格助詞,一般,*,*,*,に,ニ,ニ\n",
            "も\t助詞,係助詞,*,*,*,*,も,モ,モ\n",
            "密着\t名詞,サ変接続,*,*,*,*,密着,ミッチャク,ミッチャク\n",
            "。\t記号,句点,*,*,*,*,。,。,。\n",
            "EOS\n",
            "\n"
          ],
          "name": "stdout"
        }
      ]
    },
    {
      "cell_type": "markdown",
      "metadata": {
        "id": "qthez6FSMZzl",
        "colab_type": "text"
      },
      "source": [
        "## ELMoモデルの準備\n",
        "ELMoForManyLangsを使う"
      ]
    },
    {
      "cell_type": "code",
      "metadata": {
        "id": "55OSn-B2yDxw",
        "colab_type": "code",
        "colab": {}
      },
      "source": [
        "# ELMoForManyLangsに必要なライブラリ\n",
        "!pip install allennlp"
      ],
      "execution_count": 0,
      "outputs": []
    },
    {
      "cell_type": "markdown",
      "metadata": {
        "id": "pc6iySYPzDST",
        "colab_type": "text"
      },
      "source": [
        "### ELMoForManyLangsを利用\n",
        "https://github.com/HIT-SCIR/ELMoForManyLangs#use-elmoformanylangs-programmatically"
      ]
    },
    {
      "cell_type": "code",
      "metadata": {
        "id": "ZwSUDZyVzph-",
        "colab_type": "code",
        "colab": {
          "base_uri": "https://localhost:8080/",
          "height": 55
        },
        "outputId": "5edd6233-589b-456d-d6d4-c4ba61c191ad"
      },
      "source": [
        "from google.colab import drive\n",
        "drive.mount('/content/drive')"
      ],
      "execution_count": 9,
      "outputs": [
        {
          "output_type": "stream",
          "text": [
            "Drive already mounted at /content/drive; to attempt to forcibly remount, call drive.mount(\"/content/drive\", force_remount=True).\n"
          ],
          "name": "stdout"
        }
      ]
    },
    {
      "cell_type": "code",
      "metadata": {
        "id": "FdmRWJa2zrOH",
        "colab_type": "code",
        "colab": {
          "base_uri": "https://localhost:8080/",
          "height": 35
        },
        "outputId": "851ac6a2-032e-4238-8922-7226955683e1"
      },
      "source": [
        "cd drive/My Drive/機械学習練習/全文検索エンジン作成"
      ],
      "execution_count": 10,
      "outputs": [
        {
          "output_type": "stream",
          "text": [
            "/content/drive/My Drive/機械学習練習/全文検索エンジン作成\n"
          ],
          "name": "stdout"
        }
      ]
    },
    {
      "cell_type": "code",
      "metadata": {
        "id": "9N2xlKx50Bwa",
        "colab_type": "code",
        "colab": {
          "base_uri": "https://localhost:8080/",
          "height": 71
        },
        "outputId": "f4b86a7b-36bb-4316-ade8-f12e87ee995f"
      },
      "source": [
        "!ls"
      ],
      "execution_count": 11,
      "outputs": [
        {
          "output_type": "stream",
          "text": [
            "build\t elmoformanylangs\t    embedding\t\t  setup.py\n",
            "configs  elmoformanylangs.egg-info  mecab-ipadic-neologd\n",
            "dist\t elmo_search_engine.ipynb   README.md\n"
          ],
          "name": "stdout"
        }
      ]
    },
    {
      "cell_type": "code",
      "metadata": {
        "id": "v1jpnHe4yJQU",
        "colab_type": "code",
        "colab": {}
      },
      "source": [
        "# ELMoForManyLangsのセットアップ\n",
        "!python setup.py install"
      ],
      "execution_count": 0,
      "outputs": []
    },
    {
      "cell_type": "code",
      "metadata": {
        "id": "4F3xyImkVgfC",
        "colab_type": "code",
        "colab": {}
      },
      "source": [
        "from elmoformanylangs import Embedder"
      ],
      "execution_count": 0,
      "outputs": []
    },
    {
      "cell_type": "code",
      "metadata": {
        "id": "SmGbrndUaptq",
        "colab_type": "code",
        "colab": {}
      },
      "source": [
        "def time_watch(func):\n",
        "    \"\"\"時間計測用デコレータ関数\n",
        "    \n",
        "    Parameters\n",
        "    -----\n",
        "    func : function\n",
        "        実行したい関数\n",
        "\n",
        "    \"\"\"\n",
        "    import functools\n",
        "    import datetime\n",
        "    @functools.wraps(func)\n",
        "    def wrapper(*args, **kwargs):\n",
        "        start = datetime.datetime.today()\n",
        "        result = func(*args, **kwargs)\n",
        "        end = datetime.datetime.today()\n",
        "        print(\"実行時間:{time}\".format(time=end - start))\n",
        "        return result\n",
        "    return wrapper"
      ],
      "execution_count": 0,
      "outputs": []
    },
    {
      "cell_type": "markdown",
      "metadata": {
        "id": "7XNO5Bro3xyo",
        "colab_type": "text"
      },
      "source": [
        "### 日本語の事前学習済み重みのダウンロード\n",
        "embeddingディレクトに格納した<br>\n",
        "https://qiita.com/mkt3/items/9577b63900109ff91665\n"
      ]
    },
    {
      "cell_type": "code",
      "metadata": {
        "id": "UyGx9QcQ0Mtx",
        "colab_type": "code",
        "colab": {}
      },
      "source": [
        "# モデルのディレクトリ\n",
        "MODEL_DIR = './embedding/word_unit_embedding_model/'"
      ],
      "execution_count": 0,
      "outputs": []
    },
    {
      "cell_type": "code",
      "metadata": {
        "id": "o8H0PcnS43bB",
        "colab_type": "code",
        "colab": {
          "base_uri": "https://localhost:8080/",
          "height": 575
        },
        "outputId": "39978c53-af3e-4794-a5ac-556e0a9cce9a"
      },
      "source": [
        "elmo_model = Embedder(MODEL_DIR)"
      ],
      "execution_count": 16,
      "outputs": [
        {
          "output_type": "stream",
          "text": [
            "2020-03-29 07:33:28,934 INFO: word embedding size: 387179\n",
            "2020-03-29 07:33:42,783 INFO: Model(\n",
            "  (token_embedder): ConvTokenEmbedder(\n",
            "    (word_emb_layer): EmbeddingLayer(\n",
            "      (embedding): Embedding(387179, 100, padding_idx=3)\n",
            "    )\n",
            "    (projection): Linear(in_features=100, out_features=512, bias=True)\n",
            "  )\n",
            "  (encoder): ElmobiLm(\n",
            "    (forward_layer_0): LstmCellWithProjection(\n",
            "      (input_linearity): Linear(in_features=512, out_features=16384, bias=False)\n",
            "      (state_linearity): Linear(in_features=512, out_features=16384, bias=True)\n",
            "      (state_projection): Linear(in_features=4096, out_features=512, bias=False)\n",
            "    )\n",
            "    (backward_layer_0): LstmCellWithProjection(\n",
            "      (input_linearity): Linear(in_features=512, out_features=16384, bias=False)\n",
            "      (state_linearity): Linear(in_features=512, out_features=16384, bias=True)\n",
            "      (state_projection): Linear(in_features=4096, out_features=512, bias=False)\n",
            "    )\n",
            "    (forward_layer_1): LstmCellWithProjection(\n",
            "      (input_linearity): Linear(in_features=512, out_features=16384, bias=False)\n",
            "      (state_linearity): Linear(in_features=512, out_features=16384, bias=True)\n",
            "      (state_projection): Linear(in_features=4096, out_features=512, bias=False)\n",
            "    )\n",
            "    (backward_layer_1): LstmCellWithProjection(\n",
            "      (input_linearity): Linear(in_features=512, out_features=16384, bias=False)\n",
            "      (state_linearity): Linear(in_features=512, out_features=16384, bias=True)\n",
            "      (state_projection): Linear(in_features=4096, out_features=512, bias=False)\n",
            "    )\n",
            "  )\n",
            ")\n"
          ],
          "name": "stderr"
        }
      ]
    },
    {
      "cell_type": "markdown",
      "metadata": {
        "id": "fO0gEqVCbS_k",
        "colab_type": "text"
      },
      "source": [
        "### 入力文書の前処理を定義"
      ]
    },
    {
      "cell_type": "code",
      "metadata": {
        "id": "Hlt27ZGpOsfI",
        "colab_type": "code",
        "colab": {}
      },
      "source": [
        "def is_stop_word(pos):\n",
        "    \"\"\"\n",
        "    品詞からストップワードか判断\n",
        "\n",
        "    Parameters\n",
        "    -----\n",
        "    pos : string\n",
        "        品詞\n",
        "\n",
        "    Returns\n",
        "    -----\n",
        "    stop_word_flag : boolean\n",
        "    \"\"\"\n",
        "    stop_word_list = [\"助詞\", \"助動詞\", \"記号\", \"BOS/EOS\"]\n",
        "    stop_word_flag = True\n",
        "    if pos in stop_word_list:\n",
        "        stop_word_flag = False\n",
        "    return stop_word_flag\n",
        "\n",
        "def split_text(text):\n",
        "    \"\"\"\n",
        "    文章をわかち書きする\n",
        "\n",
        "    Parameters\n",
        "    -----\n",
        "    text : string\n",
        "\n",
        "    Returns\n",
        "    -----\n",
        "    result : list of string\n",
        "    \"\"\"\n",
        "    result = []\n",
        "    node = m_neologd.parseToNode(text)\n",
        "    while node:\n",
        "        if is_stop_word(node.feature.split(\",\")[0]):\n",
        "            result.append(node.surface)\n",
        "        node = node.next\n",
        "    return result"
      ],
      "execution_count": 0,
      "outputs": []
    },
    {
      "cell_type": "code",
      "metadata": {
        "id": "qVkV9YQ_b3-d",
        "colab_type": "code",
        "colab": {}
      },
      "source": [
        "def preprocessing_documents(documents):\n",
        "    \"\"\"\n",
        "    文書をELMo用に前処理\n",
        "\n",
        "    Parameters\n",
        "    -----\n",
        "    documents : list of string\n",
        "\n",
        "    Returns\n",
        "    -----\n",
        "    results : list of list of string\n",
        "    \"\"\"\n",
        "    results = []\n",
        "    # バグ対処\n",
        "    m_neologd.parse('')\n",
        "    for document in documents:\n",
        "        result = split_text(document)\n",
        "        results.append(result)\n",
        "    return results"
      ],
      "execution_count": 0,
      "outputs": []
    },
    {
      "cell_type": "code",
      "metadata": {
        "id": "1360bG2u6vFP",
        "colab_type": "code",
        "colab": {}
      },
      "source": [
        "elmo_sample_docments = [\"私は犬\", \"犬は私\", \"今日の天気は雪のち晴れです\"]"
      ],
      "execution_count": 0,
      "outputs": []
    },
    {
      "cell_type": "code",
      "metadata": {
        "id": "E907gv9ydcpT",
        "colab_type": "code",
        "colab": {
          "base_uri": "https://localhost:8080/",
          "height": 35
        },
        "outputId": "f50d222e-dbfa-487d-ba8f-201f614de4c3"
      },
      "source": [
        "proc_documents = preprocessing_documents(elmo_sample_docments)\n",
        "proc_documents"
      ],
      "execution_count": 73,
      "outputs": [
        {
          "output_type": "execute_result",
          "data": {
            "text/plain": [
              "[['私', '犬'], ['犬', '私'], ['今日の天気', '雪', 'のち', '晴れ']]"
            ]
          },
          "metadata": {
            "tags": []
          },
          "execution_count": 73
        }
      ]
    },
    {
      "cell_type": "markdown",
      "metadata": {
        "id": "QI6HeGj7dqmq",
        "colab_type": "text"
      },
      "source": [
        "### ELMoで単語の分散表現を予測"
      ]
    },
    {
      "cell_type": "code",
      "metadata": {
        "id": "G5B0m5XTa3gS",
        "colab_type": "code",
        "colab": {}
      },
      "source": [
        "@time_watch\n",
        "def predict_word_vec(model, proc_documents):\n",
        "    \"\"\"\n",
        "    モデルを使い単語の分散表現を予測\n",
        "\n",
        "    Parmeters\n",
        "    -----\n",
        "    model : model_obj\n",
        "    proc_documents : proc_documents_obj\n",
        "    \n",
        "    Returns\n",
        "    -----\n",
        "    pred_vector : list of nparray\n",
        "    \"\"\"\n",
        "    pred_vector = model.sents2elmo(proc_documents)\n",
        "    return pred_vector"
      ],
      "execution_count": 0,
      "outputs": []
    },
    {
      "cell_type": "code",
      "metadata": {
        "id": "2Ty2wsybelNx",
        "colab_type": "code",
        "colab": {
          "base_uri": "https://localhost:8080/",
          "height": 53
        },
        "outputId": "aca9dc10-646b-4e4d-f906-f4c7edf3559d"
      },
      "source": [
        "documnets_words_vec = predict_word_vec(elmo_model, proc_documents)"
      ],
      "execution_count": 77,
      "outputs": [
        {
          "output_type": "stream",
          "text": [
            "2020-03-29 09:00:18,877 INFO: 1 batches, avg len: 4.7\n"
          ],
          "name": "stderr"
        },
        {
          "output_type": "stream",
          "text": [
            "実行時間:0:00:00.045184\n"
          ],
          "name": "stdout"
        }
      ]
    },
    {
      "cell_type": "code",
      "metadata": {
        "id": "xVaOp2RkeqW6",
        "colab_type": "code",
        "colab": {
          "base_uri": "https://localhost:8080/",
          "height": 341
        },
        "outputId": "d9626ab5-8fdd-4726-a169-092bb1858db7"
      },
      "source": [
        "print(documnets_words_vec[0].shape)\n",
        "print(type(documnets_words_vec[0]))\n",
        "documnets_words_vec"
      ],
      "execution_count": 105,
      "outputs": [
        {
          "output_type": "stream",
          "text": [
            "(2, 1024)\n",
            "<class 'numpy.ndarray'>\n"
          ],
          "name": "stdout"
        },
        {
          "output_type": "execute_result",
          "data": {
            "text/plain": [
              "[array([[-0.5977612 ,  1.4001379 , -1.3015023 , ..., -0.14499956,\n",
              "          0.27046227,  0.00478347],\n",
              "        [-1.8453506 ,  1.2980078 , -1.2131561 , ...,  0.302079  ,\n",
              "         -0.14396201, -0.2849956 ]], dtype=float32),\n",
              " array([[-1.8625396e+00,  1.3427652e+00, -7.6916867e-01, ...,\n",
              "          1.6443498e-01, -1.6299309e-01, -1.3014723e-01],\n",
              "        [-1.8234619e+00,  1.4184309e+00, -8.1920910e-01, ...,\n",
              "         -1.5965501e-03,  3.2706022e-02,  2.2069255e-02]], dtype=float32),\n",
              " array([[-0.33430147,  1.3464347 ,  0.26074216, ..., -0.05496437,\n",
              "          0.18364926,  0.06471634],\n",
              "        [-1.285893  ,  1.1447811 ,  0.2148868 , ...,  0.18514585,\n",
              "          0.30238673, -0.04076589],\n",
              "        [-1.1255991 ,  1.2842447 , -0.35377732, ...,  0.17827515,\n",
              "          0.61796623,  0.00764098],\n",
              "        [-0.9844549 ,  1.1928868 , -0.10221224, ..., -0.10837878,\n",
              "          0.09892287,  0.20971125]], dtype=float32)]"
            ]
          },
          "metadata": {
            "tags": []
          },
          "execution_count": 105
        }
      ]
    },
    {
      "cell_type": "markdown",
      "metadata": {
        "id": "CaWcVH_ae3mF",
        "colab_type": "text"
      },
      "source": [
        "#### 実行結果\n",
        "「私は犬」と「犬は私」の２つの文章において、それぞれの文章で「私」「犬」は文章内での順番が考慮され、別々の分散表現が得られていることが分かる。"
      ]
    },
    {
      "cell_type": "markdown",
      "metadata": {
        "id": "xhVSbMxrgneG",
        "colab_type": "text"
      },
      "source": [
        "### 単語ベクトルから文書ベクトルを算出\n",
        "今回は簡易的に、単語ベクトルの合計値を文書ベクトルする<br>"
      ]
    },
    {
      "cell_type": "code",
      "metadata": {
        "id": "cfHwljbaeuDr",
        "colab_type": "code",
        "colab": {}
      },
      "source": [
        "@time_watch\n",
        "def calc_doc_vec(documnets_words_vec):\n",
        "    \"\"\"\n",
        "    単語ベクトルから文書ベクトルを計算\n",
        "\n",
        "    Parameters\n",
        "    -----\n",
        "    documents_word_vec : list of nparray\n",
        "\n",
        "    Returns\n",
        "    -----\n",
        "    documents_vec : ndarray(文書数, 1つの文書内の次元数)\n",
        "    \"\"\"\n",
        "    documnets_vec = []\n",
        "    for document_words_vec in documnets_words_vec:\n",
        "        document_vec = np.sum(document_words_vec, axis=0)\n",
        "        documnets_vec.append(document_vec)\n",
        "\n",
        "    documnets_vec = np.array(documnets_vec)\n",
        "    return documnets_vec"
      ],
      "execution_count": 0,
      "outputs": []
    },
    {
      "cell_type": "code",
      "metadata": {
        "id": "Vha-WnrWiZ5Y",
        "colab_type": "code",
        "colab": {
          "base_uri": "https://localhost:8080/",
          "height": 143
        },
        "outputId": "ce1501a9-b489-495f-867d-4e9de26ca329"
      },
      "source": [
        "documnets_vec = calc_doc_vec(documnets_words_vec=documnets_words_vec)\n",
        "documnets_vec"
      ],
      "execution_count": 220,
      "outputs": [
        {
          "output_type": "stream",
          "text": [
            "実行時間:0:00:00.000525\n"
          ],
          "name": "stdout"
        },
        {
          "output_type": "execute_result",
          "data": {
            "text/plain": [
              "array([[-2.443112  ,  2.6981459 , -2.5146585 , ...,  0.15707943,\n",
              "         0.12650026, -0.2802121 ],\n",
              "       [-3.6860015 ,  2.7611961 , -1.5883777 , ...,  0.16283843,\n",
              "        -0.13028707, -0.10807798],\n",
              "       [-3.7302485 ,  4.968347  ,  0.01963941, ...,  0.20007786,\n",
              "         1.2029251 ,  0.24130267]], dtype=float32)"
            ]
          },
          "metadata": {
            "tags": []
          },
          "execution_count": 220
        }
      ]
    },
    {
      "cell_type": "code",
      "metadata": {
        "id": "1hkwmIrOiaQ2",
        "colab_type": "code",
        "colab": {
          "base_uri": "https://localhost:8080/",
          "height": 143
        },
        "outputId": "eb9de26c-0f92-4fe5-d25d-390f1f70e098"
      },
      "source": [
        "print(documnets_vec.shape)\n",
        "documnets_vec"
      ],
      "execution_count": 222,
      "outputs": [
        {
          "output_type": "stream",
          "text": [
            "(3, 1024)\n"
          ],
          "name": "stdout"
        },
        {
          "output_type": "execute_result",
          "data": {
            "text/plain": [
              "array([[-2.443112  ,  2.6981459 , -2.5146585 , ...,  0.15707943,\n",
              "         0.12650026, -0.2802121 ],\n",
              "       [-3.6860015 ,  2.7611961 , -1.5883777 , ...,  0.16283843,\n",
              "        -0.13028707, -0.10807798],\n",
              "       [-3.7302485 ,  4.968347  ,  0.01963941, ...,  0.20007786,\n",
              "         1.2029251 ,  0.24130267]], dtype=float32)"
            ]
          },
          "metadata": {
            "tags": []
          },
          "execution_count": 222
        }
      ]
    },
    {
      "cell_type": "markdown",
      "metadata": {
        "id": "60XiDSOzlnPY",
        "colab_type": "text"
      },
      "source": [
        "## faissのインストール\n",
        "参考：https://qiita.com/SakuraDk/items/0c03b7ebd4aef8d6caed#colaboratory%E4%B8%8A%E3%81%A7%E3%82%A4%E3%83%B3%E3%82%B9%E3%83%88%E3%83%BC%E3%83%AB"
      ]
    },
    {
      "cell_type": "code",
      "metadata": {
        "id": "na-SBzloojyF",
        "colab_type": "code",
        "colab": {}
      },
      "source": [
        "# ダウンロードは一度のみ実行で大丈夫\n",
        "#!wget https://anaconda.org/pytorch/faiss-gpu/1.4.0/download/linux-64/faiss-gpu-1.4.0-py36_cuda9.2.148_1.tar.bz2\n",
        "#!tar xvjf faiss-gpu-1.4.0-py36_cuda9.2.148_1.tar.bz2"
      ],
      "execution_count": 0,
      "outputs": []
    },
    {
      "cell_type": "code",
      "metadata": {
        "id": "qhdztYDUoyMP",
        "colab_type": "code",
        "colab": {
          "base_uri": "https://localhost:8080/",
          "height": 53
        },
        "outputId": "8168b18f-6dc2-4487-9207-b799d66f1b17"
      },
      "source": [
        "!cp -r lib/python3.6/site-packages/* /usr/local/lib/python3.6/dist-packages/\n",
        "!pip install mkl"
      ],
      "execution_count": 122,
      "outputs": [
        {
          "output_type": "stream",
          "text": [
            "Requirement already satisfied: mkl in /usr/local/lib/python3.6/dist-packages (2019.0)\n",
            "Requirement already satisfied: intel-openmp in /usr/local/lib/python3.6/dist-packages (from mkl) (2020.0.133)\n"
          ],
          "name": "stdout"
        }
      ]
    },
    {
      "cell_type": "code",
      "metadata": {
        "id": "YIaxLsNbo4ew",
        "colab_type": "code",
        "colab": {}
      },
      "source": [
        "import faiss"
      ],
      "execution_count": 0,
      "outputs": []
    },
    {
      "cell_type": "markdown",
      "metadata": {
        "id": "6Xhc_hqHkYrL",
        "colab_type": "text"
      },
      "source": [
        "## 検索エンジン作成"
      ]
    },
    {
      "cell_type": "markdown",
      "metadata": {
        "id": "Xa6k3IaIptEd",
        "colab_type": "text"
      },
      "source": [
        "### 検索対象となるドキュメント読み込み"
      ]
    },
    {
      "cell_type": "code",
      "metadata": {
        "id": "Ji1cYrqbpVl4",
        "colab_type": "code",
        "colab": {
          "base_uri": "https://localhost:8080/",
          "height": 220
        },
        "outputId": "4e9285ef-e7c6-49ad-ae5e-139bb3cd57f8"
      },
      "source": [
        "DATA_DIR = \"./datasets\"\n",
        "DATA_PATH = \"a_ntcir_all_data.csv\"\n",
        "TEXT_COLUMN = \"text\"\n",
        "\n",
        "headers = [TEXT_COLUMN]\n",
        "register_documents = pd.read_csv(DATA_DIR+\"/\"+DATA_PATH, names=headers)\n",
        "print(\"データ件数:{size}\".format(size=len(register_documents)))\n",
        "register_documents.index = register_documents.index + 1\n",
        "register_documents.head()"
      ],
      "execution_count": 153,
      "outputs": [
        {
          "output_type": "stream",
          "text": [
            "データ件数:4125\n"
          ],
          "name": "stdout"
        },
        {
          "output_type": "execute_result",
          "data": {
            "text/html": [
              "<div>\n",
              "<style scoped>\n",
              "    .dataframe tbody tr th:only-of-type {\n",
              "        vertical-align: middle;\n",
              "    }\n",
              "\n",
              "    .dataframe tbody tr th {\n",
              "        vertical-align: top;\n",
              "    }\n",
              "\n",
              "    .dataframe thead th {\n",
              "        text-align: right;\n",
              "    }\n",
              "</style>\n",
              "<table border=\"1\" class=\"dataframe\">\n",
              "  <thead>\n",
              "    <tr style=\"text-align: right;\">\n",
              "      <th></th>\n",
              "      <th>text</th>\n",
              "    </tr>\n",
              "  </thead>\n",
              "  <tbody>\n",
              "    <tr>\n",
              "      <th>1</th>\n",
              "      <td>日本選手としては村上雅則（ジャイアンツ）、野茂英雄（ドジャース）、鈴木誠（マリナーズ）、長谷...</td>\n",
              "    </tr>\n",
              "    <tr>\n",
              "      <th>2</th>\n",
              "      <td>米大リーグのニューヨーク・メッツは１３日、フリーエージェント（ＦＡ）宣言した前ヤクルトの吉井...</td>\n",
              "    </tr>\n",
              "    <tr>\n",
              "      <th>3</th>\n",
              "      <td>竹下氏流の「広く浅く」という資金集めは、リクルート疑惑さなかの８９年に自殺した同氏の元秘書、...</td>\n",
              "    </tr>\n",
              "    <tr>\n",
              "      <th>4</th>\n",
              "      <td>また、リクルート事件さなかの八九年四月にも、退陣を表明したばかりの竹下登首相（当時）の元秘書...</td>\n",
              "    </tr>\n",
              "    <tr>\n",
              "      <th>5</th>\n",
              "      <td>八九年のリクルート事件で、竹下元首相の青木伊平元秘書。</td>\n",
              "    </tr>\n",
              "  </tbody>\n",
              "</table>\n",
              "</div>"
            ],
            "text/plain": [
              "                                                text\n",
              "1  日本選手としては村上雅則（ジャイアンツ）、野茂英雄（ドジャース）、鈴木誠（マリナーズ）、長谷...\n",
              "2  米大リーグのニューヨーク・メッツは１３日、フリーエージェント（ＦＡ）宣言した前ヤクルトの吉井...\n",
              "3  竹下氏流の「広く浅く」という資金集めは、リクルート疑惑さなかの８９年に自殺した同氏の元秘書、...\n",
              "4  また、リクルート事件さなかの八九年四月にも、退陣を表明したばかりの竹下登首相（当時）の元秘書...\n",
              "5                        八九年のリクルート事件で、竹下元首相の青木伊平元秘書。"
            ]
          },
          "metadata": {
            "tags": []
          },
          "execution_count": 153
        }
      ]
    },
    {
      "cell_type": "markdown",
      "metadata": {
        "id": "X35eE2IhxT0L",
        "colab_type": "text"
      },
      "source": [
        "### ELMoで文書ベクトルを算出"
      ]
    },
    {
      "cell_type": "code",
      "metadata": {
        "id": "qb8FFNlCxBhd",
        "colab_type": "code",
        "colab": {
          "base_uri": "https://localhost:8080/",
          "height": 161
        },
        "outputId": "73bbe493-4150-43f2-df1c-e5ca843f2ea9"
      },
      "source": [
        "register_documents_words_vec = predict_word_vec(elmo_model, register_documents[TEXT_COLUMN].values)\n",
        "register_documents_vec = calc_doc_vec(register_documents_words_vec)\n",
        "print(\"文書ベクトルの次元数確認{shape}\".format(shape=register_documents_vec.shape))"
      ],
      "execution_count": 225,
      "outputs": [
        {
          "output_type": "stream",
          "text": [
            "2020-03-29 11:36:07,429 INFO: 65 batches, avg len: 70.3\n",
            "2020-03-29 11:36:10,475 INFO: Finished 1000 sentences.\n",
            "2020-03-29 11:36:14,301 INFO: Finished 2000 sentences.\n",
            "2020-03-29 11:36:17,954 INFO: Finished 3000 sentences.\n",
            "2020-03-29 11:36:21,896 INFO: Finished 4000 sentences.\n"
          ],
          "name": "stderr"
        },
        {
          "output_type": "stream",
          "text": [
            "実行時間:0:00:18.902649\n",
            "実行時間:0:00:00.166627\n",
            "各文書のベクトルの次元数確認(4125, 1024)\n"
          ],
          "name": "stdout"
        }
      ]
    },
    {
      "cell_type": "markdown",
      "metadata": {
        "id": "jQOKqWCe0_pU",
        "colab_type": "text"
      },
      "source": [
        "### Indexを登録する特徴量空間の定義\n",
        "検索アルゴリズムと必要な初期値はこちら参照<br>\n",
        "https://github.com/facebookresearch/faiss/wiki/Faiss-indexes"
      ]
    },
    {
      "cell_type": "code",
      "metadata": {
        "id": "03WIJa2V1HHT",
        "colab_type": "code",
        "colab": {}
      },
      "source": [
        "# 登録するデータ1件分の次元数\n",
        "vector_dim = register_documents_vec.shape[1]\n",
        "# 分割する領域の数\n",
        "voronoi_num = 200\n",
        "# 検索時に含める近傍の領域の数\n",
        "voronoi_near = 20"
      ],
      "execution_count": 0,
      "outputs": []
    },
    {
      "cell_type": "markdown",
      "metadata": {
        "id": "rkEWCl4m7Naz",
        "colab_type": "text"
      },
      "source": [
        "#### 高速な近似アルゴリズムIndeIVFFlatを使用\n",
        "https://github.com/facebookresearch/faiss/wiki/Faster-search"
      ]
    },
    {
      "cell_type": "code",
      "metadata": {
        "id": "8sHCpxjz2r_-",
        "colab_type": "code",
        "colab": {}
      },
      "source": [
        "quantizer = faiss.IndexFlatL2(vector_dim)\n",
        "index = faiss.IndexIVFFlat(quantizer, vector_dim, voronoi_num)"
      ],
      "execution_count": 0,
      "outputs": []
    },
    {
      "cell_type": "markdown",
      "metadata": {
        "id": "WiD-hAM6pV76",
        "colab_type": "text"
      },
      "source": [
        "### Indexへの追加（+ボロノイ領域の学習）"
      ]
    },
    {
      "cell_type": "code",
      "metadata": {
        "id": "rulP2T397slF",
        "colab_type": "code",
        "colab": {}
      },
      "source": [
        "assert not index.is_trained\n",
        "index.train(register_documents_vec)\n",
        "assert index.is_trained"
      ],
      "execution_count": 0,
      "outputs": []
    },
    {
      "cell_type": "code",
      "metadata": {
        "id": "JiHNaJKPACX8",
        "colab_type": "code",
        "colab": {
          "base_uri": "https://localhost:8080/",
          "height": 53
        },
        "outputId": "4fb01a85-8f13-4828-b307-a366c233288e"
      },
      "source": [
        "# idの付与\n",
        "ids = np.arange(start=1, stop=register_documents_vec.shape[0]+1)\n",
        "print(\"idsの長さ{size}\".format(size=len(ids)))\n",
        "ids[:5]"
      ],
      "execution_count": 272,
      "outputs": [
        {
          "output_type": "stream",
          "text": [
            "idsの長さ4125\n"
          ],
          "name": "stdout"
        },
        {
          "output_type": "execute_result",
          "data": {
            "text/plain": [
              "array([1, 2, 3, 4, 5])"
            ]
          },
          "metadata": {
            "tags": []
          },
          "execution_count": 272
        }
      ]
    },
    {
      "cell_type": "code",
      "metadata": {
        "id": "L0nYgcv4jA5h",
        "colab_type": "code",
        "colab": {}
      },
      "source": [
        "index.add_with_ids(register_documents_vec, ids) "
      ],
      "execution_count": 0,
      "outputs": []
    },
    {
      "cell_type": "markdown",
      "metadata": {
        "id": "BMF4DW_wJvB3",
        "colab_type": "text"
      },
      "source": [
        "#### 結果の保存"
      ]
    },
    {
      "cell_type": "code",
      "metadata": {
        "id": "OMQK6fV4JW_P",
        "colab_type": "code",
        "colab": {}
      },
      "source": [
        "EXPORT_DIR = \"./exports\"\n",
        "now = datetime.datetime.now().strftime('%Y%m%d%H%M%S')"
      ],
      "execution_count": 0,
      "outputs": []
    },
    {
      "cell_type": "code",
      "metadata": {
        "id": "9DkRMnH-JooW",
        "colab_type": "code",
        "colab": {}
      },
      "source": [
        "faiss.write_index(index, EXPORT_DIR + \"/features_\" + now + \".index\")"
      ],
      "execution_count": 0,
      "outputs": []
    },
    {
      "cell_type": "markdown",
      "metadata": {
        "id": "7QjRaPWQKXfg",
        "colab_type": "text"
      },
      "source": [
        "## 検索エンジンにクエリを投げてみる"
      ]
    },
    {
      "cell_type": "code",
      "metadata": {
        "id": "TDa6y-Oj8U5m",
        "colab_type": "code",
        "colab": {}
      },
      "source": [
        ""
      ],
      "execution_count": 0,
      "outputs": []
    },
    {
      "cell_type": "code",
      "metadata": {
        "id": "tNdkibKg89z4",
        "colab_type": "code",
        "colab": {}
      },
      "source": [
        ""
      ],
      "execution_count": 0,
      "outputs": []
    }
  ]
}